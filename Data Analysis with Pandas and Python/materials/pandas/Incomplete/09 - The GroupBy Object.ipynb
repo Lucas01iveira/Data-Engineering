{
 "cells": [
  {
   "cell_type": "markdown",
   "metadata": {},
   "source": [
    "# The GroupBy Object"
   ]
  },
  {
   "cell_type": "code",
   "execution_count": 1,
   "metadata": {},
   "outputs": [],
   "source": [
    "import pandas as pd"
   ]
  },
  {
   "cell_type": "markdown",
   "metadata": {},
   "source": [
    "## The Fortune 1000 Dataset\n",
    "- The **Fortune 1000** is a listing of the 1000 largest American companies as ranked by Fortune magazine.\n",
    "- The **DataFrame** includes the company's name, sector, industry, and revenues, profits, and employees."
   ]
  },
  {
   "cell_type": "code",
   "execution_count": 13,
   "metadata": {},
   "outputs": [
    {
     "name": "stdout",
     "output_type": "stream",
     "text": [
      "<class 'pandas.core.frame.DataFrame'>\n",
      "Index: 1000 entries, 1 to 1000\n",
      "Data columns (total 6 columns):\n",
      " #   Column     Non-Null Count  Dtype \n",
      "---  ------     --------------  ----- \n",
      " 0   Company    1000 non-null   object\n",
      " 1   Sector     1000 non-null   object\n",
      " 2   Industry   1000 non-null   object\n",
      " 3   Revenue    1000 non-null   int64 \n",
      " 4   Profits    1000 non-null   int64 \n",
      " 5   Employees  1000 non-null   int64 \n",
      "dtypes: int64(3), object(3)\n",
      "memory usage: 54.7+ KB\n"
     ]
    }
   ],
   "source": [
    "fortune= pd.read_csv('fortune1000.csv', index_col='Rank')\n",
    "fortune.info()"
   ]
  },
  {
   "cell_type": "code",
   "execution_count": 6,
   "metadata": {},
   "outputs": [
    {
     "data": {
      "text/plain": [
       "Rank         996\n",
       "Company      996\n",
       "Sector        21\n",
       "Industry      73\n",
       "Revenue      945\n",
       "Profits      760\n",
       "Employees    755\n",
       "dtype: int64"
      ]
     },
     "execution_count": 6,
     "metadata": {},
     "output_type": "execute_result"
    }
   ],
   "source": [
    "pd.read_csv('fortune1000.csv').nunique()"
   ]
  },
  {
   "cell_type": "code",
   "execution_count": 14,
   "metadata": {
    "collapsed": false,
    "jupyter": {
     "outputs_hidden": false
    }
   },
   "outputs": [
    {
     "data": {
      "text/html": [
       "<div>\n",
       "<style scoped>\n",
       "    .dataframe tbody tr th:only-of-type {\n",
       "        vertical-align: middle;\n",
       "    }\n",
       "\n",
       "    .dataframe tbody tr th {\n",
       "        vertical-align: top;\n",
       "    }\n",
       "\n",
       "    .dataframe thead th {\n",
       "        text-align: right;\n",
       "    }\n",
       "</style>\n",
       "<table border=\"1\" class=\"dataframe\">\n",
       "  <thead>\n",
       "    <tr style=\"text-align: right;\">\n",
       "      <th></th>\n",
       "      <th>Company</th>\n",
       "      <th>Sector</th>\n",
       "      <th>Industry</th>\n",
       "      <th>Revenue</th>\n",
       "      <th>Profits</th>\n",
       "      <th>Employees</th>\n",
       "    </tr>\n",
       "    <tr>\n",
       "      <th>Rank</th>\n",
       "      <th></th>\n",
       "      <th></th>\n",
       "      <th></th>\n",
       "      <th></th>\n",
       "      <th></th>\n",
       "      <th></th>\n",
       "    </tr>\n",
       "  </thead>\n",
       "  <tbody>\n",
       "    <tr>\n",
       "      <th>1</th>\n",
       "      <td>Walmart</td>\n",
       "      <td>Retailing</td>\n",
       "      <td>General Merchandisers</td>\n",
       "      <td>482130</td>\n",
       "      <td>14694</td>\n",
       "      <td>2300000</td>\n",
       "    </tr>\n",
       "    <tr>\n",
       "      <th>2</th>\n",
       "      <td>Exxon Mobil</td>\n",
       "      <td>Energy</td>\n",
       "      <td>Petroleum Refining</td>\n",
       "      <td>246204</td>\n",
       "      <td>16150</td>\n",
       "      <td>75600</td>\n",
       "    </tr>\n",
       "    <tr>\n",
       "      <th>3</th>\n",
       "      <td>Apple</td>\n",
       "      <td>Technology</td>\n",
       "      <td>Computers, Office Equipment</td>\n",
       "      <td>233715</td>\n",
       "      <td>53394</td>\n",
       "      <td>110000</td>\n",
       "    </tr>\n",
       "    <tr>\n",
       "      <th>4</th>\n",
       "      <td>Berkshire Hathaway</td>\n",
       "      <td>Financials</td>\n",
       "      <td>Insurance: Property and Casualty (Stock)</td>\n",
       "      <td>210821</td>\n",
       "      <td>24083</td>\n",
       "      <td>331000</td>\n",
       "    </tr>\n",
       "    <tr>\n",
       "      <th>5</th>\n",
       "      <td>McKesson</td>\n",
       "      <td>Health Care</td>\n",
       "      <td>Wholesalers: Health Care</td>\n",
       "      <td>181241</td>\n",
       "      <td>1476</td>\n",
       "      <td>70400</td>\n",
       "    </tr>\n",
       "  </tbody>\n",
       "</table>\n",
       "</div>"
      ],
      "text/plain": [
       "                 Company       Sector  \\\n",
       "Rank                                    \n",
       "1                Walmart    Retailing   \n",
       "2            Exxon Mobil       Energy   \n",
       "3                  Apple   Technology   \n",
       "4     Berkshire Hathaway   Financials   \n",
       "5               McKesson  Health Care   \n",
       "\n",
       "                                      Industry  Revenue  Profits  Employees  \n",
       "Rank                                                                         \n",
       "1                        General Merchandisers   482130    14694    2300000  \n",
       "2                           Petroleum Refining   246204    16150      75600  \n",
       "3                  Computers, Office Equipment   233715    53394     110000  \n",
       "4     Insurance: Property and Casualty (Stock)   210821    24083     331000  \n",
       "5                     Wholesalers: Health Care   181241     1476      70400  "
      ]
     },
     "execution_count": 14,
     "metadata": {},
     "output_type": "execute_result"
    }
   ],
   "source": [
    "\n",
    "fortune['Sector'] = fortune['Sector'].astype('category')\n",
    "fortune['Industry'] = fortune['Industry'].astype('category')\n",
    "fortune.sort_index(inplace= True)\n",
    "fortune.head()"
   ]
  },
  {
   "cell_type": "code",
   "execution_count": 15,
   "metadata": {},
   "outputs": [
    {
     "name": "stdout",
     "output_type": "stream",
     "text": [
      "<class 'pandas.core.frame.DataFrame'>\n",
      "Index: 1000 entries, 1 to 1000\n",
      "Data columns (total 6 columns):\n",
      " #   Column     Non-Null Count  Dtype   \n",
      "---  ------     --------------  -----   \n",
      " 0   Company    1000 non-null   object  \n",
      " 1   Sector     1000 non-null   category\n",
      " 2   Industry   1000 non-null   category\n",
      " 3   Revenue    1000 non-null   int64   \n",
      " 4   Profits    1000 non-null   int64   \n",
      " 5   Employees  1000 non-null   int64   \n",
      "dtypes: category(2), int64(3), object(1)\n",
      "memory usage: 44.3+ KB\n"
     ]
    }
   ],
   "source": [
    "fortune.info()"
   ]
  },
  {
   "cell_type": "markdown",
   "metadata": {
    "jupyter": {
     "outputs_hidden": false
    }
   },
   "source": [
    "## The groupby Method\n",
    "- **Grouping** is a way to organize/categorize/group the data based on a column's values.\n",
    "- The `groupby` method returns a **DataFrameGroupBy** object. It resembles a group/collection of **DataFrames** in a dictionary-like structure.\n",
    "- The **DataFrameGroupBy** object can perform aggregate operations on *each* group within it."
   ]
  },
  {
   "cell_type": "code",
   "execution_count": 16,
   "metadata": {},
   "outputs": [
    {
     "data": {
      "text/html": [
       "<div>\n",
       "<style scoped>\n",
       "    .dataframe tbody tr th:only-of-type {\n",
       "        vertical-align: middle;\n",
       "    }\n",
       "\n",
       "    .dataframe tbody tr th {\n",
       "        vertical-align: top;\n",
       "    }\n",
       "\n",
       "    .dataframe thead th {\n",
       "        text-align: right;\n",
       "    }\n",
       "</style>\n",
       "<table border=\"1\" class=\"dataframe\">\n",
       "  <thead>\n",
       "    <tr style=\"text-align: right;\">\n",
       "      <th></th>\n",
       "      <th>Company</th>\n",
       "      <th>Sector</th>\n",
       "      <th>Industry</th>\n",
       "      <th>Revenue</th>\n",
       "      <th>Profits</th>\n",
       "      <th>Employees</th>\n",
       "    </tr>\n",
       "    <tr>\n",
       "      <th>Rank</th>\n",
       "      <th></th>\n",
       "      <th></th>\n",
       "      <th></th>\n",
       "      <th></th>\n",
       "      <th></th>\n",
       "      <th></th>\n",
       "    </tr>\n",
       "  </thead>\n",
       "  <tbody>\n",
       "    <tr>\n",
       "      <th>1</th>\n",
       "      <td>Walmart</td>\n",
       "      <td>Retailing</td>\n",
       "      <td>General Merchandisers</td>\n",
       "      <td>482130</td>\n",
       "      <td>14694</td>\n",
       "      <td>2300000</td>\n",
       "    </tr>\n",
       "    <tr>\n",
       "      <th>2</th>\n",
       "      <td>Exxon Mobil</td>\n",
       "      <td>Energy</td>\n",
       "      <td>Petroleum Refining</td>\n",
       "      <td>246204</td>\n",
       "      <td>16150</td>\n",
       "      <td>75600</td>\n",
       "    </tr>\n",
       "    <tr>\n",
       "      <th>3</th>\n",
       "      <td>Apple</td>\n",
       "      <td>Technology</td>\n",
       "      <td>Computers, Office Equipment</td>\n",
       "      <td>233715</td>\n",
       "      <td>53394</td>\n",
       "      <td>110000</td>\n",
       "    </tr>\n",
       "    <tr>\n",
       "      <th>4</th>\n",
       "      <td>Berkshire Hathaway</td>\n",
       "      <td>Financials</td>\n",
       "      <td>Insurance: Property and Casualty (Stock)</td>\n",
       "      <td>210821</td>\n",
       "      <td>24083</td>\n",
       "      <td>331000</td>\n",
       "    </tr>\n",
       "    <tr>\n",
       "      <th>5</th>\n",
       "      <td>McKesson</td>\n",
       "      <td>Health Care</td>\n",
       "      <td>Wholesalers: Health Care</td>\n",
       "      <td>181241</td>\n",
       "      <td>1476</td>\n",
       "      <td>70400</td>\n",
       "    </tr>\n",
       "  </tbody>\n",
       "</table>\n",
       "</div>"
      ],
      "text/plain": [
       "                 Company       Sector  \\\n",
       "Rank                                    \n",
       "1                Walmart    Retailing   \n",
       "2            Exxon Mobil       Energy   \n",
       "3                  Apple   Technology   \n",
       "4     Berkshire Hathaway   Financials   \n",
       "5               McKesson  Health Care   \n",
       "\n",
       "                                      Industry  Revenue  Profits  Employees  \n",
       "Rank                                                                         \n",
       "1                        General Merchandisers   482130    14694    2300000  \n",
       "2                           Petroleum Refining   246204    16150      75600  \n",
       "3                  Computers, Office Equipment   233715    53394     110000  \n",
       "4     Insurance: Property and Casualty (Stock)   210821    24083     331000  \n",
       "5                     Wholesalers: Health Care   181241     1476      70400  "
      ]
     },
     "execution_count": 16,
     "metadata": {},
     "output_type": "execute_result"
    }
   ],
   "source": [
    "fortune= pd.read_csv('fortune1000.csv', index_col='Rank')\n",
    "fortune['Sector'] = fortune['Sector'].astype('category')\n",
    "fortune['Industry'] = fortune['Industry'].astype('category')\n",
    "fortune.sort_index(inplace= True)\n",
    "fortune.head()"
   ]
  },
  {
   "cell_type": "code",
   "execution_count": 25,
   "metadata": {},
   "outputs": [
    {
     "data": {
      "text/plain": [
       "21"
      ]
     },
     "execution_count": 25,
     "metadata": {},
     "output_type": "execute_result"
    }
   ],
   "source": [
    "# sums of revenues for each sector\n",
    "\n",
    "# we pass as an argument to group by function a string (or list of strings) containing the columns names whose values we want to group\n",
    "# as a return we get a DataFrameGroupBy object, which actually represents a set of all the possible dataframes with unique individual values of the column (or list of columns) we put as argument\n",
    "sectors= fortune.groupby('Sector', observed= True) # observed paramater is only importand when we're dealing with categorical columns\n",
    "sectors\n",
    "len(sectors) # amount of distinct dataframes"
   ]
  },
  {
   "cell_type": "code",
   "execution_count": 26,
   "metadata": {},
   "outputs": [
    {
     "data": {
      "text/plain": [
       "Sector\n",
       "Aerospace & Defense              20\n",
       "Apparel                          15\n",
       "Business Services                51\n",
       "Chemicals                        30\n",
       "Energy                          122\n",
       "Engineering & Construction       26\n",
       "Financials                      139\n",
       "Food and Drug Stores             15\n",
       "Food, Beverages & Tobacco        43\n",
       "Health Care                      75\n",
       "Hotels, Resturants & Leisure     25\n",
       "Household Products               28\n",
       "Industrials                      46\n",
       "Materials                        43\n",
       "Media                            25\n",
       "Motor Vehicles & Parts           24\n",
       "Retailing                        80\n",
       "Technology                      102\n",
       "Telecommunications               15\n",
       "Transportation                   36\n",
       "Wholesalers                      40\n",
       "dtype: int64"
      ]
     },
     "execution_count": 26,
     "metadata": {},
     "output_type": "execute_result"
    }
   ],
   "source": [
    "sectors.size()"
   ]
  },
  {
   "cell_type": "code",
   "execution_count": 28,
   "metadata": {},
   "outputs": [
    {
     "data": {
      "text/html": [
       "<div>\n",
       "<style scoped>\n",
       "    .dataframe tbody tr th:only-of-type {\n",
       "        vertical-align: middle;\n",
       "    }\n",
       "\n",
       "    .dataframe tbody tr th {\n",
       "        vertical-align: top;\n",
       "    }\n",
       "\n",
       "    .dataframe thead th {\n",
       "        text-align: right;\n",
       "    }\n",
       "</style>\n",
       "<table border=\"1\" class=\"dataframe\">\n",
       "  <thead>\n",
       "    <tr style=\"text-align: right;\">\n",
       "      <th></th>\n",
       "      <th>Company</th>\n",
       "      <th>Industry</th>\n",
       "      <th>Revenue</th>\n",
       "      <th>Profits</th>\n",
       "      <th>Employees</th>\n",
       "    </tr>\n",
       "    <tr>\n",
       "      <th>Sector</th>\n",
       "      <th></th>\n",
       "      <th></th>\n",
       "      <th></th>\n",
       "      <th></th>\n",
       "      <th></th>\n",
       "    </tr>\n",
       "  </thead>\n",
       "  <tbody>\n",
       "    <tr>\n",
       "      <th>Aerospace &amp; Defense</th>\n",
       "      <td>Boeing</td>\n",
       "      <td>Aerospace and Defense</td>\n",
       "      <td>96114</td>\n",
       "      <td>5176</td>\n",
       "      <td>161400</td>\n",
       "    </tr>\n",
       "    <tr>\n",
       "      <th>Apparel</th>\n",
       "      <td>Nike</td>\n",
       "      <td>Apparel</td>\n",
       "      <td>30601</td>\n",
       "      <td>3273</td>\n",
       "      <td>62600</td>\n",
       "    </tr>\n",
       "    <tr>\n",
       "      <th>Business Services</th>\n",
       "      <td>ManpowerGroup</td>\n",
       "      <td>Temporary Help</td>\n",
       "      <td>19330</td>\n",
       "      <td>419</td>\n",
       "      <td>27000</td>\n",
       "    </tr>\n",
       "    <tr>\n",
       "      <th>Chemicals</th>\n",
       "      <td>Dow Chemical</td>\n",
       "      <td>Chemicals</td>\n",
       "      <td>48778</td>\n",
       "      <td>7685</td>\n",
       "      <td>49495</td>\n",
       "    </tr>\n",
       "    <tr>\n",
       "      <th>Energy</th>\n",
       "      <td>Exxon Mobil</td>\n",
       "      <td>Petroleum Refining</td>\n",
       "      <td>246204</td>\n",
       "      <td>16150</td>\n",
       "      <td>75600</td>\n",
       "    </tr>\n",
       "  </tbody>\n",
       "</table>\n",
       "</div>"
      ],
      "text/plain": [
       "                           Company               Industry  Revenue  Profits  \\\n",
       "Sector                                                                        \n",
       "Aerospace & Defense         Boeing  Aerospace and Defense    96114     5176   \n",
       "Apparel                       Nike                Apparel    30601     3273   \n",
       "Business Services    ManpowerGroup         Temporary Help    19330      419   \n",
       "Chemicals             Dow Chemical              Chemicals    48778     7685   \n",
       "Energy                 Exxon Mobil     Petroleum Refining   246204    16150   \n",
       "\n",
       "                     Employees  \n",
       "Sector                          \n",
       "Aerospace & Defense     161400  \n",
       "Apparel                  62600  \n",
       "Business Services        27000  \n",
       "Chemicals                49495  \n",
       "Energy                   75600  "
      ]
     },
     "execution_count": 28,
     "metadata": {},
     "output_type": "execute_result"
    }
   ],
   "source": [
    "sectors.first().head() # looking to the very first row of each \"nested\" dataframe inside the DataFrameGroupBy object"
   ]
  },
  {
   "cell_type": "markdown",
   "metadata": {},
   "source": [
    "## Retrieve a Group with the get_group Method\n",
    "- The `get_group` method on the **DataFrameGroupBy** object retrieves a nested **DataFrame** belonging to a specific group/category."
   ]
  },
  {
   "cell_type": "code",
   "execution_count": null,
   "metadata": {},
   "outputs": [],
   "source": [
    "fortune= pd.read_csv('fortune1000.csv', index_col='Rank')\n",
    "fortune['Sector'] = fortune['Sector'].astype('category')\n",
    "fortune['Industry'] = fortune['Industry'].astype('category')\n",
    "fortune.sort_index(inplace= True)\n",
    "fortune.head()"
   ]
  },
  {
   "cell_type": "code",
   "execution_count": null,
   "metadata": {},
   "outputs": [],
   "source": []
  },
  {
   "cell_type": "code",
   "execution_count": null,
   "metadata": {},
   "outputs": [],
   "source": []
  },
  {
   "cell_type": "code",
   "execution_count": null,
   "metadata": {},
   "outputs": [],
   "source": []
  },
  {
   "cell_type": "markdown",
   "metadata": {},
   "source": [
    "## Methods on the GroupBy Object\n",
    "- Use square brackets on the **DataFrameGroupBy** object to \"extract\" a column from the original **DataFrame**.\n",
    "- The resulting **SeriesGroupBy** object will have aggregation methods available on it.\n",
    "- Pandas will perform the calculation on *every* group within the collection.\n",
    "- For example, the `sum` method will sum together the **Revenues** for every row by group/category."
   ]
  },
  {
   "cell_type": "code",
   "execution_count": null,
   "metadata": {
    "tags": []
   },
   "outputs": [],
   "source": [
    "fortune= pd.read_csv('fortune1000.csv', index_col='Rank')\n",
    "fortune['Sector'] = fortune['Sector'].astype('category')\n",
    "fortune['Industry'] = fortune['Industry'].astype('category')\n",
    "fortune.sort_index(inplace= True)\n",
    "fortune.head()"
   ]
  },
  {
   "cell_type": "code",
   "execution_count": null,
   "metadata": {},
   "outputs": [],
   "source": []
  },
  {
   "cell_type": "code",
   "execution_count": null,
   "metadata": {},
   "outputs": [],
   "source": []
  },
  {
   "cell_type": "code",
   "execution_count": null,
   "metadata": {},
   "outputs": [],
   "source": []
  },
  {
   "cell_type": "markdown",
   "metadata": {},
   "source": [
    "## Grouping by Multiple Columns\n",
    "- Pass a list of columns to the **groupby** method to group by pairings of values across columns.\n",
    "- Target a column to retrieve the **SeriesGroupBy** object, then perform an aggregation with a method.\n",
    "- Pandas will return a **MultiIndex** **Series** where the levels will be the original groups."
   ]
  },
  {
   "cell_type": "code",
   "execution_count": null,
   "metadata": {
    "collapsed": false,
    "jupyter": {
     "outputs_hidden": false
    }
   },
   "outputs": [],
   "source": [
    "fortune= pd.read_csv('fortune1000.csv', index_col='Rank')\n",
    "fortune['Sector'] = fortune['Sector'].astype('category')\n",
    "fortune['Industry'] = fortune['Industry'].astype('category')\n",
    "fortune.sort_index(inplace= True)\n",
    "fortune.head()"
   ]
  },
  {
   "cell_type": "code",
   "execution_count": null,
   "metadata": {},
   "outputs": [],
   "source": []
  },
  {
   "cell_type": "code",
   "execution_count": null,
   "metadata": {},
   "outputs": [],
   "source": []
  },
  {
   "cell_type": "code",
   "execution_count": null,
   "metadata": {},
   "outputs": [],
   "source": []
  },
  {
   "cell_type": "markdown",
   "metadata": {},
   "source": [
    "## The agg Method\n",
    "- The `agg` method applies different aggregation methods on different columns.\n",
    "- Invoke the `agg` method directly on the **DataFrameGroupBy** object.\n",
    "- Pass the method a dictionary where the keys are the columns and the values are the aggregation operations."
   ]
  },
  {
   "cell_type": "code",
   "execution_count": null,
   "metadata": {
    "collapsed": false,
    "jupyter": {
     "outputs_hidden": false
    }
   },
   "outputs": [],
   "source": [
    "fortune= pd.read_csv('fortune1000.csv', index_col='Rank')\n",
    "fortune['Sector'] = fortune['Sector'].astype('category')\n",
    "fortune['Industry'] = fortune['Industry'].astype('category')\n",
    "fortune.sort_index(inplace= True)\n",
    "fortune.head()"
   ]
  },
  {
   "cell_type": "code",
   "execution_count": null,
   "metadata": {},
   "outputs": [],
   "source": []
  },
  {
   "cell_type": "code",
   "execution_count": null,
   "metadata": {},
   "outputs": [],
   "source": []
  },
  {
   "cell_type": "code",
   "execution_count": null,
   "metadata": {},
   "outputs": [],
   "source": []
  },
  {
   "cell_type": "markdown",
   "metadata": {},
   "source": [
    "## Iterating through Groups \n",
    "- The **DataFrameGroupBy** object supports the `apply` method (just like a **Series** and a **DataFrame** do).\n",
    "- The `apply` method invokes a function on every nested **DataFrame** in the **DataFrameGroupBy** object.\n",
    "- It captures the return values of the functions and collects them in a new **DataFrame** (the return value)."
   ]
  },
  {
   "cell_type": "code",
   "execution_count": null,
   "metadata": {
    "collapsed": false,
    "jupyter": {
     "outputs_hidden": false
    }
   },
   "outputs": [],
   "source": [
    "fortune= pd.read_csv('fortune1000.csv', index_col='Rank')\n",
    "fortune['Sector'] = fortune['Sector'].astype('category')\n",
    "fortune['Industry'] = fortune['Industry'].astype('category')\n",
    "fortune.sort_index(inplace= True)\n",
    "fortune.head()"
   ]
  },
  {
   "cell_type": "code",
   "execution_count": null,
   "metadata": {
    "collapsed": false,
    "jupyter": {
     "outputs_hidden": false
    }
   },
   "outputs": [],
   "source": []
  },
  {
   "cell_type": "code",
   "execution_count": null,
   "metadata": {},
   "outputs": [],
   "source": []
  },
  {
   "cell_type": "code",
   "execution_count": null,
   "metadata": {},
   "outputs": [],
   "source": []
  }
 ],
 "metadata": {
  "anaconda-cloud": {},
  "kernelspec": {
   "display_name": "Python 3",
   "language": "python",
   "name": "python3"
  },
  "language_info": {
   "codemirror_mode": {
    "name": "ipython",
    "version": 3
   },
   "file_extension": ".py",
   "mimetype": "text/x-python",
   "name": "python",
   "nbconvert_exporter": "python",
   "pygments_lexer": "ipython3",
   "version": "3.12.5"
  }
 },
 "nbformat": 4,
 "nbformat_minor": 4
}
