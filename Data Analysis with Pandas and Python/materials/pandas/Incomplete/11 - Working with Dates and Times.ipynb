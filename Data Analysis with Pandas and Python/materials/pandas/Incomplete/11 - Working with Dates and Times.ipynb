{
 "cells": [
  {
   "cell_type": "markdown",
   "metadata": {},
   "source": [
    "# Working with Dates and Times"
   ]
  },
  {
   "cell_type": "code",
   "execution_count": 2,
   "metadata": {
    "scrolled": true
   },
   "outputs": [],
   "source": [
    "import pandas as pd\n",
    "import datetime as dt"
   ]
  },
  {
   "cell_type": "markdown",
   "metadata": {},
   "source": [
    "## Review of Python's datetime Module\n",
    "- The `datetime` module is built into the core Python programming language.\n",
    "- The common alias for the `datetime` module is `dt`.\n",
    "- A module is a Python source file; think of like an internal library that Python loads on demand.\n",
    "- The `datetime` module includes `date` and `datetime` classes for representing dates and datetimes.\n",
    "- The `date` constructor accepts arguments for year, month, and day. Python defaults to 0 for any missing values.\n",
    "- The `datetime` constructor accepts arguments for year, month, day, hour, minute, and second."
   ]
  },
  {
   "cell_type": "code",
   "execution_count": 19,
   "metadata": {},
   "outputs": [
    {
     "name": "stdout",
     "output_type": "stream",
     "text": [
      "28\n",
      "1\n",
      "2025\n",
      "----------\n",
      "\n",
      "2025\n",
      "1\n",
      "28\n",
      "12\n",
      "9\n",
      "43\n",
      "11\n"
     ]
    }
   ],
   "source": [
    "someday= dt.date(2025, 1, 28)\n",
    "\n",
    "print(someday.day)\n",
    "print(someday.month)\n",
    "print(someday.year)\n",
    "print('-'*10, end= '\\n\\n')\n",
    "\n",
    "dt.datetime(2025, 1, 28)\n",
    "dt.datetime(2025, 1, 28, 12, 9)\n",
    "dt.datetime(2025, 1, 28, 12, 9, 43, 11)\n",
    "\n",
    "somedatetime= dt.datetime(2025, 1, 28, 12, 9, 43, 11)\n",
    "print(somedatetime.year)\n",
    "print(somedatetime.month)\n",
    "print(somedatetime.day)\n",
    "print(somedatetime.hour)\n",
    "print(somedatetime.minute)\n",
    "print(somedatetime.second)\n",
    "print(somedatetime.microsecond)"
   ]
  },
  {
   "cell_type": "code",
   "execution_count": null,
   "metadata": {},
   "outputs": [],
   "source": []
  },
  {
   "cell_type": "markdown",
   "metadata": {},
   "source": [
    "## The Timestamp and DatetimeIndex Objects\n",
    "\n",
    "- Pandas ships with several classes related to datetimes.\n",
    "- The **Timestamp** is similar to Python's **datetime** object (but with expanded functionality).\n",
    "- A **DatetimeIndex** is an index of **Timestamp** objects.\n",
    "- The **Timestamp** constructor accepts a string, a **datetime** object, or equivalent arguments to the **datetime** clas."
   ]
  },
  {
   "cell_type": "code",
   "execution_count": 28,
   "metadata": {
    "scrolled": true
   },
   "outputs": [
    {
     "data": {
      "text/plain": [
       "Timestamp('2024-10-29 15:42:33')"
      ]
     },
     "execution_count": 28,
     "metadata": {},
     "output_type": "execute_result"
    }
   ],
   "source": [
    "pd.Timestamp(2024, 3, 12)\n",
    "pd.Timestamp(2025, 1, 31, 13, 47, 23)\n",
    "pd.Timestamp(dt.date(2015, 11, 10))\n",
    "pd.Timestamp(dt.datetime(2018, 10, 15, 16, 12, 48))\n",
    "pd.Timestamp('2023-12-25')\n",
    "pd.Timestamp('05/11/2001') # MM/dd/yyyy\n",
    "pd.Timestamp('2024-10-29 15:42:33')"
   ]
  },
  {
   "cell_type": "code",
   "execution_count": 33,
   "metadata": {},
   "outputs": [
    {
     "data": {
      "text/plain": [
       "Timestamp('2024-10-29 15:42:33')"
      ]
     },
     "execution_count": 33,
     "metadata": {},
     "output_type": "execute_result"
    }
   ],
   "source": [
    "pd.Series([pd.Timestamp('2024-10-29 15:42:33')]).iloc[0]"
   ]
  },
  {
   "cell_type": "code",
   "execution_count": 37,
   "metadata": {},
   "outputs": [
    {
     "data": {
      "text/plain": [
       "DatetimeIndex(['2005-10-12', '2010-11-24', '2029-06-23'], dtype='datetime64[ns]', freq=None)"
      ]
     },
     "execution_count": 37,
     "metadata": {},
     "output_type": "execute_result"
    }
   ],
   "source": [
    "pd.DatetimeIndex(['2005-10-12', '2010-11-24', '2029-06-23'])\n",
    "\n",
    "index= pd.DatetimeIndex(['2005-10-12', '2010-11-24', '2029-06-23'])\n",
    "index"
   ]
  },
  {
   "cell_type": "code",
   "execution_count": 39,
   "metadata": {},
   "outputs": [
    {
     "data": {
      "text/plain": [
       "pandas._libs.tslibs.timestamps.Timestamp"
      ]
     },
     "execution_count": 39,
     "metadata": {},
     "output_type": "execute_result"
    }
   ],
   "source": [
    "type(index)\n",
    "type(index[0])"
   ]
  },
  {
   "cell_type": "markdown",
   "metadata": {},
   "source": [
    "- We can understand the datetime index as a list of timestamp objects, but we can also have an original Series of it"
   ]
  },
  {
   "cell_type": "markdown",
   "metadata": {},
   "source": [
    "## Create Range of Dates with pd.date_range Function\n",
    "- The `date_range` function generates and returns a **DatetimeIndex** holding a sequence of dates.\n",
    "- The function requires 2 of the 3 following parameters: `start`, `end`, and `period`.\n",
    "- With `start` and `end`, Pandas will assume a daily period/interval.\n",
    "- Every element within a **DatetimeIndex** is a **Timestamp**."
   ]
  },
  {
   "cell_type": "code",
   "execution_count": 63,
   "metadata": {},
   "outputs": [
    {
     "data": {
      "text/plain": [
       "DatetimeIndex(['2025-01-01', '2025-01-02', '2025-01-03', '2025-01-04',\n",
       "               '2025-01-05', '2025-01-06', '2025-01-07', '2025-01-08',\n",
       "               '2025-01-09', '2025-01-10', '2025-01-11', '2025-01-12',\n",
       "               '2025-01-13', '2025-01-14', '2025-01-15', '2025-01-16',\n",
       "               '2025-01-17', '2025-01-18', '2025-01-19', '2025-01-20',\n",
       "               '2025-01-21', '2025-01-22', '2025-01-23', '2025-01-24',\n",
       "               '2025-01-25', '2025-01-26', '2025-01-27', '2025-01-28'],\n",
       "              dtype='datetime64[ns]', freq='D')"
      ]
     },
     "execution_count": 63,
     "metadata": {},
     "output_type": "execute_result"
    }
   ],
   "source": [
    "pd.date_range(start= '2025-01-01', end= '2025-01-07')\n",
    "pd.date_range(start= '2025-01-01', end= '2025-01-07', freq= 'D') #getting the exact same result above\n",
    "pd.date_range(start= '2025-01-01', end= '2025-01-07', freq= '2d')\n",
    "pd.date_range(start= '2014-11-20', end= '2014-12-31', freq= 'B') # business days (monday-friday)\n",
    "pd.date_range(start= '2025-01-01', end= '2025-01-31', freq= 'W') # week days (intervals of 1 week starting from sunday)\n",
    "pd.date_range(start= '2025-01-01', end= '2025-01-31', freq= 'W-TUE') # week days (intervals of 1 week starting from tuesday)\n",
    "\n",
    "pd.date_range(start= '2024-01-01', end= '2024-01-31', freq='H') # values hourly spaced (default: 1h)\n",
    "pd.date_range(start= '2024-01-01', end= '2024-01-31', freq='6H')\n",
    "\n",
    "pd.date_range(start= '2025-01-01', end= '2025-12-31', freq= 'M') # dates monthly spaced, but always considering the end of each month\n",
    "pd.date_range(start= '2025-01-01', end= '2025-12-31', freq= 'MS') # dates monthly spaced, but considering the start of each month\n",
    "pd.date_range(start= '2025-01-01', end= '2050-12-31', freq='A') # dates annualy spaced\n",
    "pd.date_range(start= '2025-01-01', end= '2050-12-31', freq='AS-FEB') # dates annualy spaced every feb, and always taking the start of each month\n",
    "\n",
    "pd.date_range(start='2025-01-28', freq= 'D', periods= 25) # we're taking 25 occurrences of normal days ahead of the starting point\n",
    "pd.date_range(start= '2025-01-28', freq='B', periods= 50) # we're taking 50 occurrences of business days ahead of the starting point\n",
    "pd.date_range(end= '2025-01-28', freq='D', periods= 28) # we're taking 28 occurrences of normal days behind the starting point"
   ]
  },
  {
   "cell_type": "code",
   "execution_count": null,
   "metadata": {},
   "outputs": [],
   "source": []
  },
  {
   "cell_type": "code",
   "execution_count": null,
   "metadata": {},
   "outputs": [],
   "source": []
  },
  {
   "cell_type": "code",
   "execution_count": null,
   "metadata": {},
   "outputs": [],
   "source": []
  },
  {
   "cell_type": "markdown",
   "metadata": {},
   "source": [
    "## The dt Attribute\n",
    "- The `dt` attribute reveals a `DatetimeProperties` object with attributes/methods for working with datetimes. It is similar to the `str` attribute for string methods.\n",
    "- The `DatetimeProperties` object has attributes like `day`, `month`, and `year` to reveal information about each date in the **Series**.\n",
    "- The `day_name` method returns the written day of the week.\n",
    "- Attributes like `is_month_end` and `is_quarter_start` return Boolean **Series**."
   ]
  },
  {
   "cell_type": "code",
   "execution_count": 69,
   "metadata": {},
   "outputs": [
    {
     "data": {
      "text/plain": [
       "0     2000-01-01 00:00:00\n",
       "1     2000-01-25 04:30:00\n",
       "2     2000-02-18 09:00:00\n",
       "3     2000-03-13 13:30:00\n",
       "4     2000-04-06 18:00:00\n",
       "              ...        \n",
       "313   2020-09-22 16:30:00\n",
       "314   2020-10-16 21:00:00\n",
       "315   2020-11-10 01:30:00\n",
       "316   2020-12-04 06:00:00\n",
       "317   2020-12-28 10:30:00\n",
       "Length: 318, dtype: datetime64[ns]"
      ]
     },
     "execution_count": 69,
     "metadata": {},
     "output_type": "execute_result"
    }
   ],
   "source": [
    "bunch_of_dates= pd.Series(pd.date_range(start= '2000-01-01', end= '2020-12-31', freq= '24D 4.5H'))\n",
    "bunch_of_dates"
   ]
  },
  {
   "cell_type": "code",
   "execution_count": 78,
   "metadata": {},
   "outputs": [
    {
     "data": {
      "text/plain": [
       "0      Saturday\n",
       "1       Tuesday\n",
       "2        Friday\n",
       "3        Monday\n",
       "4      Thursday\n",
       "         ...   \n",
       "313     Tuesday\n",
       "314      Friday\n",
       "315     Tuesday\n",
       "316      Friday\n",
       "317      Monday\n",
       "Length: 318, dtype: object"
      ]
     },
     "execution_count": 78,
     "metadata": {},
     "output_type": "execute_result"
    }
   ],
   "source": [
    "bunch_of_dates.dt.day\n",
    "bunch_of_dates.dt.month\n",
    "bunch_of_dates.dt.year\n",
    "bunch_of_dates.dt.hour\n",
    "bunch_of_dates.dt.day_of_year\n",
    "bunch_of_dates.dt.day_of_week.map({0: 'Sunday', 1: 'Monday', 2: 'Tuesday', 3: 'Wednesday', 4: 'Thursday', 5: 'Friday', 6: 'Saturday'})\n",
    "bunch_of_dates.dt.day_name()"
   ]
  },
  {
   "cell_type": "code",
   "execution_count": 82,
   "metadata": {},
   "outputs": [
    {
     "data": {
      "text/plain": [
       "0      5\n",
       "1      1\n",
       "2      4\n",
       "3      0\n",
       "4      3\n",
       "      ..\n",
       "313    1\n",
       "314    4\n",
       "315    1\n",
       "316    4\n",
       "317    0\n",
       "Length: 318, dtype: int32"
      ]
     },
     "execution_count": 82,
     "metadata": {},
     "output_type": "execute_result"
    }
   ],
   "source": [
    "bunch_of_dates.dt.day_of_week"
   ]
  },
  {
   "cell_type": "code",
   "execution_count": 81,
   "metadata": {},
   "outputs": [
    {
     "data": {
      "text/plain": [
       "[0, 1, 2, 3, 4, 5, 6]"
      ]
     },
     "execution_count": 81,
     "metadata": {},
     "output_type": "execute_result"
    }
   ],
   "source": [
    "sorted(bunch_of_dates.dt.day_of_week.unique())"
   ]
  },
  {
   "cell_type": "markdown",
   "metadata": {},
   "source": [
    "## Selecting Rows from a DataFrame with a DateTimeIndex\n",
    "- The `iloc` accessor is available for index position-based extraction.\n",
    "- The `loc` accessor accepts strings or **Timestamps** to extract by index label/value. Note that Python's `datetime` objects will not work.\n",
    "- Use list slicing to extract a sequence of dates. The `truncate` method is another alternative."
   ]
  },
  {
   "cell_type": "code",
   "execution_count": 93,
   "metadata": {},
   "outputs": [
    {
     "data": {
      "text/html": [
       "<div>\n",
       "<style scoped>\n",
       "    .dataframe tbody tr th:only-of-type {\n",
       "        vertical-align: middle;\n",
       "    }\n",
       "\n",
       "    .dataframe tbody tr th {\n",
       "        vertical-align: top;\n",
       "    }\n",
       "\n",
       "    .dataframe thead th {\n",
       "        text-align: right;\n",
       "    }\n",
       "</style>\n",
       "<table border=\"1\" class=\"dataframe\">\n",
       "  <thead>\n",
       "    <tr style=\"text-align: right;\">\n",
       "      <th></th>\n",
       "      <th>Open</th>\n",
       "      <th>High</th>\n",
       "      <th>Low</th>\n",
       "      <th>Close</th>\n",
       "      <th>Volume</th>\n",
       "    </tr>\n",
       "    <tr>\n",
       "      <th>Date</th>\n",
       "      <th></th>\n",
       "      <th></th>\n",
       "      <th></th>\n",
       "      <th></th>\n",
       "      <th></th>\n",
       "    </tr>\n",
       "  </thead>\n",
       "  <tbody>\n",
       "    <tr>\n",
       "      <th>1962-01-02</th>\n",
       "      <td>5.04610</td>\n",
       "      <td>5.04610</td>\n",
       "      <td>4.98716</td>\n",
       "      <td>4.98716</td>\n",
       "      <td>593562.955237</td>\n",
       "    </tr>\n",
       "    <tr>\n",
       "      <th>1962-01-03</th>\n",
       "      <td>4.98716</td>\n",
       "      <td>5.03292</td>\n",
       "      <td>4.98716</td>\n",
       "      <td>5.03292</td>\n",
       "      <td>445175.034277</td>\n",
       "    </tr>\n",
       "    <tr>\n",
       "      <th>1962-01-04</th>\n",
       "      <td>5.03292</td>\n",
       "      <td>5.03292</td>\n",
       "      <td>4.98052</td>\n",
       "      <td>4.98052</td>\n",
       "      <td>399513.586679</td>\n",
       "    </tr>\n",
       "    <tr>\n",
       "      <th>1962-01-05</th>\n",
       "      <td>4.97389</td>\n",
       "      <td>4.97389</td>\n",
       "      <td>4.87511</td>\n",
       "      <td>4.88166</td>\n",
       "      <td>559321.480565</td>\n",
       "    </tr>\n",
       "    <tr>\n",
       "      <th>1962-01-08</th>\n",
       "      <td>4.88166</td>\n",
       "      <td>4.88166</td>\n",
       "      <td>4.75059</td>\n",
       "      <td>4.78972</td>\n",
       "      <td>833273.771393</td>\n",
       "    </tr>\n",
       "  </tbody>\n",
       "</table>\n",
       "</div>"
      ],
      "text/plain": [
       "               Open     High      Low    Close         Volume\n",
       "Date                                                         \n",
       "1962-01-02  5.04610  5.04610  4.98716  4.98716  593562.955237\n",
       "1962-01-03  4.98716  5.03292  4.98716  5.03292  445175.034277\n",
       "1962-01-04  5.03292  5.03292  4.98052  4.98052  399513.586679\n",
       "1962-01-05  4.97389  4.97389  4.87511  4.88166  559321.480565\n",
       "1962-01-08  4.88166  4.88166  4.75059  4.78972  833273.771393"
      ]
     },
     "execution_count": 93,
     "metadata": {},
     "output_type": "execute_result"
    }
   ],
   "source": [
    "stocks= pd.read_csv('ibm.csv', parse_dates=['Date'], date_format='%Y-%m-%d', index_col= 'Date').sort_index()\n",
    "stocks.head()"
   ]
  },
  {
   "cell_type": "code",
   "execution_count": 99,
   "metadata": {},
   "outputs": [
    {
     "data": {
      "text/html": [
       "<div>\n",
       "<style scoped>\n",
       "    .dataframe tbody tr th:only-of-type {\n",
       "        vertical-align: middle;\n",
       "    }\n",
       "\n",
       "    .dataframe tbody tr th {\n",
       "        vertical-align: top;\n",
       "    }\n",
       "\n",
       "    .dataframe thead th {\n",
       "        text-align: right;\n",
       "    }\n",
       "</style>\n",
       "<table border=\"1\" class=\"dataframe\">\n",
       "  <thead>\n",
       "    <tr style=\"text-align: right;\">\n",
       "      <th></th>\n",
       "      <th>Open</th>\n",
       "      <th>High</th>\n",
       "      <th>Low</th>\n",
       "      <th>Close</th>\n",
       "      <th>Volume</th>\n",
       "    </tr>\n",
       "    <tr>\n",
       "      <th>Date</th>\n",
       "      <th></th>\n",
       "      <th></th>\n",
       "      <th></th>\n",
       "      <th></th>\n",
       "      <th></th>\n",
       "    </tr>\n",
       "  </thead>\n",
       "  <tbody>\n",
       "    <tr>\n",
       "      <th>2010-04-13</th>\n",
       "      <td>84.2767</td>\n",
       "      <td>85.0419</td>\n",
       "      <td>83.9908</td>\n",
       "      <td>84.7773</td>\n",
       "      <td>1.037824e+07</td>\n",
       "    </tr>\n",
       "    <tr>\n",
       "      <th>2010-04-14</th>\n",
       "      <td>85.2351</td>\n",
       "      <td>86.3632</td>\n",
       "      <td>85.0565</td>\n",
       "      <td>86.2335</td>\n",
       "      <td>1.300633e+07</td>\n",
       "    </tr>\n",
       "    <tr>\n",
       "      <th>2010-04-15</th>\n",
       "      <td>85.7553</td>\n",
       "      <td>86.1651</td>\n",
       "      <td>85.5503</td>\n",
       "      <td>85.9923</td>\n",
       "      <td>9.776484e+06</td>\n",
       "    </tr>\n",
       "    <tr>\n",
       "      <th>2010-04-16</th>\n",
       "      <td>85.8636</td>\n",
       "      <td>86.8307</td>\n",
       "      <td>85.5854</td>\n",
       "      <td>85.8187</td>\n",
       "      <td>1.453137e+07</td>\n",
       "    </tr>\n",
       "    <tr>\n",
       "      <th>2010-04-19</th>\n",
       "      <td>85.6703</td>\n",
       "      <td>86.8990</td>\n",
       "      <td>85.6703</td>\n",
       "      <td>86.8550</td>\n",
       "      <td>1.715547e+07</td>\n",
       "    </tr>\n",
       "    <tr>\n",
       "      <th>...</th>\n",
       "      <td>...</td>\n",
       "      <td>...</td>\n",
       "      <td>...</td>\n",
       "      <td>...</td>\n",
       "      <td>...</td>\n",
       "    </tr>\n",
       "    <tr>\n",
       "      <th>2013-11-19</th>\n",
       "      <td>127.3670</td>\n",
       "      <td>128.4510</td>\n",
       "      <td>127.0350</td>\n",
       "      <td>127.7970</td>\n",
       "      <td>6.634746e+06</td>\n",
       "    </tr>\n",
       "    <tr>\n",
       "      <th>2013-11-20</th>\n",
       "      <td>127.7680</td>\n",
       "      <td>128.4700</td>\n",
       "      <td>127.3770</td>\n",
       "      <td>127.7380</td>\n",
       "      <td>5.285105e+06</td>\n",
       "    </tr>\n",
       "    <tr>\n",
       "      <th>2013-11-21</th>\n",
       "      <td>128.0020</td>\n",
       "      <td>128.1580</td>\n",
       "      <td>126.5190</td>\n",
       "      <td>127.0170</td>\n",
       "      <td>6.464296e+06</td>\n",
       "    </tr>\n",
       "    <tr>\n",
       "      <th>2013-11-22</th>\n",
       "      <td>126.5970</td>\n",
       "      <td>127.6120</td>\n",
       "      <td>124.1080</td>\n",
       "      <td>125.0940</td>\n",
       "      <td>1.103185e+07</td>\n",
       "    </tr>\n",
       "    <tr>\n",
       "      <th>2013-11-25</th>\n",
       "      <td>124.3030</td>\n",
       "      <td>124.6830</td>\n",
       "      <td>122.6930</td>\n",
       "      <td>123.4440</td>\n",
       "      <td>1.038238e+07</td>\n",
       "    </tr>\n",
       "  </tbody>\n",
       "</table>\n",
       "<p>914 rows × 5 columns</p>\n",
       "</div>"
      ],
      "text/plain": [
       "                Open      High       Low     Close        Volume\n",
       "Date                                                            \n",
       "2010-04-13   84.2767   85.0419   83.9908   84.7773  1.037824e+07\n",
       "2010-04-14   85.2351   86.3632   85.0565   86.2335  1.300633e+07\n",
       "2010-04-15   85.7553   86.1651   85.5503   85.9923  9.776484e+06\n",
       "2010-04-16   85.8636   86.8307   85.5854   85.8187  1.453137e+07\n",
       "2010-04-19   85.6703   86.8990   85.6703   86.8550  1.715547e+07\n",
       "...              ...       ...       ...       ...           ...\n",
       "2013-11-19  127.3670  128.4510  127.0350  127.7970  6.634746e+06\n",
       "2013-11-20  127.7680  128.4700  127.3770  127.7380  5.285105e+06\n",
       "2013-11-21  128.0020  128.1580  126.5190  127.0170  6.464296e+06\n",
       "2013-11-22  126.5970  127.6120  124.1080  125.0940  1.103185e+07\n",
       "2013-11-25  124.3030  124.6830  122.6930  123.4440  1.038238e+07\n",
       "\n",
       "[914 rows x 5 columns]"
      ]
     },
     "execution_count": 99,
     "metadata": {},
     "output_type": "execute_result"
    }
   ],
   "source": [
    "stocks.iloc[300]\n",
    "stocks.loc['1962-01-03']\n",
    "stocks.loc[pd.Timestamp(1962, 1, 3)]\n",
    "stocks.loc['2010-04-13':'2013-11-25']\n",
    "stocks.loc[pd.Timestamp(2010, 4, 13):pd.Timestamp(2013, 11, 25)]\n",
    "stocks.truncate('2010-04-13','2013-11-25')"
   ]
  },
  {
   "cell_type": "code",
   "execution_count": null,
   "metadata": {},
   "outputs": [],
   "source": []
  },
  {
   "cell_type": "code",
   "execution_count": null,
   "metadata": {},
   "outputs": [],
   "source": []
  },
  {
   "cell_type": "markdown",
   "metadata": {},
   "source": [
    "## The DateOffset Object\n",
    "- A **DateOffset** object adds time to a **Timestamp** to arrive at a new **Timestamp**.\n",
    "- The **DateOffset** constructor accepts `days`, `weeks`, `months`, `years` parameters, and more.\n",
    "- We can pass a **DateOffset** object to the `freq` parameter of the `pd.date_range` function."
   ]
  },
  {
   "cell_type": "code",
   "execution_count": 111,
   "metadata": {},
   "outputs": [
    {
     "data": {
      "text/html": [
       "<div>\n",
       "<style scoped>\n",
       "    .dataframe tbody tr th:only-of-type {\n",
       "        vertical-align: middle;\n",
       "    }\n",
       "\n",
       "    .dataframe tbody tr th {\n",
       "        vertical-align: top;\n",
       "    }\n",
       "\n",
       "    .dataframe thead th {\n",
       "        text-align: right;\n",
       "    }\n",
       "</style>\n",
       "<table border=\"1\" class=\"dataframe\">\n",
       "  <thead>\n",
       "    <tr style=\"text-align: right;\">\n",
       "      <th></th>\n",
       "      <th>Open</th>\n",
       "      <th>High</th>\n",
       "      <th>Low</th>\n",
       "      <th>Close</th>\n",
       "      <th>Volume</th>\n",
       "    </tr>\n",
       "    <tr>\n",
       "      <th>Date</th>\n",
       "      <th></th>\n",
       "      <th></th>\n",
       "      <th></th>\n",
       "      <th></th>\n",
       "      <th></th>\n",
       "    </tr>\n",
       "  </thead>\n",
       "  <tbody>\n",
       "    <tr>\n",
       "      <th>1962-01-02</th>\n",
       "      <td>5.04610</td>\n",
       "      <td>5.04610</td>\n",
       "      <td>4.98716</td>\n",
       "      <td>4.98716</td>\n",
       "      <td>593562.955237</td>\n",
       "    </tr>\n",
       "    <tr>\n",
       "      <th>1962-01-03</th>\n",
       "      <td>4.98716</td>\n",
       "      <td>5.03292</td>\n",
       "      <td>4.98716</td>\n",
       "      <td>5.03292</td>\n",
       "      <td>445175.034277</td>\n",
       "    </tr>\n",
       "    <tr>\n",
       "      <th>1962-01-04</th>\n",
       "      <td>5.03292</td>\n",
       "      <td>5.03292</td>\n",
       "      <td>4.98052</td>\n",
       "      <td>4.98052</td>\n",
       "      <td>399513.586679</td>\n",
       "    </tr>\n",
       "    <tr>\n",
       "      <th>1962-01-05</th>\n",
       "      <td>4.97389</td>\n",
       "      <td>4.97389</td>\n",
       "      <td>4.87511</td>\n",
       "      <td>4.88166</td>\n",
       "      <td>559321.480565</td>\n",
       "    </tr>\n",
       "    <tr>\n",
       "      <th>1962-01-08</th>\n",
       "      <td>4.88166</td>\n",
       "      <td>4.88166</td>\n",
       "      <td>4.75059</td>\n",
       "      <td>4.78972</td>\n",
       "      <td>833273.771393</td>\n",
       "    </tr>\n",
       "  </tbody>\n",
       "</table>\n",
       "</div>"
      ],
      "text/plain": [
       "               Open     High      Low    Close         Volume\n",
       "Date                                                         \n",
       "1962-01-02  5.04610  5.04610  4.98716  4.98716  593562.955237\n",
       "1962-01-03  4.98716  5.03292  4.98716  5.03292  445175.034277\n",
       "1962-01-04  5.03292  5.03292  4.98052  4.98052  399513.586679\n",
       "1962-01-05  4.97389  4.97389  4.87511  4.88166  559321.480565\n",
       "1962-01-08  4.88166  4.88166  4.75059  4.78972  833273.771393"
      ]
     },
     "execution_count": 111,
     "metadata": {},
     "output_type": "execute_result"
    }
   ],
   "source": [
    "stocks= pd.read_csv('ibm.csv', parse_dates=['Date'], date_format='%Y-%m-%d', index_col= 'Date').sort_index()\n",
    "stocks.head()"
   ]
  },
  {
   "cell_type": "code",
   "execution_count": 102,
   "metadata": {},
   "outputs": [
    {
     "data": {
      "text/plain": [
       "DatetimeIndex(['1962-01-02', '1962-01-03', '1962-01-04', '1962-01-05',\n",
       "               '1962-01-08', '1962-01-09', '1962-01-10', '1962-01-11',\n",
       "               '1962-01-12', '1962-01-15',\n",
       "               ...\n",
       "               '2023-09-28', '2023-09-29', '2023-10-02', '2023-10-03',\n",
       "               '2023-10-04', '2023-10-05', '2023-10-06', '2023-10-09',\n",
       "               '2023-10-10', '2023-10-11'],\n",
       "              dtype='datetime64[ns]', name='Date', length=15546, freq=None)"
      ]
     },
     "execution_count": 102,
     "metadata": {},
     "output_type": "execute_result"
    }
   ],
   "source": [
    "stocks.index"
   ]
  },
  {
   "cell_type": "code",
   "execution_count": 110,
   "metadata": {},
   "outputs": [
    {
     "data": {
      "text/plain": [
       "DatetimeIndex(['1960-11-01 22:25:48', '1960-11-02 22:25:48',\n",
       "               '1960-11-03 22:25:48', '1960-11-04 22:25:48',\n",
       "               '1960-11-07 22:25:48', '1960-11-08 22:25:48',\n",
       "               '1960-11-09 22:25:48', '1960-11-10 22:25:48',\n",
       "               '1960-11-11 22:25:48', '1960-11-14 22:25:48',\n",
       "               ...\n",
       "               '2022-07-27 22:25:48', '2022-07-28 22:25:48',\n",
       "               '2022-08-01 22:25:48', '2022-08-02 22:25:48',\n",
       "               '2022-08-03 22:25:48', '2022-08-04 22:25:48',\n",
       "               '2022-08-05 22:25:48', '2022-08-08 22:25:48',\n",
       "               '2022-08-09 22:25:48', '2022-08-10 22:25:48'],\n",
       "              dtype='datetime64[ns]', name='Date', length=15546, freq=None)"
      ]
     },
     "execution_count": 110,
     "metadata": {},
     "output_type": "execute_result"
    }
   ],
   "source": [
    "stocks.index + pd.DateOffset(days= 5)\n",
    "stocks.index - pd.DateOffset(days= 5)\n",
    "stocks.index - pd.DateOffset(months= 5)\n",
    "stocks.index - pd.DateOffset(years= 3)\n",
    "stocks.index + pd.DateOffset(hours= 3)\n",
    "stocks.index - pd.DateOffset(years= 1, months= 2, hours= 1.57)"
   ]
  },
  {
   "cell_type": "code",
   "execution_count": 118,
   "metadata": {},
   "outputs": [
    {
     "data": {
      "text/plain": [
       "Index([1, 2, 3, 4, 5, 6, 7, 8, 9, 10, 11, 12], dtype='int32', name='Date')"
      ]
     },
     "execution_count": 118,
     "metadata": {},
     "output_type": "execute_result"
    }
   ],
   "source": [
    "stocks.index.month.unique()"
   ]
  },
  {
   "cell_type": "code",
   "execution_count": 122,
   "metadata": {},
   "outputs": [
    {
     "data": {
      "text/html": [
       "<div>\n",
       "<style scoped>\n",
       "    .dataframe tbody tr th:only-of-type {\n",
       "        vertical-align: middle;\n",
       "    }\n",
       "\n",
       "    .dataframe tbody tr th {\n",
       "        vertical-align: top;\n",
       "    }\n",
       "\n",
       "    .dataframe thead th {\n",
       "        text-align: right;\n",
       "    }\n",
       "</style>\n",
       "<table border=\"1\" class=\"dataframe\">\n",
       "  <thead>\n",
       "    <tr style=\"text-align: right;\">\n",
       "      <th></th>\n",
       "      <th>Open</th>\n",
       "      <th>High</th>\n",
       "      <th>Low</th>\n",
       "      <th>Close</th>\n",
       "      <th>Volume</th>\n",
       "    </tr>\n",
       "    <tr>\n",
       "      <th>Date</th>\n",
       "      <th></th>\n",
       "      <th></th>\n",
       "      <th></th>\n",
       "      <th></th>\n",
       "      <th></th>\n",
       "    </tr>\n",
       "  </thead>\n",
       "  <tbody>\n",
       "    <tr>\n",
       "      <th>2001-11-05</th>\n",
       "      <td>72.2475</td>\n",
       "      <td>72.6691</td>\n",
       "      <td>71.6746</td>\n",
       "      <td>72.2631</td>\n",
       "      <td>8.673211e+06</td>\n",
       "    </tr>\n",
       "    <tr>\n",
       "      <th>2002-11-05</th>\n",
       "      <td>53.7128</td>\n",
       "      <td>53.8836</td>\n",
       "      <td>52.8725</td>\n",
       "      <td>53.6679</td>\n",
       "      <td>1.580026e+07</td>\n",
       "    </tr>\n",
       "    <tr>\n",
       "      <th>2003-11-05</th>\n",
       "      <td>58.1611</td>\n",
       "      <td>58.3972</td>\n",
       "      <td>57.8214</td>\n",
       "      <td>58.1445</td>\n",
       "      <td>9.581367e+06</td>\n",
       "    </tr>\n",
       "    <tr>\n",
       "      <th>2004-11-05</th>\n",
       "      <td>60.7112</td>\n",
       "      <td>61.4450</td>\n",
       "      <td>60.7112</td>\n",
       "      <td>61.2899</td>\n",
       "      <td>1.021009e+07</td>\n",
       "    </tr>\n",
       "    <tr>\n",
       "      <th>2007-11-05</th>\n",
       "      <td>75.6291</td>\n",
       "      <td>75.6291</td>\n",
       "      <td>74.1427</td>\n",
       "      <td>74.5087</td>\n",
       "      <td>1.088874e+07</td>\n",
       "    </tr>\n",
       "    <tr>\n",
       "      <th>2008-11-05</th>\n",
       "      <td>61.0566</td>\n",
       "      <td>61.3659</td>\n",
       "      <td>58.9359</td>\n",
       "      <td>59.0930</td>\n",
       "      <td>1.325001e+07</td>\n",
       "    </tr>\n",
       "    <tr>\n",
       "      <th>2009-11-05</th>\n",
       "      <td>80.2383</td>\n",
       "      <td>81.1459</td>\n",
       "      <td>80.1437</td>\n",
       "      <td>80.8795</td>\n",
       "      <td>1.017921e+07</td>\n",
       "    </tr>\n",
       "    <tr>\n",
       "      <th>2010-11-05</th>\n",
       "      <td>95.9136</td>\n",
       "      <td>96.5480</td>\n",
       "      <td>95.7125</td>\n",
       "      <td>96.5382</td>\n",
       "      <td>7.603387e+06</td>\n",
       "    </tr>\n",
       "    <tr>\n",
       "      <th>2012-11-05</th>\n",
       "      <td>129.5930</td>\n",
       "      <td>131.3590</td>\n",
       "      <td>129.3690</td>\n",
       "      <td>130.8120</td>\n",
       "      <td>4.061326e+06</td>\n",
       "    </tr>\n",
       "    <tr>\n",
       "      <th>2013-11-05</th>\n",
       "      <td>123.1620</td>\n",
       "      <td>123.3760</td>\n",
       "      <td>121.9410</td>\n",
       "      <td>122.0590</td>\n",
       "      <td>8.894517e+06</td>\n",
       "    </tr>\n",
       "    <tr>\n",
       "      <th>2014-11-05</th>\n",
       "      <td>114.5050</td>\n",
       "      <td>114.7590</td>\n",
       "      <td>113.3730</td>\n",
       "      <td>113.5580</td>\n",
       "      <td>5.847836e+06</td>\n",
       "    </tr>\n",
       "    <tr>\n",
       "      <th>2015-11-05</th>\n",
       "      <td>102.3550</td>\n",
       "      <td>102.9310</td>\n",
       "      <td>100.9590</td>\n",
       "      <td>101.1060</td>\n",
       "      <td>7.050473e+06</td>\n",
       "    </tr>\n",
       "    <tr>\n",
       "      <th>2018-11-05</th>\n",
       "      <td>94.3023</td>\n",
       "      <td>98.0704</td>\n",
       "      <td>94.2087</td>\n",
       "      <td>97.4848</td>\n",
       "      <td>1.126020e+07</td>\n",
       "    </tr>\n",
       "    <tr>\n",
       "      <th>2019-11-05</th>\n",
       "      <td>117.3750</td>\n",
       "      <td>118.1840</td>\n",
       "      <td>117.2370</td>\n",
       "      <td>117.4530</td>\n",
       "      <td>3.539326e+06</td>\n",
       "    </tr>\n",
       "    <tr>\n",
       "      <th>2020-11-05</th>\n",
       "      <td>101.3000</td>\n",
       "      <td>103.0870</td>\n",
       "      <td>101.0370</td>\n",
       "      <td>102.6180</td>\n",
       "      <td>5.482571e+06</td>\n",
       "    </tr>\n",
       "    <tr>\n",
       "      <th>2021-11-05</th>\n",
       "      <td>114.1630</td>\n",
       "      <td>116.3690</td>\n",
       "      <td>114.1630</td>\n",
       "      <td>116.2220</td>\n",
       "      <td>7.222356e+06</td>\n",
       "    </tr>\n",
       "  </tbody>\n",
       "</table>\n",
       "</div>"
      ],
      "text/plain": [
       "                Open      High       Low     Close        Volume\n",
       "Date                                                            \n",
       "2001-11-05   72.2475   72.6691   71.6746   72.2631  8.673211e+06\n",
       "2002-11-05   53.7128   53.8836   52.8725   53.6679  1.580026e+07\n",
       "2003-11-05   58.1611   58.3972   57.8214   58.1445  9.581367e+06\n",
       "2004-11-05   60.7112   61.4450   60.7112   61.2899  1.021009e+07\n",
       "2007-11-05   75.6291   75.6291   74.1427   74.5087  1.088874e+07\n",
       "2008-11-05   61.0566   61.3659   58.9359   59.0930  1.325001e+07\n",
       "2009-11-05   80.2383   81.1459   80.1437   80.8795  1.017921e+07\n",
       "2010-11-05   95.9136   96.5480   95.7125   96.5382  7.603387e+06\n",
       "2012-11-05  129.5930  131.3590  129.3690  130.8120  4.061326e+06\n",
       "2013-11-05  123.1620  123.3760  121.9410  122.0590  8.894517e+06\n",
       "2014-11-05  114.5050  114.7590  113.3730  113.5580  5.847836e+06\n",
       "2015-11-05  102.3550  102.9310  100.9590  101.1060  7.050473e+06\n",
       "2018-11-05   94.3023   98.0704   94.2087   97.4848  1.126020e+07\n",
       "2019-11-05  117.3750  118.1840  117.2370  117.4530  3.539326e+06\n",
       "2020-11-05  101.3000  103.0870  101.0370  102.6180  5.482571e+06\n",
       "2021-11-05  114.1630  116.3690  114.1630  116.2220  7.222356e+06"
      ]
     },
     "execution_count": 122,
     "metadata": {},
     "output_type": "execute_result"
    }
   ],
   "source": [
    "# Find the IBM Stock Price at every one of my birthdays (November 5, 2001)\n",
    "\n",
    "stocks.loc[ (stocks.index.day == 5) & (stocks.index.month == 11) & (stocks.index.year >= 2001)]"
   ]
  },
  {
   "cell_type": "code",
   "execution_count": 128,
   "metadata": {},
   "outputs": [
    {
     "data": {
      "text/html": [
       "<div>\n",
       "<style scoped>\n",
       "    .dataframe tbody tr th:only-of-type {\n",
       "        vertical-align: middle;\n",
       "    }\n",
       "\n",
       "    .dataframe tbody tr th {\n",
       "        vertical-align: top;\n",
       "    }\n",
       "\n",
       "    .dataframe thead th {\n",
       "        text-align: right;\n",
       "    }\n",
       "</style>\n",
       "<table border=\"1\" class=\"dataframe\">\n",
       "  <thead>\n",
       "    <tr style=\"text-align: right;\">\n",
       "      <th></th>\n",
       "      <th>Open</th>\n",
       "      <th>High</th>\n",
       "      <th>Low</th>\n",
       "      <th>Close</th>\n",
       "      <th>Volume</th>\n",
       "    </tr>\n",
       "    <tr>\n",
       "      <th>Date</th>\n",
       "      <th></th>\n",
       "      <th></th>\n",
       "      <th></th>\n",
       "      <th></th>\n",
       "      <th></th>\n",
       "    </tr>\n",
       "  </thead>\n",
       "  <tbody>\n",
       "    <tr>\n",
       "      <th>2001-11-05</th>\n",
       "      <td>72.2475</td>\n",
       "      <td>72.6691</td>\n",
       "      <td>71.6746</td>\n",
       "      <td>72.2631</td>\n",
       "      <td>8.673211e+06</td>\n",
       "    </tr>\n",
       "    <tr>\n",
       "      <th>2002-11-05</th>\n",
       "      <td>53.7128</td>\n",
       "      <td>53.8836</td>\n",
       "      <td>52.8725</td>\n",
       "      <td>53.6679</td>\n",
       "      <td>1.580026e+07</td>\n",
       "    </tr>\n",
       "    <tr>\n",
       "      <th>2003-11-05</th>\n",
       "      <td>58.1611</td>\n",
       "      <td>58.3972</td>\n",
       "      <td>57.8214</td>\n",
       "      <td>58.1445</td>\n",
       "      <td>9.581367e+06</td>\n",
       "    </tr>\n",
       "    <tr>\n",
       "      <th>2004-11-05</th>\n",
       "      <td>60.7112</td>\n",
       "      <td>61.4450</td>\n",
       "      <td>60.7112</td>\n",
       "      <td>61.2899</td>\n",
       "      <td>1.021009e+07</td>\n",
       "    </tr>\n",
       "    <tr>\n",
       "      <th>2007-11-05</th>\n",
       "      <td>75.6291</td>\n",
       "      <td>75.6291</td>\n",
       "      <td>74.1427</td>\n",
       "      <td>74.5087</td>\n",
       "      <td>1.088874e+07</td>\n",
       "    </tr>\n",
       "    <tr>\n",
       "      <th>2008-11-05</th>\n",
       "      <td>61.0566</td>\n",
       "      <td>61.3659</td>\n",
       "      <td>58.9359</td>\n",
       "      <td>59.0930</td>\n",
       "      <td>1.325001e+07</td>\n",
       "    </tr>\n",
       "    <tr>\n",
       "      <th>2009-11-05</th>\n",
       "      <td>80.2383</td>\n",
       "      <td>81.1459</td>\n",
       "      <td>80.1437</td>\n",
       "      <td>80.8795</td>\n",
       "      <td>1.017921e+07</td>\n",
       "    </tr>\n",
       "    <tr>\n",
       "      <th>2010-11-05</th>\n",
       "      <td>95.9136</td>\n",
       "      <td>96.5480</td>\n",
       "      <td>95.7125</td>\n",
       "      <td>96.5382</td>\n",
       "      <td>7.603387e+06</td>\n",
       "    </tr>\n",
       "    <tr>\n",
       "      <th>2012-11-05</th>\n",
       "      <td>129.5930</td>\n",
       "      <td>131.3590</td>\n",
       "      <td>129.3690</td>\n",
       "      <td>130.8120</td>\n",
       "      <td>4.061326e+06</td>\n",
       "    </tr>\n",
       "    <tr>\n",
       "      <th>2013-11-05</th>\n",
       "      <td>123.1620</td>\n",
       "      <td>123.3760</td>\n",
       "      <td>121.9410</td>\n",
       "      <td>122.0590</td>\n",
       "      <td>8.894517e+06</td>\n",
       "    </tr>\n",
       "    <tr>\n",
       "      <th>2014-11-05</th>\n",
       "      <td>114.5050</td>\n",
       "      <td>114.7590</td>\n",
       "      <td>113.3730</td>\n",
       "      <td>113.5580</td>\n",
       "      <td>5.847836e+06</td>\n",
       "    </tr>\n",
       "    <tr>\n",
       "      <th>2015-11-05</th>\n",
       "      <td>102.3550</td>\n",
       "      <td>102.9310</td>\n",
       "      <td>100.9590</td>\n",
       "      <td>101.1060</td>\n",
       "      <td>7.050473e+06</td>\n",
       "    </tr>\n",
       "    <tr>\n",
       "      <th>2018-11-05</th>\n",
       "      <td>94.3023</td>\n",
       "      <td>98.0704</td>\n",
       "      <td>94.2087</td>\n",
       "      <td>97.4848</td>\n",
       "      <td>1.126020e+07</td>\n",
       "    </tr>\n",
       "    <tr>\n",
       "      <th>2019-11-05</th>\n",
       "      <td>117.3750</td>\n",
       "      <td>118.1840</td>\n",
       "      <td>117.2370</td>\n",
       "      <td>117.4530</td>\n",
       "      <td>3.539326e+06</td>\n",
       "    </tr>\n",
       "    <tr>\n",
       "      <th>2020-11-05</th>\n",
       "      <td>101.3000</td>\n",
       "      <td>103.0870</td>\n",
       "      <td>101.0370</td>\n",
       "      <td>102.6180</td>\n",
       "      <td>5.482571e+06</td>\n",
       "    </tr>\n",
       "    <tr>\n",
       "      <th>2021-11-05</th>\n",
       "      <td>114.1630</td>\n",
       "      <td>116.3690</td>\n",
       "      <td>114.1630</td>\n",
       "      <td>116.2220</td>\n",
       "      <td>7.222356e+06</td>\n",
       "    </tr>\n",
       "  </tbody>\n",
       "</table>\n",
       "</div>"
      ],
      "text/plain": [
       "                Open      High       Low     Close        Volume\n",
       "Date                                                            \n",
       "2001-11-05   72.2475   72.6691   71.6746   72.2631  8.673211e+06\n",
       "2002-11-05   53.7128   53.8836   52.8725   53.6679  1.580026e+07\n",
       "2003-11-05   58.1611   58.3972   57.8214   58.1445  9.581367e+06\n",
       "2004-11-05   60.7112   61.4450   60.7112   61.2899  1.021009e+07\n",
       "2007-11-05   75.6291   75.6291   74.1427   74.5087  1.088874e+07\n",
       "2008-11-05   61.0566   61.3659   58.9359   59.0930  1.325001e+07\n",
       "2009-11-05   80.2383   81.1459   80.1437   80.8795  1.017921e+07\n",
       "2010-11-05   95.9136   96.5480   95.7125   96.5382  7.603387e+06\n",
       "2012-11-05  129.5930  131.3590  129.3690  130.8120  4.061326e+06\n",
       "2013-11-05  123.1620  123.3760  121.9410  122.0590  8.894517e+06\n",
       "2014-11-05  114.5050  114.7590  113.3730  113.5580  5.847836e+06\n",
       "2015-11-05  102.3550  102.9310  100.9590  101.1060  7.050473e+06\n",
       "2018-11-05   94.3023   98.0704   94.2087   97.4848  1.126020e+07\n",
       "2019-11-05  117.3750  118.1840  117.2370  117.4530  3.539326e+06\n",
       "2020-11-05  101.3000  103.0870  101.0370  102.6180  5.482571e+06\n",
       "2021-11-05  114.1630  116.3690  114.1630  116.2220  7.222356e+06"
      ]
     },
     "execution_count": 128,
     "metadata": {},
     "output_type": "execute_result"
    }
   ],
   "source": [
    "# antoher way to solve it\n",
    "birthdays_datetimeindexes= pd.Series(pd.date_range(start= '2001-11-05', end= '2025-01-01', freq= pd.DateOffset(years=1)))\n",
    "stocks.loc[stocks.index.isin(birthdays_datetimeindexes)]"
   ]
  },
  {
   "cell_type": "markdown",
   "metadata": {},
   "source": [
    "## Specialized Date Offsets\n",
    "- Pandas nests more specialized date offsets in `pd.tseries.offsets`.\n",
    "- We can add a different amount of time to each date (for example, month end, quarter end, year begin)"
   ]
  },
  {
   "cell_type": "code",
   "execution_count": 1,
   "metadata": {},
   "outputs": [],
   "source": [
    "import pandas as pd"
   ]
  },
  {
   "cell_type": "code",
   "execution_count": 2,
   "metadata": {},
   "outputs": [
    {
     "data": {
      "text/html": [
       "<div>\n",
       "<style scoped>\n",
       "    .dataframe tbody tr th:only-of-type {\n",
       "        vertical-align: middle;\n",
       "    }\n",
       "\n",
       "    .dataframe tbody tr th {\n",
       "        vertical-align: top;\n",
       "    }\n",
       "\n",
       "    .dataframe thead th {\n",
       "        text-align: right;\n",
       "    }\n",
       "</style>\n",
       "<table border=\"1\" class=\"dataframe\">\n",
       "  <thead>\n",
       "    <tr style=\"text-align: right;\">\n",
       "      <th></th>\n",
       "      <th>Open</th>\n",
       "      <th>High</th>\n",
       "      <th>Low</th>\n",
       "      <th>Close</th>\n",
       "      <th>Volume</th>\n",
       "    </tr>\n",
       "    <tr>\n",
       "      <th>Date</th>\n",
       "      <th></th>\n",
       "      <th></th>\n",
       "      <th></th>\n",
       "      <th></th>\n",
       "      <th></th>\n",
       "    </tr>\n",
       "  </thead>\n",
       "  <tbody>\n",
       "    <tr>\n",
       "      <th>1962-01-02</th>\n",
       "      <td>5.04610</td>\n",
       "      <td>5.04610</td>\n",
       "      <td>4.98716</td>\n",
       "      <td>4.98716</td>\n",
       "      <td>593562.955237</td>\n",
       "    </tr>\n",
       "    <tr>\n",
       "      <th>1962-01-03</th>\n",
       "      <td>4.98716</td>\n",
       "      <td>5.03292</td>\n",
       "      <td>4.98716</td>\n",
       "      <td>5.03292</td>\n",
       "      <td>445175.034277</td>\n",
       "    </tr>\n",
       "    <tr>\n",
       "      <th>1962-01-04</th>\n",
       "      <td>5.03292</td>\n",
       "      <td>5.03292</td>\n",
       "      <td>4.98052</td>\n",
       "      <td>4.98052</td>\n",
       "      <td>399513.586679</td>\n",
       "    </tr>\n",
       "    <tr>\n",
       "      <th>1962-01-05</th>\n",
       "      <td>4.97389</td>\n",
       "      <td>4.97389</td>\n",
       "      <td>4.87511</td>\n",
       "      <td>4.88166</td>\n",
       "      <td>559321.480565</td>\n",
       "    </tr>\n",
       "    <tr>\n",
       "      <th>1962-01-08</th>\n",
       "      <td>4.88166</td>\n",
       "      <td>4.88166</td>\n",
       "      <td>4.75059</td>\n",
       "      <td>4.78972</td>\n",
       "      <td>833273.771393</td>\n",
       "    </tr>\n",
       "  </tbody>\n",
       "</table>\n",
       "</div>"
      ],
      "text/plain": [
       "               Open     High      Low    Close         Volume\n",
       "Date                                                         \n",
       "1962-01-02  5.04610  5.04610  4.98716  4.98716  593562.955237\n",
       "1962-01-03  4.98716  5.03292  4.98716  5.03292  445175.034277\n",
       "1962-01-04  5.03292  5.03292  4.98052  4.98052  399513.586679\n",
       "1962-01-05  4.97389  4.97389  4.87511  4.88166  559321.480565\n",
       "1962-01-08  4.88166  4.88166  4.75059  4.78972  833273.771393"
      ]
     },
     "execution_count": 2,
     "metadata": {},
     "output_type": "execute_result"
    }
   ],
   "source": [
    "stocks= pd.read_csv('ibm.csv', parse_dates=['Date'], index_col='Date').sort_index()\n",
    "stocks.head()"
   ]
  },
  {
   "cell_type": "code",
   "execution_count": 13,
   "metadata": {},
   "outputs": [
    {
     "data": {
      "text/plain": [
       "DatetimeIndex(['1961-12-31', '1961-12-31', '1961-12-31', '1961-12-31',\n",
       "               '1961-12-31', '1961-12-31', '1961-12-31', '1961-12-31',\n",
       "               '1961-12-31', '1961-12-31',\n",
       "               ...\n",
       "               '2022-12-31', '2022-12-31', '2022-12-31', '2022-12-31',\n",
       "               '2022-12-31', '2022-12-31', '2022-12-31', '2022-12-31',\n",
       "               '2022-12-31', '2022-12-31'],\n",
       "              dtype='datetime64[ns]', name='Date', length=15546, freq=None)"
      ]
     },
     "execution_count": 13,
     "metadata": {},
     "output_type": "execute_result"
    }
   ],
   "source": [
    "stocks.index + pd.tseries.offsets.MonthEnd() # adding days until get the end of each specific month\n",
    "stocks.index - pd.tseries.offsets.MonthEnd() # subtracting days until get the end of the very previous month\n",
    "\n",
    "stocks.index - pd.tseries.offsets.QuarterEnd() # will round the dates until the end of the nearest previous quarter respective to that date\n",
    "stocks.index + pd.tseries.offsets.QuarterEnd() # will round the dates until the end of the nearest next quarter respective to that date\n",
    "\n",
    "stocks.index + pd.tseries.offsets.QuarterBegin(startingMonth= 1) # will round the dates until the nearest next quarter begining of the year (we specify starting month 1 to get april as a quarter begin, not march)\n",
    "stocks.index - pd.tseries.offsets.QuarterBegin(startingMonth= 1) # will round the dates until the nearest previous quarter begining of the year corresponding to each date\n",
    "\n",
    "stocks.index + pd.tseries.offsets.YearEnd() # will round the dates until the end of the corresponding year\n",
    "stocks.index - pd.tseries.offsets.YearEnd() # will round the dates until the end of the previous corresponding year"
   ]
  },
  {
   "cell_type": "code",
   "execution_count": null,
   "metadata": {},
   "outputs": [],
   "source": []
  },
  {
   "cell_type": "code",
   "execution_count": null,
   "metadata": {},
   "outputs": [],
   "source": []
  },
  {
   "cell_type": "markdown",
   "metadata": {},
   "source": [
    "## Timedeltas\n",
    "- A **Timedelta** is a pandas object that represents a duration (an amount of time).\n",
    "- Subtracting two **Timestamp** objects will yield a **Timedelta** object (this applies to subtracting a **Series** from another **Series**).\n",
    "- The **Timedelta** constructor accepts parameters for time as well as string descriptions."
   ]
  },
  {
   "cell_type": "code",
   "execution_count": 22,
   "metadata": {},
   "outputs": [
    {
     "data": {
      "text/plain": [
       "Timedelta('3 days 05:49:20.520000')"
      ]
     },
     "execution_count": 22,
     "metadata": {},
     "output_type": "execute_result"
    }
   ],
   "source": [
    "pd.Timestamp('2025-01-29') - pd.Timestamp('2024-01-31')\n",
    "pd.Timestamp(2025,12,31, 12, 43, 23) - pd.Timestamp(2032,3,4)\n",
    "\n",
    "pd.Timedelta(days= 3, hours= 31, minutes= 12, seconds= 43, milliseconds= 31, microseconds= 12)\n",
    "pd.Timedelta('3 days 5 hours 49.342 minutes')"
   ]
  },
  {
   "cell_type": "code",
   "execution_count": 44,
   "metadata": {},
   "outputs": [
    {
     "data": {
      "text/html": [
       "<div>\n",
       "<style scoped>\n",
       "    .dataframe tbody tr th:only-of-type {\n",
       "        vertical-align: middle;\n",
       "    }\n",
       "\n",
       "    .dataframe tbody tr th {\n",
       "        vertical-align: top;\n",
       "    }\n",
       "\n",
       "    .dataframe thead th {\n",
       "        text-align: right;\n",
       "    }\n",
       "</style>\n",
       "<table border=\"1\" class=\"dataframe\">\n",
       "  <thead>\n",
       "    <tr style=\"text-align: right;\">\n",
       "      <th></th>\n",
       "      <th>order_date</th>\n",
       "      <th>delivery_date</th>\n",
       "    </tr>\n",
       "    <tr>\n",
       "      <th>ID</th>\n",
       "      <th></th>\n",
       "      <th></th>\n",
       "    </tr>\n",
       "  </thead>\n",
       "  <tbody>\n",
       "    <tr>\n",
       "      <th>1</th>\n",
       "      <td>1998-05-24</td>\n",
       "      <td>1999-02-05</td>\n",
       "    </tr>\n",
       "    <tr>\n",
       "      <th>2</th>\n",
       "      <td>1992-04-22</td>\n",
       "      <td>1998-03-06</td>\n",
       "    </tr>\n",
       "    <tr>\n",
       "      <th>4</th>\n",
       "      <td>1991-02-10</td>\n",
       "      <td>1992-08-26</td>\n",
       "    </tr>\n",
       "    <tr>\n",
       "      <th>5</th>\n",
       "      <td>1992-07-21</td>\n",
       "      <td>1997-11-20</td>\n",
       "    </tr>\n",
       "    <tr>\n",
       "      <th>7</th>\n",
       "      <td>1993-09-02</td>\n",
       "      <td>1998-06-10</td>\n",
       "    </tr>\n",
       "  </tbody>\n",
       "</table>\n",
       "</div>"
      ],
      "text/plain": [
       "   order_date delivery_date\n",
       "ID                         \n",
       "1  1998-05-24    1999-02-05\n",
       "2  1992-04-22    1998-03-06\n",
       "4  1991-02-10    1992-08-26\n",
       "5  1992-07-21    1997-11-20\n",
       "7  1993-09-02    1998-06-10"
      ]
     },
     "execution_count": 44,
     "metadata": {},
     "output_type": "execute_result"
    }
   ],
   "source": [
    "ecommerce= pd.read_csv('ecommerce.csv', parse_dates=['order_date', 'delivery_date'], date_format= '%m/%d/%y', index_col= 'ID').sort_index()\n",
    "ecommerce.head()"
   ]
  },
  {
   "cell_type": "code",
   "execution_count": 40,
   "metadata": {},
   "outputs": [
    {
     "data": {
      "text/plain": [
       "ID                        int64\n",
       "order_date       datetime64[ns]\n",
       "delivery_date    datetime64[ns]\n",
       "dtype: object"
      ]
     },
     "execution_count": 40,
     "metadata": {},
     "output_type": "execute_result"
    }
   ],
   "source": [
    "ecommerce.dtypes"
   ]
  },
  {
   "cell_type": "code",
   "execution_count": 53,
   "metadata": {},
   "outputs": [
    {
     "data": {
      "text/html": [
       "<div>\n",
       "<style scoped>\n",
       "    .dataframe tbody tr th:only-of-type {\n",
       "        vertical-align: middle;\n",
       "    }\n",
       "\n",
       "    .dataframe tbody tr th {\n",
       "        vertical-align: top;\n",
       "    }\n",
       "\n",
       "    .dataframe thead th {\n",
       "        text-align: right;\n",
       "    }\n",
       "</style>\n",
       "<table border=\"1\" class=\"dataframe\">\n",
       "  <thead>\n",
       "    <tr style=\"text-align: right;\">\n",
       "      <th></th>\n",
       "      <th>order_date</th>\n",
       "      <th>delivery_date</th>\n",
       "      <th>delivery_time</th>\n",
       "    </tr>\n",
       "    <tr>\n",
       "      <th>ID</th>\n",
       "      <th></th>\n",
       "      <th></th>\n",
       "      <th></th>\n",
       "    </tr>\n",
       "  </thead>\n",
       "  <tbody>\n",
       "    <tr>\n",
       "      <th>1</th>\n",
       "      <td>1998-05-24</td>\n",
       "      <td>1999-02-05</td>\n",
       "      <td>257 days</td>\n",
       "    </tr>\n",
       "    <tr>\n",
       "      <th>2</th>\n",
       "      <td>1992-04-22</td>\n",
       "      <td>1998-03-06</td>\n",
       "      <td>2144 days</td>\n",
       "    </tr>\n",
       "    <tr>\n",
       "      <th>4</th>\n",
       "      <td>1991-02-10</td>\n",
       "      <td>1992-08-26</td>\n",
       "      <td>563 days</td>\n",
       "    </tr>\n",
       "    <tr>\n",
       "      <th>5</th>\n",
       "      <td>1992-07-21</td>\n",
       "      <td>1997-11-20</td>\n",
       "      <td>1948 days</td>\n",
       "    </tr>\n",
       "    <tr>\n",
       "      <th>7</th>\n",
       "      <td>1993-09-02</td>\n",
       "      <td>1998-06-10</td>\n",
       "      <td>1742 days</td>\n",
       "    </tr>\n",
       "  </tbody>\n",
       "</table>\n",
       "</div>"
      ],
      "text/plain": [
       "   order_date delivery_date delivery_time\n",
       "ID                                       \n",
       "1  1998-05-24    1999-02-05      257 days\n",
       "2  1992-04-22    1998-03-06     2144 days\n",
       "4  1991-02-10    1992-08-26      563 days\n",
       "5  1992-07-21    1997-11-20     1948 days\n",
       "7  1993-09-02    1998-06-10     1742 days"
      ]
     },
     "execution_count": 53,
     "metadata": {},
     "output_type": "execute_result"
    }
   ],
   "source": [
    "ecommerce['delivery_time'] = (ecommerce['delivery_date'] - ecommerce['order_date'])#.apply(lambda value: value/pd.Timedelta(days=365)) # to see, for example, result in years\n",
    "ecommerce.head()"
   ]
  },
  {
   "cell_type": "code",
   "execution_count": 54,
   "metadata": {},
   "outputs": [
    {
     "data": {
      "text/plain": [
       "ID\n",
       "1     1999-02-05\n",
       "2     1998-03-06\n",
       "4     1992-08-26\n",
       "5     1997-11-20\n",
       "7     1998-06-10\n",
       "         ...    \n",
       "990   1996-02-02\n",
       "991   1998-03-30\n",
       "993   1998-04-27\n",
       "994   1993-06-13\n",
       "997   1991-10-03\n",
       "Length: 501, dtype: datetime64[ns]"
      ]
     },
     "execution_count": 54,
     "metadata": {},
     "output_type": "execute_result"
    }
   ],
   "source": [
    "ecommerce['order_date'] + ecommerce['delivery_time']"
   ]
  },
  {
   "cell_type": "code",
   "execution_count": 57,
   "metadata": {},
   "outputs": [
    {
     "data": {
      "text/plain": [
       "Timedelta('1217 days 22:53:53.532934128')"
      ]
     },
     "execution_count": 57,
     "metadata": {},
     "output_type": "execute_result"
    }
   ],
   "source": [
    "ecommerce['delivery_time'].max()\n",
    "ecommerce['delivery_time'].min()\n",
    "ecommerce['delivery_time'].mean()"
   ]
  },
  {
   "cell_type": "code",
   "execution_count": null,
   "metadata": {},
   "outputs": [],
   "source": []
  },
  {
   "cell_type": "code",
   "execution_count": null,
   "metadata": {},
   "outputs": [],
   "source": []
  }
 ],
 "metadata": {
  "anaconda-cloud": {},
  "kernelspec": {
   "display_name": "Python 3",
   "language": "python",
   "name": "python3"
  },
  "language_info": {
   "codemirror_mode": {
    "name": "ipython",
    "version": 3
   },
   "file_extension": ".py",
   "mimetype": "text/x-python",
   "name": "python",
   "nbconvert_exporter": "python",
   "pygments_lexer": "ipython3",
   "version": "3.12.5"
  }
 },
 "nbformat": 4,
 "nbformat_minor": 4
}
