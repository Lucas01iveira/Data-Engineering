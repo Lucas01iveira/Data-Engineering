{
 "cells": [
  {
   "cell_type": "markdown",
   "metadata": {},
   "source": [
    "## Entendendo a herança de classes"
   ]
  },
  {
   "cell_type": "markdown",
   "metadata": {},
   "source": [
    "- É muito comum, quando estamos lidando com classes de características e atributos semelhantes, precisarmos aplicar diversos ctrl+c / ctrl+v para replicar as definições e configurações de uma delas na outra. Normalmente, durante esse processo de copy-paste, somente algumas passagens de código são alteradas, como no exemplo das classes a seguir (Filme e Serie)"
   ]
  },
  {
   "cell_type": "code",
   "execution_count": 34,
   "metadata": {},
   "outputs": [],
   "source": [
    "class Filme:\n",
    "\n",
    "    # (atributo likes definido como opcional)\n",
    "    def __init__(self, titulo, ano, duracao, likes= 0):\n",
    "        self.__titulo = titulo.title() # str\n",
    "        self.__ano = ano # int\n",
    "        self.__duracao = duracao # minutos (int) \n",
    "        self.__likes = likes #int\n",
    "\n",
    "    # defino métodos getters para acessar os atributos dos objetos\n",
    "    @property\n",
    "    def titulo(self):\n",
    "        return self.__titulo\n",
    "    \n",
    "    @property\n",
    "    def ano(self):\n",
    "        return self.__ano\n",
    "\n",
    "    @property\n",
    "    def duracao(self):\n",
    "        return self.__duracao\n",
    "    \n",
    "    @property\n",
    "    def likes(self):\n",
    "        return self.__likes\n",
    "    \n",
    "    # método setter para ajustar a quantidade de likes\n",
    "    def set_likes(self, qtd):\n",
    "        self.__likes = qtd\n",
    "    \n",
    "class Serie:\n",
    "\n",
    "    #(atributo 'likes' definido como opcional)\n",
    "    def __init__(self, titulo, ano, temporadas, likes= 0):\n",
    "        self.__titulo = titulo # str\n",
    "        self.__ano = ano # int\n",
    "        self.__temporadas = temporadas # int \n",
    "        self.__likes = likes #int\n",
    "\n",
    "    # defino métodos getters para acessar os atributos dos objetos\n",
    "    @property\n",
    "    def titulo(self):\n",
    "        return self.__titulo.title()\n",
    "    \n",
    "    @property\n",
    "    def ano(self):\n",
    "        return self.__ano\n",
    "\n",
    "    @property\n",
    "    def temporadas(self):\n",
    "        return self.__temporadas\n",
    "\n",
    "    @property\n",
    "    def likes(self):\n",
    "        return self.__likes\n",
    "    \n",
    "    # método setter para ajustar a quantidade de likes\n",
    "    @likes.setter\n",
    "    def likes(self, qtd):\n",
    "        self.__likes = qtd"
   ]
  },
  {
   "cell_type": "markdown",
   "metadata": {},
   "source": [
    "- Para corrigir esse problema, podemos definir uma classe mais geral, com os atributos titulo, ano e likes, que são justamente os atributos em comum observados na célula acima, e cujos métodos serão todos passados adiante para as classes de filmes e séries.\n",
    "\n",
    "- Quando um sistema de herança está sendo desenvolvido, devemos descartar parcialmente o conceito de privação de atributos, pois esses tipos de variáveis não são transmitidos para as classes filhas sem confusão. Mesmo que haja transmissão de definições, atributos privados ainda serão transmitidos com a nomenclatura protetora do tipo _ClasseMae__NomeAtributo, de modo que os acessos correspondentes nas subclasses derivadas sejam dificultados ou gerem confusão. Para lidar com essas situações, adota-se a convenção de nomear as variáveis com apenas 1 underline '_'. Desse modo a funcionalidade de **_name mangling_** do python é desativada, de modo que os atributos possam ser acessados nas subclasses sem grandes dificuldades, mas ainda assim preserva-se a ideia de que eles não podem ser acessados / alterados diretamente a não ser através dos métodos."
   ]
  },
  {
   "cell_type": "code",
   "execution_count": 35,
   "metadata": {},
   "outputs": [],
   "source": [
    "class Programa:\n",
    "    def __init__(self, titulo, ano, likes= 0):\n",
    "        self._titulo = titulo.title() # str\n",
    "        self._ano = ano # int \n",
    "        self._likes = likes #int\n",
    "\n",
    "    # defino métodos getters para acessar os atributos dos objetos\n",
    "    @property\n",
    "    def titulo(self):\n",
    "        return self._titulo\n",
    "    \n",
    "    @property\n",
    "    def ano(self):\n",
    "        return self._ano\n",
    "    \n",
    "    @property\n",
    "    def likes(self):\n",
    "        return self._likes\n",
    "    \n",
    "    # método setter para ajustar a quantidade de likes\n",
    "    @likes.setter\n",
    "    def likes(self, nova_qtd):\n",
    "        self._likes = nova_qtd\n",
    "    \n",
    "    # método setter para ajustar o nome do filme\n",
    "    @titulo.setter\n",
    "    def titulo(self, novo_titulo):\n",
    "        self._titulo = novo_titulo\n",
    "\n",
    "'''\n",
    "class Filme(Programa): # o argumento entre parânteses indica a \"classe mãe\" da qual estamos herdando todas as características\n",
    "    def __init__(self, titulo, ano, duracao, likes= 0):\n",
    "        self._titulo = titulo.title() # str\n",
    "        self._ano = ano # int \n",
    "        self._likes = likes # int\n",
    "        self._duracao = duracao # int (minutos)\n",
    "\n",
    "class Series(Programa):\n",
    "    def __init__(self, titulo, ano, temporadas, likes= 0):\n",
    "        self._titulo = titulo.title() # str\n",
    "        self._ano = ano # int \n",
    "        self._likes = likes # int\n",
    "        self._temporadas = temporadas # int\n",
    "'''\n",
    "\n",
    "# ao invés de redefinir todos os atributos conforme ilustrado acima, podemos utilzar a seguinte sintaxe para herdar alguns dos atributos\n",
    "# já previamente definidos para a classe mãe\n",
    "\n",
    "class Filme(Programa): # o argumento entre parânteses indica a \"classe mãe\", da qual estamos herdando todas as características\n",
    "    def __init__(self, titulo, ano, duracao, likes= 0):\n",
    "        super().__init__(titulo, ano, likes)\n",
    "        self._duracao = duracao # int (minutos)\n",
    "\n",
    "    @property\n",
    "    def duracao(self):\n",
    "        return self._duracao\n",
    "\n",
    "class Serie(Programa):\n",
    "    def __init__(self, titulo, ano, temporadas, likes= 0):\n",
    "        super().__init__(titulo, ano, likes)\n",
    "        self._temporadas = temporadas # int\n",
    "    \n",
    "    @property\n",
    "    def temporadas(self):\n",
    "        return self._temporadas"
   ]
  },
  {
   "cell_type": "markdown",
   "metadata": {},
   "source": [
    "- O método *super()* nos permite acessar todos os métodos e atributos da classe mãe. Sempre que estivermos montando o script de alguma subclasse e precisarmos incluir um novo método / conjunto de atributos que, apesar de possuir alguma especificidade **extra**, ainda possui similaridades com a classe mãe, podemos iniciar uma referência utilizando esse comando."
   ]
  },
  {
   "cell_type": "code",
   "execution_count": 36,
   "metadata": {},
   "outputs": [
    {
     "name": "stdout",
     "output_type": "stream",
     "text": [
      "Nome: Vingadores - Guerra Infinita - Likes: 10 - Duracao: 160\n",
      "Nome: Atlanta - Likes: 15 - Temporadas: 2\n"
     ]
    }
   ],
   "source": [
    "vingadores = Filme('vingadores - guerra infinita', 2018, 160)\n",
    "atlanta = Serie('atlanta', 2018, 2)\n",
    "\n",
    "vingadores.likes = 10\n",
    "atlanta.likes = 15\n",
    "\n",
    "print(f'Nome: {vingadores.titulo} - Likes: {vingadores.likes} - Duracao: {vingadores.duracao}')\n",
    "print(f'Nome: {atlanta.titulo} - Likes: {atlanta.likes} - Temporadas: {atlanta.temporadas}')"
   ]
  },
  {
   "cell_type": "code",
   "execution_count": 37,
   "metadata": {},
   "outputs": [
    {
     "name": "stdout",
     "output_type": "stream",
     "text": [
      "Nome: Vingadores - Guerra Infinita - Likes: 10 - Duracao: 160 min\n",
      "Nome: Atlanta - Likes: 15 - Temporadas: 2 temporadas\n"
     ]
    }
   ],
   "source": [
    "# exemplo prático de aplicação do polimorfismo na herança de classes\n",
    "\n",
    "filmes_e_series = [vingadores, atlanta]\n",
    "\n",
    "for programa in filmes_e_series:\n",
    "    detalhe = programa.temporadas if hasattr(programa, 'temporadas') else programa.duracao\n",
    "    string = 'Temporadas' if hasattr(programa, 'temporadas') else 'Duracao'\n",
    "\n",
    "    print(f'Nome: {programa.titulo} - Likes: {programa.likes} - {string}: {detalhe} {'min' if string == 'Duracao' else 'temporadas'}')"
   ]
  },
  {
   "cell_type": "markdown",
   "metadata": {},
   "source": [
    "- Podemos melhorar a sequência de códigos anteriores ao implementar mais coesão nas classes/subclasses definidas. Dizemos que uma classe *é coesa* quando ela faz exatamente tudo o que precisa fazer. No caso desse exemplo em particular, é de nosso interesse que as classes saibam apresentar suas informações correspondentes, e isso não está acontecendo. Portanto, elas ainda não estão coesas.\n",
    "\n",
    "- Ao fazer isso, conferimos não só maior legibilidade ao código, como também mais eficiência e menos 'puxadinhos'"
   ]
  },
  {
   "cell_type": "code",
   "execution_count": 38,
   "metadata": {},
   "outputs": [],
   "source": [
    "class Programa:\n",
    "    def __init__(self, titulo, ano, likes= 0):\n",
    "        self._titulo = titulo.title() # str\n",
    "        self._ano = ano # int \n",
    "        self._likes = likes #int\n",
    "\n",
    "    # método de apresentação dos atributos principais de cada instância\n",
    "    def imprime(self):\n",
    "        return print(f'Nome: {self._titulo} - Likes: {self._likes} - Ano: {self._ano}')\n",
    "    \n",
    "    # defino métodos getters para acessar os atributos dos objetos\n",
    "    @property\n",
    "    def titulo(self):\n",
    "        return self._titulo\n",
    "    \n",
    "    @property\n",
    "    def ano(self):\n",
    "        return self._ano\n",
    "    \n",
    "    @property\n",
    "    def likes(self):\n",
    "        return self._likes\n",
    "    \n",
    "    # método setter para ajustar a quantidade de likes\n",
    "    @likes.setter\n",
    "    def likes(self, nova_qtd):\n",
    "        self._likes = nova_qtd\n",
    "    \n",
    "    # método setter para ajustar o nome do filme\n",
    "    @titulo.setter\n",
    "    def titulo(self, novo_titulo):\n",
    "        self._titulo = novo_titulo\n",
    "\n",
    "    \n",
    "\n",
    "# ao invés de redefinir todos os atributos conforme ilustrado acima, podemos utilzar a seguinte sintaxe para herdar alguns dos atributos\n",
    "# já previamente definidos para a classe mãe\n",
    "\n",
    "class Filme(Programa): # o argumento entre parânteses indica a \"classe mãe\", da qual estamos herdando todas as características\n",
    "    def __init__(self, titulo, ano, duracao, likes= 0):\n",
    "        super().__init__(titulo, ano, likes)\n",
    "        self._duracao = duracao # int (minutos)\n",
    "\n",
    "    # método de apresentação dos atributos principais de cada instância\n",
    "    def imprime(self):\n",
    "        return print(f'Nome: {self._titulo} - Likes: {self._likes} - Ano: {self._ano} - Temporadas: {self._duracao} min')\n",
    "    \n",
    "    @property\n",
    "    def duracao(self):\n",
    "        return self._duracao\n",
    "    \n",
    "\n",
    "class Serie(Programa):\n",
    "    def __init__(self, titulo, ano, temporadas, likes= 0):\n",
    "        super().__init__(titulo, ano, likes)\n",
    "        self._temporadas = temporadas # int\n",
    "    \n",
    "    # método de apresentação dos atributos principais de cada instância\n",
    "    def imprime(self):\n",
    "        return print(f'Nome: {self._titulo} - Likes: {self._likes} - Ano: {self._ano} - Temporadas: {self._temporadas} temporadas')\n",
    "    \n",
    "    @property\n",
    "    def temporadas(self):\n",
    "        return self._temporadas\n",
    "\n",
    "    "
   ]
  },
  {
   "cell_type": "code",
   "execution_count": 40,
   "metadata": {},
   "outputs": [
    {
     "name": "stdout",
     "output_type": "stream",
     "text": [
      "Nome: Vingadores - Guerra Infinita - Likes: 15 - Ano: 2018 - Temporadas: 160 min\n",
      "Nome: Atlanta - Likes: 10 - Ano: 2016 - Temporadas: 5 temporadas\n"
     ]
    }
   ],
   "source": [
    "vingadores = Filme('vingadores - guerra infinita', 2018, 160)\n",
    "atlanta = Serie('atlanta', 2016, 5)\n",
    "\n",
    "vingadores.likes = 15\n",
    "atlanta.likes = 10\n",
    "\n",
    "filmes_e_series = [vingadores, atlanta]\n",
    "\n",
    "for programa in filmes_e_series:\n",
    "    programa.imprime()"
   ]
  },
  {
   "cell_type": "markdown",
   "metadata": {},
   "source": [
    "- Apesar de já termos definido um método de apresentação de atributos para cada uma das classes com as quais estamos trabalhando e termos seu funcionamento validado corretamente com os testes do bloco de comando anterior (no qual foram verificadas também as características referentes à propriedade de *polimorfismo*), existe uma maneira mais \"pythônica\" de representar esse método.\n",
    "\n",
    "- Essa maneira é, na verdade, a definição de um ***dunder method*** do tipo string, que é o que nos permitirá interagir com a função built in *print*.\n",
    "(sempre que aplicamos uma função built in, por debaixo dos panos, é um dunder method que está sendo chamado)\n",
    "\n",
    "- O python é uma linguagem de programação orientada a objetos e, no fundo no fundo, todas as representações (variáveis, strings, inteiros, etc) são também objetos"
   ]
  },
  {
   "cell_type": "code",
   "execution_count": 52,
   "metadata": {},
   "outputs": [],
   "source": [
    "class Programa:\n",
    "    def __init__(self, titulo, ano, likes= 0):\n",
    "        self._titulo = titulo.title() # str\n",
    "        self._ano = ano # int \n",
    "        self._likes = likes #int\n",
    "\n",
    "    # método de apresentação dos atributos principais de cada instância\n",
    "    def __str__(self):\n",
    "        return f'Nome: {self._titulo} - Likes: {self._likes} - Ano: {self._ano}'\n",
    "    \n",
    "    # método de apresentação dos atributos principais de cada instância DA MANEIRA QUE FORAM DEFINIDOS (auxiliar processo de debug)\n",
    "    def __repr__(self):\n",
    "        return f\"Serie('{self._titulo}',{self._ano},{self._likes})\"\n",
    "    \n",
    "    # defino métodos getters para acessar os atributos dos objetos\n",
    "    @property\n",
    "    def titulo(self):\n",
    "        return self._titulo\n",
    "    \n",
    "    @property\n",
    "    def ano(self):\n",
    "        return self._ano\n",
    "    \n",
    "    @property\n",
    "    def likes(self):\n",
    "        return self._likes\n",
    "    \n",
    "    # método setter para ajustar a quantidade de likes\n",
    "    @likes.setter\n",
    "    def likes(self, nova_qtd):\n",
    "        self._likes = nova_qtd\n",
    "    \n",
    "    # método setter para ajustar o nome do filme\n",
    "    @titulo.setter\n",
    "    def titulo(self, novo_titulo):\n",
    "        self._titulo = novo_titulo\n",
    "\n",
    "    \n",
    "\n",
    "# ao invés de redefinir todos os atributos conforme ilustrado acima, podemos utilzar a seguinte sintaxe para herdar alguns dos atributos\n",
    "# já previamente definidos para a classe mãe\n",
    "\n",
    "class Filme(Programa): # o argumento entre parânteses indica a \"classe mãe\", da qual estamos herdando todas as características\n",
    "    def __init__(self, titulo, ano, duracao, likes= 0):\n",
    "        super().__init__(titulo, ano, likes)\n",
    "        self._duracao = duracao # int (minutos)\n",
    "\n",
    "    # método de apresentação dos atributos principais de cada instância\n",
    "    def __str__(self):\n",
    "        return f'Nome: {self._titulo} - Likes: {self._likes} - Ano: {self._ano} - Temporadas: {self._duracao} min'\n",
    "    \n",
    "    # método de apresentação dos atributos principais de cada instância DA MANEIRA QUE FORAM DEFINIDOS (auxiliar processo de debug)\n",
    "    def __repr__(self):\n",
    "        return f'Filme(\\'{self._titulo}\\',{self._ano},{self._duracao},{self._likes})'\n",
    "    \n",
    "    @property\n",
    "    def duracao(self):\n",
    "        return self._duracao\n",
    "    \n",
    "\n",
    "class Serie(Programa):\n",
    "    def __init__(self, titulo, ano, temporadas, likes= 0):\n",
    "        super().__init__(titulo, ano, likes)\n",
    "        self._temporadas = temporadas # int\n",
    "    \n",
    "    # método de apresentação dos atributos principais de cada instância\n",
    "    def __str__(self):\n",
    "        return f'Nome: {self._titulo} - Likes: {self._likes} - Ano: {self._ano} - Temporadas: {self._temporadas} temporadas'\n",
    "    \n",
    "    # método de apresentação dos atributos principais de cada instância DA MANEIRA QUE FORAM DEFINIDOS (auxiliar processo de debug)\n",
    "    def __repr__(self):\n",
    "        return f'Serie(\\'{self._titulo}\\',{self._ano},{self._temporadas},{self._likes})'\n",
    "    \n",
    "    @property\n",
    "    def temporadas(self):\n",
    "        return self._temporadas\n",
    "\n",
    "    "
   ]
  },
  {
   "cell_type": "code",
   "execution_count": 53,
   "metadata": {},
   "outputs": [
    {
     "data": {
      "text/plain": [
       "\"Serie('Atlanta',2051,3,0)\""
      ]
     },
     "execution_count": 53,
     "metadata": {},
     "output_type": "execute_result"
    }
   ],
   "source": [
    "teste = Serie('atlanta', 2051, 3)\n",
    "repr(teste)"
   ]
  },
  {
   "cell_type": "code",
   "execution_count": 42,
   "metadata": {},
   "outputs": [
    {
     "name": "stdout",
     "output_type": "stream",
     "text": [
      "Nome: Vingadores - Guerra Infinita - Likes: 15 - Ano: 2018 - Temporadas: 160 min\n",
      "Nome: Atlanta - Likes: 10 - Ano: 2016 - Temporadas: 5 temporadas\n"
     ]
    }
   ],
   "source": [
    "vingadores = Filme('vingadores - guerra infinita', 2018, 160)\n",
    "atlanta = Serie('atlanta', 2016, 5)\n",
    "\n",
    "vingadores.likes = 15\n",
    "atlanta.likes = 10\n",
    "\n",
    "filmes_e_series = [vingadores, atlanta]\n",
    "\n",
    "for programa in filmes_e_series:\n",
    "    print(programa)"
   ]
  }
 ],
 "metadata": {
  "kernelspec": {
   "display_name": "Python 3",
   "language": "python",
   "name": "python3"
  },
  "language_info": {
   "codemirror_mode": {
    "name": "ipython",
    "version": 3
   },
   "file_extension": ".py",
   "mimetype": "text/x-python",
   "name": "python",
   "nbconvert_exporter": "python",
   "pygments_lexer": "ipython3",
   "version": "3.12.0"
  }
 },
 "nbformat": 4,
 "nbformat_minor": 2
}
