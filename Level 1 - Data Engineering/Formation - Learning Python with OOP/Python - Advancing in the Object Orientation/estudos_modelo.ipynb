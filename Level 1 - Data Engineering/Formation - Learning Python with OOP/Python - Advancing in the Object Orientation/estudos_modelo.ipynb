{
 "cells": [
  {
   "cell_type": "markdown",
   "metadata": {},
   "source": [
    "## Entendendo a herança de classes"
   ]
  },
  {
   "cell_type": "markdown",
   "metadata": {},
   "source": [
    "- É muito comum, quando estamos lidando com classes de características e atributos semelhantes, precisarmos aplicar diversos ctrl+c / ctrl+v para replicar as definições e configurações de uma delas na outra. Normalmente, durante esse processo de copy-paste, somente algumas passagens de código são alteradas, como no exemplo das classes a seguir (Filme e Serie)"
   ]
  },
  {
   "cell_type": "code",
   "execution_count": 65,
   "metadata": {},
   "outputs": [],
   "source": [
    "class Filme:\n",
    "\n",
    "    # (atributo likes definido como opcional)\n",
    "    def __init__(self, titulo, ano, duracao, likes= 0):\n",
    "        self.__titulo = titulo.title() # str\n",
    "        self.__ano = ano # int\n",
    "        self.__duracao = duracao # minutos (int) \n",
    "        self.__likes = likes #int\n",
    "\n",
    "    # defino métodos getters para acessar os atributos dos objetos\n",
    "    @property\n",
    "    def titulo(self):\n",
    "        return self.__titulo\n",
    "    \n",
    "    @property\n",
    "    def ano(self):\n",
    "        return self.__ano\n",
    "\n",
    "    @property\n",
    "    def duracao(self):\n",
    "        return self.__duracao\n",
    "    \n",
    "    @property\n",
    "    def likes(self):\n",
    "        return self.__likes\n",
    "    \n",
    "    # método setter para ajustar a quantidade de likes\n",
    "    def set_likes(self, qtd):\n",
    "        self.__likes = qtd\n",
    "    \n",
    "class Serie:\n",
    "\n",
    "    #(atributo 'likes' definido como opcional)\n",
    "    def __init__(self, titulo, ano, temporadas, likes= 0):\n",
    "        self.__titulo = titulo # str\n",
    "        self.__ano = ano # int\n",
    "        self.__temporadas = temporadas # int \n",
    "        self.__likes = likes #int\n",
    "\n",
    "    # defino métodos getters para acessar os atributos dos objetos\n",
    "    @property\n",
    "    def titulo(self):\n",
    "        return self.__titulo.title()\n",
    "    \n",
    "    @property\n",
    "    def ano(self):\n",
    "        return self.__ano\n",
    "\n",
    "    @property\n",
    "    def temporadas(self):\n",
    "        return self.__temporadas\n",
    "\n",
    "    @property\n",
    "    def likes(self):\n",
    "        return self.__likes\n",
    "    \n",
    "    # método setter para ajustar a quantidade de likes\n",
    "    @likes.setter\n",
    "    def likes(self, qtd):\n",
    "        self.__likes = qtd"
   ]
  },
  {
   "cell_type": "markdown",
   "metadata": {},
   "source": [
    "- Para corrigir esse problema, podemos definir uma classe mais geral, com os atributos titulo, ano e likes, que são justamente os atributos em comum observados na célula acima, e cujos métodos serão todos passados adiante para as classes de filmes e séries.\n",
    "\n",
    "- Quando um sistema de herança está sendo desenvolvido, devemos descartar parcialmente o conceito de privação de atributos, pois esses tipos de variáveis não são transmitidos para as classes filhas sem confusão. Mesmo que haja transmissão de definições, atributos privados ainda serão transmitidos com a nomenclatura protetora do tipo _ClasseMae__NomeAtributo, de modo que os acessos correspondentes nas subclasses derivadas sejam dificultados ou gerem confusão. Para lidar com essas situações, adota-se a convenção de nomear as variáveis com apenas 1 underline '_'. Desse modo a funcionalidade de **_name mangling_** do python é desativada, de modo que os atributos possam ser acessados nas subclasses sem grandes dificuldades, mas ainda assim preserva-se a ideia de que eles não podem ser acessados / alterados diretamente a não ser através dos métodos."
   ]
  },
  {
   "cell_type": "code",
   "execution_count": 66,
   "metadata": {},
   "outputs": [],
   "source": [
    "class Programa:\n",
    "    def __init__(self, titulo, ano, likes= 0):\n",
    "        self._titulo = titulo.title() # str\n",
    "        self._ano = ano # int \n",
    "        self._likes = likes #int\n",
    "\n",
    "    # defino métodos getters para acessar os atributos dos objetos\n",
    "    @property\n",
    "    def titulo(self):\n",
    "        return self._titulo\n",
    "    \n",
    "    @property\n",
    "    def ano(self):\n",
    "        return self._ano\n",
    "    \n",
    "    @property\n",
    "    def likes(self):\n",
    "        return self._likes\n",
    "    \n",
    "    # método setter para ajustar a quantidade de likes\n",
    "    @likes.setter\n",
    "    def likes(self, nova_qtd):\n",
    "        self._likes = nova_qtd\n",
    "    \n",
    "    # método setter para ajustar o nome do filme\n",
    "    @titulo.setter\n",
    "    def titulo(self, novo_titulo):\n",
    "        self._titulo = novo_titulo\n",
    "\n",
    "'''\n",
    "class Filme(Programa): # o argumento entre parânteses indica a \"classe mãe\" da qual estamos herdando todas as características\n",
    "    def __init__(self, titulo, ano, duracao, likes= 0):\n",
    "        self._titulo = titulo.title() # str\n",
    "        self._ano = ano # int \n",
    "        self._likes = likes # int\n",
    "        self._duracao = duracao # int (minutos)\n",
    "\n",
    "class Series(Programa):\n",
    "    def __init__(self, titulo, ano, temporadas, likes= 0):\n",
    "        self._titulo = titulo.title() # str\n",
    "        self._ano = ano # int \n",
    "        self._likes = likes # int\n",
    "        self._temporadas = temporadas # int\n",
    "'''\n",
    "\n",
    "# ao invés de redefinir todos os atributos conforme ilustrado acima, podemos utilzar a seguinte sintaxe para herdar alguns dos atributos\n",
    "# já previamente definidos para a classe mãe\n",
    "\n",
    "class Filme(Programa): # o argumento entre parânteses indica a \"classe mãe\", da qual estamos herdando todas as características\n",
    "    def __init__(self, titulo, ano, duracao, likes= 0):\n",
    "        super().__init__(titulo, ano, likes)\n",
    "        self._duracao = duracao # int (minutos)\n",
    "\n",
    "    @property\n",
    "    def duracao(self):\n",
    "        return self._duracao\n",
    "\n",
    "class Serie(Programa):\n",
    "    def __init__(self, titulo, ano, temporadas, likes= 0):\n",
    "        super().__init__(titulo, ano, likes)\n",
    "        self._temporadas = temporadas # int\n",
    "    \n",
    "    @property\n",
    "    def temporadas(self):\n",
    "        return self._temporadas"
   ]
  },
  {
   "cell_type": "markdown",
   "metadata": {},
   "source": [
    "- O método *super()* nos permite acessar todos os métodos e atributos da classe mãe. Sempre que estivermos montando o script de alguma subclasse e precisarmos incluir um novo método / conjunto de atributos que, apesar de possuir alguma especificidade **extra**, ainda possui similaridades com a classe mãe, podemos iniciar uma referência utilizando esse comando."
   ]
  },
  {
   "cell_type": "code",
   "execution_count": 67,
   "metadata": {},
   "outputs": [
    {
     "name": "stdout",
     "output_type": "stream",
     "text": [
      "Nome: Vingadores - Guerra Infinita - Likes: 10 - Duracao: 160\n",
      "Nome: Atlanta - Likes: 15 - Temporadas: 2\n"
     ]
    }
   ],
   "source": [
    "vingadores = Filme('vingadores - guerra infinita', 2018, 160)\n",
    "atlanta = Serie('atlanta', 2018, 2)\n",
    "\n",
    "vingadores.likes = 10\n",
    "atlanta.likes = 15\n",
    "\n",
    "print(f'Nome: {vingadores.titulo} - Likes: {vingadores.likes} - Duracao: {vingadores.duracao}')\n",
    "print(f'Nome: {atlanta.titulo} - Likes: {atlanta.likes} - Temporadas: {atlanta.temporadas}')"
   ]
  },
  {
   "cell_type": "code",
   "execution_count": 68,
   "metadata": {},
   "outputs": [
    {
     "name": "stdout",
     "output_type": "stream",
     "text": [
      "Nome: Vingadores - Guerra Infinita - Likes: 10 - Duracao: 160 min\n",
      "Nome: Atlanta - Likes: 15 - Temporadas: 2 temporadas\n"
     ]
    }
   ],
   "source": [
    "# exemplo prático de aplicação do polimorfismo na herança de classes\n",
    "\n",
    "filmes_e_series = [vingadores, atlanta]\n",
    "\n",
    "for programa in filmes_e_series:\n",
    "    detalhe = programa.temporadas if hasattr(programa, 'temporadas') else programa.duracao\n",
    "    string = 'Temporadas' if hasattr(programa, 'temporadas') else 'Duracao'\n",
    "\n",
    "    print(f'Nome: {programa.titulo} - Likes: {programa.likes} - {string}: {detalhe} {'min' if string == 'Duracao' else 'temporadas'}')"
   ]
  },
  {
   "cell_type": "markdown",
   "metadata": {},
   "source": [
    "- Podemos melhorar a sequência de códigos anteriores ao implementar mais coesão nas classes/subclasses definidas. Dizemos que uma classe *é coesa* quando ela faz exatamente tudo o que precisa fazer. No caso desse exemplo em particular, é de nosso interesse que as classes saibam apresentar suas informações correspondentes, e isso não está acontecendo. Portanto, elas ainda não estão coesas.\n",
    "\n",
    "- Ao fazer isso, conferimos não só maior legibilidade ao código, como também mais eficiência e menos 'puxadinhos'"
   ]
  },
  {
   "cell_type": "code",
   "execution_count": 69,
   "metadata": {},
   "outputs": [],
   "source": [
    "class Programa:\n",
    "    def __init__(self, titulo, ano, likes= 0):\n",
    "        self._titulo = titulo.title() # str\n",
    "        self._ano = ano # int \n",
    "        self._likes = likes #int\n",
    "\n",
    "    # método de apresentação dos atributos principais de cada instância\n",
    "    def imprime(self):\n",
    "        return print(f'Nome: {self._titulo} - Likes: {self._likes} - Ano: {self._ano}')\n",
    "    \n",
    "    # defino métodos getters para acessar os atributos dos objetos\n",
    "    @property\n",
    "    def titulo(self):\n",
    "        return self._titulo\n",
    "    \n",
    "    @property\n",
    "    def ano(self):\n",
    "        return self._ano\n",
    "    \n",
    "    @property\n",
    "    def likes(self):\n",
    "        return self._likes\n",
    "    \n",
    "    # método setter para ajustar a quantidade de likes\n",
    "    @likes.setter\n",
    "    def likes(self, nova_qtd):\n",
    "        self._likes = nova_qtd\n",
    "    \n",
    "    # método setter para ajustar o nome do filme\n",
    "    @titulo.setter\n",
    "    def titulo(self, novo_titulo):\n",
    "        self._titulo = novo_titulo\n",
    "\n",
    "    \n",
    "\n",
    "# ao invés de redefinir todos os atributos conforme ilustrado acima, podemos utilzar a seguinte sintaxe para herdar alguns dos atributos\n",
    "# já previamente definidos para a classe mãe\n",
    "\n",
    "class Filme(Programa): # o argumento entre parânteses indica a \"classe mãe\", da qual estamos herdando todas as características\n",
    "    def __init__(self, titulo, ano, duracao, likes= 0):\n",
    "        super().__init__(titulo, ano, likes)\n",
    "        self._duracao = duracao # int (minutos)\n",
    "\n",
    "    # método de apresentação dos atributos principais de cada instância\n",
    "    def imprime(self):\n",
    "        return print(f'Nome: {self._titulo} - Likes: {self._likes} - Ano: {self._ano} - Temporadas: {self._duracao} min')\n",
    "    \n",
    "    @property\n",
    "    def duracao(self):\n",
    "        return self._duracao\n",
    "    \n",
    "\n",
    "class Serie(Programa):\n",
    "    def __init__(self, titulo, ano, temporadas, likes= 0):\n",
    "        super().__init__(titulo, ano, likes)\n",
    "        self._temporadas = temporadas # int\n",
    "    \n",
    "    # método de apresentação dos atributos principais de cada instância\n",
    "    def imprime(self):\n",
    "        return print(f'Nome: {self._titulo} - Likes: {self._likes} - Ano: {self._ano} - Temporadas: {self._temporadas} temporadas')\n",
    "    \n",
    "    @property\n",
    "    def temporadas(self):\n",
    "        return self._temporadas\n",
    "\n",
    "    "
   ]
  },
  {
   "cell_type": "code",
   "execution_count": 70,
   "metadata": {},
   "outputs": [
    {
     "name": "stdout",
     "output_type": "stream",
     "text": [
      "Nome: Vingadores - Guerra Infinita - Likes: 15 - Ano: 2018 - Temporadas: 160 min\n",
      "Nome: Atlanta - Likes: 10 - Ano: 2016 - Temporadas: 5 temporadas\n"
     ]
    }
   ],
   "source": [
    "vingadores = Filme('vingadores - guerra infinita', 2018, 160)\n",
    "atlanta = Serie('atlanta', 2016, 5)\n",
    "\n",
    "vingadores.likes = 15\n",
    "atlanta.likes = 10\n",
    "\n",
    "filmes_e_series = [vingadores, atlanta]\n",
    "\n",
    "for programa in filmes_e_series:\n",
    "    programa.imprime()"
   ]
  },
  {
   "cell_type": "markdown",
   "metadata": {},
   "source": [
    "- Apesar de já termos definido um método de apresentação de atributos para cada uma das classes com as quais estamos trabalhando e termos seu funcionamento validado corretamente com os testes do bloco de comando anterior (no qual foram verificadas também as características referentes à propriedade de *polimorfismo*), existe uma maneira mais \"pythônica\" de representar esse método.\n",
    "\n",
    "- Essa maneira é, na verdade, a definição de um ***dunder method*** do tipo string, que é o que nos permitirá interagir com a função built in *print*.\n",
    "(sempre que aplicamos uma função built in, por debaixo dos panos, é um dunder method que está sendo chamado)\n",
    "\n",
    "- O python é uma linguagem de programação orientada a objetos e, no fundo no fundo, todas as representações (variáveis, strings, inteiros, etc) são também objetos"
   ]
  },
  {
   "cell_type": "code",
   "execution_count": 71,
   "metadata": {},
   "outputs": [],
   "source": [
    "class Programa:\n",
    "    def __init__(self, titulo, ano, likes= 0):\n",
    "        self._titulo = titulo.title() # str\n",
    "        self._ano = ano # int \n",
    "        self._likes = likes #int\n",
    "\n",
    "    # método de apresentação dos atributos principais de cada instância\n",
    "    def __str__(self):\n",
    "        return f'Nome: {self._titulo} - Likes: {self._likes} - Ano: {self._ano}'\n",
    "    \n",
    "    # método de apresentação dos atributos principais de cada instância DA MANEIRA QUE FORAM DEFINIDOS (auxiliar processo de debug)\n",
    "    def __repr__(self):\n",
    "        return f\"Serie('{self._titulo}',{self._ano},{self._likes})\"\n",
    "    \n",
    "    # defino métodos getters para acessar os atributos dos objetos\n",
    "    @property\n",
    "    def titulo(self):\n",
    "        return self._titulo\n",
    "    \n",
    "    @property\n",
    "    def ano(self):\n",
    "        return self._ano\n",
    "    \n",
    "    @property\n",
    "    def likes(self):\n",
    "        return self._likes\n",
    "    \n",
    "    # método setter para ajustar a quantidade de likes\n",
    "    @likes.setter\n",
    "    def likes(self, nova_qtd):\n",
    "        self._likes = nova_qtd\n",
    "    \n",
    "    # método setter para ajustar o nome do filme\n",
    "    @titulo.setter\n",
    "    def titulo(self, novo_titulo):\n",
    "        self._titulo = novo_titulo\n",
    "\n",
    "    \n",
    "\n",
    "# ao invés de redefinir todos os atributos conforme ilustrado acima, podemos utilzar a seguinte sintaxe para herdar alguns dos atributos\n",
    "# já previamente definidos para a classe mãe\n",
    "\n",
    "class Filme(Programa): # o argumento entre parânteses indica a \"classe mãe\", da qual estamos herdando todas as características\n",
    "    def __init__(self, titulo, ano, duracao, likes= 0):\n",
    "        super().__init__(titulo, ano, likes)\n",
    "        self._duracao = duracao # int (minutos)\n",
    "\n",
    "    # método de apresentação dos atributos principais de cada instância\n",
    "    def __str__(self):\n",
    "        return f'Nome: {self._titulo} - Likes: {self._likes} - Ano: {self._ano} - Temporadas: {self._duracao} min'\n",
    "    \n",
    "    # método de apresentação dos atributos principais de cada instância DA MANEIRA QUE FORAM DEFINIDOS (auxiliar processo de debug)\n",
    "    def __repr__(self):\n",
    "        return f'Filme(\\'{self._titulo}\\',{self._ano},{self._duracao},{self._likes})'\n",
    "    \n",
    "    @property\n",
    "    def duracao(self):\n",
    "        return self._duracao\n",
    "    \n",
    "\n",
    "class Serie(Programa):\n",
    "    def __init__(self, titulo, ano, temporadas, likes= 0):\n",
    "        super().__init__(titulo, ano, likes)\n",
    "        self._temporadas = temporadas # int\n",
    "    \n",
    "    # método de apresentação dos atributos principais de cada instância\n",
    "    def __str__(self):\n",
    "        return f'Nome: {self._titulo} - Likes: {self._likes} - Ano: {self._ano} - Temporadas: {self._temporadas} temporadas'\n",
    "    \n",
    "    # método de apresentação dos atributos principais de cada instância DA MANEIRA QUE FORAM DEFINIDOS (auxiliar processo de debug)\n",
    "    def __repr__(self):\n",
    "        return f'Serie(\\'{self._titulo}\\',{self._ano},{self._temporadas},{self._likes})'\n",
    "    \n",
    "    @property\n",
    "    def temporadas(self):\n",
    "        return self._temporadas\n",
    "\n",
    "    "
   ]
  },
  {
   "cell_type": "code",
   "execution_count": 72,
   "metadata": {},
   "outputs": [
    {
     "data": {
      "text/plain": [
       "\"Serie('Atlanta',2051,3,0)\""
      ]
     },
     "execution_count": 72,
     "metadata": {},
     "output_type": "execute_result"
    }
   ],
   "source": [
    "teste = Serie('atlanta', 2051, 3)\n",
    "repr(teste)"
   ]
  },
  {
   "cell_type": "code",
   "execution_count": 73,
   "metadata": {},
   "outputs": [
    {
     "name": "stdout",
     "output_type": "stream",
     "text": [
      "Nome: Vingadores - Guerra Infinita - Likes: 15 - Ano: 2018 - Temporadas: 160 min\n",
      "Nome: Atlanta - Likes: 10 - Ano: 2016 - Temporadas: 5 temporadas\n"
     ]
    }
   ],
   "source": [
    "vingadores = Filme('vingadores - guerra infinita', 2018, 160)\n",
    "atlanta = Serie('atlanta', 2016, 5)\n",
    "\n",
    "vingadores.likes = 15\n",
    "atlanta.likes = 10\n",
    "\n",
    "filmes_e_series = [vingadores, atlanta]\n",
    "\n",
    "for programa in filmes_e_series:\n",
    "    print(programa)"
   ]
  },
  {
   "cell_type": "code",
   "execution_count": 74,
   "metadata": {},
   "outputs": [],
   "source": [
    "# definindo a classe de playlists\n",
    "\n",
    "class Playlist:\n",
    "    def __init__(self, nome, programas):\n",
    "        self._nome = nome.title() # str (nome da playlist)\n",
    "        self._programas = programas # list (lista de programas da playlist)\n",
    "    \n",
    "    # definição de método para retorno do tamanho da playlist\n",
    "    def tamanho(self):\n",
    "        return len(self.programas)"
   ]
  },
  {
   "cell_type": "code",
   "execution_count": 75,
   "metadata": {},
   "outputs": [
    {
     "name": "stdout",
     "output_type": "stream",
     "text": [
      "Nome: Vingadores - Guerra Infinita - Likes: 34 - Ano: 2019 - Temporadas: 160 min\n",
      "Nome: Atlanta - Likes: 13 - Ano: 2015 - Temporadas: 4 temporadas\n",
      "Nome: Loki - Likes: 140 - Ano: 2022 - Temporadas: 2 temporadas\n",
      "Nome: Game Of Thrones - Likes: 450 - Ano: 2011 - Temporadas: 9 temporadas\n"
     ]
    }
   ],
   "source": [
    "vingadores = Filme('vingadores - guerra infinita', 2019, 160)\n",
    "vingadores.likes = 34\n",
    "\n",
    "atlanta = Serie('atlanta', 2015, 4)\n",
    "atlanta.likes = 13\n",
    "\n",
    "loki = Serie('Loki', 2022, 2, 140)\n",
    "\n",
    "got = Serie('game of thrones', 2011, 9, 450)\n",
    "\n",
    "carros = Filme('carros 2', 2011, 90, 84)\n",
    "\n",
    "playlist_fds = Playlist('playlist fds', [vingadores, atlanta, loki, got])\n",
    "\n",
    "for programa in playlist_fds._programas:\n",
    "    print(programa)"
   ]
  },
  {
   "cell_type": "markdown",
   "metadata": {},
   "source": [
    "- Da maneira que foi construído o objeto playlist, está tudo bem. Contudo, para apresentar os programas correspondentes, precisamos \"entrar demais\" nas propriedades do objeto durante a construção do loop (referência à variável *_programas*). A principal força da abordagem OO no python é justamente o encapsulamento de atividades / funções: o usuário não precisa saber de todas as características do código. Ele precisa saber somente o que ele tem que saber.\n",
    "\n",
    "- Seria interessante se pudéssemos iterar sobre os elementos do objeto playlist, mas para isso, ele precisaria herdar características da classe de objetos do tipo list ou dict, pois são somente nesses tipos de objetos que podemos aplicar uma operação como essa."
   ]
  },
  {
   "cell_type": "code",
   "execution_count": 79,
   "metadata": {},
   "outputs": [],
   "source": [
    "class Playlist(list):\n",
    "    def __init__(self, nome, programas):\n",
    "        self._nome = nome\n",
    "        super().__init__(programas)"
   ]
  },
  {
   "cell_type": "code",
   "execution_count": 80,
   "metadata": {},
   "outputs": [
    {
     "name": "stdout",
     "output_type": "stream",
     "text": [
      "Tamanho da playlist: 4\n",
      "Nome: Vingadores - Guerra Infinita - Likes: 34 - Ano: 2019 - Temporadas: 160 min\n",
      "Nome: Atlanta - Likes: 13 - Ano: 2015 - Temporadas: 4 temporadas\n",
      "Nome: Loki - Likes: 140 - Ano: 2022 - Temporadas: 2 temporadas\n",
      "Nome: Game Of Thrones - Likes: 450 - Ano: 2011 - Temporadas: 9 temporadas\n"
     ]
    }
   ],
   "source": [
    "vingadores = Filme('vingadores - guerra infinita', 2019, 160)\n",
    "vingadores.likes = 34\n",
    "\n",
    "atlanta = Serie('atlanta', 2015, 4)\n",
    "atlanta.likes = 13\n",
    "\n",
    "loki = Serie('Loki', 2022, 2, 140)\n",
    "\n",
    "got = Serie('game of thrones', 2011, 9, 450)\n",
    "\n",
    "carros = Filme('carros 2', 2011, 90, 84)\n",
    "\n",
    "playlist_fds = Playlist('playlist fds', [vingadores, atlanta, loki, got])\n",
    "\n",
    "print('Tamanho da playlist: {}'.format(len(playlist_fds)))\n",
    "\n",
    "for programa in playlist_fds:\n",
    "    print(programa)"
   ]
  },
  {
   "cell_type": "markdown",
   "metadata": {},
   "source": [
    "- É importante tomar cuidado ao herdar as propriedades de uma classe built in porque não conhecemos exatamente quais são suas características e, principalmente, quais são as exceções mais relevantes ao manipular objetos dessa classe.\n",
    "\n",
    "- Não é uma boa prática herdar propriedades desconhecidas para uma classe com a qual estamos trabalhando.\n",
    "\n",
    "- Em geral, quando uma situação desse tipo acontece precisamos efetuar um outro tipo de tratamento: o *Duck Typing*. Ou seja, a minha classe não precisa herdar todas as características do list, ou seja, ela não precisa ser uma list, ela precisa apenas *se comportar como uma list*. Essa é a ideia do duck typing: se uma ave faz quack como um pato, voa como um pato e nada como um pato, então ela é um pato. O python interpreta classes e objetos da mesma forma.\n",
    "\n",
    "- Como fazemos então para fazer com que a nossa classe playlist passe a se comportar como um list? Basta incluir o dunder method *__getitem__* (porque esse é um método que objetos da classe do tipo list tem)"
   ]
  },
  {
   "cell_type": "code",
   "execution_count": 84,
   "metadata": {},
   "outputs": [],
   "source": [
    "class Playlist:\n",
    "    def __init__(self, nome, programas):\n",
    "        self._nome = nome\n",
    "        self._programas = programas \n",
    "    \n",
    "    @property\n",
    "    def nome(self):\n",
    "        return self._nome\n",
    "    \n",
    "    @property\n",
    "    def tamanho(self):\n",
    "        return len(self._programas)\n",
    "    \n",
    "    # método típico de um objeto que possui o comportamento de iterabilidade\n",
    "    def __getitem__(self, item):\n",
    "        return self._programas[item]"
   ]
  },
  {
   "cell_type": "code",
   "execution_count": 86,
   "metadata": {},
   "outputs": [
    {
     "name": "stdout",
     "output_type": "stream",
     "text": [
      "Tamanho da playlist: 4\n",
      "Nome: Vingadores - Guerra Infinita - Likes: 34 - Ano: 2019 - Temporadas: 160 min\n",
      "Nome: Atlanta - Likes: 13 - Ano: 2015 - Temporadas: 4 temporadas\n",
      "Nome: Loki - Likes: 140 - Ano: 2022 - Temporadas: 2 temporadas\n",
      "Nome: Game Of Thrones - Likes: 450 - Ano: 2011 - Temporadas: 9 temporadas\n"
     ]
    }
   ],
   "source": [
    "vingadores = Filme('vingadores - guerra infinita', 2019, 160)\n",
    "vingadores.likes = 34\n",
    "\n",
    "atlanta = Serie('atlanta', 2015, 4)\n",
    "atlanta.likes = 13\n",
    "\n",
    "loki = Serie('Loki', 2022, 2, 140)\n",
    "\n",
    "got = Serie('game of thrones', 2011, 9, 450)\n",
    "\n",
    "carros = Filme('carros 2', 2011, 90, 84)\n",
    "\n",
    "playlist_fds = Playlist('playlist fds', [vingadores, atlanta, loki, got])\n",
    "\n",
    "#print('Tamanho da playlist: {}'.format(len(playlist_fds)))\n",
    "print('Tamanho da playlist: {}'.format(playlist_fds.tamanho))\n",
    "\n",
    "for programa in playlist_fds:\n",
    "    print(programa)"
   ]
  },
  {
   "cell_type": "markdown",
   "metadata": {},
   "source": [
    "- Tipos de herança:\n",
    "    - **Herança de interface** : ocorre quando quero realmente herdar propriedades, métodos e atributos com a possibilidade de utilizar ou não o polimorfismo de objetos\n",
    "\n",
    "    - **Herança de reuso**: ocorre quando queremos herdar propriedades, métodos e atributos com a finalidade apenas de conseguir utilizar alguns códigos que podem ser utilizados na super-classe (foi o caso desse exemplo enquanto estavamos desenvolvendo a classe de plalist)\n",
    "\n",
    "- O ideal, normalmente, é que para que uma herança seja feita os dois requisitos sejam atendidos (desse modo aplicamos a herança completa).\n",
    "\n",
    "- A herança pode ocorrer de duas maneiras:\n",
    "    - **Composição**:  quando apenas incorporamos um comportamento da superclasse dentro da classe de trabalho (é um procedimento menos nocivo e que não prejudica tanto o desenvolvimento da aplicação) --> *Duck Typing*\n",
    "    - **Extensão**: quando realmente todo o código fonte da superclasse é passado adiante para a classe que está herdando suas características (não recomendável quando não conhecemos todo o código fonte ou queremos apenas algumas propriedades específicas)\n"
   ]
  },
  {
   "cell_type": "markdown",
   "metadata": {},
   "source": [
    "- Ainda seguindo a proposta de composição e do duck typing, segue a inclusão do comportamento do objeto quando chamarmos para ele a função built-in *len* (i.e., comportamento de um objeto do tipo sized)"
   ]
  },
  {
   "cell_type": "code",
   "execution_count": 87,
   "metadata": {},
   "outputs": [],
   "source": [
    "class Playlist:\n",
    "    def __init__(self, nome, programas):\n",
    "        self._nome = nome\n",
    "        self._programas = programas \n",
    "    \n",
    "    @property\n",
    "    def nome(self):\n",
    "        return self._nome\n",
    "    \n",
    "    @property\n",
    "    def tamanho(self):\n",
    "        return len(self._programas)\n",
    "    \n",
    "    # método típico de um objeto que possui o comportamento de iterabilidade\n",
    "    def __getitem__(self, item):\n",
    "        return self._programas[item]\n",
    "    \n",
    "    # método típido de um objeto que possui comportamento de \"size\"\n",
    "    def __len__(self):\n",
    "        return len(self._programas)\n",
    "    \n"
   ]
  },
  {
   "cell_type": "code",
   "execution_count": 88,
   "metadata": {},
   "outputs": [
    {
     "name": "stdout",
     "output_type": "stream",
     "text": [
      "Tamanho da playlist: 4\n",
      "Tamanho da playlist: 4\n",
      "Nome: Vingadores - Guerra Infinita - Likes: 34 - Ano: 2019 - Temporadas: 160 min\n",
      "Nome: Atlanta - Likes: 13 - Ano: 2015 - Temporadas: 4 temporadas\n",
      "Nome: Loki - Likes: 140 - Ano: 2022 - Temporadas: 2 temporadas\n",
      "Nome: Game Of Thrones - Likes: 450 - Ano: 2011 - Temporadas: 9 temporadas\n"
     ]
    }
   ],
   "source": [
    "vingadores = Filme('vingadores - guerra infinita', 2019, 160)\n",
    "vingadores.likes = 34\n",
    "\n",
    "atlanta = Serie('atlanta', 2015, 4)\n",
    "atlanta.likes = 13\n",
    "\n",
    "loki = Serie('Loki', 2022, 2, 140)\n",
    "\n",
    "got = Serie('game of thrones', 2011, 9, 450)\n",
    "\n",
    "carros = Filme('carros 2', 2011, 90, 84)\n",
    "\n",
    "playlist_fds = Playlist('playlist fds', [vingadores, atlanta, loki, got])\n",
    "\n",
    "print('Tamanho da playlist: {}'.format(len(playlist_fds)))\n",
    "print('Tamanho da playlist: {}'.format(playlist_fds.tamanho))\n",
    "\n",
    "for programa in playlist_fds:\n",
    "    print(programa)"
   ]
  },
  {
   "cell_type": "markdown",
   "metadata": {},
   "source": [
    "- Vale destacar que o python já possui um módulo específico contendo o que normalmente é chamado de \"classe abstrata\", o qual contém diversas classes já previamente definidas e que possuem justamente as características que normalmente gostaríamos de aproveitar das classes built-in (mas sem receber todo o código fonte correspondente).\n",
    "\n",
    "- Essas classes (também chamadas de ABC -> *Abstract Base Classes*) pode ser importadas no modulo *collections.abc* e, essencialmente, correspondem a uma união dos conceitos de Duck Typing e Herança por Extensão (seria o melhor dos dois mundos). Além disso, uma característica importante das abc's é que elas costumam indicar todos os dunder methods que precisamos definir em nossa subclasse para que a instanciação de objetos e o recebimento das propriedades funcionem corretamente."
   ]
  },
  {
   "cell_type": "code",
   "execution_count": 89,
   "metadata": {},
   "outputs": [
    {
     "ename": "TypeError",
     "evalue": "Can't instantiate abstract class Playlist without an implementation for abstract methods '__delitem__', '__getitem__', '__len__', '__setitem__', 'insert'",
     "output_type": "error",
     "traceback": [
      "\u001b[1;31m---------------------------------------------------------------------------\u001b[0m",
      "\u001b[1;31mTypeError\u001b[0m                                 Traceback (most recent call last)",
      "\u001b[1;32mc:\\Users\\LUCAS\\Documents\\Data Engineering\\Data-Engineering\\Level 1 - Data Engineering\\Formation - Learning Python with OOP\\Python - Advancing in the Object Orientation\\estudos_modelo.ipynb Cell 29\u001b[0m line \u001b[0;36m6\n\u001b[0;32m      <a href='vscode-notebook-cell:/c%3A/Users/LUCAS/Documents/Data%20Engineering/Data-Engineering/Level%201%20-%20Data%20Engineering/Formation%20-%20Learning%20Python%20with%20OOP/Python%20-%20Advancing%20in%20the%20Object%20Orientation/estudos_modelo.ipynb#X51sZmlsZQ%3D%3D?line=2'>3</a>\u001b[0m \u001b[39mclass\u001b[39;00m \u001b[39mPlaylist\u001b[39;00m(MutableSequence):\n\u001b[0;32m      <a href='vscode-notebook-cell:/c%3A/Users/LUCAS/Documents/Data%20Engineering/Data-Engineering/Level%201%20-%20Data%20Engineering/Formation%20-%20Learning%20Python%20with%20OOP/Python%20-%20Advancing%20in%20the%20Object%20Orientation/estudos_modelo.ipynb#X51sZmlsZQ%3D%3D?line=3'>4</a>\u001b[0m     \u001b[39mpass\u001b[39;00m \n\u001b[1;32m----> <a href='vscode-notebook-cell:/c%3A/Users/LUCAS/Documents/Data%20Engineering/Data-Engineering/Level%201%20-%20Data%20Engineering/Formation%20-%20Learning%20Python%20with%20OOP/Python%20-%20Advancing%20in%20the%20Object%20Orientation/estudos_modelo.ipynb#X51sZmlsZQ%3D%3D?line=5'>6</a>\u001b[0m teste \u001b[39m=\u001b[39m Playlist()\n",
      "\u001b[1;31mTypeError\u001b[0m: Can't instantiate abstract class Playlist without an implementation for abstract methods '__delitem__', '__getitem__', '__len__', '__setitem__', 'insert'"
     ]
    }
   ],
   "source": [
    "# módulo de import das classes\n",
    "from collections.abc import MutableSequence\n",
    "\n",
    "class Playlist(MutableSequence):\n",
    "    pass \n",
    "\n",
    "teste = Playlist()"
   ]
  },
  {
   "cell_type": "code",
   "execution_count": 90,
   "metadata": {},
   "outputs": [
    {
     "ename": "TypeError",
     "evalue": "Can't instantiate abstract class Heranca_ABC without an implementation for abstract method '__str__'",
     "output_type": "error",
     "traceback": [
      "\u001b[1;31m---------------------------------------------------------------------------\u001b[0m",
      "\u001b[1;31mTypeError\u001b[0m                                 Traceback (most recent call last)",
      "\u001b[1;32mc:\\Users\\LUCAS\\Documents\\Data Engineering\\Data-Engineering\\Level 1 - Data Engineering\\Formation - Learning Python with OOP\\Python - Advancing in the Object Orientation\\estudos_modelo.ipynb Cell 30\u001b[0m line \u001b[0;36m1\n\u001b[0;32m     <a href='vscode-notebook-cell:/c%3A/Users/LUCAS/Documents/Data%20Engineering/Data-Engineering/Level%201%20-%20Data%20Engineering/Formation%20-%20Learning%20Python%20with%20OOP/Python%20-%20Advancing%20in%20the%20Object%20Orientation/estudos_modelo.ipynb#X52sZmlsZQ%3D%3D?line=10'>11</a>\u001b[0m \u001b[39mclass\u001b[39;00m \u001b[39mHeranca_ABC\u001b[39;00m(Teste):\n\u001b[0;32m     <a href='vscode-notebook-cell:/c%3A/Users/LUCAS/Documents/Data%20Engineering/Data-Engineering/Level%201%20-%20Data%20Engineering/Formation%20-%20Learning%20Python%20with%20OOP/Python%20-%20Advancing%20in%20the%20Object%20Orientation/estudos_modelo.ipynb#X52sZmlsZQ%3D%3D?line=11'>12</a>\u001b[0m     \u001b[39mpass\u001b[39;00m\n\u001b[1;32m---> <a href='vscode-notebook-cell:/c%3A/Users/LUCAS/Documents/Data%20Engineering/Data-Engineering/Level%201%20-%20Data%20Engineering/Formation%20-%20Learning%20Python%20with%20OOP/Python%20-%20Advancing%20in%20the%20Object%20Orientation/estudos_modelo.ipynb#X52sZmlsZQ%3D%3D?line=13'>14</a>\u001b[0m teste \u001b[39m=\u001b[39m Heranca_ABC()\n",
      "\u001b[1;31mTypeError\u001b[0m: Can't instantiate abstract class Heranca_ABC without an implementation for abstract method '__str__'"
     ]
    }
   ],
   "source": [
    "# módulo de import dos métodos necessários para se definir uma classe abstrata\n",
    "# (uma boa prática é sempre consultar as collections para verificar se a classe abstrata que estamos\n",
    "# querendo desenvolver já não existe)\n",
    "from abc import ABC, ABCMeta, abstractclassmethod\n",
    "\n",
    "class Teste(metaclass = ABCMeta):\n",
    "    @abstractclassmethod\n",
    "    def __str__(self):\n",
    "        return 'Todas as subclasse precisarão ter esse método'\n",
    "    \n",
    "class Heranca_ABC(Teste):\n",
    "    pass\n",
    "\n",
    "teste = Heranca_ABC()"
   ]
  }
 ],
 "metadata": {
  "kernelspec": {
   "display_name": "Python 3",
   "language": "python",
   "name": "python3"
  },
  "language_info": {
   "codemirror_mode": {
    "name": "ipython",
    "version": 3
   },
   "file_extension": ".py",
   "mimetype": "text/x-python",
   "name": "python",
   "nbconvert_exporter": "python",
   "pygments_lexer": "ipython3",
   "version": "3.12.0"
  }
 },
 "nbformat": 4,
 "nbformat_minor": 2
}
