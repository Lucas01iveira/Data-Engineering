{
 "cells": [
  {
   "cell_type": "markdown",
   "metadata": {},
   "source": [
    "## Entendendo a herança de classes"
   ]
  },
  {
   "cell_type": "markdown",
   "metadata": {},
   "source": [
    "- É muito comum, quando estamos lidando com classes de características e atributos semelhantes, precisarmos aplicar diversos ctrl+c / ctrl+v para replicar as definições e configurações de uma delas na outra. Normalmente, durante esse processo de copy-paste, somente algumas passagens de código são alteradas, como no exemplo das classes a seguir (Filme e Serie)"
   ]
  },
  {
   "cell_type": "code",
   "execution_count": 1,
   "metadata": {},
   "outputs": [],
   "source": [
    "class Filme:\n",
    "\n",
    "    # (atributo likes definido como opcional)\n",
    "    def __init__(self, titulo, ano, duracao, likes= 0):\n",
    "        self.__titulo = titulo.title() # str\n",
    "        self.__ano = ano # int\n",
    "        self.__duracao = duracao # minutos (int) \n",
    "        self.__likes = likes #int\n",
    "\n",
    "    # defino métodos getters para acessar os atributos dos objetos\n",
    "    @property\n",
    "    def titulo(self):\n",
    "        return self.__titulo\n",
    "    \n",
    "    @property\n",
    "    def ano(self):\n",
    "        return self.__ano\n",
    "\n",
    "    @property\n",
    "    def duracao(self):\n",
    "        return self.__duracao\n",
    "    \n",
    "    @property\n",
    "    def likes(self):\n",
    "        return self.__likes\n",
    "    \n",
    "    # método setter para ajustar a quantidade de likes\n",
    "    def set_likes(self, qtd):\n",
    "        self.__likes = qtd\n",
    "    \n",
    "class Serie:\n",
    "\n",
    "    #(atributo 'likes' definido como opcional)\n",
    "    def __init__(self, titulo, ano, temporadas, likes= 0):\n",
    "        self.__titulo = titulo # str\n",
    "        self.__ano = ano # int\n",
    "        self.__temporadas = temporadas # int \n",
    "        self.__likes = likes #int\n",
    "\n",
    "    # defino métodos getters para acessar os atributos dos objetos\n",
    "    @property\n",
    "    def titulo(self):\n",
    "        return self.__titulo.title()\n",
    "    \n",
    "    @property\n",
    "    def ano(self):\n",
    "        return self.__ano\n",
    "\n",
    "    @property\n",
    "    def temporadas(self):\n",
    "        return self.__temporadas\n",
    "\n",
    "    @property\n",
    "    def likes(self):\n",
    "        return self.__likes\n",
    "    \n",
    "    # método setter para ajustar a quantidade de likes\n",
    "    @likes.setter\n",
    "    def likes(self, qtd):\n",
    "        self.__likes = qtd"
   ]
  },
  {
   "cell_type": "markdown",
   "metadata": {},
   "source": [
    "- Para corrigir esse problema, podemos definir uma classe mais geral, com os atributos titulo, ano e likes, que são justamente os atributos em comum observados na célula acima, e cujos métodos serão todos passados adiante para as classes de filmes e séries.\n",
    "\n",
    "- Quando um sistema de herança está sendo desenvolvido, devemos descartar parcialmente o conceito de privação de atributos, pois esses tipos de variáveis não são transmitidos para as classes filhas sem confusão. Mesmo que haja transmissão de definições, atributos privados ainda serão transmitidos com a nomenclatura protetora do tipo _ClasseMae__NomeAtributo, de modo que os acessos correspondentes nas subclasses derivadas sejam dificultados ou gerem confusão. Para lidar com essas situações, adota-se a convenção de nomear as variáveis com apenas 1 underline '_'. Desse modo a funcionalidade de **_name mangling_** do python é desativada, de modo que os atributos possam ser acessados nas subclasses sem grandes dificuldades, mas ainda assim preserva-se a ideia de que eles não podem ser acessados / alterados diretamente a não ser através dos métodos."
   ]
  },
  {
   "cell_type": "code",
   "execution_count": 5,
   "metadata": {},
   "outputs": [],
   "source": [
    "class Programa:\n",
    "    def __init__(self, titulo, ano, likes= 0):\n",
    "        self._titulo = titulo.title() # str\n",
    "        self._ano = ano # int \n",
    "        self._likes = likes #int\n",
    "\n",
    "    # defino métodos getters para acessar os atributos dos objetos\n",
    "    @property\n",
    "    def titulo(self):\n",
    "        return self._titulo\n",
    "    \n",
    "    @property\n",
    "    def ano(self):\n",
    "        return self._ano\n",
    "    \n",
    "    @property\n",
    "    def likes(self):\n",
    "        return self._likes\n",
    "    \n",
    "    # método setter para ajustar a quantidade de likes\n",
    "    @likes.setter\n",
    "    def likes(self, nova_qtd):\n",
    "        self._likes = nova_qtd\n",
    "    \n",
    "    # método setter para ajustar o nome do filme\n",
    "    @titulo.setter\n",
    "    def titulo(self, novo_titulo):\n",
    "        self._titulo = novo_titulo\n",
    "\n",
    "'''\n",
    "class Filme(Programa): # o argumento entre parânteses indica a \"classe mãe\" da qual estamos herdando todas as características\n",
    "    def __init__(self, titulo, ano, duracao, likes= 0):\n",
    "        self._titulo = titulo.title() # str\n",
    "        self._ano = ano # int \n",
    "        self._likes = likes # int\n",
    "        self._duracao = duracao # int (minutos)\n",
    "\n",
    "class Series(Programa):\n",
    "    def __init__(self, titulo, ano, temporadas, likes= 0):\n",
    "        self._titulo = titulo.title() # str\n",
    "        self._ano = ano # int \n",
    "        self._likes = likes # int\n",
    "        self._temporadas = temporadas # int\n",
    "'''\n",
    "\n",
    "# ao invés de redefinir todos os atributos conforme ilustrado acima, podemos utilzar a seguinte sintaxe para herdar alguns dos atributos\n",
    "# já previamente definidos para a classe mãe\n",
    "\n",
    "class Filme(Programa): # o argumento entre parânteses indica a \"classe mãe\", da qual estamos herdando todas as características\n",
    "    def __init__(self, titulo, ano, duracao, likes= 0):\n",
    "        super().__init__(titulo, ano, likes)\n",
    "        self._duracao = duracao # int (minutos)\n",
    "\n",
    "    @property\n",
    "    def duracao(self):\n",
    "        return self._duracao\n",
    "\n",
    "class Series(Programa):\n",
    "    def __init__(self, titulo, ano, temporadas, likes= 0):\n",
    "        super().__init__(titulo, ano, likes)\n",
    "        self._temporadas = temporadas # int\n",
    "    \n",
    "    @property\n",
    "    def temporadas(self):\n",
    "        return self._temporadas"
   ]
  },
  {
   "cell_type": "markdown",
   "metadata": {},
   "source": [
    "- O método *super()* nos permite acessar todos os métodos e atributos da classe mãe. Sempre que estivermos montando o script de alguma subclasse e precisarmos incluir um novo método / conjunto de atributos que, apesar de possuir alguma especificidade **extra**, ainda possui similaridades com a classe mãe, podemos iniciar uma referência utilizando esse comando."
   ]
  },
  {
   "cell_type": "code",
   "execution_count": 6,
   "metadata": {},
   "outputs": [
    {
     "name": "stdout",
     "output_type": "stream",
     "text": [
      "Nome: Vingadores - Guerra Infinita - Likes: 10 - Duracao: 160\n",
      "Nome: Atlanta - Likes: 15 - Temporadas: 2\n"
     ]
    }
   ],
   "source": [
    "vingadores = Filme('vingadores - guerra infinita', 2018, 160)\n",
    "atlanta = Serie('atlanta', 2018, 2)\n",
    "\n",
    "vingadores.likes = 10\n",
    "atlanta.likes = 15\n",
    "\n",
    "print(f'Nome: {vingadores.titulo} - Likes: {vingadores.likes} - Duracao: {vingadores.duracao}')\n",
    "print(f'Nome: {atlanta.titulo} - Likes: {atlanta.likes} - Temporadas: {atlanta.temporadas}')"
   ]
  },
  {
   "cell_type": "code",
   "execution_count": null,
   "metadata": {},
   "outputs": [],
   "source": [
    "# exemplo práti"
   ]
  }
 ],
 "metadata": {
  "kernelspec": {
   "display_name": "Python 3",
   "language": "python",
   "name": "python3"
  },
  "language_info": {
   "codemirror_mode": {
    "name": "ipython",
    "version": 3
   },
   "file_extension": ".py",
   "mimetype": "text/x-python",
   "name": "python",
   "nbconvert_exporter": "python",
   "pygments_lexer": "ipython3",
   "version": "3.12.0"
  }
 },
 "nbformat": 4,
 "nbformat_minor": 2
}
