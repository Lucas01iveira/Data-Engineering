{
 "cells": [
  {
   "cell_type": "markdown",
   "metadata": {},
   "source": [
    "- set of exercises taken from the website: https://pynative.com/python-object-oriented-programming-oop-exercise/#h-oop-exercise-1-create-a-class-with-instance-attributes"
   ]
  },
  {
   "cell_type": "markdown",
   "metadata": {},
   "source": [
    "### Exercise 1\n",
    "\n",
    "Create a Class with instance attributes.Write a Python program to create a Vehicle class with max_speed and mileage instance attributes.\n"
   ]
  },
  {
   "cell_type": "code",
   "execution_count": 2,
   "metadata": {},
   "outputs": [],
   "source": [
    "class Vehicle:\n",
    "    def __init__(self, max_speed, mileage):\n",
    "        self.__max_speed = max_speed\n",
    "        self.__mileage = mileage\n",
    "\n",
    "    def __str__(self):\n",
    "        return 'This car has a maximum speed of {} km/h and a mileage of {}'.format(self.__max_speed, self.__mileage)"
   ]
  },
  {
   "cell_type": "code",
   "execution_count": 3,
   "metadata": {},
   "outputs": [
    {
     "name": "stdout",
     "output_type": "stream",
     "text": [
      "This car has a maximum speed of 230 km/h and a mileage of 10\n"
     ]
    }
   ],
   "source": [
    "test_vehicle = Vehicle(230, 10)\n",
    "print(test_vehicle)"
   ]
  },
  {
   "cell_type": "markdown",
   "metadata": {},
   "source": [
    "### Exercise 2 \n",
    "\n",
    "Create a Vehicle class without any variables and methods"
   ]
  },
  {
   "cell_type": "code",
   "execution_count": null,
   "metadata": {},
   "outputs": [],
   "source": [
    "class Vehicle:\n",
    "    pass"
   ]
  },
  {
   "cell_type": "markdown",
   "metadata": {},
   "source": [
    "### Exercise 3\n",
    "\n",
    "Create a child class Bus that will inherit all of the variables and methods of the Vehicle class. Use the following code for your parent Vehicle class"
   ]
  },
  {
   "cell_type": "code",
   "execution_count": null,
   "metadata": {},
   "outputs": [],
   "source": [
    "class Vehicle:\n",
    "\n",
    "    def __init__(self, name, max_speed, mileage):\n",
    "        self._name = name\n",
    "        self._max_speed = max_speed\n",
    "        self._mileage = mileage"
   ]
  },
  {
   "cell_type": "code",
   "execution_count": 8,
   "metadata": {},
   "outputs": [],
   "source": [
    "class Bus(Vehicle):\n",
    "    def __init__(self, name, max_speed, mileage, accents):\n",
    "        super().__init__(name, max_speed, mileage)\n",
    "        self._accents = accents\n",
    "    \n",
    "    @property\n",
    "    def MaxSpeed(self):\n",
    "        return self._max_speed\n",
    "    \n",
    "    @property\n",
    "    def Name(self):\n",
    "        return self._name\n",
    "    \n",
    "    @property\n",
    "    def Mileage(self):\n",
    "        return self._mileage\n",
    "    \n",
    "    @property\n",
    "    def Accents(self):\n",
    "        return self._accents\n"
   ]
  },
  {
   "cell_type": "code",
   "execution_count": 9,
   "metadata": {},
   "outputs": [
    {
     "name": "stdout",
     "output_type": "stream",
     "text": [
      "This bus is called  'bus1', has a 200 km/h maximum speed, has a mileage of 10 and, in the total, it has 30 accents\n"
     ]
    }
   ],
   "source": [
    "test_bus = Bus('bus1', 200, 10, 30)\n",
    "\n",
    "print('This bus is called  \\'{}\\', has a {} km/h maximum speed, has a mileage of {} and, in the total, it has {} accents'.format(test_bus.Name, test_bus.MaxSpeed, test_bus.Mileage, test_bus.Accents))"
   ]
  },
  {
   "cell_type": "markdown",
   "metadata": {},
   "source": [
    "### Exercise 4\n",
    "\n",
    "Create a Bus class that inherits from the Vehicle class. Give the capacity argument of Bus.seating_capacity() a default value of 50. Use the following code for your parent Vehicle class"
   ]
  },
  {
   "cell_type": "code",
   "execution_count": 16,
   "metadata": {},
   "outputs": [],
   "source": [
    "class Vehicle:\n",
    "    def __init__(self, name, max_speed, mileage):\n",
    "        self.name = name\n",
    "        self.max_speed = max_speed\n",
    "        self.mileage = mileage\n",
    "\n",
    "    def seating_capacity(self, capacity):\n",
    "        return f\"The seating capacity of a {self.name} is {capacity} passengers\""
   ]
  },
  {
   "cell_type": "code",
   "execution_count": 17,
   "metadata": {},
   "outputs": [],
   "source": [
    "class Bus(Vehicle):\n",
    "    def __init__(self, name, max_speed, mileage, capacity=50):\n",
    "        super().__init__(name, max_speed, mileage)\n",
    "        self.capacity = capacity\n",
    "    "
   ]
  },
  {
   "cell_type": "code",
   "execution_count": 20,
   "metadata": {},
   "outputs": [
    {
     "data": {
      "text/plain": [
       "'The seating capacity of a Busao_Teste is 50 passengers'"
      ]
     },
     "execution_count": 20,
     "metadata": {},
     "output_type": "execute_result"
    }
   ],
   "source": [
    "test_bus = Bus('Teste_Bus', 100, 10)\n",
    "\n",
    "test_bus.seating_capacity(test_bus.capacity)"
   ]
  },
  {
   "cell_type": "markdown",
   "metadata": {},
   "source": [
    "### Exercise 5\n",
    "\n",
    "Define a property that must have the same value for every class instance (object). Define a class attribute”color” with a default value white. I.e., Every Vehicle should be white. Use the following code for this exercise"
   ]
  },
  {
   "cell_type": "code",
   "execution_count": 21,
   "metadata": {},
   "outputs": [],
   "source": [
    "class Vehicle:\n",
    "\n",
    "    def __init__(self, name, max_speed, mileage):\n",
    "        self.name = name\n",
    "        self.max_speed = max_speed\n",
    "        self.mileage = mileage\n",
    "\n",
    "class Bus(Vehicle):\n",
    "    pass\n",
    "\n",
    "class Car(Vehicle):\n",
    "    pass"
   ]
  },
  {
   "cell_type": "code",
   "execution_count": 27,
   "metadata": {},
   "outputs": [],
   "source": [
    "class Vehicle:\n",
    "    def __init__(self, name, max_speed, mileage, color='white'):\n",
    "        self.name = name\n",
    "        self.max_speed = max_speed\n",
    "        self.mileage = mileage\n",
    "        self.color = color\n",
    "\n",
    "    def print_data(self):\n",
    "        print('Color: {}, Vehicle name: {}, Speed: {}, Mileage: {}'.format(self.color, self.name, self.max_speed, self.mileage))\n",
    "    \n",
    "\n",
    "class Bus(Vehicle):\n",
    "    def __init__(self, name, max_speed, mileage, color='white'):\n",
    "        super().__init__(name, max_speed, mileage, color)\n",
    "\n",
    "    def print_data(self):\n",
    "        super().print_data()\n",
    "    \n",
    "    #pass\n",
    "\n",
    "\n",
    "# since we are using inheritance, all attributes and methods are already being provided (we don't need to define anything else if the superclass already has all of our needed procedures; this is a good practice though)\n",
    "\n",
    "class Car(Vehicle):\n",
    "    def __init__(self, name, max_speed, mileage, color='white'):\n",
    "        super().__init__(name, max_speed, mileage, color)\n",
    "\n",
    "    def print_data(self):\n",
    "        super().print_data()\n",
    "\n",
    "    #pass\n",
    "\n",
    "# since we are using inheritance, all attributes and methods are already being provided (we don't need to define anything else if the superclass already has all of our needed procedures; this is a good practice though)"
   ]
  },
  {
   "cell_type": "code",
   "execution_count": 28,
   "metadata": {},
   "outputs": [
    {
     "name": "stdout",
     "output_type": "stream",
     "text": [
      "Color: white, Vehicle name: TestCar, Speed: 200, Mileage: 20\n",
      "Color: white, Vehicle name: TestBus, Speed: 100, Mileage: 5\n"
     ]
    }
   ],
   "source": [
    "# taking advantage from polimorfism property of the subclasses\n",
    "test_car = Car('TestCar', 200, 20)\n",
    "test_bus = Bus('TestBus',100, 5)\n",
    "\n",
    "#test_car.print_data()\n",
    "#test_bus.print_data()\n",
    "\n",
    "vehicles = [test_car, test_bus]\n",
    "for vehicle in vehicles:\n",
    "    vehicle.print_data()\n"
   ]
  },
  {
   "cell_type": "markdown",
   "metadata": {},
   "source": [
    "- There was another way to have solved this problem, which was by defining a class attribute, like in the code below"
   ]
  },
  {
   "cell_type": "code",
   "execution_count": 36,
   "metadata": {},
   "outputs": [
    {
     "name": "stdout",
     "output_type": "stream",
     "text": [
      "Color:  White, Name:  School Volvo, Speed:  180, Mileage:  12\n",
      "Color:  White, Name:  Audi Q5, Speed:  240, Mileage:  18\n"
     ]
    }
   ],
   "source": [
    "class Vehicle:\n",
    "    # Class attribute\n",
    "    color = \"White\"\n",
    "\n",
    "    def __init__(self, name, max_speed, mileage):\n",
    "        self.name = name\n",
    "        self.max_speed = max_speed\n",
    "        self.mileage = mileage\n",
    "\n",
    "class Bus(Vehicle):\n",
    "    pass\n",
    "\n",
    "class Car(Vehicle):\n",
    "    pass\n",
    "\n",
    "School_bus = Bus(\"School Volvo\", 180, 12)\n",
    "print('Color: ',School_bus.color+',', 'Name: ', School_bus.name+',', \"Speed: \", str(School_bus.max_speed)+',', \"Mileage: \", School_bus.mileage)\n",
    "\n",
    "car = Car(\"Audi Q5\", 240, 18)\n",
    "print('Color: ',car.color+',', 'Name: ', car.name+',', \"Speed: \", str(car.max_speed)+',', \"Mileage: \", car.mileage)"
   ]
  },
  {
   "cell_type": "markdown",
   "metadata": {},
   "source": [
    "### Exercise 6\n",
    "\n",
    "Create a Bus child class that inherits from the Vehicle class. The default fare charge of any vehicle is seating capacity * 100. If Vehicle is Bus instance, we need to add an extra 10% on full fare as a maintenance charge. So total fare for bus instance will become the final amount = total fare + 10% of the total fare.\n",
    "\n",
    "Note: The bus seating capacity is 50. so the final fare amount should be 5500. You need to override the fare() method of a Vehicle class in Bus class.\n",
    "\n",
    "Use the following code for your parent Vehicle class. We need to access the parent class from inside a method of a child class"
   ]
  },
  {
   "cell_type": "code",
   "execution_count": 40,
   "metadata": {},
   "outputs": [
    {
     "name": "stdout",
     "output_type": "stream",
     "text": [
      "Total Bus fare is: 5500.0\n"
     ]
    }
   ],
   "source": [
    "class Vehicle:\n",
    "    def __init__(self, name, mileage, capacity):\n",
    "        self.name = name\n",
    "        self.mileage = mileage\n",
    "        self.capacity = capacity\n",
    "\n",
    "    def fare(self):\n",
    "        return self.capacity * 100 # it already calculates the total fare of a vehicle considering its seating capacity\n",
    "\n",
    "class Bus(Vehicle):\n",
    "    def __init__(self, name, mileage, capacity):\n",
    "        super().__init__(name, mileage, capacity)\n",
    "\n",
    "    def fare(self):\n",
    "        return super().fare() + 0.1*super().fare() #total fare + 10% of the total fare\n",
    "\n",
    "School_bus = Bus(\"School Volvo\", 12, 50)\n",
    "print(\"Total Bus fare is:\", School_bus.fare())"
   ]
  },
  {
   "cell_type": "markdown",
   "metadata": {},
   "source": [
    "### Exercise 8\n",
    "\n",
    "Determine if School_bus is also an instance of the Vehicle class given the following code"
   ]
  },
  {
   "cell_type": "code",
   "execution_count": 55,
   "metadata": {},
   "outputs": [],
   "source": [
    "class Vehicle:\n",
    "    def __init__(self, name, mileage, capacity):\n",
    "        self.name = name\n",
    "        self.mileage = mileage\n",
    "        self.capacity = capacity\n",
    "\n",
    "class Bus(Vehicle):\n",
    "    pass\n",
    "\n",
    "School_bus = Bus(\"School Volvo\", 12, 50)"
   ]
  },
  {
   "cell_type": "code",
   "execution_count": 56,
   "metadata": {},
   "outputs": [
    {
     "data": {
      "text/plain": [
       "True"
      ]
     },
     "execution_count": 56,
     "metadata": {},
     "output_type": "execute_result"
    }
   ],
   "source": [
    "isinstance(School_bus, Bus)"
   ]
  },
  {
   "cell_type": "code",
   "execution_count": 57,
   "metadata": {},
   "outputs": [
    {
     "data": {
      "text/plain": [
       "True"
      ]
     },
     "execution_count": 57,
     "metadata": {},
     "output_type": "execute_result"
    }
   ],
   "source": [
    "isinstance(School_bus,Vehicle)"
   ]
  },
  {
   "cell_type": "markdown",
   "metadata": {},
   "source": [
    "- It is interesting to notice that if the School_bus object were defined from Vehicle class, it would not be an instance of Bus. So what we conclude is that every subclass instance is also an instance of a superclass, but the opposite is not true "
   ]
  },
  {
   "cell_type": "markdown",
   "metadata": {},
   "source": [
    "### Exercise 9\n",
    "\n",
    "Write a program to determine which class a given Bus object belongs to given the following code"
   ]
  },
  {
   "cell_type": "code",
   "execution_count": 58,
   "metadata": {},
   "outputs": [],
   "source": [
    "class Vehicle:\n",
    "    def __init__(self, name, mileage, capacity):\n",
    "        self.name = name\n",
    "        self.mileage = mileage\n",
    "        self.capacity = capacity\n",
    "\n",
    "class Bus(Vehicle):\n",
    "    pass\n",
    "\n",
    "School_bus = Bus(\"School Volvo\", 12, 50)"
   ]
  },
  {
   "cell_type": "code",
   "execution_count": 59,
   "metadata": {},
   "outputs": [
    {
     "name": "stdout",
     "output_type": "stream",
     "text": [
      "<__main__.Bus object at 0x000002134AAC3FB0>\n"
     ]
    }
   ],
   "source": [
    "print(School_bus)"
   ]
  },
  {
   "cell_type": "code",
   "execution_count": 60,
   "metadata": {},
   "outputs": [
    {
     "name": "stdout",
     "output_type": "stream",
     "text": [
      "<class '__main__.Bus'>\n"
     ]
    }
   ],
   "source": [
    "print(type(School_bus))"
   ]
  },
  {
   "cell_type": "markdown",
   "metadata": {},
   "source": [
    "- So we conclude that School_bus is an object defined from Bus class, not from the class Vehicle. But, as we saw in the previous exercise, it can be treated as an instance of both classes.\n",
    "\n",
    "- **Obs**\n",
    "    - The concepts of objects and instances are similiar and can be sometimes mixed together. But, in general words, the best definition for these two terms is compiled into the following frase: *Object is an instance of a object type (class)*\n",
    "\n",
    "    - This makes sense! School_bus is an object of the Bus class, so it is an *instance* of this class. But if we think that every Bus is also a Vehicle, i.e., since both classes are connected by inheritance, it is also completely correct to say that School_bus, in spite of being a Bus object, is also an *instance* of Vehicle, because both classes generate same kind of objects (or, in other words, objects with similiar properties)."
   ]
  }
 ],
 "metadata": {
  "kernelspec": {
   "display_name": "Python 3",
   "language": "python",
   "name": "python3"
  },
  "language_info": {
   "codemirror_mode": {
    "name": "ipython",
    "version": 3
   },
   "file_extension": ".py",
   "mimetype": "text/x-python",
   "name": "python",
   "nbconvert_exporter": "python",
   "pygments_lexer": "ipython3",
   "version": "3.12.0"
  }
 },
 "nbformat": 4,
 "nbformat_minor": 2
}
