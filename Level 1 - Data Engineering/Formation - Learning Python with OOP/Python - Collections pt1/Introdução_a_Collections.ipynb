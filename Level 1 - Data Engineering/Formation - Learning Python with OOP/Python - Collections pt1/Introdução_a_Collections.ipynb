{
  "cells": [
    {
      "cell_type": "markdown",
      "metadata": {},
      "source": [
        "### Introdução às Collections'"
      ]
    },
    {
      "cell_type": "code",
      "execution_count": 47,
      "metadata": {
        "colab": {
          "base_uri": "https://localhost:8080/",
          "height": 84
        },
        "colab_type": "code",
        "id": "i92eaEWHL_tu",
        "outputId": "d871b668-3fcf-4b70-b76f-d0fd18a3cbfb"
      },
      "outputs": [
        {
          "name": "stdout",
          "output_type": "stream",
          "text": [
            "39\n",
            "30\n",
            "27\n",
            "18\n"
          ]
        }
      ],
      "source": [
        "idade1 = 39\n",
        "idade2 = 30\n",
        "idade3 = 27\n",
        "idade4 = 18\n",
        "\n",
        "print(idade1)\n",
        "print(idade2)\n",
        "print(idade3)\n",
        "print(idade4)"
      ]
    },
    {
      "cell_type": "code",
      "execution_count": 48,
      "metadata": {
        "colab": {},
        "colab_type": "code",
        "id": "27g6sNsIMZEL"
      },
      "outputs": [],
      "source": [
        "idades = [39, 30, 27, 18]"
      ]
    },
    {
      "cell_type": "code",
      "execution_count": 49,
      "metadata": {
        "colab": {
          "base_uri": "https://localhost:8080/",
          "height": 34
        },
        "colab_type": "code",
        "id": "nMoUaGF8MmuM",
        "outputId": "873010d9-0c3b-4de9-8f2e-0df91484406d"
      },
      "outputs": [
        {
          "data": {
            "text/plain": [
              "list"
            ]
          },
          "execution_count": 49,
          "metadata": {},
          "output_type": "execute_result"
        }
      ],
      "source": [
        "type(idades)"
      ]
    },
    {
      "cell_type": "code",
      "execution_count": 50,
      "metadata": {
        "colab": {
          "base_uri": "https://localhost:8080/",
          "height": 34
        },
        "colab_type": "code",
        "id": "693125bLMoQo",
        "outputId": "76f23b9d-f84b-4810-c835-3cf8e988e13a"
      },
      "outputs": [
        {
          "data": {
            "text/plain": [
              "4"
            ]
          },
          "execution_count": 50,
          "metadata": {},
          "output_type": "execute_result"
        }
      ],
      "source": [
        "len(idades)"
      ]
    },
    {
      "cell_type": "code",
      "execution_count": 51,
      "metadata": {
        "colab": {
          "base_uri": "https://localhost:8080/",
          "height": 34
        },
        "colab_type": "code",
        "id": "HhRSkKaNM70v",
        "outputId": "f0eb0381-e6cb-46b9-d80a-e5fb93ffda20"
      },
      "outputs": [
        {
          "data": {
            "text/plain": [
              "39"
            ]
          },
          "execution_count": 51,
          "metadata": {},
          "output_type": "execute_result"
        }
      ],
      "source": [
        "idades[0]"
      ]
    },
    {
      "cell_type": "code",
      "execution_count": 52,
      "metadata": {
        "colab": {
          "base_uri": "https://localhost:8080/",
          "height": 34
        },
        "colab_type": "code",
        "id": "7Wra5jZLM_6e",
        "outputId": "87f8d517-a653-4164-e621-982ceeae6f8b"
      },
      "outputs": [
        {
          "data": {
            "text/plain": [
              "[39, 30, 27, 18]"
            ]
          },
          "execution_count": 52,
          "metadata": {},
          "output_type": "execute_result"
        }
      ],
      "source": [
        "idades"
      ]
    },
    {
      "cell_type": "code",
      "execution_count": 53,
      "metadata": {
        "colab": {
          "base_uri": "https://localhost:8080/",
          "height": 67
        },
        "colab_type": "code",
        "id": "NXyDZcsZNBJm",
        "outputId": "a06e0ef7-5766-428e-fc3d-98c893cb2ba9"
      },
      "outputs": [
        {
          "name": "stdout",
          "output_type": "stream",
          "text": [
            "30\n",
            "27\n",
            "18\n"
          ]
        }
      ],
      "source": [
        "print(idades[1])\n",
        "print(idades[2])\n",
        "print(idades[3])"
      ]
    },
    {
      "cell_type": "code",
      "execution_count": 54,
      "metadata": {
        "colab": {},
        "colab_type": "code",
        "id": "60CS-6vnNEzX"
      },
      "outputs": [],
      "source": [
        "idades.append(15)"
      ]
    },
    {
      "cell_type": "code",
      "execution_count": 55,
      "metadata": {
        "colab": {
          "base_uri": "https://localhost:8080/",
          "height": 34
        },
        "colab_type": "code",
        "id": "LgNGaf7FNSr-",
        "outputId": "b4118e96-3abc-44f9-eb97-a187b86dcdf0"
      },
      "outputs": [
        {
          "data": {
            "text/plain": [
              "[39, 30, 27, 18, 15]"
            ]
          },
          "execution_count": 55,
          "metadata": {},
          "output_type": "execute_result"
        }
      ],
      "source": [
        "idades"
      ]
    },
    {
      "cell_type": "code",
      "execution_count": 56,
      "metadata": {
        "colab": {
          "base_uri": "https://localhost:8080/",
          "height": 34
        },
        "colab_type": "code",
        "id": "PqFCqcOvNT7h",
        "outputId": "3484bb85-8703-481d-d669-f499397c8741"
      },
      "outputs": [
        {
          "data": {
            "text/plain": [
              "15"
            ]
          },
          "execution_count": 56,
          "metadata": {},
          "output_type": "execute_result"
        }
      ],
      "source": [
        "idades[4]"
      ]
    },
    {
      "cell_type": "code",
      "execution_count": 57,
      "metadata": {
        "colab": {
          "base_uri": "https://localhost:8080/",
          "height": 162
        },
        "colab_type": "code",
        "id": "aCzxDZ0CNVti",
        "outputId": "da86fe7c-9f23-4f9e-cf57-a7d85750260b"
      },
      "outputs": [
        {
          "ename": "IndexError",
          "evalue": "list index out of range",
          "output_type": "error",
          "traceback": [
            "\u001b[1;31m---------------------------------------------------------------------------\u001b[0m",
            "\u001b[1;31mIndexError\u001b[0m                                Traceback (most recent call last)",
            "\u001b[1;32mc:\\Users\\LUCAS\\Documents\\Data Engineering\\Data-Engineering\\Level 1 - Data Engineering\\Formation - Learning Python with OOP\\Python - Collections pt1\\Introdução_a_Collections.ipynb Cell 12\u001b[0m line \u001b[0;36m1\n\u001b[1;32m----> <a href='vscode-notebook-cell:/c%3A/Users/LUCAS/Documents/Data%20Engineering/Data-Engineering/Level%201%20-%20Data%20Engineering/Formation%20-%20Learning%20Python%20with%20OOP/Python%20-%20Collections%20pt1/Introdu%C3%A7%C3%A3o_a_Collections.ipynb#X14sZmlsZQ%3D%3D?line=0'>1</a>\u001b[0m idades[\u001b[39m5\u001b[39;49m]\n",
            "\u001b[1;31mIndexError\u001b[0m: list index out of range"
          ]
        }
      ],
      "source": [
        "idades[5]"
      ]
    },
    {
      "cell_type": "code",
      "execution_count": null,
      "metadata": {
        "colab": {
          "base_uri": "https://localhost:8080/",
          "height": 101
        },
        "colab_type": "code",
        "id": "AXKjngwvNXLM",
        "outputId": "8e4c3efa-3cd1-424f-ef20-0ae9c306b927"
      },
      "outputs": [
        {
          "name": "stdout",
          "output_type": "stream",
          "text": [
            "39\n",
            "30\n",
            "27\n",
            "18\n",
            "15\n"
          ]
        }
      ],
      "source": [
        "for idade in idades:\n",
        "  print(idade)"
      ]
    },
    {
      "cell_type": "code",
      "execution_count": null,
      "metadata": {
        "colab": {},
        "colab_type": "code",
        "id": "e086OjeaNmWj"
      },
      "outputs": [],
      "source": [
        "idades.remove(30)"
      ]
    },
    {
      "cell_type": "code",
      "execution_count": null,
      "metadata": {
        "colab": {
          "base_uri": "https://localhost:8080/",
          "height": 34
        },
        "colab_type": "code",
        "id": "5A6pLLh4No8s",
        "outputId": "83eb8f32-033e-410c-9aac-a17e5cea45b2"
      },
      "outputs": [
        {
          "data": {
            "text/plain": [
              "[39, 27, 18, 15]"
            ]
          },
          "execution_count": 19,
          "metadata": {
            "tags": []
          },
          "output_type": "execute_result"
        }
      ],
      "source": [
        "idades"
      ]
    },
    {
      "cell_type": "code",
      "execution_count": null,
      "metadata": {
        "colab": {
          "base_uri": "https://localhost:8080/",
          "height": 162
        },
        "colab_type": "code",
        "id": "ojsePmRwNpy2",
        "outputId": "2beab908-ba71-4dff-dc8a-dd94b70f8bb4"
      },
      "outputs": [
        {
          "ename": "ValueError",
          "evalue": "ignored",
          "output_type": "error",
          "traceback": [
            "\u001b[0;31m---------------------------------------------------------------------------\u001b[0m",
            "\u001b[0;31mValueError\u001b[0m                                Traceback (most recent call last)",
            "\u001b[0;32m<ipython-input-20-4f77f6ee3785>\u001b[0m in \u001b[0;36m<module>\u001b[0;34m()\u001b[0m\n\u001b[0;32m----> 1\u001b[0;31m \u001b[0midades\u001b[0m\u001b[0;34m.\u001b[0m\u001b[0mremove\u001b[0m\u001b[0;34m(\u001b[0m\u001b[0;36m30\u001b[0m\u001b[0;34m)\u001b[0m\u001b[0;34m\u001b[0m\u001b[0;34m\u001b[0m\u001b[0m\n\u001b[0m",
            "\u001b[0;31mValueError\u001b[0m: list.remove(x): x not in list"
          ]
        }
      ],
      "source": [
        "idades.remove(30)"
      ]
    },
    {
      "cell_type": "code",
      "execution_count": null,
      "metadata": {
        "colab": {},
        "colab_type": "code",
        "id": "kkdK3t6nNsXW"
      },
      "outputs": [],
      "source": [
        "idades.append(15)"
      ]
    },
    {
      "cell_type": "code",
      "execution_count": null,
      "metadata": {
        "colab": {
          "base_uri": "https://localhost:8080/",
          "height": 34
        },
        "colab_type": "code",
        "id": "caaWvENvNv8N",
        "outputId": "19bf6599-f2d8-4cbd-e9a5-af1968e614e3"
      },
      "outputs": [
        {
          "data": {
            "text/plain": [
              "[39, 27, 18, 15, 15]"
            ]
          },
          "execution_count": 22,
          "metadata": {
            "tags": []
          },
          "output_type": "execute_result"
        }
      ],
      "source": [
        "idades"
      ]
    },
    {
      "cell_type": "code",
      "execution_count": null,
      "metadata": {
        "colab": {},
        "colab_type": "code",
        "id": "IZC0ENA1Nwso"
      },
      "outputs": [],
      "source": [
        "idades.remove(15)"
      ]
    },
    {
      "cell_type": "code",
      "execution_count": null,
      "metadata": {
        "colab": {
          "base_uri": "https://localhost:8080/",
          "height": 34
        },
        "colab_type": "code",
        "id": "80fchrRGNx4A",
        "outputId": "5a7258c1-dd6b-46d9-c468-0b7b58819d73"
      },
      "outputs": [
        {
          "data": {
            "text/plain": [
              "[39, 27, 18, 15]"
            ]
          },
          "execution_count": 24,
          "metadata": {
            "tags": []
          },
          "output_type": "execute_result"
        }
      ],
      "source": [
        "idades"
      ]
    },
    {
      "cell_type": "code",
      "execution_count": null,
      "metadata": {
        "colab": {
          "base_uri": "https://localhost:8080/",
          "height": 34
        },
        "colab_type": "code",
        "id": "yNWCUQupNycy",
        "outputId": "afde6e30-a7f1-451e-afd4-ec6e03d52cf0"
      },
      "outputs": [
        {
          "data": {
            "text/plain": [
              "[39, 18, 15, 27]"
            ]
          },
          "execution_count": 25,
          "metadata": {
            "tags": []
          },
          "output_type": "execute_result"
        }
      ],
      "source": [
        "idades.append(27)\n",
        "idades.remove(27)\n",
        "idades"
      ]
    },
    {
      "cell_type": "code",
      "execution_count": null,
      "metadata": {
        "colab": {
          "base_uri": "https://localhost:8080/",
          "height": 34
        },
        "colab_type": "code",
        "id": "Kot_FAOkN3g3",
        "outputId": "9d6ff2b1-382b-4953-bdef-7b115474d749"
      },
      "outputs": [
        {
          "data": {
            "text/plain": [
              "False"
            ]
          },
          "execution_count": 26,
          "metadata": {
            "tags": []
          },
          "output_type": "execute_result"
        }
      ],
      "source": [
        "28 in idades"
      ]
    },
    {
      "cell_type": "code",
      "execution_count": null,
      "metadata": {
        "colab": {
          "base_uri": "https://localhost:8080/",
          "height": 34
        },
        "colab_type": "code",
        "id": "DMmSks6eOmaX",
        "outputId": "4d6cfb43-e8d1-43aa-8355-842c7a2b337e"
      },
      "outputs": [
        {
          "data": {
            "text/plain": [
              "True"
            ]
          },
          "execution_count": 27,
          "metadata": {
            "tags": []
          },
          "output_type": "execute_result"
        }
      ],
      "source": [
        "15 in idades"
      ]
    },
    {
      "cell_type": "code",
      "execution_count": null,
      "metadata": {
        "colab": {},
        "colab_type": "code",
        "id": "N01sbE4xOoAF"
      },
      "outputs": [],
      "source": [
        "if 15 in idades:\n",
        "  idades.remove(15)"
      ]
    },
    {
      "cell_type": "code",
      "execution_count": null,
      "metadata": {
        "colab": {
          "base_uri": "https://localhost:8080/",
          "height": 34
        },
        "colab_type": "code",
        "id": "U4Ozd7ZxOukR",
        "outputId": "6b205258-fa04-43b2-b9e9-7000c158a318"
      },
      "outputs": [
        {
          "data": {
            "text/plain": [
              "[39, 18, 27]"
            ]
          },
          "execution_count": 29,
          "metadata": {
            "tags": []
          },
          "output_type": "execute_result"
        }
      ],
      "source": [
        "idades"
      ]
    },
    {
      "cell_type": "code",
      "execution_count": null,
      "metadata": {
        "colab": {},
        "colab_type": "code",
        "id": "SMgSWfVsOvrr"
      },
      "outputs": [],
      "source": [
        "if 28 in idades:\n",
        "  idades.remove(28)"
      ]
    },
    {
      "cell_type": "code",
      "execution_count": null,
      "metadata": {
        "colab": {
          "base_uri": "https://localhost:8080/",
          "height": 34
        },
        "colab_type": "code",
        "id": "feOCw2UEOzaf",
        "outputId": "c422c2ec-8203-4ca2-f680-4d517ed2a340"
      },
      "outputs": [
        {
          "data": {
            "text/plain": [
              "[39, 18, 27]"
            ]
          },
          "execution_count": 31,
          "metadata": {
            "tags": []
          },
          "output_type": "execute_result"
        }
      ],
      "source": [
        "idades"
      ]
    },
    {
      "cell_type": "code",
      "execution_count": null,
      "metadata": {
        "colab": {
          "base_uri": "https://localhost:8080/",
          "height": 34
        },
        "colab_type": "code",
        "id": "v9GOmJkDO0QH",
        "outputId": "4328f9e5-29f0-483e-8e1f-de9cbc459284"
      },
      "outputs": [
        {
          "data": {
            "text/plain": [
              "[39, 18, 27, 19]"
            ]
          },
          "execution_count": 32,
          "metadata": {
            "tags": []
          },
          "output_type": "execute_result"
        }
      ],
      "source": [
        "idades.append(19)\n",
        "idades"
      ]
    },
    {
      "cell_type": "code",
      "execution_count": null,
      "metadata": {
        "colab": {
          "base_uri": "https://localhost:8080/",
          "height": 34
        },
        "colab_type": "code",
        "id": "EXZzTRCWO6LU",
        "outputId": "986d05a8-b345-4bbc-f34f-b087f9d4957d"
      },
      "outputs": [
        {
          "data": {
            "text/plain": [
              "[20, 39, 18, 27, 19]"
            ]
          },
          "execution_count": 33,
          "metadata": {
            "tags": []
          },
          "output_type": "execute_result"
        }
      ],
      "source": [
        "idades.insert(0, 20)\n",
        "idades"
      ]
    },
    {
      "cell_type": "code",
      "execution_count": null,
      "metadata": {
        "colab": {
          "base_uri": "https://localhost:8080/",
          "height": 34
        },
        "colab_type": "code",
        "id": "yQ6QIHbVPDJm",
        "outputId": "22d62c05-88e7-4041-be71-eeba0d17e932"
      },
      "outputs": [
        {
          "data": {
            "text/plain": [
              "[20, 39, 18]"
            ]
          },
          "execution_count": 34,
          "metadata": {
            "tags": []
          },
          "output_type": "execute_result"
        }
      ],
      "source": [
        "idades = [20, 39, 18]\n",
        "idades"
      ]
    },
    {
      "cell_type": "code",
      "execution_count": null,
      "metadata": {
        "colab": {},
        "colab_type": "code",
        "id": "1x5IZ3LxPKFw"
      },
      "outputs": [],
      "source": [
        "idades.append([27, 19])"
      ]
    },
    {
      "cell_type": "code",
      "execution_count": null,
      "metadata": {
        "colab": {
          "base_uri": "https://localhost:8080/",
          "height": 34
        },
        "colab_type": "code",
        "id": "pbjqVYWcPNfa",
        "outputId": "5a1b5d0b-66b9-40a0-a820-94842fe5d1ca"
      },
      "outputs": [
        {
          "data": {
            "text/plain": [
              "[20, 39, 18, [27, 19]]"
            ]
          },
          "execution_count": 37,
          "metadata": {
            "tags": []
          },
          "output_type": "execute_result"
        }
      ],
      "source": [
        "idades"
      ]
    },
    {
      "cell_type": "code",
      "execution_count": null,
      "metadata": {
        "colab": {
          "base_uri": "https://localhost:8080/",
          "height": 84
        },
        "colab_type": "code",
        "id": "YJndRY-ZPTb8",
        "outputId": "325e4c82-69ed-432d-f692-0030bf920a09"
      },
      "outputs": [
        {
          "name": "stdout",
          "output_type": "stream",
          "text": [
            "Recebi o elemento 20\n",
            "Recebi o elemento 39\n",
            "Recebi o elemento 18\n",
            "Recebi o elemento [27, 19]\n"
          ]
        }
      ],
      "source": [
        "for elemento in idades:\n",
        "  print(\"Recebi o elemento\", elemento)"
      ]
    },
    {
      "cell_type": "code",
      "execution_count": null,
      "metadata": {
        "colab": {
          "base_uri": "https://localhost:8080/",
          "height": 34
        },
        "colab_type": "code",
        "id": "Rt1JRcrIPZVL",
        "outputId": "34ef7b0d-bc95-4ec6-99eb-71ecfeca83d2"
      },
      "outputs": [
        {
          "data": {
            "text/plain": [
              "[20, 39, 18, 27, 19]"
            ]
          },
          "execution_count": 39,
          "metadata": {
            "tags": []
          },
          "output_type": "execute_result"
        }
      ],
      "source": [
        "idades = [20, 39, 18]\n",
        "idades.extend([27, 19])\n",
        "idades"
      ]
    },
    {
      "cell_type": "code",
      "execution_count": null,
      "metadata": {
        "colab": {
          "base_uri": "https://localhost:8080/",
          "height": 101
        },
        "colab_type": "code",
        "id": "2TqBUj41PwzS",
        "outputId": "f6e4e9bb-f866-4fb0-bc5a-2be373185544"
      },
      "outputs": [
        {
          "name": "stdout",
          "output_type": "stream",
          "text": [
            "21\n",
            "40\n",
            "19\n",
            "28\n",
            "20\n"
          ]
        }
      ],
      "source": [
        "for idade in idades:\n",
        "  print(idade + 1)"
      ]
    },
    {
      "cell_type": "code",
      "execution_count": null,
      "metadata": {
        "colab": {
          "base_uri": "https://localhost:8080/",
          "height": 34
        },
        "colab_type": "code",
        "id": "-zU67OikQCJq",
        "outputId": "93a76c21-4b69-47a4-dcd9-5b42fce70b30"
      },
      "outputs": [
        {
          "data": {
            "text/plain": [
              "[21, 40, 19, 28, 20]"
            ]
          },
          "execution_count": 41,
          "metadata": {
            "tags": []
          },
          "output_type": "execute_result"
        }
      ],
      "source": [
        "idades_no_ano_que_vem = []\n",
        "for idade in idades:\n",
        "  idades_no_ano_que_vem.append(idade+1)\n",
        "idades_no_ano_que_vem"
      ]
    },
    {
      "cell_type": "code",
      "execution_count": null,
      "metadata": {
        "colab": {
          "base_uri": "https://localhost:8080/",
          "height": 34
        },
        "colab_type": "code",
        "id": "P50Oyp-EQQrC",
        "outputId": "bc1c0261-05af-46d1-a8d5-fc9957afdf9d"
      },
      "outputs": [
        {
          "data": {
            "text/plain": [
              "[21, 40, 19, 28, 20]"
            ]
          },
          "execution_count": 43,
          "metadata": {
            "tags": []
          },
          "output_type": "execute_result"
        }
      ],
      "source": [
        "idades_no_ano_que_vem = [idade+1 for idade in idades]\n",
        "idades_no_ano_que_vem"
      ]
    },
    {
      "cell_type": "code",
      "execution_count": null,
      "metadata": {
        "colab": {
          "base_uri": "https://localhost:8080/",
          "height": 34
        },
        "colab_type": "code",
        "id": "QdPT5ougQmvS",
        "outputId": "e6f6defd-e799-4208-dcd4-7477944a123e"
      },
      "outputs": [
        {
          "data": {
            "text/plain": [
              "[39, 27]"
            ]
          },
          "execution_count": 44,
          "metadata": {
            "tags": []
          },
          "output_type": "execute_result"
        }
      ],
      "source": [
        "[idade for idade in idades if idade > 21]"
      ]
    },
    {
      "cell_type": "code",
      "execution_count": null,
      "metadata": {
        "colab": {
          "base_uri": "https://localhost:8080/",
          "height": 34
        },
        "colab_type": "code",
        "id": "25Mg6X9zQ-U5",
        "outputId": "ff1c9ce9-0df4-434c-cd70-0c78d28c23df"
      },
      "outputs": [
        {
          "data": {
            "text/plain": [
              "[20, 39, 18, 27, 19]"
            ]
          },
          "execution_count": 45,
          "metadata": {
            "tags": []
          },
          "output_type": "execute_result"
        }
      ],
      "source": [
        "idades"
      ]
    },
    {
      "cell_type": "code",
      "execution_count": null,
      "metadata": {
        "colab": {
          "base_uri": "https://localhost:8080/",
          "height": 34
        },
        "colab_type": "code",
        "id": "feAiRsuTRAQ0",
        "outputId": "46cfc170-4f7a-4804-b8f1-a6efcb573247"
      },
      "outputs": [
        {
          "data": {
            "text/plain": [
              "[40, 28]"
            ]
          },
          "execution_count": 46,
          "metadata": {
            "tags": []
          },
          "output_type": "execute_result"
        }
      ],
      "source": [
        "def proximo_ano(idade):\n",
        "  return idade+1\n",
        "\n",
        "[proximo_ano(idade) for idade in idades if idade > 21]"
      ]
    },
    {
      "cell_type": "code",
      "execution_count": null,
      "metadata": {
        "colab": {},
        "colab_type": "code",
        "id": "zHFn9PYHSY3Z"
      },
      "outputs": [],
      "source": [
        "def faz_processamento_de_visualizacao(lista):\n",
        "  print(len(lista))\n",
        "  lista.append(13)"
      ]
    },
    {
      "cell_type": "code",
      "execution_count": null,
      "metadata": {
        "colab": {
          "base_uri": "https://localhost:8080/",
          "height": 50
        },
        "colab_type": "code",
        "id": "7nWLQ7t-SqT3",
        "outputId": "74ee7eec-880e-4f4f-9fb7-26e84d1551ba"
      },
      "outputs": [
        {
          "name": "stdout",
          "output_type": "stream",
          "text": [
            "5\n"
          ]
        },
        {
          "data": {
            "text/plain": [
              "[16, 21, 29, 56, 43, 13]"
            ]
          },
          "execution_count": 54,
          "metadata": {
            "tags": []
          },
          "output_type": "execute_result"
        }
      ],
      "source": [
        "idades = [16, 21, 29, 56, 43]\n",
        "faz_processamento_de_visualizacao(idades)\n",
        "idades"
      ]
    },
    {
      "cell_type": "code",
      "execution_count": null,
      "metadata": {
        "colab": {},
        "colab_type": "code",
        "id": "k8n9XUouSvXc"
      },
      "outputs": [],
      "source": [
        "def faz_processamento_de_visualizacao(lista = []):\n",
        "  print(len(lista))\n",
        "  print(lista)\n",
        "  lista.append(13)"
      ]
    },
    {
      "cell_type": "code",
      "execution_count": null,
      "metadata": {
        "colab": {
          "base_uri": "https://localhost:8080/",
          "height": 50
        },
        "colab_type": "code",
        "id": "p-KkKf-6Tplr",
        "outputId": "8ca509de-6b48-4830-b59f-74f5fceaebf4"
      },
      "outputs": [
        {
          "name": "stdout",
          "output_type": "stream",
          "text": [
            "0\n",
            "[]\n"
          ]
        }
      ],
      "source": [
        "faz_processamento_de_visualizacao()"
      ]
    },
    {
      "cell_type": "code",
      "execution_count": null,
      "metadata": {
        "colab": {
          "base_uri": "https://localhost:8080/",
          "height": 50
        },
        "colab_type": "code",
        "id": "29p5f7fOTs9h",
        "outputId": "ef5e7ae5-5954-4079-e522-fbd4a036f3ff"
      },
      "outputs": [
        {
          "name": "stdout",
          "output_type": "stream",
          "text": [
            "1\n",
            "[13]\n"
          ]
        }
      ],
      "source": [
        "faz_processamento_de_visualizacao()"
      ]
    },
    {
      "cell_type": "code",
      "execution_count": null,
      "metadata": {
        "colab": {
          "base_uri": "https://localhost:8080/",
          "height": 50
        },
        "colab_type": "code",
        "id": "DWP6B6DuTu0j",
        "outputId": "2418fd1d-0ec9-4ec7-b86c-3351c8fd7e99"
      },
      "outputs": [
        {
          "name": "stdout",
          "output_type": "stream",
          "text": [
            "2\n",
            "[13, 13]\n"
          ]
        }
      ],
      "source": [
        "faz_processamento_de_visualizacao()"
      ]
    },
    {
      "cell_type": "code",
      "execution_count": null,
      "metadata": {
        "colab": {
          "base_uri": "https://localhost:8080/",
          "height": 50
        },
        "colab_type": "code",
        "id": "HYbSLIiSTwOB",
        "outputId": "ed417dc4-53a9-423e-b624-ad924a230e2a"
      },
      "outputs": [
        {
          "name": "stdout",
          "output_type": "stream",
          "text": [
            "3\n",
            "[13, 13, 13]\n"
          ]
        }
      ],
      "source": [
        "faz_processamento_de_visualizacao()"
      ]
    },
    {
      "cell_type": "code",
      "execution_count": null,
      "metadata": {
        "colab": {},
        "colab_type": "code",
        "id": "vS-8-DHiTxdh"
      },
      "outputs": [],
      "source": [
        "def faz_processamento_de_visualizacao(lista = list()):\n",
        "  print(len(lista))\n",
        "  print(lista)\n",
        "  lista.append(13)"
      ]
    },
    {
      "cell_type": "code",
      "execution_count": null,
      "metadata": {
        "colab": {
          "base_uri": "https://localhost:8080/",
          "height": 85
        },
        "colab_type": "code",
        "id": "lCMngXMGUKli",
        "outputId": "996f93dd-a52b-4531-cc93-a8f1a852134b"
      },
      "outputs": [
        {
          "name": "stdout",
          "output_type": "stream",
          "text": [
            "0\n",
            "[]\n",
            "1\n",
            "[13]\n"
          ]
        }
      ],
      "source": [
        "faz_processamento_de_visualizacao()\n",
        "faz_processamento_de_visualizacao()"
      ]
    },
    {
      "cell_type": "code",
      "execution_count": null,
      "metadata": {
        "colab": {},
        "colab_type": "code",
        "id": "5sMp0XuKUMVf"
      },
      "outputs": [],
      "source": [
        "def faz_processamento_de_visualizacao(lista = None):\n",
        "  if lista == None:\n",
        "    lista = list()\n",
        "  print(len(lista))\n",
        "  print(lista)\n",
        "  lista.append(13)"
      ]
    },
    {
      "cell_type": "code",
      "execution_count": null,
      "metadata": {
        "colab": {
          "base_uri": "https://localhost:8080/",
          "height": 153
        },
        "colab_type": "code",
        "id": "2LxsmPtaUU-D",
        "outputId": "c686cb61-1678-478e-8aa5-f7bc79aa58d5"
      },
      "outputs": [
        {
          "name": "stdout",
          "output_type": "stream",
          "text": [
            "0\n",
            "[]\n",
            "0\n",
            "[]\n",
            "0\n",
            "[]\n",
            "0\n",
            "[]\n"
          ]
        }
      ],
      "source": [
        "faz_processamento_de_visualizacao()\n",
        "faz_processamento_de_visualizacao()\n",
        "faz_processamento_de_visualizacao()\n",
        "faz_processamento_de_visualizacao()"
      ]
    },
    {
      "cell_type": "markdown",
      "metadata": {},
      "source": [
        "### Tuplas"
      ]
    },
    {
      "cell_type": "code",
      "execution_count": null,
      "metadata": {
        "colab": {},
        "colab_type": "code",
        "id": "xD-vMk2iUYst"
      },
      "outputs": [],
      "source": [
        "class ContaCorrente:\n",
        "    def __init__(self, codigo, saldo = 0):\n",
        "        self.codigo = codigo\n",
        "        self.saldo = saldo\n",
        "    \n",
        "    def deposita(self, valor):\n",
        "        self.saldo += valor\n",
        "\n",
        "    def __str__(self):\n",
        "        return '[>> Codigo: {} / Saldo: {} <<]'.format(self.codigo, self.saldo)"
      ]
    },
    {
      "cell_type": "code",
      "execution_count": null,
      "metadata": {},
      "outputs": [
        {
          "name": "stdout",
          "output_type": "stream",
          "text": [
            "[>> Codigo: 123 / Saldo: 1200 <<]\n"
          ]
        }
      ],
      "source": [
        "conta_do_gui = ContaCorrente('123', 1000)\n",
        "conta_do_gui.deposita(200)\n",
        "print(conta_do_gui)"
      ]
    },
    {
      "cell_type": "code",
      "execution_count": null,
      "metadata": {},
      "outputs": [
        {
          "name": "stdout",
          "output_type": "stream",
          "text": [
            "[>> Codigo: 47685 / Saldo: 500 <<]\n"
          ]
        }
      ],
      "source": [
        "conta_da_dani = ContaCorrente('47685')\n",
        "conta_da_dani.deposita(500)\n",
        "print(conta_da_dani)"
      ]
    },
    {
      "cell_type": "code",
      "execution_count": null,
      "metadata": {},
      "outputs": [
        {
          "name": "stdout",
          "output_type": "stream",
          "text": [
            "[<__main__.ContaCorrente object at 0x000002800278C260>, <__main__.ContaCorrente object at 0x00000280037C30E0>]\n"
          ]
        }
      ],
      "source": [
        "contas = [conta_do_gui, conta_da_dani]\n",
        "print(contas)"
      ]
    },
    {
      "cell_type": "markdown",
      "metadata": {},
      "source": [
        "- Perceba que o print, quando aplicado à lista, não retorna o método __str__ dos objetos, mas sim os endereços correspondentes na memória. Isso nos mostra essencialmente que temos dois objetos armazenados em locais distintos.\n",
        "\n",
        "- Para obter o retorno do método __str__ desejado, precisamos iterar sobre os elementos (nesse caso, os objetos) da lista"
      ]
    },
    {
      "cell_type": "code",
      "execution_count": null,
      "metadata": {},
      "outputs": [
        {
          "name": "stdout",
          "output_type": "stream",
          "text": [
            "[>> Codigo: 123 / Saldo: 1200 <<]\n",
            "[>> Codigo: 47685 / Saldo: 500 <<]\n"
          ]
        }
      ],
      "source": [
        "for conta in contas:\n",
        "    print(conta)"
      ]
    },
    {
      "cell_type": "code",
      "execution_count": null,
      "metadata": {},
      "outputs": [
        {
          "name": "stdout",
          "output_type": "stream",
          "text": [
            "[>> Codigo: 123 / Saldo: 1200 <<]\n",
            "[>> Codigo: 123 / Saldo: 1200 <<]\n"
          ]
        }
      ],
      "source": [
        "# agora tanto a conta do gui quanto a conta da dani possuem duas referências distintas (mas o objeto é o mesmo; não há geração de novas instâncias)\n",
        "print(contas[0])\n",
        "print(conta_do_gui)"
      ]
    },
    {
      "cell_type": "code",
      "execution_count": null,
      "metadata": {},
      "outputs": [
        {
          "name": "stdout",
          "output_type": "stream",
          "text": [
            "[>> Codigo: 123 / Saldo: 1200 <<] [>> Codigo: 47685 / Saldo: 500 <<]\n",
            "[>> Codigo: 123 / Saldo: 1300 <<] [>> Codigo: 47685 / Saldo: 600 <<]\n"
          ]
        }
      ],
      "source": [
        "def deposita_para_todas(contas):\n",
        "    for conta in contas:\n",
        "        conta.deposita(100)\n",
        "\n",
        "print(contas[0], contas[1])\n",
        "deposita_para_todas(contas)\n",
        "print(contas[0], contas[1])"
      ]
    },
    {
      "cell_type": "markdown",
      "metadata": {},
      "source": [
        "- Até agora estamos utilizando listas com elementos de um mesmo tipo. Normalmente esse procedimento é, de fato, o usual, e representa a maneira padrão de trabalho com as listas. Mas suponha que alguém definisse que agora o primeiro elemento da lista deve corresponder ao número da Agência."
      ]
    },
    {
      "cell_type": "code",
      "execution_count": null,
      "metadata": {},
      "outputs": [
        {
          "name": "stdout",
          "output_type": "stream",
          "text": [
            "76 [>> Codigo: 123 / Saldo: 1300 <<] [>> Codigo: 47685 / Saldo: 600 <<] "
          ]
        }
      ],
      "source": [
        "contas.insert(0, 76) # agência de número 76\n",
        "for element in contas:\n",
        "    print(element, end=' ')"
      ]
    },
    {
      "cell_type": "code",
      "execution_count": null,
      "metadata": {},
      "outputs": [
        {
          "name": "stdout",
          "output_type": "stream",
          "text": [
            "76 [>> Codigo: 123 / Saldo: 1300 <<] [>> Codigo: 47685 / Saldo: 600 <<]\n"
          ]
        },
        {
          "ename": "AttributeError",
          "evalue": "'int' object has no attribute 'deposita'",
          "output_type": "error",
          "traceback": [
            "\u001b[1;31m---------------------------------------------------------------------------\u001b[0m",
            "\u001b[1;31mAttributeError\u001b[0m                            Traceback (most recent call last)",
            "\u001b[1;32mc:\\Users\\LUCAS\\Documents\\Data Engineering\\Data-Engineering\\Level 1 - Data Engineering\\Formation - Learning Python with OOP\\Python - Collections pt1\\Introdução_a_Collections.ipynb Cell 63\u001b[0m line \u001b[0;36m4\n\u001b[0;32m      <a href='vscode-notebook-cell:/c%3A/Users/LUCAS/Documents/Data%20Engineering/Data-Engineering/Level%201%20-%20Data%20Engineering/Formation%20-%20Learning%20Python%20with%20OOP/Python%20-%20Collections%20pt1/Introdu%C3%A7%C3%A3o_a_Collections.ipynb#Y120sZmlsZQ%3D%3D?line=0'>1</a>\u001b[0m \u001b[39m# agora a função que definimos anteriormente não vai funcionar em sua totalidade, pois agora nem todos os elementos da lista são do tipo conta (hipótese que assumimos verdadeira quando definimos a função)\u001b[39;00m\n\u001b[0;32m      <a href='vscode-notebook-cell:/c%3A/Users/LUCAS/Documents/Data%20Engineering/Data-Engineering/Level%201%20-%20Data%20Engineering/Formation%20-%20Learning%20Python%20with%20OOP/Python%20-%20Collections%20pt1/Introdu%C3%A7%C3%A3o_a_Collections.ipynb#Y120sZmlsZQ%3D%3D?line=2'>3</a>\u001b[0m \u001b[39mprint\u001b[39m(contas[\u001b[39m0\u001b[39m], contas[\u001b[39m1\u001b[39m], contas[\u001b[39m2\u001b[39m])\n\u001b[1;32m----> <a href='vscode-notebook-cell:/c%3A/Users/LUCAS/Documents/Data%20Engineering/Data-Engineering/Level%201%20-%20Data%20Engineering/Formation%20-%20Learning%20Python%20with%20OOP/Python%20-%20Collections%20pt1/Introdu%C3%A7%C3%A3o_a_Collections.ipynb#Y120sZmlsZQ%3D%3D?line=3'>4</a>\u001b[0m deposita_para_todas(contas)\n\u001b[0;32m      <a href='vscode-notebook-cell:/c%3A/Users/LUCAS/Documents/Data%20Engineering/Data-Engineering/Level%201%20-%20Data%20Engineering/Formation%20-%20Learning%20Python%20with%20OOP/Python%20-%20Collections%20pt1/Introdu%C3%A7%C3%A3o_a_Collections.ipynb#Y120sZmlsZQ%3D%3D?line=4'>5</a>\u001b[0m \u001b[39mprint\u001b[39m(contas[\u001b[39m0\u001b[39m], contas[\u001b[39m1\u001b[39m], contas[\u001b[39m2\u001b[39m])\n",
            "\u001b[1;32mc:\\Users\\LUCAS\\Documents\\Data Engineering\\Data-Engineering\\Level 1 - Data Engineering\\Formation - Learning Python with OOP\\Python - Collections pt1\\Introdução_a_Collections.ipynb Cell 63\u001b[0m line \u001b[0;36m3\n\u001b[0;32m      <a href='vscode-notebook-cell:/c%3A/Users/LUCAS/Documents/Data%20Engineering/Data-Engineering/Level%201%20-%20Data%20Engineering/Formation%20-%20Learning%20Python%20with%20OOP/Python%20-%20Collections%20pt1/Introdu%C3%A7%C3%A3o_a_Collections.ipynb#Y120sZmlsZQ%3D%3D?line=0'>1</a>\u001b[0m \u001b[39mdef\u001b[39;00m \u001b[39mdeposita_para_todas\u001b[39m(contas):\n\u001b[0;32m      <a href='vscode-notebook-cell:/c%3A/Users/LUCAS/Documents/Data%20Engineering/Data-Engineering/Level%201%20-%20Data%20Engineering/Formation%20-%20Learning%20Python%20with%20OOP/Python%20-%20Collections%20pt1/Introdu%C3%A7%C3%A3o_a_Collections.ipynb#Y120sZmlsZQ%3D%3D?line=1'>2</a>\u001b[0m     \u001b[39mfor\u001b[39;00m conta \u001b[39min\u001b[39;00m contas:\n\u001b[1;32m----> <a href='vscode-notebook-cell:/c%3A/Users/LUCAS/Documents/Data%20Engineering/Data-Engineering/Level%201%20-%20Data%20Engineering/Formation%20-%20Learning%20Python%20with%20OOP/Python%20-%20Collections%20pt1/Introdu%C3%A7%C3%A3o_a_Collections.ipynb#Y120sZmlsZQ%3D%3D?line=2'>3</a>\u001b[0m         conta\u001b[39m.\u001b[39;49mdeposita(\u001b[39m100\u001b[39m)\n",
            "\u001b[1;31mAttributeError\u001b[0m: 'int' object has no attribute 'deposita'"
          ]
        }
      ],
      "source": [
        "# agora a função que definimos anteriormente não vai funcionar em sua totalidade, pois agora nem todos os elementos da lista são do tipo conta (hipótese que assumimos verdadeira quando definimos a função)\n",
        "\n",
        "print(contas[0], contas[1], contas[2])\n",
        "deposita_para_todas(contas)\n",
        "print(contas[0], contas[1], contas[2])"
      ]
    },
    {
      "cell_type": "code",
      "execution_count": null,
      "metadata": {},
      "outputs": [
        {
          "name": "stdout",
          "output_type": "stream",
          "text": [
            "<class '__main__.ContaCorrente'>\n"
          ]
        }
      ],
      "source": [
        "print(type(contas[1]))"
      ]
    },
    {
      "cell_type": "code",
      "execution_count": null,
      "metadata": {},
      "outputs": [
        {
          "name": "stdout",
          "output_type": "stream",
          "text": [
            "76 [>> Codigo: 123 / Saldo: 1300 <<] [>> Codigo: 47685 / Saldo: 600 <<]\n",
            "76 [>> Codigo: 123 / Saldo: 1400 <<] [>> Codigo: 47685 / Saldo: 700 <<]\n"
          ]
        }
      ],
      "source": [
        "def deposita_para_todas(contas):\n",
        "    for conta in contas:\n",
        "        if type(conta) == ContaCorrente:\n",
        "            conta.deposita(100)\n",
        "\n",
        "print(contas[0], contas[1], contas[2])\n",
        "deposita_para_todas(contas)\n",
        "print(contas[0], contas[1], contas[2])"
      ]
    },
    {
      "cell_type": "markdown",
      "metadata": {},
      "source": [
        "- Mas a ideia aqui é a seguinte: quando queremos definir uma lista de elementos em que cada posição representa uma característica / propriedade diferente, a lista deixa de ser o objeto mais interessante para se trabalhar, pois além de gerar ambiguidades de tratamento, ainda tem o adicional de ser *mutável*. Nesses casos, o ideal é trabalhar com ***tuplas***"
      ]
    },
    {
      "cell_type": "code",
      "execution_count": null,
      "metadata": {},
      "outputs": [
        {
          "name": "stdout",
          "output_type": "stream",
          "text": [
            "(76, '123', 1000)\n",
            "(76, '47685', 200)\n"
          ]
        }
      ],
      "source": [
        "conta_do_gui = (76, '123', 1000)\n",
        "conta_da_dani = (76, '47685', 200)\n",
        "\n",
        "print(conta_do_gui)\n",
        "print(conta_da_dani)"
      ]
    },
    {
      "cell_type": "markdown",
      "metadata": {},
      "source": [
        "- A 'desvantagem' disso (mas essa conclusão precisa ser avaliada caso a caso, pois realmente há situações em que trabalhar com tuplas pode ser mais interessante) é que as tuplas não são mutáveis.\n",
        "\n",
        "- Enquanto a manipulação das listas nos leva para uma abordagem OO (Orientação a Objetos), a manipulação das tuplas nos leva para uma abordagem funcional / procedural."
      ]
    },
    {
      "cell_type": "code",
      "execution_count": null,
      "metadata": {},
      "outputs": [
        {
          "name": "stdout",
          "output_type": "stream",
          "text": [
            "(76, '123', 1100)\n",
            "(76, '123', 1200)\n"
          ]
        }
      ],
      "source": [
        "# exemplo de função responsável por atualizar a conta definida via tupla\n",
        "def deposita(conta):\n",
        "    novo_saldo = conta[2]+100\n",
        "    codigo = conta[1]\n",
        "    return (76, codigo, novo_saldo)\n",
        "\n",
        "print(conta_do_gui)\n",
        "conta_do_gui = deposita(conta_do_gui) # redefine a tupla do zero;\n",
        "print(conta_do_gui)"
      ]
    },
    {
      "cell_type": "markdown",
      "metadata": {},
      "source": [
        "- Podemos ter listas de tuplas e tuplas de listas/objetos (esse último não é muito comum de ser usado, mas pode existir também)"
      ]
    },
    {
      "cell_type": "markdown",
      "metadata": {},
      "source": [
        "### Polimorfismo e Arrays"
      ]
    },
    {
      "cell_type": "code",
      "execution_count": null,
      "metadata": {},
      "outputs": [],
      "source": [
        "class Conta:\n",
        "    def __init__(self, codigo, saldo = 0):\n",
        "        self._codigo = codigo\n",
        "        self._saldo = saldo\n",
        "    \n",
        "    def deposita(self, valor):\n",
        "        self._saldo += valor\n",
        "\n",
        "    def __str__(self):\n",
        "        return '[>> Codigo: {} / Saldo: {} <<]'.format(self._codigo, self._saldo)\n",
        "    \n",
        "class ContaCorrente(Conta):\n",
        "    def passa_o_mes(self):\n",
        "        self._saldo -= 2\n",
        "\n",
        "class ContaPoupanca(Conta):\n",
        "    def passa_o_mes(self):\n",
        "        self._saldo += self._saldo*0.01\n",
        "        self._saldo -= 3"
      ]
    },
    {
      "cell_type": "code",
      "execution_count": null,
      "metadata": {},
      "outputs": [
        {
          "name": "stdout",
          "output_type": "stream",
          "text": [
            "[>> Codigo: 16 / Saldo: 998 <<]\n"
          ]
        }
      ],
      "source": [
        "conta16 = ContaCorrente(16)\n",
        "conta16.deposita(1000)\n",
        "conta16.passa_o_mes()\n",
        "print(conta16)"
      ]
    },
    {
      "cell_type": "code",
      "execution_count": null,
      "metadata": {},
      "outputs": [
        {
          "name": "stdout",
          "output_type": "stream",
          "text": [
            "[>> Codigo: 17 / Saldo: 1007.0 <<]\n"
          ]
        }
      ],
      "source": [
        "conta17 = ContaPoupanca(17)\n",
        "conta17.deposita(1000)\n",
        "conta17.passa_o_mes()\n",
        "print(conta17)"
      ]
    },
    {
      "cell_type": "code",
      "execution_count": null,
      "metadata": {},
      "outputs": [
        {
          "name": "stdout",
          "output_type": "stream",
          "text": [
            "[>> Codigo: 16 / Saldo: 996 <<]\n",
            "[>> Codigo: 17 / Saldo: 1014.07 <<]\n"
          ]
        }
      ],
      "source": [
        "## Ao definir uma lista de objetos contas, podemos chamar o mesmo método para o index\n",
        "# Ou seja, apesar de o index que percorre a lista de objetos \"ser variável\" e representar um objeto diferente a cada etapa da iteração, uma vez que todos tenham o método d interesse não há nenhum problema! (duck typing)\n",
        "\n",
        "contas = [conta16, conta17]\n",
        "for conta in contas:\n",
        "    conta.passa_o_mes()\n",
        "    print(conta)"
      ]
    },
    {
      "cell_type": "markdown",
      "metadata": {},
      "source": [
        "- arrays e numpy\n",
        "    - O python até possui um tipo específico de dados denominado 'array' (o módulo precisa ser importado), entretanto, sempre que há necessidade de efetuar tratamentos/ processamentos numéricos mais robustos é muito mais comum utilizar as ferramentas do numpy\n",
        "    - O array otimiza o processamento interno para lidar com cálculos "
      ]
    },
    {
      "cell_type": "code",
      "execution_count": null,
      "metadata": {},
      "outputs": [
        {
          "data": {
            "text/plain": [
              "array([1. , 2. , 3.5, 4.3])"
            ]
          },
          "execution_count": 16,
          "metadata": {},
          "output_type": "execute_result"
        }
      ],
      "source": [
        "import numpy as np \n",
        "\n",
        "vec1 = np.array([1,2,3.5,4.3])\n",
        "vec1"
      ]
    },
    {
      "cell_type": "code",
      "execution_count": null,
      "metadata": {},
      "outputs": [
        {
          "name": "stdout",
          "output_type": "stream",
          "text": [
            "[2.  3.  4.5 5.3]\n"
          ]
        }
      ],
      "source": [
        "print(vec1+1)"
      ]
    },
    {
      "cell_type": "markdown",
      "metadata": {},
      "source": [
        "- Breves comentários sobre as funções abstratas"
      ]
    },
    {
      "cell_type": "code",
      "execution_count": null,
      "metadata": {},
      "outputs": [
        {
          "ename": "AttributeError",
          "evalue": "'ContaInvestimento' object has no attribute 'passa_o_mes'",
          "output_type": "error",
          "traceback": [
            "\u001b[1;31m---------------------------------------------------------------------------\u001b[0m",
            "\u001b[1;31mAttributeError\u001b[0m                            Traceback (most recent call last)",
            "\u001b[1;32mc:\\Users\\LUCAS\\Documents\\Data Engineering\\Data-Engineering\\Level 1 - Data Engineering\\Formation - Learning Python with OOP\\Python - Collections pt1\\Introdução_a_Collections.ipynb Cell 80\u001b[0m line \u001b[0;36m5\n\u001b[0;32m      <a href='vscode-notebook-cell:/c%3A/Users/LUCAS/Documents/Data%20Engineering/Data-Engineering/Level%201%20-%20Data%20Engineering/Formation%20-%20Learning%20Python%20with%20OOP/Python%20-%20Collections%20pt1/Introdu%C3%A7%C3%A3o_a_Collections.ipynb#Y143sZmlsZQ%3D%3D?line=1'>2</a>\u001b[0m     \u001b[39mpass\u001b[39;00m\n\u001b[0;32m      <a href='vscode-notebook-cell:/c%3A/Users/LUCAS/Documents/Data%20Engineering/Data-Engineering/Level%201%20-%20Data%20Engineering/Formation%20-%20Learning%20Python%20with%20OOP/Python%20-%20Collections%20pt1/Introdu%C3%A7%C3%A3o_a_Collections.ipynb#Y143sZmlsZQ%3D%3D?line=3'>4</a>\u001b[0m teste \u001b[39m=\u001b[39m ContaInvestimento(\u001b[39m4\u001b[39m)\n\u001b[1;32m----> <a href='vscode-notebook-cell:/c%3A/Users/LUCAS/Documents/Data%20Engineering/Data-Engineering/Level%201%20-%20Data%20Engineering/Formation%20-%20Learning%20Python%20with%20OOP/Python%20-%20Collections%20pt1/Introdu%C3%A7%C3%A3o_a_Collections.ipynb#Y143sZmlsZQ%3D%3D?line=4'>5</a>\u001b[0m teste\u001b[39m.\u001b[39;49mpassa_o_mes()\n",
            "\u001b[1;31mAttributeError\u001b[0m: 'ContaInvestimento' object has no attribute 'passa_o_mes'"
          ]
        }
      ],
      "source": [
        "class ContaInvestimento(Conta):\n",
        "    pass\n",
        "\n",
        "teste = ContaInvestimento(4)\n",
        "teste.passa_o_mes()"
      ]
    },
    {
      "cell_type": "markdown",
      "metadata": {},
      "source": [
        "- Caso quiséssemos que todas as contas derivadas da superclasse Conta tivessem, obrigatoriamente, o método 'passa_o_mes', poderíamos definí-la utilizando o módulo de ABC collections do python (Abstract Base Classes)"
      ]
    },
    {
      "cell_type": "code",
      "execution_count": null,
      "metadata": {},
      "outputs": [],
      "source": [
        "from abc import ABCMeta, abstractmethod\n",
        "\n",
        "class Conta(metaclass= ABCMeta):\n",
        "    def __init__(self, codigo, saldo = 0):\n",
        "        self._codigo = codigo\n",
        "        self._saldo = saldo\n",
        "    \n",
        "    def deposita(self, valor):\n",
        "        self._saldo += valor\n",
        "\n",
        "    def __str__(self):\n",
        "        return '[>> Codigo: {} / Saldo: {} <<]'.format(self._codigo, self._saldo)\n",
        "\n",
        "    @abstractmethod\n",
        "    def passa_o_mes(self):\n",
        "        pass \n",
        "\n",
        "class ContaCorrente(Conta):\n",
        "    def passa_o_mes(self):\n",
        "        self._saldo -= 2\n",
        "\n",
        "class ContaPoupanca(Conta):\n",
        "    def passa_o_mes(self):\n",
        "        self._saldo += self._saldo*0.01\n",
        "        self._saldo -= 3\n",
        "    \n",
        "class ContaInvestimento(Conta):\n",
        "    pass"
      ]
    },
    {
      "cell_type": "code",
      "execution_count": null,
      "metadata": {},
      "outputs": [
        {
          "ename": "TypeError",
          "evalue": "Can't instantiate abstract class ContaInvestimento without an implementation for abstract method 'passa_o_mes'",
          "output_type": "error",
          "traceback": [
            "\u001b[1;31m---------------------------------------------------------------------------\u001b[0m",
            "\u001b[1;31mTypeError\u001b[0m                                 Traceback (most recent call last)",
            "\u001b[1;32mc:\\Users\\LUCAS\\Documents\\Data Engineering\\Data-Engineering\\Level 1 - Data Engineering\\Formation - Learning Python with OOP\\Python - Collections pt1\\Introdução_a_Collections.ipynb Cell 83\u001b[0m line \u001b[0;36m1\n\u001b[1;32m----> <a href='vscode-notebook-cell:/c%3A/Users/LUCAS/Documents/Data%20Engineering/Data-Engineering/Level%201%20-%20Data%20Engineering/Formation%20-%20Learning%20Python%20with%20OOP/Python%20-%20Collections%20pt1/Introdu%C3%A7%C3%A3o_a_Collections.ipynb#Y146sZmlsZQ%3D%3D?line=0'>1</a>\u001b[0m teste \u001b[39m=\u001b[39mContaInvestimento(\u001b[39m10\u001b[39;49m)\n",
            "\u001b[1;31mTypeError\u001b[0m: Can't instantiate abstract class ContaInvestimento without an implementation for abstract method 'passa_o_mes'"
          ]
        }
      ],
      "source": [
        "teste =ContaInvestimento(10)"
      ]
    },
    {
      "cell_type": "markdown",
      "metadata": {},
      "source": [
        "### Igualdades"
      ]
    },
    {
      "cell_type": "code",
      "execution_count": null,
      "metadata": {},
      "outputs": [],
      "source": [
        "class ContaSalario: \n",
        "  def __init__(self, codigo, saldo = 0):\n",
        "    self._codigo = codigo\n",
        "    self._saldo = saldo\n",
        "\n",
        "  def deposita(self, valor):\n",
        "    self._saldo += valor\n",
        "\n",
        "  def __str__(self):\n",
        "    return \"[>>Codigo {} Saldo {}<<]\".format(self._codigo, self._saldo)\n"
      ]
    },
    {
      "cell_type": "code",
      "execution_count": null,
      "metadata": {},
      "outputs": [
        {
          "data": {
            "text/plain": [
              "False"
            ]
          },
          "execution_count": 29,
          "metadata": {},
          "output_type": "execute_result"
        }
      ],
      "source": [
        "conta1 = ContaSalario(10)\n",
        "conta2 = ContaSalario(10)\n",
        "\n",
        "conta1 == conta2"
      ]
    },
    {
      "cell_type": "code",
      "execution_count": null,
      "metadata": {},
      "outputs": [
        {
          "data": {
            "text/plain": [
              "True"
            ]
          },
          "execution_count": 30,
          "metadata": {},
          "output_type": "execute_result"
        }
      ],
      "source": [
        "teste = [conta1]\n",
        "conta1 in teste"
      ]
    },
    {
      "cell_type": "code",
      "execution_count": null,
      "metadata": {},
      "outputs": [
        {
          "data": {
            "text/plain": [
              "False"
            ]
          },
          "execution_count": 31,
          "metadata": {},
          "output_type": "execute_result"
        }
      ],
      "source": [
        "conta2 in teste"
      ]
    },
    {
      "cell_type": "code",
      "execution_count": null,
      "metadata": {},
      "outputs": [
        {
          "name": "stdout",
          "output_type": "stream",
          "text": [
            "2846465451136\n",
            "2846465449504\n"
          ]
        }
      ],
      "source": [
        "print(id(conta1))\n",
        "print(id(conta2))"
      ]
    },
    {
      "cell_type": "markdown",
      "metadata": {},
      "source": [
        "- Apesar das similaridades (mesmos valores / parâmetros), *conta1* e *conta2* são objetos distintos, e estão alocados em lugares diferentes na memória do computador. Por default, sempre que tentamos comparar a igualdade entre objetos o python verifica seus identificadores e, de fato, estes nunca serão iguais.\n",
        "\n",
        "- Para obter os resultados desejados precisamos \"reajustar\" o critério de comparação entre objetos da classe com a implementação do método __eq__"
      ]
    },
    {
      "cell_type": "code",
      "execution_count": 28,
      "metadata": {},
      "outputs": [],
      "source": [
        "class ContaSalario: \n",
        "  def __init__(self, codigo, saldo = 0):\n",
        "    self._codigo = codigo\n",
        "    self._saldo = saldo\n",
        "\n",
        "  def deposita(self, valor):\n",
        "    self._saldo += valor\n",
        "\n",
        "  def __str__(self):\n",
        "    return \"[>>Codigo {} / Saldo {}<<]\".format(self._codigo, self._saldo)\n",
        "    \n",
        "  def __eq__(self, outro_objeto):\n",
        "    if type(outro_objeto) == ContaSalario:\n",
        "      if self._saldo == outro_objeto._saldo:\n",
        "        return True\n",
        "      else:\n",
        "        return False\n",
        "    else:\n",
        "      raise TypeError('Você está tentando comparar objetos de classes diferentes')"
      ]
    },
    {
      "cell_type": "code",
      "execution_count": 30,
      "metadata": {},
      "outputs": [
        {
          "name": "stdout",
          "output_type": "stream",
          "text": [
            "[>>Codigo 10 / Saldo 0<<]\n",
            "[>>Codigo 10 / Saldo 0<<]\n"
          ]
        },
        {
          "data": {
            "text/plain": [
              "True"
            ]
          },
          "execution_count": 30,
          "metadata": {},
          "output_type": "execute_result"
        }
      ],
      "source": [
        "conta1 = ContaSalario(10)\n",
        "conta2 = ContaSalario(10)\n",
        "\n",
        "print(conta1)\n",
        "print(conta2)\n",
        "\n",
        "conta1 == conta2"
      ]
    },
    {
      "cell_type": "code",
      "execution_count": 24,
      "metadata": {},
      "outputs": [
        {
          "data": {
            "text/plain": [
              "False"
            ]
          },
          "execution_count": 24,
          "metadata": {},
          "output_type": "execute_result"
        }
      ],
      "source": [
        "conta1 != conta2 # funciona como uma negação do __eq__"
      ]
    },
    {
      "cell_type": "code",
      "execution_count": 25,
      "metadata": {},
      "outputs": [
        {
          "data": {
            "text/plain": [
              "True"
            ]
          },
          "execution_count": 25,
          "metadata": {},
          "output_type": "execute_result"
        }
      ],
      "source": [
        "contas = [conta1] \n",
        "conta2 in contas\n",
        "\n",
        "# Retorna True porque conta1 está na lista, e como AGORA ambas são iguais.. acabamos recebendo True por consequência"
      ]
    },
    {
      "cell_type": "code",
      "execution_count": 31,
      "metadata": {},
      "outputs": [
        {
          "ename": "TypeError",
          "evalue": "Você está tentando comparar objetos de classes diferentes",
          "output_type": "error",
          "traceback": [
            "\u001b[1;31m---------------------------------------------------------------------------\u001b[0m",
            "\u001b[1;31mTypeError\u001b[0m                                 Traceback (most recent call last)",
            "\u001b[1;32mc:\\Users\\LUCAS\\Documents\\Data Engineering\\Data-Engineering\\Level 1 - Data Engineering\\Formation - Learning Python with OOP\\Python - Collections pt1\\Introdução_a_Collections.ipynb Cell 95\u001b[0m line \u001b[0;36m3\n\u001b[0;32m      <a href='vscode-notebook-cell:/c%3A/Users/LUCAS/Documents/Data%20Engineering/Data-Engineering/Level%201%20-%20Data%20Engineering/Formation%20-%20Learning%20Python%20with%20OOP/Python%20-%20Collections%20pt1/Introdu%C3%A7%C3%A3o_a_Collections.ipynb#Y163sZmlsZQ%3D%3D?line=0'>1</a>\u001b[0m teste \u001b[39m=\u001b[39m [\u001b[39m1\u001b[39m,\u001b[39m2\u001b[39m,\u001b[39m3\u001b[39m]\n\u001b[1;32m----> <a href='vscode-notebook-cell:/c%3A/Users/LUCAS/Documents/Data%20Engineering/Data-Engineering/Level%201%20-%20Data%20Engineering/Formation%20-%20Learning%20Python%20with%20OOP/Python%20-%20Collections%20pt1/Introdu%C3%A7%C3%A3o_a_Collections.ipynb#Y163sZmlsZQ%3D%3D?line=2'>3</a>\u001b[0m teste \u001b[39m==\u001b[39;49m conta1\n",
            "\u001b[1;32mc:\\Users\\LUCAS\\Documents\\Data Engineering\\Data-Engineering\\Level 1 - Data Engineering\\Formation - Learning Python with OOP\\Python - Collections pt1\\Introdução_a_Collections.ipynb Cell 95\u001b[0m line \u001b[0;36m1\n\u001b[0;32m     <a href='vscode-notebook-cell:/c%3A/Users/LUCAS/Documents/Data%20Engineering/Data-Engineering/Level%201%20-%20Data%20Engineering/Formation%20-%20Learning%20Python%20with%20OOP/Python%20-%20Collections%20pt1/Introdu%C3%A7%C3%A3o_a_Collections.ipynb#Y163sZmlsZQ%3D%3D?line=16'>17</a>\u001b[0m     \u001b[39mreturn\u001b[39;00m \u001b[39mFalse\u001b[39;00m\n\u001b[0;32m     <a href='vscode-notebook-cell:/c%3A/Users/LUCAS/Documents/Data%20Engineering/Data-Engineering/Level%201%20-%20Data%20Engineering/Formation%20-%20Learning%20Python%20with%20OOP/Python%20-%20Collections%20pt1/Introdu%C3%A7%C3%A3o_a_Collections.ipynb#Y163sZmlsZQ%3D%3D?line=17'>18</a>\u001b[0m \u001b[39melse\u001b[39;00m:\n\u001b[1;32m---> <a href='vscode-notebook-cell:/c%3A/Users/LUCAS/Documents/Data%20Engineering/Data-Engineering/Level%201%20-%20Data%20Engineering/Formation%20-%20Learning%20Python%20with%20OOP/Python%20-%20Collections%20pt1/Introdu%C3%A7%C3%A3o_a_Collections.ipynb#Y163sZmlsZQ%3D%3D?line=18'>19</a>\u001b[0m   \u001b[39mraise\u001b[39;00m \u001b[39mTypeError\u001b[39;00m(\u001b[39m'\u001b[39m\u001b[39mVocê está tentando comparar objetos de classes diferentes\u001b[39m\u001b[39m'\u001b[39m)\n",
            "\u001b[1;31mTypeError\u001b[0m: Você está tentando comparar objetos de classes diferentes"
          ]
        }
      ],
      "source": [
        "teste = [1,2,3]\n",
        "\n",
        "teste == conta1"
      ]
    },
    {
      "cell_type": "markdown",
      "metadata": {},
      "source": [
        "### Outros tipos de funções built-in"
      ]
    },
    {
      "cell_type": "code",
      "execution_count": 54,
      "metadata": {},
      "outputs": [
        {
          "name": "stdout",
          "output_type": "stream",
          "text": [
            "0 15\n",
            "1 24\n",
            "2 35\n",
            "3 63\n",
            "4 91\n",
            "5 31\n",
            "6 77\n"
          ]
        }
      ],
      "source": [
        "lista = [15, 24, 35, 63, 91, 31, 77]\n",
        "\n",
        "# se quiséssemos verificar os elementos e as suas posições correspondentes, poderíamos fazer da seguinte forma\n",
        "for i in range(len(lista)):\n",
        "    print(i, lista[i])"
      ]
    },
    {
      "cell_type": "markdown",
      "metadata": {},
      "source": [
        "- Poderíamos pensar que esse tipo de processamento deve ser bastante comum entre os desenvolvedores, então já deve ter alguma função built-in desenvolvida para tratar esses tipos de casos. E realmente! Já existe uma função com essa propriedade e o seu nome é 'enumerate'"
      ]
    },
    {
      "cell_type": "code",
      "execution_count": 33,
      "metadata": {},
      "outputs": [
        {
          "data": {
            "text/plain": [
              "<enumerate at 0x2569e5a8900>"
            ]
          },
          "execution_count": 33,
          "metadata": {},
          "output_type": "execute_result"
        }
      ],
      "source": [
        "enumerate(lista) #lazy.."
      ]
    },
    {
      "cell_type": "markdown",
      "metadata": {},
      "source": [
        "- Ainda não podemos ver nada porque essa operação em python é uma operação do tipo 'lazy', ou seja, o comando só será executato, isto é, a sequência iterável referente ao objeto lista só será gerada quando for estritamente necessário (na grande maioria dos casos, quando precisamos fazer a iteração propriamente dita).\n",
        "\n",
        "- Entretanto, é possível 'forçar' a geração da sequência ao aplicar a função 'list' ao objeto iterável (enumerate)"
      ]
    },
    {
      "cell_type": "code",
      "execution_count": 34,
      "metadata": {},
      "outputs": [
        {
          "data": {
            "text/plain": [
              "[(0, 15), (1, 24), (2, 35), (3, 63), (4, 91), (5, 31), (6, 77)]"
            ]
          },
          "execution_count": 34,
          "metadata": {},
          "output_type": "execute_result"
        }
      ],
      "source": [
        "list(enumerate(lista))"
      ]
    },
    {
      "cell_type": "markdown",
      "metadata": {},
      "source": [
        "- O iterável 'range' também é definido de forma 'lazy'"
      ]
    },
    {
      "cell_type": "code",
      "execution_count": 38,
      "metadata": {},
      "outputs": [
        {
          "name": "stdout",
          "output_type": "stream",
          "text": [
            "range(0, 7)\n",
            "[0, 1, 2, 3, 4, 5, 6]\n"
          ]
        }
      ],
      "source": [
        "print(range(len(lista))) # lazy\n",
        "print(list(range(len(lista)))) # forçando a abertura da sequência"
      ]
    },
    {
      "cell_type": "code",
      "execution_count": 39,
      "metadata": {},
      "outputs": [
        {
          "name": "stdout",
          "output_type": "stream",
          "text": [
            "(0, 15)\n",
            "(1, 24)\n",
            "(2, 35)\n",
            "(3, 63)\n",
            "(4, 91)\n",
            "(5, 31)\n",
            "(6, 77)\n"
          ]
        }
      ],
      "source": [
        "# utilizando o enumerate para tomar posição + elemento, conforme queríamos inicialmente:\n",
        "for item in enumerate(lista):\n",
        "    print(item)\n",
        "\n",
        "# (lista de tuplas)"
      ]
    },
    {
      "cell_type": "code",
      "execution_count": 41,
      "metadata": {},
      "outputs": [
        {
          "name": "stdout",
          "output_type": "stream",
          "text": [
            "0 x 15\n",
            "1 x 24\n",
            "2 x 35\n",
            "3 x 63\n",
            "4 x 91\n",
            "5 x 31\n",
            "6 x 77\n"
          ]
        }
      ],
      "source": [
        "# podemos, ainda, fazer o 'unpack' dos elementos de cada tupla implementando a seguinte sintaxe:\n",
        "for indice, elemento in enumerate(lista):\n",
        "    print(str(indice)+' x '+str(elemento))"
      ]
    },
    {
      "cell_type": "markdown",
      "metadata": {},
      "source": [
        "- entendendo melhor o *desempacotamento de tuplas*"
      ]
    },
    {
      "cell_type": "code",
      "execution_count": 45,
      "metadata": {},
      "outputs": [
        {
          "name": "stdout",
          "output_type": "stream",
          "text": [
            "Lucas 22 2001\n",
            "Joana 10 2013\n",
            "João 30 1993\n",
            " - x - \n",
            "Lucas\n",
            "Joana\n",
            "João\n",
            " - x - \n",
            "Lucas\n",
            "Joana\n",
            "João\n"
          ]
        },
        {
          "ename": "ValueError",
          "evalue": "too many values to unpack (expected 2)",
          "output_type": "error",
          "traceback": [
            "\u001b[1;31m---------------------------------------------------------------------------\u001b[0m",
            "\u001b[1;31mValueError\u001b[0m                                Traceback (most recent call last)",
            "\u001b[1;32mc:\\Users\\LUCAS\\Documents\\Data Engineering\\Data-Engineering\\Level 1 - Data Engineering\\Formation - Learning Python with OOP\\Python - Collections pt1\\Introdução_a_Collections.ipynb Cell 106\u001b[0m line \u001b[0;36m2\n\u001b[0;32m     <a href='vscode-notebook-cell:/c%3A/Users/LUCAS/Documents/Data%20Engineering/Data-Engineering/Level%201%20-%20Data%20Engineering/Formation%20-%20Learning%20Python%20with%20OOP/Python%20-%20Collections%20pt1/Introdu%C3%A7%C3%A3o_a_Collections.ipynb#Y211sZmlsZQ%3D%3D?line=20'>21</a>\u001b[0m     \u001b[39mprint\u001b[39m(nome)\n\u001b[0;32m     <a href='vscode-notebook-cell:/c%3A/Users/LUCAS/Documents/Data%20Engineering/Data-Engineering/Level%201%20-%20Data%20Engineering/Formation%20-%20Learning%20Python%20with%20OOP/Python%20-%20Collections%20pt1/Introdu%C3%A7%C3%A3o_a_Collections.ipynb#Y211sZmlsZQ%3D%3D?line=22'>23</a>\u001b[0m \u001b[39m# o único ponto de atenção ao se utilizar essa sintaxe se refere ao fato de que, mesmo não utilizando todos os itens do unpack, precisamos especificar exatamente quantos elementos estão sendo emitidos, do contrário o códgo nos retornará um erro\u001b[39;00m\n\u001b[1;32m---> <a href='vscode-notebook-cell:/c%3A/Users/LUCAS/Documents/Data%20Engineering/Data-Engineering/Level%201%20-%20Data%20Engineering/Formation%20-%20Learning%20Python%20with%20OOP/Python%20-%20Collections%20pt1/Introdu%C3%A7%C3%A3o_a_Collections.ipynb#Y211sZmlsZQ%3D%3D?line=23'>24</a>\u001b[0m \u001b[39mfor\u001b[39;00m nome, _ \u001b[39min\u001b[39;00m tupla_teste:\n\u001b[0;32m     <a href='vscode-notebook-cell:/c%3A/Users/LUCAS/Documents/Data%20Engineering/Data-Engineering/Level%201%20-%20Data%20Engineering/Formation%20-%20Learning%20Python%20with%20OOP/Python%20-%20Collections%20pt1/Introdu%C3%A7%C3%A3o_a_Collections.ipynb#Y211sZmlsZQ%3D%3D?line=24'>25</a>\u001b[0m     \u001b[39mprint\u001b[39m(nome)\n",
            "\u001b[1;31mValueError\u001b[0m: too many values to unpack (expected 2)"
          ]
        }
      ],
      "source": [
        "tupla_teste = [\n",
        "    ('Lucas', 22, 2001)\n",
        "    ,('Joana', 10, 2013)\n",
        "    ,('João', 30, 1993)\n",
        "]\n",
        "\n",
        "# conforme apresentado, é possível fazer o unpack de todos os elementos\n",
        "for nome, idade, data_nascimento in tupla_teste:\n",
        "    print(nome, idade, data_nascimento)\n",
        "\n",
        "print(' - x - ')\n",
        "\n",
        "# podemos fazer o unpack de todos os elementos, mas não somos obrigados a utilizar todos eles\n",
        "for nome, idade, data_nascimento in tupla_teste:\n",
        "    print(nome)\n",
        "\n",
        "print(' - x - ')\n",
        "\n",
        "# caso realmente não seja de nosso interesse saber as características / propriedades de todos os elementos, podemos fazer o unpack sem definir as variáveis que não interessam, por exemplo:\n",
        "for nome, _, _ in tupla_teste:\n",
        "    print(nome)\n",
        "\n",
        "# o único ponto de atenção ao se utilizar essa sintaxe se refere ao fato de que, mesmo não utilizando todos os itens do unpack, precisamos especificar exatamente quantos elementos estão sendo emitidos, do contrário o códgo nos retornará um erro\n",
        "for nome, _ in tupla_teste:\n",
        "    print(nome)\n",
        "\n",
        "# (no caso, com essa sintaxe estamos 'sinalizando' para o loop que apenas 2 elementos serão recebidos, mas existem 3 na varíavel tupla_teste)"
      ]
    },
    {
      "cell_type": "markdown",
      "metadata": {},
      "source": [
        "### Ordenamento de sequências"
      ]
    },
    {
      "cell_type": "markdown",
      "metadata": {},
      "source": [
        "- *Ordenamento natural* dos elementos"
      ]
    },
    {
      "cell_type": "code",
      "execution_count": 46,
      "metadata": {},
      "outputs": [
        {
          "data": {
            "text/plain": [
              "[15, 24, 35, 63, 91, 31, 77]"
            ]
          },
          "execution_count": 46,
          "metadata": {},
          "output_type": "execute_result"
        }
      ],
      "source": [
        "lista"
      ]
    },
    {
      "cell_type": "code",
      "execution_count": 47,
      "metadata": {},
      "outputs": [
        {
          "data": {
            "text/plain": [
              "[15, 24, 31, 35, 63, 77, 91]"
            ]
          },
          "execution_count": 47,
          "metadata": {},
          "output_type": "execute_result"
        }
      ],
      "source": [
        "# comando 'sorted' mostra a lista ordenada\n",
        "sorted(lista)"
      ]
    },
    {
      "cell_type": "code",
      "execution_count": 48,
      "metadata": {},
      "outputs": [
        {
          "name": "stdout",
          "output_type": "stream",
          "text": [
            "<list_reverseiterator object at 0x000002569DC05F00>\n",
            "[77, 31, 91, 63, 35, 24, 15]\n"
          ]
        }
      ],
      "source": [
        "# comando 'reverse' mostra os elementos da lista de trás pra frente, mas é um 'iterador lazy' (ou seja, se quisermos ver o resultado, precisamos forçar a emissão)\n",
        "print(reversed(lista))\n",
        "print(list(reversed(lista)))"
      ]
    },
    {
      "cell_type": "code",
      "execution_count": 51,
      "metadata": {},
      "outputs": [
        {
          "name": "stdout",
          "output_type": "stream",
          "text": [
            "[91, 77, 63, 35, 31, 24, 15]\n",
            "[91, 77, 63, 35, 31, 24, 15]\n"
          ]
        }
      ],
      "source": [
        "# se quiséssemos, portanto, verificar a lista ordenada de trás pra frente, poderíamos fazer o seguinte:\n",
        "print(list(reversed(sorted(lista))))\n",
        "\n",
        "# ou então aplicar o parâmetro da própria função built-in 'sorted'\n",
        "print(sorted(lista, reverse=True))"
      ]
    },
    {
      "cell_type": "code",
      "execution_count": 55,
      "metadata": {},
      "outputs": [
        {
          "name": "stdout",
          "output_type": "stream",
          "text": [
            "[15, 24, 35, 63, 91, 31, 77]\n",
            "- x -\n",
            "[15, 24, 35, 63, 91, 31, 77]\n",
            "[15, 24, 31, 35, 63, 77, 91]\n"
          ]
        }
      ],
      "source": [
        "# a vantagem desses métodos buil-in é que eles não alteram a lista original\n",
        "print(lista)\n",
        "\n",
        "print('- x -')\n",
        "\n",
        "# mas existem métodos que podem fazer a alteração no objeto inicial (atualização 'in-place'), como por exemplo o método seguinte:\n",
        "print(lista)\n",
        "lista.sort()\n",
        "print(lista)"
      ]
    },
    {
      "cell_type": "markdown",
      "metadata": {},
      "source": [
        "- *Ordenamento customizado*"
      ]
    },
    {
      "cell_type": "code",
      "execution_count": 57,
      "metadata": {},
      "outputs": [
        {
          "data": {
            "text/plain": [
              "['Ana', 'Bernardo', 'Cláudio', 'João', 'Zélia', 'flávio']"
            ]
          },
          "execution_count": 57,
          "metadata": {},
          "output_type": "execute_result"
        }
      ],
      "source": [
        "testes = ['Cláudio', 'Ana', 'João', 'Zélia', 'Bernardo', 'flávio']\n",
        "sorted(testes)"
      ]
    },
    {
      "cell_type": "code",
      "execution_count": 58,
      "metadata": {},
      "outputs": [
        {
          "data": {
            "text/plain": [
              "True"
            ]
          },
          "execution_count": 58,
          "metadata": {},
          "output_type": "execute_result"
        }
      ],
      "source": [
        "'Ana' < 'Bernardo'"
      ]
    },
    {
      "cell_type": "markdown",
      "metadata": {},
      "source": [
        "- Até mesmo os strings têm um critério de comparação (nesse caso, podemos notar que é feito com base nos caracteres definidos). Entretanto, objetos podem não ter uma forma de comparação associada a eles"
      ]
    },
    {
      "cell_type": "code",
      "execution_count": 59,
      "metadata": {},
      "outputs": [],
      "source": [
        "conta_1 = ContaSalario(1)\n",
        "conta_1.deposita(100)\n",
        "\n",
        "conta_2 = ContaSalario(2)\n",
        "conta_2.deposita(353)\n",
        "\n",
        "conta_3 = ContaSalario(5)\n",
        "conta_3.deposita(632)\n",
        "\n",
        "contas = [conta_1, conta_2, conta_3]"
      ]
    },
    {
      "cell_type": "code",
      "execution_count": 60,
      "metadata": {},
      "outputs": [
        {
          "ename": "TypeError",
          "evalue": "'<' not supported between instances of 'ContaSalario' and 'ContaSalario'",
          "output_type": "error",
          "traceback": [
            "\u001b[1;31m---------------------------------------------------------------------------\u001b[0m",
            "\u001b[1;31mTypeError\u001b[0m                                 Traceback (most recent call last)",
            "\u001b[1;32mc:\\Users\\LUCAS\\Documents\\Data Engineering\\Data-Engineering\\Level 1 - Data Engineering\\Formation - Learning Python with OOP\\Python - Collections pt1\\Introdução_a_Collections.ipynb Cell 120\u001b[0m line \u001b[0;36m1\n\u001b[1;32m----> <a href='vscode-notebook-cell:/c%3A/Users/LUCAS/Documents/Data%20Engineering/Data-Engineering/Level%201%20-%20Data%20Engineering/Formation%20-%20Learning%20Python%20with%20OOP/Python%20-%20Collections%20pt1/Introdu%C3%A7%C3%A3o_a_Collections.ipynb#Y231sZmlsZQ%3D%3D?line=0'>1</a>\u001b[0m \u001b[39msorted\u001b[39;49m(contas)\n",
            "\u001b[1;31mTypeError\u001b[0m: '<' not supported between instances of 'ContaSalario' and 'ContaSalario'"
          ]
        }
      ],
      "source": [
        "sorted(contas)"
      ]
    },
    {
      "cell_type": "code",
      "execution_count": 61,
      "metadata": {},
      "outputs": [
        {
          "ename": "TypeError",
          "evalue": "'<' not supported between instances of 'ContaSalario' and 'ContaSalario'",
          "output_type": "error",
          "traceback": [
            "\u001b[1;31m---------------------------------------------------------------------------\u001b[0m",
            "\u001b[1;31mTypeError\u001b[0m                                 Traceback (most recent call last)",
            "\u001b[1;32mc:\\Users\\LUCAS\\Documents\\Data Engineering\\Data-Engineering\\Level 1 - Data Engineering\\Formation - Learning Python with OOP\\Python - Collections pt1\\Introdução_a_Collections.ipynb Cell 121\u001b[0m line \u001b[0;36m1\n\u001b[1;32m----> <a href='vscode-notebook-cell:/c%3A/Users/LUCAS/Documents/Data%20Engineering/Data-Engineering/Level%201%20-%20Data%20Engineering/Formation%20-%20Learning%20Python%20with%20OOP/Python%20-%20Collections%20pt1/Introdu%C3%A7%C3%A3o_a_Collections.ipynb#Y232sZmlsZQ%3D%3D?line=0'>1</a>\u001b[0m conta_2 \u001b[39m<\u001b[39;49m conta_3\n",
            "\u001b[1;31mTypeError\u001b[0m: '<' not supported between instances of 'ContaSalario' and 'ContaSalario'"
          ]
        }
      ],
      "source": [
        "conta_2 < conta_3"
      ]
    },
    {
      "cell_type": "code",
      "execution_count": 64,
      "metadata": {},
      "outputs": [
        {
          "name": "stdout",
          "output_type": "stream",
          "text": [
            "[>>Codigo 1 / Saldo 100<<]\n",
            "[>>Codigo 2 / Saldo 353<<]\n",
            "[>>Codigo 5 / Saldo 632<<]\n"
          ]
        }
      ],
      "source": [
        "# podemos contornar esse problema com base nos parâmetros da função sorted, impondo que queremos fazer a comparação dos objetos com base no atributo saldo de cada um deles\n",
        "def extrai_saldo(conta):\n",
        "    return conta._saldo\n",
        "\n",
        "for conta in sorted(contas, key=extrai_saldo):\n",
        "    print(conta)"
      ]
    },
    {
      "cell_type": "code",
      "execution_count": 65,
      "metadata": {},
      "outputs": [
        {
          "name": "stdout",
          "output_type": "stream",
          "text": [
            "[>>Codigo 1 / Saldo 100<<]\n",
            "[>>Codigo 2 / Saldo 353<<]\n",
            "[>>Codigo 5 / Saldo 632<<]\n"
          ]
        }
      ],
      "source": [
        "# mas isso pode gerar certo desconforto devido ao fato de estarmos acessando explícitamente o atributo saldo (que é privado dada a maneira como foi nomeado);\n",
        "# poderíamos contornar isso utilizando uma função padrão do módulo 'operator'\n",
        "\n",
        "from operator import attrgetter\n",
        "for conta in sorted(contas, key=attrgetter('_saldo')):\n",
        "    print(conta)"
      ]
    },
    {
      "cell_type": "code",
      "execution_count": 95,
      "metadata": {},
      "outputs": [],
      "source": [
        "# funciona também, mas ainda mantemos a referência ao atríbuto privado _saldo de maneira explícita no código (o que não é bom).\n",
        "# a melhor maneira de resolvermos isso seria implementando um novo dunder method na definição da nossa classe, de modo que seja possível comparar objetos aplicando os operadores > e <\n",
        "\n",
        "class ContaSalario: \n",
        "  def __init__(self, codigo, saldo = 0):\n",
        "    self._codigo = codigo\n",
        "    self._saldo = saldo\n",
        "\n",
        "  def deposita(self, valor):\n",
        "    self._saldo += valor\n",
        "\n",
        "  def __str__(self):\n",
        "    return \"[>>Codigo {} / Saldo {}<<]\".format(self._codigo, self._saldo)\n",
        "    \n",
        "  def __eq__(self, outro_objeto):\n",
        "    if type(outro_objeto) == ContaSalario:\n",
        "      if self._saldo == outro_objeto._saldo:\n",
        "        return True\n",
        "      else:\n",
        "        return False\n",
        "    else:\n",
        "      raise TypeError('Você está tentando comparar objetos de classes diferentes')\n",
        "    \n",
        "  def __lt__(self, outro_objeto):\n",
        "      if type(outro_objeto) == ContaSalario:\n",
        "        if self._saldo < outro_objeto._saldo:\n",
        "          return True\n",
        "        else:\n",
        "          return False\n",
        "      else:\n",
        "        raise TypeError('Você está tentando comparar objetos de classes diferentes')  \n",
        "  "
      ]
    },
    {
      "cell_type": "code",
      "execution_count": 96,
      "metadata": {},
      "outputs": [],
      "source": [
        "conta_1 = ContaSalario(1)\n",
        "conta_1.deposita(100)\n",
        "\n",
        "conta_2 = ContaSalario(2)\n",
        "conta_2.deposita(353)\n",
        "\n",
        "conta_3 = ContaSalario(5)\n",
        "conta_3.deposita(632)\n",
        "\n",
        "contas = [conta_1, conta_2, conta_3]"
      ]
    },
    {
      "cell_type": "code",
      "execution_count": 97,
      "metadata": {},
      "outputs": [
        {
          "name": "stdout",
          "output_type": "stream",
          "text": [
            "[>>Codigo 1 / Saldo 100<<]\n",
            "[>>Codigo 2 / Saldo 353<<]\n",
            "[>>Codigo 5 / Saldo 632<<]\n"
          ]
        }
      ],
      "source": [
        "for conta in contas:\n",
        "    print(conta)"
      ]
    },
    {
      "cell_type": "code",
      "execution_count": 98,
      "metadata": {},
      "outputs": [
        {
          "data": {
            "text/plain": [
              "False"
            ]
          },
          "execution_count": 98,
          "metadata": {},
          "output_type": "execute_result"
        }
      ],
      "source": [
        "conta_2 > conta_3"
      ]
    },
    {
      "cell_type": "code",
      "execution_count": 102,
      "metadata": {},
      "outputs": [
        {
          "name": "stdout",
          "output_type": "stream",
          "text": [
            "[>>Codigo 1 / Saldo 100<<]\n",
            "[>>Codigo 2 / Saldo 353<<]\n",
            "[>>Codigo 5 / Saldo 632<<]\n"
          ]
        }
      ],
      "source": [
        "for conta in sorted(contas):\n",
        "    print(conta)"
      ]
    },
    {
      "cell_type": "code",
      "execution_count": 103,
      "metadata": {},
      "outputs": [
        {
          "name": "stdout",
          "output_type": "stream",
          "text": [
            "[>>Codigo 5 / Saldo 632<<]\n",
            "[>>Codigo 2 / Saldo 353<<]\n",
            "[>>Codigo 1 / Saldo 100<<]\n"
          ]
        }
      ],
      "source": [
        "for conta in sorted(contas, reverse= True):\n",
        "    print(conta)"
      ]
    },
    {
      "cell_type": "markdown",
      "metadata": {},
      "source": [
        "- *Ordenamento completo e functools*"
      ]
    },
    {
      "cell_type": "code",
      "execution_count": 108,
      "metadata": {},
      "outputs": [
        {
          "name": "stdout",
          "output_type": "stream",
          "text": [
            "[>>Codigo 60 / Saldo 100<<]\n",
            "[>>Codigo 2 / Saldo 353<<]\n",
            "[>>Codigo 5 / Saldo 100<<]\n"
          ]
        }
      ],
      "source": [
        "conta_1 = ContaSalario(60)\n",
        "conta_1.deposita(100)\n",
        "\n",
        "conta_2 = ContaSalario(2)\n",
        "conta_2.deposita(353)\n",
        "\n",
        "conta_3 = ContaSalario(5)\n",
        "conta_3.deposita(100)\n",
        "\n",
        "contas = [conta_1, conta_2, conta_3]\n",
        "\n",
        "for conta in contas:\n",
        "    print(conta)"
      ]
    },
    {
      "cell_type": "markdown",
      "metadata": {},
      "source": [
        "- Supondo que tivéssemos mais de uma conta com o mesmo saldo, gostaríamos de avaliar também o código da conta antes de emitir quem é maior ou menor. Por exemplo, no caso acima precisaríamos que a conta_3 fosse colocada antes da conta_1, devido à diferença nos códigos"
      ]
    },
    {
      "cell_type": "code",
      "execution_count": 109,
      "metadata": {},
      "outputs": [
        {
          "name": "stdout",
          "output_type": "stream",
          "text": [
            "[>>Codigo 60 / Saldo 100<<]\n",
            "[>>Codigo 5 / Saldo 100<<]\n",
            "[>>Codigo 2 / Saldo 353<<]\n"
          ]
        }
      ],
      "source": [
        "# o que não acontece ainda dada a maneira que implementamos o método __lt__\n",
        "for conta in sorted(contas):\n",
        "    print(conta)"
      ]
    },
    {
      "cell_type": "code",
      "execution_count": 117,
      "metadata": {},
      "outputs": [],
      "source": [
        "# então o que precisamos fazer é, novamente, ajustar o dunder method __lt__\n",
        "\n",
        "# lembrando que os dunder methods são projetos para aplicarem as funções built-in do python DA MANEIRA QUE QUISERMOS (semelhante às operações com vetores nos espaços vetoriais), e isso nos permite acrescentar ou remover condições de acordo com a necessidade de cada caso\n",
        "\n",
        "class ContaSalario: \n",
        "  def __init__(self, codigo, saldo = 0):\n",
        "    self._codigo = codigo\n",
        "    self._saldo = saldo\n",
        "\n",
        "  def deposita(self, valor):\n",
        "    self._saldo += valor\n",
        "\n",
        "  def __str__(self):\n",
        "    return \"[>>Codigo {} / Saldo {}<<]\".format(self._codigo, self._saldo)\n",
        "    \n",
        "  def __eq__(self, outro_objeto):\n",
        "    if type(outro_objeto) == ContaSalario:\n",
        "      if self._saldo == outro_objeto._saldo:\n",
        "        return True\n",
        "      else:\n",
        "        return False\n",
        "    else:\n",
        "      raise TypeError('Você está tentando comparar objetos de classes diferentes')\n",
        "    \n",
        "  '''\n",
        "  def __lt__(self, outro_objeto):\n",
        "      if type(outro_objeto) == ContaSalario:\n",
        "        if self._saldo < outro_objeto._saldo:\n",
        "          return True\n",
        "        elif self._saldo == outro_objeto._saldo:\n",
        "          if self._codigo < outro_objeto._codigo:\n",
        "            return True\n",
        "          else:\n",
        "            return False\n",
        "        else:          \n",
        "          return False\n",
        "      else:\n",
        "        raise TypeError('Você está tentando comparar objetos de classes diferentes')  \n",
        "  '''\n",
        "\n",
        "  ## Maneira mais eficiente de reescrever o método __lt__ acima\n",
        "  def __lt__(self, outro_objeto):\n",
        "    if type(outro_objeto) == ContaSalario:\n",
        "      if self._saldo != outro_objeto._saldo:\n",
        "        return True if self._saldo < outro_objeto._saldo else False\n",
        "      else:\n",
        "        return True if self._codigo < outro_objeto._codigo else False\n",
        "    else:\n",
        "      raise TypeError('Você está tentando comparar objetos de classes diferentes')  \n",
        "  \n",
        "  "
      ]
    },
    {
      "cell_type": "code",
      "execution_count": 118,
      "metadata": {},
      "outputs": [
        {
          "name": "stdout",
          "output_type": "stream",
          "text": [
            "[>>Codigo 60 / Saldo 100<<]\n",
            "[>>Codigo 2 / Saldo 353<<]\n",
            "[>>Codigo 5 / Saldo 100<<]\n"
          ]
        }
      ],
      "source": [
        "conta_1 = ContaSalario(60)\n",
        "conta_1.deposita(100)\n",
        "\n",
        "conta_2 = ContaSalario(2)\n",
        "conta_2.deposita(353)\n",
        "\n",
        "conta_3 = ContaSalario(5)\n",
        "conta_3.deposita(100)\n",
        "\n",
        "contas = [conta_1, conta_2, conta_3]\n",
        "\n",
        "for conta in contas:\n",
        "    print(conta)"
      ]
    },
    {
      "cell_type": "code",
      "execution_count": 119,
      "metadata": {},
      "outputs": [
        {
          "name": "stdout",
          "output_type": "stream",
          "text": [
            "[>>Codigo 5 / Saldo 100<<]\n",
            "[>>Codigo 60 / Saldo 100<<]\n",
            "[>>Codigo 2 / Saldo 353<<]\n"
          ]
        }
      ],
      "source": [
        "for conta in sorted(contas):\n",
        "    print(conta)"
      ]
    },
    {
      "cell_type": "code",
      "execution_count": 120,
      "metadata": {},
      "outputs": [
        {
          "name": "stdout",
          "output_type": "stream",
          "text": [
            "[>>Codigo 5 / Saldo 100<<]\n",
            "[>>Codigo 60 / Saldo 100<<]\n",
            "[>>Codigo 2 / Saldo 353<<]\n"
          ]
        }
      ],
      "source": [
        "# se estivéssemos indo para o método de abordagem procedural, bastaria atualizarmos o parâmetro key da função 'sorted'\n",
        "# (de novo: essa abordagem não é muito legal nesse caso pelo fato de estarmos expondo os atributos privados no código)\n",
        "\n",
        "from operator import attrgetter\n",
        "\n",
        "for conta in sorted(contas, key=attrgetter('_saldo', '_codigo')):\n",
        "    print(conta)"
      ]
    },
    {
      "cell_type": "markdown",
      "metadata": {},
      "source": [
        "- Apesar de termos definido separadamente os métodos de comparação de ordem (primeiramente o 'menor' e, como consequência, o 'maior', gerado como negação do 'menor') e de igualdade (primeiramente o 'igual' e, como consequência, o 'maior', gerado como negação do 'igual'), ainda não temos as comparações totais 'maior/menor ou igual'."
      ]
    },
    {
      "cell_type": "code",
      "execution_count": 121,
      "metadata": {},
      "outputs": [
        {
          "ename": "TypeError",
          "evalue": "'<=' not supported between instances of 'ContaSalario' and 'ContaSalario'",
          "output_type": "error",
          "traceback": [
            "\u001b[1;31m---------------------------------------------------------------------------\u001b[0m",
            "\u001b[1;31mTypeError\u001b[0m                                 Traceback (most recent call last)",
            "\u001b[1;32mc:\\Users\\LUCAS\\Documents\\Data Engineering\\Data-Engineering\\Level 1 - Data Engineering\\Formation - Learning Python with OOP\\Python - Collections pt1\\Introdução_a_Collections.ipynb Cell 139\u001b[0m line \u001b[0;36m1\n\u001b[1;32m----> <a href='vscode-notebook-cell:/c%3A/Users/LUCAS/Documents/Data%20Engineering/Data-Engineering/Level%201%20-%20Data%20Engineering/Formation%20-%20Learning%20Python%20with%20OOP/Python%20-%20Collections%20pt1/Introdu%C3%A7%C3%A3o_a_Collections.ipynb#Y261sZmlsZQ%3D%3D?line=0'>1</a>\u001b[0m conta_1 \u001b[39m<\u001b[39;49m\u001b[39m=\u001b[39;49m conta_2\n",
            "\u001b[1;31mTypeError\u001b[0m: '<=' not supported between instances of 'ContaSalario' and 'ContaSalario'"
          ]
        }
      ],
      "source": [
        "conta_1 <= conta_2"
      ]
    },
    {
      "cell_type": "code",
      "execution_count": 139,
      "metadata": {},
      "outputs": [],
      "source": [
        "# para não precisar ficar implementando tudo do zero, podemos importar uma funcionalidade útil do módulo 'functools'\n",
        "\n",
        "# para implementar o total_ordering do functools é necessário ter, ao menos, a definição do __lt__ e do __eq__\n",
        "from functools import total_ordering\n",
        "\n",
        "@total_ordering\n",
        "class ContaSalario: \n",
        "  def __init__(self, codigo, saldo = 0):\n",
        "    self._codigo = codigo\n",
        "    self._saldo = saldo\n",
        "\n",
        "  def deposita(self, valor):\n",
        "    self._saldo += valor\n",
        "\n",
        "  def __str__(self):\n",
        "    return \"[>>Codigo {} / Saldo {}<<]\".format(self._codigo, self._saldo)\n",
        "    \n",
        "  def __eq__(self, outro_objeto):\n",
        "    if type(outro_objeto) == ContaSalario:\n",
        "      if self._saldo != outro_objeto._saldo:\n",
        "        return False\n",
        "      else:\n",
        "        return self._codigo == outro_objeto._codigo\n",
        "    else:\n",
        "      raise TypeError('Você está tentando comparar objetos de classes diferentes')\n",
        "\n",
        "  ## Maneira ainda mais eficiente de reescrever o método __lt__ definido no último bloco de construção da classe\n",
        "  def __lt__(self, outro_objeto):\n",
        "    if type(outro_objeto) == ContaSalario:\n",
        "      if self._saldo != outro_objeto._saldo:\n",
        "        return self._saldo < outro_objeto._saldo\n",
        "      else:\n",
        "        return self._codigo < outro_objeto._codigo\n",
        "    else:\n",
        "      raise TypeError('Você está tentando comparar objetos de classes diferentes')  \n",
        "  \n",
        "  "
      ]
    },
    {
      "cell_type": "code",
      "execution_count": 140,
      "metadata": {},
      "outputs": [
        {
          "name": "stdout",
          "output_type": "stream",
          "text": [
            "[>>Codigo 5 / Saldo 100<<]\n",
            "[>>Codigo 60 / Saldo 100<<]\n",
            "[>>Codigo 2 / Saldo 353<<]\n"
          ]
        }
      ],
      "source": [
        "conta_1 = ContaSalario(60)\n",
        "conta_1.deposita(100)\n",
        "\n",
        "conta_2 = ContaSalario(2)\n",
        "conta_2.deposita(353)\n",
        "\n",
        "conta_3 = ContaSalario(5)\n",
        "conta_3.deposita(100)\n",
        "\n",
        "contas = [conta_1, conta_2, conta_3]\n",
        "\n",
        "for conta in sorted(contas):\n",
        "    print(conta)"
      ]
    },
    {
      "cell_type": "code",
      "execution_count": 141,
      "metadata": {},
      "outputs": [
        {
          "name": "stdout",
          "output_type": "stream",
          "text": [
            "True\n",
            "False\n",
            "True\n",
            "True\n"
          ]
        }
      ],
      "source": [
        "print(conta_1 < conta_2)\n",
        "print(conta_1 < conta_3)\n",
        "print(conta_1 > conta_3)\n",
        "print(conta_3 < conta_1)"
      ]
    },
    {
      "cell_type": "code",
      "execution_count": 138,
      "metadata": {},
      "outputs": [
        {
          "data": {
            "text/plain": [
              "True"
            ]
          },
          "execution_count": 138,
          "metadata": {},
          "output_type": "execute_result"
        }
      ],
      "source": [
        "conta_1 == conta_3"
      ]
    },
    {
      "cell_type": "code",
      "execution_count": 134,
      "metadata": {},
      "outputs": [
        {
          "name": "stdout",
          "output_type": "stream",
          "text": [
            "False\n",
            "True\n",
            "True\n"
          ]
        }
      ],
      "source": [
        "print(conta_1 < conta_1)\n",
        "print(conta_1 == conta_1)\n",
        "print(conta_1 <= conta_1)"
      ]
    }
  ],
  "metadata": {
    "colab": {
      "collapsed_sections": [],
      "name": "Introdução a Collections",
      "provenance": [],
      "version": "0.3.2"
    },
    "kernelspec": {
      "display_name": "Python 3",
      "name": "python3"
    },
    "language_info": {
      "codemirror_mode": {
        "name": "ipython",
        "version": 3
      },
      "file_extension": ".py",
      "mimetype": "text/x-python",
      "name": "python",
      "nbconvert_exporter": "python",
      "pygments_lexer": "ipython3",
      "version": "3.12.0"
    }
  },
  "nbformat": 4,
  "nbformat_minor": 0
}
