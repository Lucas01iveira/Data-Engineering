{
  "cells": [
    {
      "cell_type": "markdown",
      "metadata": {},
      "source": [
        "### Introdução às Collections'"
      ]
    },
    {
      "cell_type": "code",
      "execution_count": 1,
      "metadata": {
        "colab": {
          "base_uri": "https://localhost:8080/",
          "height": 84
        },
        "colab_type": "code",
        "id": "i92eaEWHL_tu",
        "outputId": "d871b668-3fcf-4b70-b76f-d0fd18a3cbfb"
      },
      "outputs": [
        {
          "name": "stdout",
          "output_type": "stream",
          "text": [
            "39\n",
            "30\n",
            "27\n",
            "18\n"
          ]
        }
      ],
      "source": [
        "idade1 = 39\n",
        "idade2 = 30\n",
        "idade3 = 27\n",
        "idade4 = 18\n",
        "\n",
        "print(idade1)\n",
        "print(idade2)\n",
        "print(idade3)\n",
        "print(idade4)"
      ]
    },
    {
      "cell_type": "code",
      "execution_count": 2,
      "metadata": {
        "colab": {},
        "colab_type": "code",
        "id": "27g6sNsIMZEL"
      },
      "outputs": [],
      "source": [
        "idades = [39, 30, 27, 18]"
      ]
    },
    {
      "cell_type": "code",
      "execution_count": 3,
      "metadata": {
        "colab": {
          "base_uri": "https://localhost:8080/",
          "height": 34
        },
        "colab_type": "code",
        "id": "nMoUaGF8MmuM",
        "outputId": "873010d9-0c3b-4de9-8f2e-0df91484406d"
      },
      "outputs": [
        {
          "data": {
            "text/plain": [
              "list"
            ]
          },
          "execution_count": 3,
          "metadata": {},
          "output_type": "execute_result"
        }
      ],
      "source": [
        "type(idades)"
      ]
    },
    {
      "cell_type": "code",
      "execution_count": 4,
      "metadata": {
        "colab": {
          "base_uri": "https://localhost:8080/",
          "height": 34
        },
        "colab_type": "code",
        "id": "693125bLMoQo",
        "outputId": "76f23b9d-f84b-4810-c835-3cf8e988e13a"
      },
      "outputs": [
        {
          "data": {
            "text/plain": [
              "4"
            ]
          },
          "execution_count": 4,
          "metadata": {},
          "output_type": "execute_result"
        }
      ],
      "source": [
        "len(idades)"
      ]
    },
    {
      "cell_type": "code",
      "execution_count": 5,
      "metadata": {
        "colab": {
          "base_uri": "https://localhost:8080/",
          "height": 34
        },
        "colab_type": "code",
        "id": "HhRSkKaNM70v",
        "outputId": "f0eb0381-e6cb-46b9-d80a-e5fb93ffda20"
      },
      "outputs": [
        {
          "data": {
            "text/plain": [
              "39"
            ]
          },
          "execution_count": 5,
          "metadata": {},
          "output_type": "execute_result"
        }
      ],
      "source": [
        "idades[0]"
      ]
    },
    {
      "cell_type": "code",
      "execution_count": 6,
      "metadata": {
        "colab": {
          "base_uri": "https://localhost:8080/",
          "height": 34
        },
        "colab_type": "code",
        "id": "7Wra5jZLM_6e",
        "outputId": "87f8d517-a653-4164-e621-982ceeae6f8b"
      },
      "outputs": [
        {
          "data": {
            "text/plain": [
              "[39, 30, 27, 18]"
            ]
          },
          "execution_count": 6,
          "metadata": {},
          "output_type": "execute_result"
        }
      ],
      "source": [
        "idades"
      ]
    },
    {
      "cell_type": "code",
      "execution_count": 7,
      "metadata": {
        "colab": {
          "base_uri": "https://localhost:8080/",
          "height": 67
        },
        "colab_type": "code",
        "id": "NXyDZcsZNBJm",
        "outputId": "a06e0ef7-5766-428e-fc3d-98c893cb2ba9"
      },
      "outputs": [
        {
          "name": "stdout",
          "output_type": "stream",
          "text": [
            "30\n",
            "27\n",
            "18\n"
          ]
        }
      ],
      "source": [
        "print(idades[1])\n",
        "print(idades[2])\n",
        "print(idades[3])"
      ]
    },
    {
      "cell_type": "code",
      "execution_count": 8,
      "metadata": {
        "colab": {},
        "colab_type": "code",
        "id": "60CS-6vnNEzX"
      },
      "outputs": [],
      "source": [
        "idades.append(15)"
      ]
    },
    {
      "cell_type": "code",
      "execution_count": 9,
      "metadata": {
        "colab": {
          "base_uri": "https://localhost:8080/",
          "height": 34
        },
        "colab_type": "code",
        "id": "LgNGaf7FNSr-",
        "outputId": "b4118e96-3abc-44f9-eb97-a187b86dcdf0"
      },
      "outputs": [
        {
          "data": {
            "text/plain": [
              "[39, 30, 27, 18, 15]"
            ]
          },
          "execution_count": 9,
          "metadata": {},
          "output_type": "execute_result"
        }
      ],
      "source": [
        "idades"
      ]
    },
    {
      "cell_type": "code",
      "execution_count": 10,
      "metadata": {
        "colab": {
          "base_uri": "https://localhost:8080/",
          "height": 34
        },
        "colab_type": "code",
        "id": "PqFCqcOvNT7h",
        "outputId": "3484bb85-8703-481d-d669-f499397c8741"
      },
      "outputs": [
        {
          "data": {
            "text/plain": [
              "15"
            ]
          },
          "execution_count": 10,
          "metadata": {},
          "output_type": "execute_result"
        }
      ],
      "source": [
        "idades[4]"
      ]
    },
    {
      "cell_type": "code",
      "execution_count": 11,
      "metadata": {
        "colab": {
          "base_uri": "https://localhost:8080/",
          "height": 162
        },
        "colab_type": "code",
        "id": "aCzxDZ0CNVti",
        "outputId": "da86fe7c-9f23-4f9e-cf57-a7d85750260b"
      },
      "outputs": [
        {
          "ename": "IndexError",
          "evalue": "list index out of range",
          "output_type": "error",
          "traceback": [
            "\u001b[1;31m---------------------------------------------------------------------------\u001b[0m",
            "\u001b[1;31mIndexError\u001b[0m                                Traceback (most recent call last)",
            "\u001b[1;32mc:\\Users\\LUCAS\\Documents\\Data Engineering\\Data-Engineering\\Level 1 - Data Engineering\\Formation - Learning Python with OOP\\Python - Collections pt1\\Introdução_a_Collections.ipynb Cell 12\u001b[0m line \u001b[0;36m1\n\u001b[1;32m----> <a href='vscode-notebook-cell:/c%3A/Users/LUCAS/Documents/Data%20Engineering/Data-Engineering/Level%201%20-%20Data%20Engineering/Formation%20-%20Learning%20Python%20with%20OOP/Python%20-%20Collections%20pt1/Introdu%C3%A7%C3%A3o_a_Collections.ipynb#X14sZmlsZQ%3D%3D?line=0'>1</a>\u001b[0m idades[\u001b[39m5\u001b[39;49m]\n",
            "\u001b[1;31mIndexError\u001b[0m: list index out of range"
          ]
        }
      ],
      "source": [
        "idades[5]"
      ]
    },
    {
      "cell_type": "code",
      "execution_count": null,
      "metadata": {
        "colab": {
          "base_uri": "https://localhost:8080/",
          "height": 101
        },
        "colab_type": "code",
        "id": "AXKjngwvNXLM",
        "outputId": "8e4c3efa-3cd1-424f-ef20-0ae9c306b927"
      },
      "outputs": [
        {
          "name": "stdout",
          "output_type": "stream",
          "text": [
            "39\n",
            "30\n",
            "27\n",
            "18\n",
            "15\n"
          ]
        }
      ],
      "source": [
        "for idade in idades:\n",
        "  print(idade)"
      ]
    },
    {
      "cell_type": "code",
      "execution_count": null,
      "metadata": {
        "colab": {},
        "colab_type": "code",
        "id": "e086OjeaNmWj"
      },
      "outputs": [],
      "source": [
        "idades.remove(30)"
      ]
    },
    {
      "cell_type": "code",
      "execution_count": null,
      "metadata": {
        "colab": {
          "base_uri": "https://localhost:8080/",
          "height": 34
        },
        "colab_type": "code",
        "id": "5A6pLLh4No8s",
        "outputId": "83eb8f32-033e-410c-9aac-a17e5cea45b2"
      },
      "outputs": [
        {
          "data": {
            "text/plain": [
              "[39, 27, 18, 15]"
            ]
          },
          "execution_count": 19,
          "metadata": {
            "tags": []
          },
          "output_type": "execute_result"
        }
      ],
      "source": [
        "idades"
      ]
    },
    {
      "cell_type": "code",
      "execution_count": null,
      "metadata": {
        "colab": {
          "base_uri": "https://localhost:8080/",
          "height": 162
        },
        "colab_type": "code",
        "id": "ojsePmRwNpy2",
        "outputId": "2beab908-ba71-4dff-dc8a-dd94b70f8bb4"
      },
      "outputs": [
        {
          "ename": "ValueError",
          "evalue": "ignored",
          "output_type": "error",
          "traceback": [
            "\u001b[0;31m---------------------------------------------------------------------------\u001b[0m",
            "\u001b[0;31mValueError\u001b[0m                                Traceback (most recent call last)",
            "\u001b[0;32m<ipython-input-20-4f77f6ee3785>\u001b[0m in \u001b[0;36m<module>\u001b[0;34m()\u001b[0m\n\u001b[0;32m----> 1\u001b[0;31m \u001b[0midades\u001b[0m\u001b[0;34m.\u001b[0m\u001b[0mremove\u001b[0m\u001b[0;34m(\u001b[0m\u001b[0;36m30\u001b[0m\u001b[0;34m)\u001b[0m\u001b[0;34m\u001b[0m\u001b[0;34m\u001b[0m\u001b[0m\n\u001b[0m",
            "\u001b[0;31mValueError\u001b[0m: list.remove(x): x not in list"
          ]
        }
      ],
      "source": [
        "idades.remove(30)"
      ]
    },
    {
      "cell_type": "code",
      "execution_count": null,
      "metadata": {
        "colab": {},
        "colab_type": "code",
        "id": "kkdK3t6nNsXW"
      },
      "outputs": [],
      "source": [
        "idades.append(15)"
      ]
    },
    {
      "cell_type": "code",
      "execution_count": null,
      "metadata": {
        "colab": {
          "base_uri": "https://localhost:8080/",
          "height": 34
        },
        "colab_type": "code",
        "id": "caaWvENvNv8N",
        "outputId": "19bf6599-f2d8-4cbd-e9a5-af1968e614e3"
      },
      "outputs": [
        {
          "data": {
            "text/plain": [
              "[39, 27, 18, 15, 15]"
            ]
          },
          "execution_count": 22,
          "metadata": {
            "tags": []
          },
          "output_type": "execute_result"
        }
      ],
      "source": [
        "idades"
      ]
    },
    {
      "cell_type": "code",
      "execution_count": null,
      "metadata": {
        "colab": {},
        "colab_type": "code",
        "id": "IZC0ENA1Nwso"
      },
      "outputs": [],
      "source": [
        "idades.remove(15)"
      ]
    },
    {
      "cell_type": "code",
      "execution_count": null,
      "metadata": {
        "colab": {
          "base_uri": "https://localhost:8080/",
          "height": 34
        },
        "colab_type": "code",
        "id": "80fchrRGNx4A",
        "outputId": "5a7258c1-dd6b-46d9-c468-0b7b58819d73"
      },
      "outputs": [
        {
          "data": {
            "text/plain": [
              "[39, 27, 18, 15]"
            ]
          },
          "execution_count": 24,
          "metadata": {
            "tags": []
          },
          "output_type": "execute_result"
        }
      ],
      "source": [
        "idades"
      ]
    },
    {
      "cell_type": "code",
      "execution_count": null,
      "metadata": {
        "colab": {
          "base_uri": "https://localhost:8080/",
          "height": 34
        },
        "colab_type": "code",
        "id": "yNWCUQupNycy",
        "outputId": "afde6e30-a7f1-451e-afd4-ec6e03d52cf0"
      },
      "outputs": [
        {
          "data": {
            "text/plain": [
              "[39, 18, 15, 27]"
            ]
          },
          "execution_count": 25,
          "metadata": {
            "tags": []
          },
          "output_type": "execute_result"
        }
      ],
      "source": [
        "idades.append(27)\n",
        "idades.remove(27)\n",
        "idades"
      ]
    },
    {
      "cell_type": "code",
      "execution_count": null,
      "metadata": {
        "colab": {
          "base_uri": "https://localhost:8080/",
          "height": 34
        },
        "colab_type": "code",
        "id": "Kot_FAOkN3g3",
        "outputId": "9d6ff2b1-382b-4953-bdef-7b115474d749"
      },
      "outputs": [
        {
          "data": {
            "text/plain": [
              "False"
            ]
          },
          "execution_count": 26,
          "metadata": {
            "tags": []
          },
          "output_type": "execute_result"
        }
      ],
      "source": [
        "28 in idades"
      ]
    },
    {
      "cell_type": "code",
      "execution_count": null,
      "metadata": {
        "colab": {
          "base_uri": "https://localhost:8080/",
          "height": 34
        },
        "colab_type": "code",
        "id": "DMmSks6eOmaX",
        "outputId": "4d6cfb43-e8d1-43aa-8355-842c7a2b337e"
      },
      "outputs": [
        {
          "data": {
            "text/plain": [
              "True"
            ]
          },
          "execution_count": 27,
          "metadata": {
            "tags": []
          },
          "output_type": "execute_result"
        }
      ],
      "source": [
        "15 in idades"
      ]
    },
    {
      "cell_type": "code",
      "execution_count": null,
      "metadata": {
        "colab": {},
        "colab_type": "code",
        "id": "N01sbE4xOoAF"
      },
      "outputs": [],
      "source": [
        "if 15 in idades:\n",
        "  idades.remove(15)"
      ]
    },
    {
      "cell_type": "code",
      "execution_count": null,
      "metadata": {
        "colab": {
          "base_uri": "https://localhost:8080/",
          "height": 34
        },
        "colab_type": "code",
        "id": "U4Ozd7ZxOukR",
        "outputId": "6b205258-fa04-43b2-b9e9-7000c158a318"
      },
      "outputs": [
        {
          "data": {
            "text/plain": [
              "[39, 18, 27]"
            ]
          },
          "execution_count": 29,
          "metadata": {
            "tags": []
          },
          "output_type": "execute_result"
        }
      ],
      "source": [
        "idades"
      ]
    },
    {
      "cell_type": "code",
      "execution_count": null,
      "metadata": {
        "colab": {},
        "colab_type": "code",
        "id": "SMgSWfVsOvrr"
      },
      "outputs": [],
      "source": [
        "if 28 in idades:\n",
        "  idades.remove(28)"
      ]
    },
    {
      "cell_type": "code",
      "execution_count": null,
      "metadata": {
        "colab": {
          "base_uri": "https://localhost:8080/",
          "height": 34
        },
        "colab_type": "code",
        "id": "feOCw2UEOzaf",
        "outputId": "c422c2ec-8203-4ca2-f680-4d517ed2a340"
      },
      "outputs": [
        {
          "data": {
            "text/plain": [
              "[39, 18, 27]"
            ]
          },
          "execution_count": 31,
          "metadata": {
            "tags": []
          },
          "output_type": "execute_result"
        }
      ],
      "source": [
        "idades"
      ]
    },
    {
      "cell_type": "code",
      "execution_count": null,
      "metadata": {
        "colab": {
          "base_uri": "https://localhost:8080/",
          "height": 34
        },
        "colab_type": "code",
        "id": "v9GOmJkDO0QH",
        "outputId": "4328f9e5-29f0-483e-8e1f-de9cbc459284"
      },
      "outputs": [
        {
          "data": {
            "text/plain": [
              "[39, 18, 27, 19]"
            ]
          },
          "execution_count": 32,
          "metadata": {
            "tags": []
          },
          "output_type": "execute_result"
        }
      ],
      "source": [
        "idades.append(19)\n",
        "idades"
      ]
    },
    {
      "cell_type": "code",
      "execution_count": null,
      "metadata": {
        "colab": {
          "base_uri": "https://localhost:8080/",
          "height": 34
        },
        "colab_type": "code",
        "id": "EXZzTRCWO6LU",
        "outputId": "986d05a8-b345-4bbc-f34f-b087f9d4957d"
      },
      "outputs": [
        {
          "data": {
            "text/plain": [
              "[20, 39, 18, 27, 19]"
            ]
          },
          "execution_count": 33,
          "metadata": {
            "tags": []
          },
          "output_type": "execute_result"
        }
      ],
      "source": [
        "idades.insert(0, 20)\n",
        "idades"
      ]
    },
    {
      "cell_type": "code",
      "execution_count": null,
      "metadata": {
        "colab": {
          "base_uri": "https://localhost:8080/",
          "height": 34
        },
        "colab_type": "code",
        "id": "yQ6QIHbVPDJm",
        "outputId": "22d62c05-88e7-4041-be71-eeba0d17e932"
      },
      "outputs": [
        {
          "data": {
            "text/plain": [
              "[20, 39, 18]"
            ]
          },
          "execution_count": 34,
          "metadata": {
            "tags": []
          },
          "output_type": "execute_result"
        }
      ],
      "source": [
        "idades = [20, 39, 18]\n",
        "idades"
      ]
    },
    {
      "cell_type": "code",
      "execution_count": null,
      "metadata": {
        "colab": {},
        "colab_type": "code",
        "id": "1x5IZ3LxPKFw"
      },
      "outputs": [],
      "source": [
        "idades.append([27, 19])"
      ]
    },
    {
      "cell_type": "code",
      "execution_count": null,
      "metadata": {
        "colab": {
          "base_uri": "https://localhost:8080/",
          "height": 34
        },
        "colab_type": "code",
        "id": "pbjqVYWcPNfa",
        "outputId": "5a1b5d0b-66b9-40a0-a820-94842fe5d1ca"
      },
      "outputs": [
        {
          "data": {
            "text/plain": [
              "[20, 39, 18, [27, 19]]"
            ]
          },
          "execution_count": 37,
          "metadata": {
            "tags": []
          },
          "output_type": "execute_result"
        }
      ],
      "source": [
        "idades"
      ]
    },
    {
      "cell_type": "code",
      "execution_count": null,
      "metadata": {
        "colab": {
          "base_uri": "https://localhost:8080/",
          "height": 84
        },
        "colab_type": "code",
        "id": "YJndRY-ZPTb8",
        "outputId": "325e4c82-69ed-432d-f692-0030bf920a09"
      },
      "outputs": [
        {
          "name": "stdout",
          "output_type": "stream",
          "text": [
            "Recebi o elemento 20\n",
            "Recebi o elemento 39\n",
            "Recebi o elemento 18\n",
            "Recebi o elemento [27, 19]\n"
          ]
        }
      ],
      "source": [
        "for elemento in idades:\n",
        "  print(\"Recebi o elemento\", elemento)"
      ]
    },
    {
      "cell_type": "code",
      "execution_count": null,
      "metadata": {
        "colab": {
          "base_uri": "https://localhost:8080/",
          "height": 34
        },
        "colab_type": "code",
        "id": "Rt1JRcrIPZVL",
        "outputId": "34ef7b0d-bc95-4ec6-99eb-71ecfeca83d2"
      },
      "outputs": [
        {
          "data": {
            "text/plain": [
              "[20, 39, 18, 27, 19]"
            ]
          },
          "execution_count": 39,
          "metadata": {
            "tags": []
          },
          "output_type": "execute_result"
        }
      ],
      "source": [
        "idades = [20, 39, 18]\n",
        "idades.extend([27, 19])\n",
        "idades"
      ]
    },
    {
      "cell_type": "code",
      "execution_count": null,
      "metadata": {
        "colab": {
          "base_uri": "https://localhost:8080/",
          "height": 101
        },
        "colab_type": "code",
        "id": "2TqBUj41PwzS",
        "outputId": "f6e4e9bb-f866-4fb0-bc5a-2be373185544"
      },
      "outputs": [
        {
          "name": "stdout",
          "output_type": "stream",
          "text": [
            "21\n",
            "40\n",
            "19\n",
            "28\n",
            "20\n"
          ]
        }
      ],
      "source": [
        "for idade in idades:\n",
        "  print(idade + 1)"
      ]
    },
    {
      "cell_type": "code",
      "execution_count": null,
      "metadata": {
        "colab": {
          "base_uri": "https://localhost:8080/",
          "height": 34
        },
        "colab_type": "code",
        "id": "-zU67OikQCJq",
        "outputId": "93a76c21-4b69-47a4-dcd9-5b42fce70b30"
      },
      "outputs": [
        {
          "data": {
            "text/plain": [
              "[21, 40, 19, 28, 20]"
            ]
          },
          "execution_count": 41,
          "metadata": {
            "tags": []
          },
          "output_type": "execute_result"
        }
      ],
      "source": [
        "idades_no_ano_que_vem = []\n",
        "for idade in idades:\n",
        "  idades_no_ano_que_vem.append(idade+1)\n",
        "idades_no_ano_que_vem"
      ]
    },
    {
      "cell_type": "code",
      "execution_count": null,
      "metadata": {
        "colab": {
          "base_uri": "https://localhost:8080/",
          "height": 34
        },
        "colab_type": "code",
        "id": "P50Oyp-EQQrC",
        "outputId": "bc1c0261-05af-46d1-a8d5-fc9957afdf9d"
      },
      "outputs": [
        {
          "data": {
            "text/plain": [
              "[21, 40, 19, 28, 20]"
            ]
          },
          "execution_count": 43,
          "metadata": {
            "tags": []
          },
          "output_type": "execute_result"
        }
      ],
      "source": [
        "idades_no_ano_que_vem = [idade+1 for idade in idades]\n",
        "idades_no_ano_que_vem"
      ]
    },
    {
      "cell_type": "code",
      "execution_count": null,
      "metadata": {
        "colab": {
          "base_uri": "https://localhost:8080/",
          "height": 34
        },
        "colab_type": "code",
        "id": "QdPT5ougQmvS",
        "outputId": "e6f6defd-e799-4208-dcd4-7477944a123e"
      },
      "outputs": [
        {
          "data": {
            "text/plain": [
              "[39, 27]"
            ]
          },
          "execution_count": 44,
          "metadata": {
            "tags": []
          },
          "output_type": "execute_result"
        }
      ],
      "source": [
        "[idade for idade in idades if idade > 21]"
      ]
    },
    {
      "cell_type": "code",
      "execution_count": null,
      "metadata": {
        "colab": {
          "base_uri": "https://localhost:8080/",
          "height": 34
        },
        "colab_type": "code",
        "id": "25Mg6X9zQ-U5",
        "outputId": "ff1c9ce9-0df4-434c-cd70-0c78d28c23df"
      },
      "outputs": [
        {
          "data": {
            "text/plain": [
              "[20, 39, 18, 27, 19]"
            ]
          },
          "execution_count": 45,
          "metadata": {
            "tags": []
          },
          "output_type": "execute_result"
        }
      ],
      "source": [
        "idades"
      ]
    },
    {
      "cell_type": "code",
      "execution_count": null,
      "metadata": {
        "colab": {
          "base_uri": "https://localhost:8080/",
          "height": 34
        },
        "colab_type": "code",
        "id": "feAiRsuTRAQ0",
        "outputId": "46cfc170-4f7a-4804-b8f1-a6efcb573247"
      },
      "outputs": [
        {
          "data": {
            "text/plain": [
              "[40, 28]"
            ]
          },
          "execution_count": 46,
          "metadata": {
            "tags": []
          },
          "output_type": "execute_result"
        }
      ],
      "source": [
        "def proximo_ano(idade):\n",
        "  return idade+1\n",
        "\n",
        "[proximo_ano(idade) for idade in idades if idade > 21]"
      ]
    },
    {
      "cell_type": "code",
      "execution_count": null,
      "metadata": {
        "colab": {},
        "colab_type": "code",
        "id": "zHFn9PYHSY3Z"
      },
      "outputs": [],
      "source": [
        "def faz_processamento_de_visualizacao(lista):\n",
        "  print(len(lista))\n",
        "  lista.append(13)"
      ]
    },
    {
      "cell_type": "code",
      "execution_count": null,
      "metadata": {
        "colab": {
          "base_uri": "https://localhost:8080/",
          "height": 50
        },
        "colab_type": "code",
        "id": "7nWLQ7t-SqT3",
        "outputId": "74ee7eec-880e-4f4f-9fb7-26e84d1551ba"
      },
      "outputs": [
        {
          "name": "stdout",
          "output_type": "stream",
          "text": [
            "5\n"
          ]
        },
        {
          "data": {
            "text/plain": [
              "[16, 21, 29, 56, 43, 13]"
            ]
          },
          "execution_count": 54,
          "metadata": {
            "tags": []
          },
          "output_type": "execute_result"
        }
      ],
      "source": [
        "idades = [16, 21, 29, 56, 43]\n",
        "faz_processamento_de_visualizacao(idades)\n",
        "idades"
      ]
    },
    {
      "cell_type": "code",
      "execution_count": null,
      "metadata": {
        "colab": {},
        "colab_type": "code",
        "id": "k8n9XUouSvXc"
      },
      "outputs": [],
      "source": [
        "def faz_processamento_de_visualizacao(lista = []):\n",
        "  print(len(lista))\n",
        "  print(lista)\n",
        "  lista.append(13)"
      ]
    },
    {
      "cell_type": "code",
      "execution_count": null,
      "metadata": {
        "colab": {
          "base_uri": "https://localhost:8080/",
          "height": 50
        },
        "colab_type": "code",
        "id": "p-KkKf-6Tplr",
        "outputId": "8ca509de-6b48-4830-b59f-74f5fceaebf4"
      },
      "outputs": [
        {
          "name": "stdout",
          "output_type": "stream",
          "text": [
            "0\n",
            "[]\n"
          ]
        }
      ],
      "source": [
        "faz_processamento_de_visualizacao()"
      ]
    },
    {
      "cell_type": "code",
      "execution_count": null,
      "metadata": {
        "colab": {
          "base_uri": "https://localhost:8080/",
          "height": 50
        },
        "colab_type": "code",
        "id": "29p5f7fOTs9h",
        "outputId": "ef5e7ae5-5954-4079-e522-fbd4a036f3ff"
      },
      "outputs": [
        {
          "name": "stdout",
          "output_type": "stream",
          "text": [
            "1\n",
            "[13]\n"
          ]
        }
      ],
      "source": [
        "faz_processamento_de_visualizacao()"
      ]
    },
    {
      "cell_type": "code",
      "execution_count": null,
      "metadata": {
        "colab": {
          "base_uri": "https://localhost:8080/",
          "height": 50
        },
        "colab_type": "code",
        "id": "DWP6B6DuTu0j",
        "outputId": "2418fd1d-0ec9-4ec7-b86c-3351c8fd7e99"
      },
      "outputs": [
        {
          "name": "stdout",
          "output_type": "stream",
          "text": [
            "2\n",
            "[13, 13]\n"
          ]
        }
      ],
      "source": [
        "faz_processamento_de_visualizacao()"
      ]
    },
    {
      "cell_type": "code",
      "execution_count": null,
      "metadata": {
        "colab": {
          "base_uri": "https://localhost:8080/",
          "height": 50
        },
        "colab_type": "code",
        "id": "HYbSLIiSTwOB",
        "outputId": "ed417dc4-53a9-423e-b624-ad924a230e2a"
      },
      "outputs": [
        {
          "name": "stdout",
          "output_type": "stream",
          "text": [
            "3\n",
            "[13, 13, 13]\n"
          ]
        }
      ],
      "source": [
        "faz_processamento_de_visualizacao()"
      ]
    },
    {
      "cell_type": "code",
      "execution_count": null,
      "metadata": {
        "colab": {},
        "colab_type": "code",
        "id": "vS-8-DHiTxdh"
      },
      "outputs": [],
      "source": [
        "def faz_processamento_de_visualizacao(lista = list()):\n",
        "  print(len(lista))\n",
        "  print(lista)\n",
        "  lista.append(13)"
      ]
    },
    {
      "cell_type": "code",
      "execution_count": null,
      "metadata": {
        "colab": {
          "base_uri": "https://localhost:8080/",
          "height": 85
        },
        "colab_type": "code",
        "id": "lCMngXMGUKli",
        "outputId": "996f93dd-a52b-4531-cc93-a8f1a852134b"
      },
      "outputs": [
        {
          "name": "stdout",
          "output_type": "stream",
          "text": [
            "0\n",
            "[]\n",
            "1\n",
            "[13]\n"
          ]
        }
      ],
      "source": [
        "faz_processamento_de_visualizacao()\n",
        "faz_processamento_de_visualizacao()"
      ]
    },
    {
      "cell_type": "code",
      "execution_count": null,
      "metadata": {
        "colab": {},
        "colab_type": "code",
        "id": "5sMp0XuKUMVf"
      },
      "outputs": [],
      "source": [
        "def faz_processamento_de_visualizacao(lista = None):\n",
        "  if lista == None:\n",
        "    lista = list()\n",
        "  print(len(lista))\n",
        "  print(lista)\n",
        "  lista.append(13)"
      ]
    },
    {
      "cell_type": "code",
      "execution_count": null,
      "metadata": {
        "colab": {
          "base_uri": "https://localhost:8080/",
          "height": 153
        },
        "colab_type": "code",
        "id": "2LxsmPtaUU-D",
        "outputId": "c686cb61-1678-478e-8aa5-f7bc79aa58d5"
      },
      "outputs": [
        {
          "name": "stdout",
          "output_type": "stream",
          "text": [
            "0\n",
            "[]\n",
            "0\n",
            "[]\n",
            "0\n",
            "[]\n",
            "0\n",
            "[]\n"
          ]
        }
      ],
      "source": [
        "faz_processamento_de_visualizacao()\n",
        "faz_processamento_de_visualizacao()\n",
        "faz_processamento_de_visualizacao()\n",
        "faz_processamento_de_visualizacao()"
      ]
    },
    {
      "cell_type": "markdown",
      "metadata": {},
      "source": [
        "### Tuplas"
      ]
    },
    {
      "cell_type": "code",
      "execution_count": null,
      "metadata": {
        "colab": {},
        "colab_type": "code",
        "id": "xD-vMk2iUYst"
      },
      "outputs": [],
      "source": [
        "class ContaCorrente:\n",
        "    def __init__(self, codigo, saldo = 0):\n",
        "        self.codigo = codigo\n",
        "        self.saldo = saldo\n",
        "    \n",
        "    def deposita(self, valor):\n",
        "        self.saldo += valor\n",
        "\n",
        "    def __str__(self):\n",
        "        return '[>> Codigo: {} / Saldo: {} <<]'.format(self.codigo, self.saldo)"
      ]
    },
    {
      "cell_type": "code",
      "execution_count": null,
      "metadata": {},
      "outputs": [
        {
          "name": "stdout",
          "output_type": "stream",
          "text": [
            "[>> Codigo: 123 / Saldo: 1200 <<]\n"
          ]
        }
      ],
      "source": [
        "conta_do_gui = ContaCorrente('123', 1000)\n",
        "conta_do_gui.deposita(200)\n",
        "print(conta_do_gui)"
      ]
    },
    {
      "cell_type": "code",
      "execution_count": null,
      "metadata": {},
      "outputs": [
        {
          "name": "stdout",
          "output_type": "stream",
          "text": [
            "[>> Codigo: 47685 / Saldo: 500 <<]\n"
          ]
        }
      ],
      "source": [
        "conta_da_dani = ContaCorrente('47685')\n",
        "conta_da_dani.deposita(500)\n",
        "print(conta_da_dani)"
      ]
    },
    {
      "cell_type": "code",
      "execution_count": null,
      "metadata": {},
      "outputs": [
        {
          "name": "stdout",
          "output_type": "stream",
          "text": [
            "[<__main__.ContaCorrente object at 0x000002800278C260>, <__main__.ContaCorrente object at 0x00000280037C30E0>]\n"
          ]
        }
      ],
      "source": [
        "contas = [conta_do_gui, conta_da_dani]\n",
        "print(contas)"
      ]
    },
    {
      "cell_type": "markdown",
      "metadata": {},
      "source": [
        "- Perceba que o print, quando aplicado à lista, não retorna o método __str__ dos objetos, mas sim os endereços correspondentes na memória. Isso nos mostra essencialmente que temos dois objetos armazenados em locais distintos.\n",
        "\n",
        "- Para obter o retorno do método __str__ desejado, precisamos iterar sobre os elementos (nesse caso, os objetos) da lista"
      ]
    },
    {
      "cell_type": "code",
      "execution_count": null,
      "metadata": {},
      "outputs": [
        {
          "name": "stdout",
          "output_type": "stream",
          "text": [
            "[>> Codigo: 123 / Saldo: 1200 <<]\n",
            "[>> Codigo: 47685 / Saldo: 500 <<]\n"
          ]
        }
      ],
      "source": [
        "for conta in contas:\n",
        "    print(conta)"
      ]
    },
    {
      "cell_type": "code",
      "execution_count": null,
      "metadata": {},
      "outputs": [
        {
          "name": "stdout",
          "output_type": "stream",
          "text": [
            "[>> Codigo: 123 / Saldo: 1200 <<]\n",
            "[>> Codigo: 123 / Saldo: 1200 <<]\n"
          ]
        }
      ],
      "source": [
        "# agora tanto a conta do gui quanto a conta da dani possuem duas referências distintas (mas o objeto é o mesmo; não há geração de novas instâncias)\n",
        "print(contas[0])\n",
        "print(conta_do_gui)"
      ]
    },
    {
      "cell_type": "code",
      "execution_count": null,
      "metadata": {},
      "outputs": [
        {
          "name": "stdout",
          "output_type": "stream",
          "text": [
            "[>> Codigo: 123 / Saldo: 1200 <<] [>> Codigo: 47685 / Saldo: 500 <<]\n",
            "[>> Codigo: 123 / Saldo: 1300 <<] [>> Codigo: 47685 / Saldo: 600 <<]\n"
          ]
        }
      ],
      "source": [
        "def deposita_para_todas(contas):\n",
        "    for conta in contas:\n",
        "        conta.deposita(100)\n",
        "\n",
        "print(contas[0], contas[1])\n",
        "deposita_para_todas(contas)\n",
        "print(contas[0], contas[1])"
      ]
    },
    {
      "cell_type": "markdown",
      "metadata": {},
      "source": [
        "- Até agora estamos utilizando listas com elementos de um mesmo tipo. Normalmente esse procedimento é, de fato, o usual, e representa a maneira padrão de trabalho com as listas. Mas suponha que alguém definisse que agora o primeiro elemento da lista deve corresponder ao número da Agência."
      ]
    },
    {
      "cell_type": "code",
      "execution_count": null,
      "metadata": {},
      "outputs": [
        {
          "name": "stdout",
          "output_type": "stream",
          "text": [
            "76 [>> Codigo: 123 / Saldo: 1300 <<] [>> Codigo: 47685 / Saldo: 600 <<] "
          ]
        }
      ],
      "source": [
        "contas.insert(0, 76) # agência de número 76\n",
        "for element in contas:\n",
        "    print(element, end=' ')"
      ]
    },
    {
      "cell_type": "code",
      "execution_count": null,
      "metadata": {},
      "outputs": [
        {
          "name": "stdout",
          "output_type": "stream",
          "text": [
            "76 [>> Codigo: 123 / Saldo: 1300 <<] [>> Codigo: 47685 / Saldo: 600 <<]\n"
          ]
        },
        {
          "ename": "AttributeError",
          "evalue": "'int' object has no attribute 'deposita'",
          "output_type": "error",
          "traceback": [
            "\u001b[1;31m---------------------------------------------------------------------------\u001b[0m",
            "\u001b[1;31mAttributeError\u001b[0m                            Traceback (most recent call last)",
            "\u001b[1;32mc:\\Users\\LUCAS\\Documents\\Data Engineering\\Data-Engineering\\Level 1 - Data Engineering\\Formation - Learning Python with OOP\\Python - Collections pt1\\Introdução_a_Collections.ipynb Cell 63\u001b[0m line \u001b[0;36m4\n\u001b[0;32m      <a href='vscode-notebook-cell:/c%3A/Users/LUCAS/Documents/Data%20Engineering/Data-Engineering/Level%201%20-%20Data%20Engineering/Formation%20-%20Learning%20Python%20with%20OOP/Python%20-%20Collections%20pt1/Introdu%C3%A7%C3%A3o_a_Collections.ipynb#Y120sZmlsZQ%3D%3D?line=0'>1</a>\u001b[0m \u001b[39m# agora a função que definimos anteriormente não vai funcionar em sua totalidade, pois agora nem todos os elementos da lista são do tipo conta (hipótese que assumimos verdadeira quando definimos a função)\u001b[39;00m\n\u001b[0;32m      <a href='vscode-notebook-cell:/c%3A/Users/LUCAS/Documents/Data%20Engineering/Data-Engineering/Level%201%20-%20Data%20Engineering/Formation%20-%20Learning%20Python%20with%20OOP/Python%20-%20Collections%20pt1/Introdu%C3%A7%C3%A3o_a_Collections.ipynb#Y120sZmlsZQ%3D%3D?line=2'>3</a>\u001b[0m \u001b[39mprint\u001b[39m(contas[\u001b[39m0\u001b[39m], contas[\u001b[39m1\u001b[39m], contas[\u001b[39m2\u001b[39m])\n\u001b[1;32m----> <a href='vscode-notebook-cell:/c%3A/Users/LUCAS/Documents/Data%20Engineering/Data-Engineering/Level%201%20-%20Data%20Engineering/Formation%20-%20Learning%20Python%20with%20OOP/Python%20-%20Collections%20pt1/Introdu%C3%A7%C3%A3o_a_Collections.ipynb#Y120sZmlsZQ%3D%3D?line=3'>4</a>\u001b[0m deposita_para_todas(contas)\n\u001b[0;32m      <a href='vscode-notebook-cell:/c%3A/Users/LUCAS/Documents/Data%20Engineering/Data-Engineering/Level%201%20-%20Data%20Engineering/Formation%20-%20Learning%20Python%20with%20OOP/Python%20-%20Collections%20pt1/Introdu%C3%A7%C3%A3o_a_Collections.ipynb#Y120sZmlsZQ%3D%3D?line=4'>5</a>\u001b[0m \u001b[39mprint\u001b[39m(contas[\u001b[39m0\u001b[39m], contas[\u001b[39m1\u001b[39m], contas[\u001b[39m2\u001b[39m])\n",
            "\u001b[1;32mc:\\Users\\LUCAS\\Documents\\Data Engineering\\Data-Engineering\\Level 1 - Data Engineering\\Formation - Learning Python with OOP\\Python - Collections pt1\\Introdução_a_Collections.ipynb Cell 63\u001b[0m line \u001b[0;36m3\n\u001b[0;32m      <a href='vscode-notebook-cell:/c%3A/Users/LUCAS/Documents/Data%20Engineering/Data-Engineering/Level%201%20-%20Data%20Engineering/Formation%20-%20Learning%20Python%20with%20OOP/Python%20-%20Collections%20pt1/Introdu%C3%A7%C3%A3o_a_Collections.ipynb#Y120sZmlsZQ%3D%3D?line=0'>1</a>\u001b[0m \u001b[39mdef\u001b[39;00m \u001b[39mdeposita_para_todas\u001b[39m(contas):\n\u001b[0;32m      <a href='vscode-notebook-cell:/c%3A/Users/LUCAS/Documents/Data%20Engineering/Data-Engineering/Level%201%20-%20Data%20Engineering/Formation%20-%20Learning%20Python%20with%20OOP/Python%20-%20Collections%20pt1/Introdu%C3%A7%C3%A3o_a_Collections.ipynb#Y120sZmlsZQ%3D%3D?line=1'>2</a>\u001b[0m     \u001b[39mfor\u001b[39;00m conta \u001b[39min\u001b[39;00m contas:\n\u001b[1;32m----> <a href='vscode-notebook-cell:/c%3A/Users/LUCAS/Documents/Data%20Engineering/Data-Engineering/Level%201%20-%20Data%20Engineering/Formation%20-%20Learning%20Python%20with%20OOP/Python%20-%20Collections%20pt1/Introdu%C3%A7%C3%A3o_a_Collections.ipynb#Y120sZmlsZQ%3D%3D?line=2'>3</a>\u001b[0m         conta\u001b[39m.\u001b[39;49mdeposita(\u001b[39m100\u001b[39m)\n",
            "\u001b[1;31mAttributeError\u001b[0m: 'int' object has no attribute 'deposita'"
          ]
        }
      ],
      "source": [
        "# agora a função que definimos anteriormente não vai funcionar em sua totalidade, pois agora nem todos os elementos da lista são do tipo conta (hipótese que assumimos verdadeira quando definimos a função)\n",
        "\n",
        "print(contas[0], contas[1], contas[2])\n",
        "deposita_para_todas(contas)\n",
        "print(contas[0], contas[1], contas[2])"
      ]
    },
    {
      "cell_type": "code",
      "execution_count": null,
      "metadata": {},
      "outputs": [
        {
          "name": "stdout",
          "output_type": "stream",
          "text": [
            "<class '__main__.ContaCorrente'>\n"
          ]
        }
      ],
      "source": [
        "print(type(contas[1]))"
      ]
    },
    {
      "cell_type": "code",
      "execution_count": null,
      "metadata": {},
      "outputs": [
        {
          "name": "stdout",
          "output_type": "stream",
          "text": [
            "76 [>> Codigo: 123 / Saldo: 1300 <<] [>> Codigo: 47685 / Saldo: 600 <<]\n",
            "76 [>> Codigo: 123 / Saldo: 1400 <<] [>> Codigo: 47685 / Saldo: 700 <<]\n"
          ]
        }
      ],
      "source": [
        "def deposita_para_todas(contas):\n",
        "    for conta in contas:\n",
        "        if type(conta) == ContaCorrente:\n",
        "            conta.deposita(100)\n",
        "\n",
        "print(contas[0], contas[1], contas[2])\n",
        "deposita_para_todas(contas)\n",
        "print(contas[0], contas[1], contas[2])"
      ]
    },
    {
      "cell_type": "markdown",
      "metadata": {},
      "source": [
        "- Mas a ideia aqui é a seguinte: quando queremos definir uma lista de elementos em que cada posição representa uma característica / propriedade diferente, a lista deixa de ser o objeto mais interessante para se trabalhar, pois além de gerar ambiguidades de tratamento, ainda tem o adicional de ser *mutável*. Nesses casos, o ideal é trabalhar com ***tuplas***"
      ]
    },
    {
      "cell_type": "code",
      "execution_count": null,
      "metadata": {},
      "outputs": [
        {
          "name": "stdout",
          "output_type": "stream",
          "text": [
            "(76, '123', 1000)\n",
            "(76, '47685', 200)\n"
          ]
        }
      ],
      "source": [
        "conta_do_gui = (76, '123', 1000)\n",
        "conta_da_dani = (76, '47685', 200)\n",
        "\n",
        "print(conta_do_gui)\n",
        "print(conta_da_dani)"
      ]
    },
    {
      "cell_type": "markdown",
      "metadata": {},
      "source": [
        "- A 'desvantagem' disso (mas essa conclusão precisa ser avaliada caso a caso, pois realmente há situações em que trabalhar com tuplas pode ser mais interessante) é que as tuplas não são mutáveis.\n",
        "\n",
        "- Enquanto a manipulação das listas nos leva para uma abordagem OO (Orientação a Objetos), a manipulação das tuplas nos leva para uma abordagem funcional / procedural."
      ]
    },
    {
      "cell_type": "code",
      "execution_count": null,
      "metadata": {},
      "outputs": [
        {
          "name": "stdout",
          "output_type": "stream",
          "text": [
            "(76, '123', 1100)\n",
            "(76, '123', 1200)\n"
          ]
        }
      ],
      "source": [
        "# exemplo de função responsável por atualizar a conta definida via tupla\n",
        "def deposita(conta):\n",
        "    novo_saldo = conta[2]+100\n",
        "    codigo = conta[1]\n",
        "    return (76, codigo, novo_saldo)\n",
        "\n",
        "print(conta_do_gui)\n",
        "conta_do_gui = deposita(conta_do_gui) # redefine a tupla do zero;\n",
        "print(conta_do_gui)"
      ]
    },
    {
      "cell_type": "markdown",
      "metadata": {},
      "source": [
        "- Podemos ter listas de tuplas e tuplas de listas/objetos (esse último não é muito comum de ser usado, mas pode existir também)"
      ]
    },
    {
      "cell_type": "markdown",
      "metadata": {},
      "source": [
        "### Polimorfismo e Arrays"
      ]
    },
    {
      "cell_type": "code",
      "execution_count": 12,
      "metadata": {},
      "outputs": [],
      "source": [
        "class Conta:\n",
        "    def __init__(self, codigo, saldo = 0):\n",
        "        self._codigo = codigo\n",
        "        self._saldo = saldo\n",
        "    \n",
        "    def deposita(self, valor):\n",
        "        self._saldo += valor\n",
        "\n",
        "    def __str__(self):\n",
        "        return '[>> Codigo: {} / Saldo: {} <<]'.format(self._codigo, self._saldo)\n",
        "    \n",
        "class ContaCorrente(Conta):\n",
        "    def passa_o_mes(self):\n",
        "        self._saldo -= 2\n",
        "\n",
        "class ContaPoupanca(Conta):\n",
        "    def passa_o_mes(self):\n",
        "        self._saldo += self._saldo*0.01\n",
        "        self._saldo -= 3"
      ]
    },
    {
      "cell_type": "code",
      "execution_count": 13,
      "metadata": {},
      "outputs": [
        {
          "name": "stdout",
          "output_type": "stream",
          "text": [
            "[>> Codigo: 16 / Saldo: 998 <<]\n"
          ]
        }
      ],
      "source": [
        "conta16 = ContaCorrente(16)\n",
        "conta16.deposita(1000)\n",
        "conta16.passa_o_mes()\n",
        "print(conta16)"
      ]
    },
    {
      "cell_type": "code",
      "execution_count": 14,
      "metadata": {},
      "outputs": [
        {
          "name": "stdout",
          "output_type": "stream",
          "text": [
            "[>> Codigo: 17 / Saldo: 1007.0 <<]\n"
          ]
        }
      ],
      "source": [
        "conta17 = ContaPoupanca(17)\n",
        "conta17.deposita(1000)\n",
        "conta17.passa_o_mes()\n",
        "print(conta17)"
      ]
    },
    {
      "cell_type": "code",
      "execution_count": 15,
      "metadata": {},
      "outputs": [
        {
          "name": "stdout",
          "output_type": "stream",
          "text": [
            "[>> Codigo: 16 / Saldo: 996 <<]\n",
            "[>> Codigo: 17 / Saldo: 1014.07 <<]\n"
          ]
        }
      ],
      "source": [
        "## Ao definir uma lista de objetos contas, podemos chamar o mesmo método para o index\n",
        "# Ou seja, apesar de o index que percorre a lista de objetos \"ser variável\" e representar um objeto diferente a cada etapa da iteração, uma vez que todos tenham o método d interesse não há nenhum problema! (duck typing)\n",
        "\n",
        "contas = [conta16, conta17]\n",
        "for conta in contas:\n",
        "    conta.passa_o_mes()\n",
        "    print(conta)"
      ]
    },
    {
      "cell_type": "markdown",
      "metadata": {},
      "source": [
        "- arrays e numpy\n",
        "    - O python até possui um tipo específico de dados denominado 'array' (o módulo precisa ser importado), entretanto, sempre que há necessidade de efetuar tratamentos/ processamentos numéricos mais robustos é muito mais comum utilizar as ferramentas do numpy\n",
        "    - O array otimiza o processamento interno para lidar com cálculos "
      ]
    },
    {
      "cell_type": "code",
      "execution_count": 16,
      "metadata": {},
      "outputs": [
        {
          "data": {
            "text/plain": [
              "array([1. , 2. , 3.5, 4.3])"
            ]
          },
          "execution_count": 16,
          "metadata": {},
          "output_type": "execute_result"
        }
      ],
      "source": [
        "import numpy as np \n",
        "\n",
        "vec1 = np.array([1,2,3.5,4.3])\n",
        "vec1"
      ]
    },
    {
      "cell_type": "code",
      "execution_count": 17,
      "metadata": {},
      "outputs": [
        {
          "name": "stdout",
          "output_type": "stream",
          "text": [
            "[2.  3.  4.5 5.3]\n"
          ]
        }
      ],
      "source": [
        "print(vec1+1)"
      ]
    },
    {
      "cell_type": "markdown",
      "metadata": {},
      "source": [
        "- Breves comentários sobre as funções abstratas"
      ]
    },
    {
      "cell_type": "code",
      "execution_count": 18,
      "metadata": {},
      "outputs": [
        {
          "ename": "AttributeError",
          "evalue": "'ContaInvestimento' object has no attribute 'passa_o_mes'",
          "output_type": "error",
          "traceback": [
            "\u001b[1;31m---------------------------------------------------------------------------\u001b[0m",
            "\u001b[1;31mAttributeError\u001b[0m                            Traceback (most recent call last)",
            "\u001b[1;32mc:\\Users\\LUCAS\\Documents\\Data Engineering\\Data-Engineering\\Level 1 - Data Engineering\\Formation - Learning Python with OOP\\Python - Collections pt1\\Introdução_a_Collections.ipynb Cell 80\u001b[0m line \u001b[0;36m5\n\u001b[0;32m      <a href='vscode-notebook-cell:/c%3A/Users/LUCAS/Documents/Data%20Engineering/Data-Engineering/Level%201%20-%20Data%20Engineering/Formation%20-%20Learning%20Python%20with%20OOP/Python%20-%20Collections%20pt1/Introdu%C3%A7%C3%A3o_a_Collections.ipynb#Y143sZmlsZQ%3D%3D?line=1'>2</a>\u001b[0m     \u001b[39mpass\u001b[39;00m\n\u001b[0;32m      <a href='vscode-notebook-cell:/c%3A/Users/LUCAS/Documents/Data%20Engineering/Data-Engineering/Level%201%20-%20Data%20Engineering/Formation%20-%20Learning%20Python%20with%20OOP/Python%20-%20Collections%20pt1/Introdu%C3%A7%C3%A3o_a_Collections.ipynb#Y143sZmlsZQ%3D%3D?line=3'>4</a>\u001b[0m teste \u001b[39m=\u001b[39m ContaInvestimento(\u001b[39m4\u001b[39m)\n\u001b[1;32m----> <a href='vscode-notebook-cell:/c%3A/Users/LUCAS/Documents/Data%20Engineering/Data-Engineering/Level%201%20-%20Data%20Engineering/Formation%20-%20Learning%20Python%20with%20OOP/Python%20-%20Collections%20pt1/Introdu%C3%A7%C3%A3o_a_Collections.ipynb#Y143sZmlsZQ%3D%3D?line=4'>5</a>\u001b[0m teste\u001b[39m.\u001b[39;49mpassa_o_mes()\n",
            "\u001b[1;31mAttributeError\u001b[0m: 'ContaInvestimento' object has no attribute 'passa_o_mes'"
          ]
        }
      ],
      "source": [
        "class ContaInvestimento(Conta):\n",
        "    pass\n",
        "\n",
        "teste = ContaInvestimento(4)\n",
        "teste.passa_o_mes()"
      ]
    },
    {
      "cell_type": "markdown",
      "metadata": {},
      "source": [
        "- Caso quiséssemos que todas as contas derivadas da superclasse Conta tivessem, obrigatoriamente, o método 'passa_o_mes', poderíamos definí-la utilizando o módulo de ABC collections do python (Abstract Base Classes)"
      ]
    },
    {
      "cell_type": "code",
      "execution_count": 21,
      "metadata": {},
      "outputs": [],
      "source": [
        "from abc import ABCMeta, abstractmethod\n",
        "\n",
        "class Conta(metaclass=ABCMeta):\n",
        "    def __init__(self, codigo, saldo = 0):\n",
        "        self._codigo = codigo\n",
        "        self._saldo = saldo\n",
        "    \n",
        "    def deposita(self, valor):\n",
        "        self._saldo += valor\n",
        "\n",
        "    def __str__(self):\n",
        "        return '[>> Codigo: {} / Saldo: {} <<]'.format(self._codigo, self._saldo)\n",
        "\n",
        "    @abstractmethod\n",
        "    def passa_o_mes(self):\n",
        "        pass \n",
        "\n",
        "class ContaCorrente(Conta):\n",
        "    def passa_o_mes(self):\n",
        "        self._saldo -= 2\n",
        "\n",
        "class ContaPoupanca(Conta):\n",
        "    def passa_o_mes(self):\n",
        "        self._saldo += self._saldo*0.01\n",
        "        self._saldo -= 3\n",
        "    \n",
        "class ContaInvestimento(Conta):\n",
        "    pass"
      ]
    },
    {
      "cell_type": "code",
      "execution_count": 22,
      "metadata": {},
      "outputs": [
        {
          "ename": "TypeError",
          "evalue": "Can't instantiate abstract class ContaInvestimento without an implementation for abstract method 'passa_o_mes'",
          "output_type": "error",
          "traceback": [
            "\u001b[1;31m---------------------------------------------------------------------------\u001b[0m",
            "\u001b[1;31mTypeError\u001b[0m                                 Traceback (most recent call last)",
            "\u001b[1;32mc:\\Users\\LUCAS\\Documents\\Data Engineering\\Data-Engineering\\Level 1 - Data Engineering\\Formation - Learning Python with OOP\\Python - Collections pt1\\Introdução_a_Collections.ipynb Cell 83\u001b[0m line \u001b[0;36m1\n\u001b[1;32m----> <a href='vscode-notebook-cell:/c%3A/Users/LUCAS/Documents/Data%20Engineering/Data-Engineering/Level%201%20-%20Data%20Engineering/Formation%20-%20Learning%20Python%20with%20OOP/Python%20-%20Collections%20pt1/Introdu%C3%A7%C3%A3o_a_Collections.ipynb#Y146sZmlsZQ%3D%3D?line=0'>1</a>\u001b[0m teste \u001b[39m=\u001b[39mContaInvestimento(\u001b[39m10\u001b[39;49m)\n",
            "\u001b[1;31mTypeError\u001b[0m: Can't instantiate abstract class ContaInvestimento without an implementation for abstract method 'passa_o_mes'"
          ]
        }
      ],
      "source": [
        "teste =ContaInvestimento(10)"
      ]
    }
  ],
  "metadata": {
    "colab": {
      "collapsed_sections": [],
      "name": "Introdução a Collections",
      "provenance": [],
      "version": "0.3.2"
    },
    "kernelspec": {
      "display_name": "Python 3",
      "name": "python3"
    },
    "language_info": {
      "codemirror_mode": {
        "name": "ipython",
        "version": 3
      },
      "file_extension": ".py",
      "mimetype": "text/x-python",
      "name": "python",
      "nbconvert_exporter": "python",
      "pygments_lexer": "ipython3",
      "version": "3.12.0"
    }
  },
  "nbformat": 4,
  "nbformat_minor": 0
}
