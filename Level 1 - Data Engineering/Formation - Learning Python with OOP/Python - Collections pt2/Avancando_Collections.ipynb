{
 "cells": [
  {
   "cell_type": "markdown",
   "metadata": {},
   "source": [
    "### Conjuntos"
   ]
  },
  {
   "cell_type": "code",
   "execution_count": 2,
   "metadata": {},
   "outputs": [],
   "source": [
    "usuarios_data_science = [15, 23, 43, 56]\n",
    "usuarios_machine_learning = [13, 23, 56, 42]"
   ]
  },
  {
   "cell_type": "markdown",
   "metadata": {},
   "source": [
    "- Suponha que queiramos definir uma lista com todas as pessoas que assistiram os cursos de data science ou machine learning. Podemos definir uma nova lista a partir dessas duas iniciais com o auxílio do método *extend* para objetos do tipo list"
   ]
  },
  {
   "cell_type": "code",
   "execution_count": 4,
   "metadata": {},
   "outputs": [],
   "source": [
    "assistiram = []\n",
    "assistiram.extend(usuarios_data_science) # passa por todos os elementos da lista 'usuarios_data_science' e os acrescenta ao final da lista 'assistiram'"
   ]
  },
  {
   "cell_type": "code",
   "execution_count": 5,
   "metadata": {},
   "outputs": [
    {
     "data": {
      "text/plain": [
       "[15, 23, 43, 56, 13, 23, 56, 42]"
      ]
     },
     "execution_count": 5,
     "metadata": {},
     "output_type": "execute_result"
    }
   ],
   "source": [
    "# ou então:\n",
    "assistiram = usuarios_data_science.copy()\n",
    "assistiram.extend(usuarios_machine_learning)\n",
    "assistiram"
   ]
  },
  {
   "cell_type": "markdown",
   "metadata": {},
   "source": [
    "- Se quiséssemos excluir os elementos repetidos por algum motivo, poderíamos abandonar temporariamente a ideia de lista e passar a lidar com *conjuntos*"
   ]
  },
  {
   "cell_type": "code",
   "execution_count": 9,
   "metadata": {},
   "outputs": [
    {
     "name": "stdout",
     "output_type": "stream",
     "text": [
      "{42, 43, 13, 15, 23, 56}\n",
      "<class 'set'>\n"
     ]
    }
   ],
   "source": [
    "print(set(assistiram))\n",
    "# um conjunto no python não possui elementos repetidos,\n",
    "\n",
    "print(type(set(assistiram)))"
   ]
  },
  {
   "cell_type": "markdown",
   "metadata": {},
   "source": [
    "- Caso a ordem dos elementos não seja relevante (assim como a posição dos elementos, que é um dos requisitos gerais para se utilizar listas), então podemos utilizar conjuntos "
   ]
  },
  {
   "cell_type": "code",
   "execution_count": 11,
   "metadata": {},
   "outputs": [],
   "source": [
    "usuarios_data_science = {15, 23, 43, 56}\n",
    "usuarios_machine_learning = {13, 23, 56, 42}"
   ]
  },
  {
   "cell_type": "code",
   "execution_count": 12,
   "metadata": {},
   "outputs": [
    {
     "ename": "TypeError",
     "evalue": "'set' object is not subscriptable",
     "output_type": "error",
     "traceback": [
      "\u001b[1;31m---------------------------------------------------------------------------\u001b[0m",
      "\u001b[1;31mTypeError\u001b[0m                                 Traceback (most recent call last)",
      "Cell \u001b[1;32mIn[12], line 2\u001b[0m\n\u001b[0;32m      1\u001b[0m \u001b[38;5;66;03m# os conjuntos, entretanto, não possuem indexação\u001b[39;00m\n\u001b[1;32m----> 2\u001b[0m \u001b[43musuarios_data_science\u001b[49m\u001b[43m[\u001b[49m\u001b[38;5;241;43m0\u001b[39;49m\u001b[43m]\u001b[49m\n",
      "\u001b[1;31mTypeError\u001b[0m: 'set' object is not subscriptable"
     ]
    }
   ],
   "source": [
    "# os conjuntos, entretanto, não possuem indexação\n",
    "usuarios_data_science[0]"
   ]
  },
  {
   "cell_type": "markdown",
   "metadata": {},
   "source": [
    "- Obs.: como sequências de elementos, os conjuntos ainda podem ser iterados, contudo, dado que esses objetos não possuem indexação (temos literalmente *um conjunto de valores* armazenado numa variável), a ordem de emissão dos valores é aleatória"
   ]
  },
  {
   "cell_type": "code",
   "execution_count": 13,
   "metadata": {},
   "outputs": [
    {
     "name": "stdout",
     "output_type": "stream",
     "text": [
      "42\n",
      "43\n",
      "13\n",
      "15\n",
      "23\n",
      "56\n"
     ]
    }
   ],
   "source": [
    "for usuario in set(assistiram):\n",
    "    print(usuario)"
   ]
  },
  {
   "cell_type": "code",
   "execution_count": 16,
   "metadata": {},
   "outputs": [
    {
     "data": {
      "text/plain": [
       "{13, 15, 23, 42, 43, 56}"
      ]
     },
     "execution_count": 16,
     "metadata": {},
     "output_type": "execute_result"
    }
   ],
   "source": [
    "usuarios_data_science | usuarios_machine_learning \n",
    "# 'ou' (união de conjuntos)"
   ]
  },
  {
   "cell_type": "code",
   "execution_count": 17,
   "metadata": {},
   "outputs": [
    {
     "data": {
      "text/plain": [
       "{23, 56}"
      ]
     },
     "execution_count": 17,
     "metadata": {},
     "output_type": "execute_result"
    }
   ],
   "source": [
    "usuarios_data_science & usuarios_machine_learning \n",
    "# 'e' (interseção de conjuntos)"
   ]
  },
  {
   "cell_type": "code",
   "execution_count": null,
   "metadata": {},
   "outputs": [],
   "source": [
    "usuarios_data_science - usuarios_machine_learning\n",
    "# (exclusão de conjuntos; verificação dos elementos que estão somente no primero conjunto)"
   ]
  },
  {
   "cell_type": "code",
   "execution_count": 18,
   "metadata": {},
   "outputs": [
    {
     "name": "stdout",
     "output_type": "stream",
     "text": [
      "False\n",
      "True\n"
     ]
    }
   ],
   "source": [
    "fez_ds_mas_n_fez_ml = usuarios_data_science - usuarios_machine_learning\n",
    "\n",
    "print(10 in fez_ds_mas_n_fez_ml)\n",
    "print(15 in fez_ds_mas_n_fez_ml)"
   ]
  },
  {
   "cell_type": "markdown",
   "metadata": {},
   "source": [
    "- Os conjuntos, assim como as listas, são objetos mutáveis, mas como não possuem indexação, as duas únicas alterações que podemos aplicar são: adição / remoção de elemntos.\n",
    "- Ps.: ainda assim, a adição não garante que o conjunto será alterado, pois por padrão esse tipo de objeto já remove todas as duplicidades"
   ]
  },
  {
   "cell_type": "code",
   "execution_count": 21,
   "metadata": {},
   "outputs": [
    {
     "name": "stdout",
     "output_type": "stream",
     "text": [
      "6\n",
      "6\n",
      "7\n",
      "6\n"
     ]
    }
   ],
   "source": [
    "testes = {10,5,1,6,3,7,3}\n",
    "testes.add(5)\n",
    "print(len(testes))\n",
    "testes.add(1)\n",
    "print(len(testes))\n",
    "testes.add(8)\n",
    "print(len(testes))\n",
    "testes.remove(8)\n",
    "print(len(testes))"
   ]
  },
  {
   "cell_type": "markdown",
   "metadata": {},
   "source": [
    "- Caso haja necessidade, por algum motivo, de trabalhar com conjuntos imutáveis, podemos fazer isso com a utilização da função *frozenset*, que retorna um novo objeto do tipo set, mas imutável"
   ]
  },
  {
   "cell_type": "code",
   "execution_count": 25,
   "metadata": {},
   "outputs": [
    {
     "data": {
      "text/plain": [
       "frozenset({1, 3, 5, 6, 7, 10})"
      ]
     },
     "execution_count": 25,
     "metadata": {},
     "output_type": "execute_result"
    }
   ],
   "source": [
    "testes2 = frozenset(testes)\n",
    "testes2"
   ]
  },
  {
   "cell_type": "code",
   "execution_count": 26,
   "metadata": {},
   "outputs": [
    {
     "ename": "AttributeError",
     "evalue": "'frozenset' object has no attribute 'add'",
     "output_type": "error",
     "traceback": [
      "\u001b[1;31m---------------------------------------------------------------------------\u001b[0m",
      "\u001b[1;31mAttributeError\u001b[0m                            Traceback (most recent call last)",
      "Cell \u001b[1;32mIn[26], line 1\u001b[0m\n\u001b[1;32m----> 1\u001b[0m \u001b[43mtestes2\u001b[49m\u001b[38;5;241;43m.\u001b[39;49m\u001b[43madd\u001b[49m(\u001b[38;5;241m2\u001b[39m)\n",
      "\u001b[1;31mAttributeError\u001b[0m: 'frozenset' object has no attribute 'add'"
     ]
    }
   ],
   "source": [
    "testes2.add(2)"
   ]
  },
  {
   "cell_type": "markdown",
   "metadata": {},
   "source": [
    "- Não necessáriamente precisamos utilizar sempre números. O objeto conjunto permite que trabalhemos também com strings"
   ]
  },
  {
   "cell_type": "code",
   "execution_count": 23,
   "metadata": {},
   "outputs": [
    {
     "data": {
      "text/plain": [
       "['Meu',\n",
       " 'nome',\n",
       " 'é',\n",
       " 'Lucas',\n",
       " 'meu',\n",
       " 'hobbie',\n",
       " 'é',\n",
       " 'treinar',\n",
       " 'e',\n",
       " 'meu',\n",
       " 'notebook',\n",
       " 'precisa',\n",
       " 'ser',\n",
       " 'atualizado']"
      ]
     },
     "execution_count": 23,
     "metadata": {},
     "output_type": "execute_result"
    }
   ],
   "source": [
    "texto = 'Meu nome é Lucas, meu hobbie é treinar e meu notebook precisa ser atualizado'\n",
    "texto.replace(',','').split()"
   ]
  },
  {
   "cell_type": "code",
   "execution_count": 24,
   "metadata": {},
   "outputs": [
    {
     "data": {
      "text/plain": [
       "{'Lucas',\n",
       " 'Meu',\n",
       " 'atualizado',\n",
       " 'e',\n",
       " 'hobbie',\n",
       " 'meu',\n",
       " 'nome',\n",
       " 'notebook',\n",
       " 'precisa',\n",
       " 'ser',\n",
       " 'treinar',\n",
       " 'é'}"
      ]
     },
     "execution_count": 24,
     "metadata": {},
     "output_type": "execute_result"
    }
   ],
   "source": [
    "set(texto.replace(',','').split()) \n",
    "# retorna todas as palavras do nosso string sem duplicação"
   ]
  },
  {
   "cell_type": "markdown",
   "metadata": {},
   "source": [
    "### Dicionários"
   ]
  },
  {
   "cell_type": "markdown",
   "metadata": {},
   "source": [
    "- Representam uma estrutura do tipo *chave-valor*"
   ]
  },
  {
   "cell_type": "code",
   "execution_count": 27,
   "metadata": {},
   "outputs": [],
   "source": [
    "dic = {\n",
    "    'Lucas': 2\n",
    "    ,'teste': 'testando'\n",
    "}"
   ]
  },
  {
   "cell_type": "code",
   "execution_count": 28,
   "metadata": {},
   "outputs": [
    {
     "data": {
      "text/plain": [
       "dict"
      ]
     },
     "execution_count": 28,
     "metadata": {},
     "output_type": "execute_result"
    }
   ],
   "source": [
    "type(dic)"
   ]
  },
  {
   "cell_type": "code",
   "execution_count": 29,
   "metadata": {},
   "outputs": [
    {
     "data": {
      "text/plain": [
       "2"
      ]
     },
     "execution_count": 29,
     "metadata": {},
     "output_type": "execute_result"
    }
   ],
   "source": [
    "dic['Lucas'] # valor da chave 'Lucas'"
   ]
  },
  {
   "cell_type": "code",
   "execution_count": 30,
   "metadata": {},
   "outputs": [
    {
     "data": {
      "text/plain": [
       "'testando'"
      ]
     },
     "execution_count": 30,
     "metadata": {},
     "output_type": "execute_result"
    }
   ],
   "source": [
    "dic['teste'] # valor da chave 'teste'"
   ]
  },
  {
   "cell_type": "code",
   "execution_count": 31,
   "metadata": {},
   "outputs": [
    {
     "ename": "KeyError",
     "evalue": "'teste2'",
     "output_type": "error",
     "traceback": [
      "\u001b[1;31m---------------------------------------------------------------------------\u001b[0m",
      "\u001b[1;31mKeyError\u001b[0m                                  Traceback (most recent call last)",
      "Cell \u001b[1;32mIn[31], line 1\u001b[0m\n\u001b[1;32m----> 1\u001b[0m \u001b[43mdic\u001b[49m\u001b[43m[\u001b[49m\u001b[38;5;124;43m'\u001b[39;49m\u001b[38;5;124;43mteste2\u001b[39;49m\u001b[38;5;124;43m'\u001b[39;49m\u001b[43m]\u001b[49m \u001b[38;5;66;03m# valor da chave 'teste2' \u001b[39;00m\n",
      "\u001b[1;31mKeyError\u001b[0m: 'teste2'"
     ]
    }
   ],
   "source": [
    "dic['teste2'] # valor da chave 'teste2' (não existe no dicionário criado)"
   ]
  },
  {
   "cell_type": "code",
   "execution_count": 33,
   "metadata": {},
   "outputs": [
    {
     "data": {
      "text/plain": [
       "0"
      ]
     },
     "execution_count": 33,
     "metadata": {},
     "output_type": "execute_result"
    }
   ],
   "source": [
    "dic.get('teste2', 0) # tento pegar o valor da chave 'teste2' e, caso não esteja presente na estrutura, retorno o código 0"
   ]
  },
  {
   "cell_type": "markdown",
   "metadata": {},
   "source": [
    "- Apesar de não ser muito comum, poderíamos definir um dicionário também utilizando o indcador built-in *dict* do próprio Python, de acordo com a seguinte sintaxe"
   ]
  },
  {
   "cell_type": "code",
   "execution_count": 34,
   "metadata": {},
   "outputs": [
    {
     "data": {
      "text/plain": [
       "{'Lucas': 2, 'teste': 'testando'}"
      ]
     },
     "execution_count": 34,
     "metadata": {},
     "output_type": "execute_result"
    }
   ],
   "source": [
    "dic = dict(Lucas= 2, teste= 'testando')\n",
    "dic"
   ]
  },
  {
   "cell_type": "markdown",
   "metadata": {},
   "source": [
    "- Para adicionar um novo elemento, ou seja, uma nova chave, precisamos manipular a sintaxe como se estivéssemos querendo acessar o valor da chave "
   ]
  },
  {
   "cell_type": "code",
   "execution_count": 37,
   "metadata": {},
   "outputs": [
    {
     "data": {
      "text/plain": [
       "{'Lucas': 2, 'teste': 'testando', 'Lucas5': 'teste_testando'}"
      ]
     },
     "execution_count": 37,
     "metadata": {},
     "output_type": "execute_result"
    }
   ],
   "source": [
    "dic['Lucas5'] = 'teste_testando'\n",
    "dic"
   ]
  },
  {
   "cell_type": "markdown",
   "metadata": {},
   "source": [
    "- Para remover, utilizamos o comando *del*"
   ]
  },
  {
   "cell_type": "code",
   "execution_count": 38,
   "metadata": {},
   "outputs": [
    {
     "data": {
      "text/plain": [
       "{'Lucas': 2, 'teste': 'testando'}"
      ]
     },
     "execution_count": 38,
     "metadata": {},
     "output_type": "execute_result"
    }
   ],
   "source": [
    "del dic['Lucas5']\n",
    "dic"
   ]
  },
  {
   "cell_type": "code",
   "execution_count": 45,
   "metadata": {},
   "outputs": [
    {
     "name": "stdout",
     "output_type": "stream",
     "text": [
      "True\n",
      "False\n",
      "- x - x - - x - x - - x - x - \n",
      "Lucas\n",
      "teste\n"
     ]
    }
   ],
   "source": [
    "# verificando a presença de chaves no dicionário\n",
    "print('Lucas' in dic)\n",
    "print('Lucas4' in dic)\n",
    "\n",
    "print(\"- x - x - \"*3)\n",
    "for chave in dic:\n",
    "    print(chave)"
   ]
  },
  {
   "cell_type": "code",
   "execution_count": 50,
   "metadata": {},
   "outputs": [
    {
     "name": "stdout",
     "output_type": "stream",
     "text": [
      "True\n",
      "False\n",
      "- x - x - - x - x - - x - x - \n",
      "Lucas\n",
      "teste\n"
     ]
    }
   ],
   "source": [
    "# se quiséssemos deixar claro que estamos percorrendo as chaves do dicionário, poderíamos utilizar o método 'keys'\n",
    "\n",
    "print('Lucas' in dic.keys())\n",
    "print('Lucas5' in dic.keys())\n",
    "\n",
    "print(\"- x - x - \"*3)\n",
    "for chave in dic.keys():\n",
    "    print(chave)"
   ]
  },
  {
   "cell_type": "code",
   "execution_count": 51,
   "metadata": {},
   "outputs": [
    {
     "name": "stdout",
     "output_type": "stream",
     "text": [
      "False\n",
      "True\n",
      "- x - x - - x - x - - x - x - \n",
      "2\n",
      "testando\n"
     ]
    }
   ],
   "source": [
    "# podemos percorrer os values do dicionário utilizando a mesma estrutura de código aplicada no bloco anterior, apenas alterando a chamada do método 'keys' para 'values'\n",
    "\n",
    "print('Lucas' in dic.values())\n",
    "print('testando' in dic.values())\n",
    "\n",
    "print(\"- x - x - \"*3)\n",
    "for valor in dic.values():\n",
    "    print(valor)"
   ]
  },
  {
   "cell_type": "markdown",
   "metadata": {},
   "source": [
    "- Além de percorrer separadamente as chaves e os valores do dicionário utilizando os métodos *keys* e *values*, respectivamente, também podemos percorrer os elementos chave/valor simultaneamente. Para isso, utiliza-se o método *items*"
   ]
  },
  {
   "cell_type": "code",
   "execution_count": 52,
   "metadata": {},
   "outputs": [
    {
     "name": "stdout",
     "output_type": "stream",
     "text": [
      "('Lucas', 2)\n",
      "('teste', 'testando')\n"
     ]
    }
   ],
   "source": [
    "for item in dic.items():\n",
    "    print(item)"
   ]
  },
  {
   "cell_type": "markdown",
   "metadata": {},
   "source": [
    "- Perceba que faz todo sentido o resultado ser uma tupla: o dicionário representa uma sequência de duplas chave-valor, em que o primeiro elemento é sempre a chave, o segundo é sempre o valor (ou seja, a ordem importa e as posições têm significado) e, ainda, não há necessidade/interesse em alterar o resultado da consulta. Logo, temos um objeto do tipo tupla como saída"
   ]
  },
  {
   "cell_type": "code",
   "execution_count": 54,
   "metadata": {},
   "outputs": [
    {
     "name": "stdout",
     "output_type": "stream",
     "text": [
      "Lucas = 2\n",
      "teste = testando\n"
     ]
    }
   ],
   "source": [
    "# ou ainda, poderíamos fazer o unpack dos itens antes de apresentá-los\n",
    "for key, value in dic.items():\n",
    "    print('{} = {}'.format(key, value))"
   ]
  },
  {
   "cell_type": "markdown",
   "metadata": {},
   "source": [
    "- Suponha que quiséssemos construir um dicionário que retornasse, para cada determinada palavra, a quantidade de vezes em que ela aparece num texto string."
   ]
  },
  {
   "cell_type": "markdown",
   "metadata": {},
   "source": [
    "- Maneira 1:\n",
    "    - Definindo o dicionário, verificando se a palavra já foi armazenada e atualizando o contador/dicionário a cada iteração"
   ]
  },
  {
   "cell_type": "code",
   "execution_count": 56,
   "metadata": {},
   "outputs": [
    {
     "name": "stdout",
     "output_type": "stream",
     "text": [
      "('seja', 1)\n",
      "('bem', 3)\n",
      "('vindo', 1)\n",
      "('ao', 2)\n",
      "('curso', 1)\n",
      "('espero', 1)\n",
      "('que', 1)\n",
      "('esteja', 1)\n",
      "('e', 1)\n",
      "('aproveite', 1)\n",
      "('os', 1)\n",
      "('estudos', 1)\n",
      "('som', 1)\n",
      "('do', 1)\n",
      "('cantor', 1)\n",
      "('xpto', 1)\n"
     ]
    }
   ],
   "source": [
    "texto = 'Seja bem vindo ao curso. Espero que esteja bem e aproveite bem os estudos ao som do cantor Xpto'\n",
    "\n",
    "aux = {}\n",
    "for palavra in texto.lower().replace('.','').split():\n",
    "    contador_palavra = aux.get(palavra, 0)\n",
    "    aux[palavra] = contador_palavra+1 \n",
    "\n",
    "for item in aux.items():\n",
    "    print(item)"
   ]
  },
  {
   "cell_type": "markdown",
   "metadata": {},
   "source": [
    "- Maneira 2:\n",
    "    - Utilizando o objeto *defaultdict*, que consegue efetuar a chamada de uma função sempre que uma chave ainda não definida for chamada, e atribuir o resultado dessa função à chave.\n",
    "    - Ao passar o parâmetro *int* na definição do objeto (que também pode ser usado como função: *int()* ), estamos deixando claro ao python que, para elementos ainda não inseridos, o valor default deve ser o resultado da função *int()*, que é 0"
   ]
  },
  {
   "cell_type": "code",
   "execution_count": 70,
   "metadata": {},
   "outputs": [
    {
     "name": "stdout",
     "output_type": "stream",
     "text": [
      "<class 'int'>\n",
      "0\n"
     ]
    }
   ],
   "source": [
    "print(int)\n",
    "print(int())"
   ]
  },
  {
   "cell_type": "code",
   "execution_count": 65,
   "metadata": {},
   "outputs": [
    {
     "name": "stdout",
     "output_type": "stream",
     "text": [
      "('seja', 1)\n",
      "('bem', 3)\n",
      "('vindo', 1)\n",
      "('ao', 2)\n",
      "('curso', 1)\n",
      "('espero', 1)\n",
      "('que', 1)\n",
      "('esteja', 1)\n",
      "('e', 1)\n",
      "('aproveite', 1)\n",
      "('os', 1)\n",
      "('estudos', 1)\n",
      "('som', 1)\n",
      "('do', 1)\n",
      "('cantor', 1)\n",
      "('xpto', 1)\n"
     ]
    }
   ],
   "source": [
    "from collections import defaultdict\n",
    "\n",
    "aux = defaultdict(int)\n",
    "\n",
    "for palavra in texto.lower().replace('.','').split():\n",
    "    contador = aux[palavra]\n",
    "    aux[palavra] = contador+ 1 \n",
    "\n",
    "for item in aux.items():\n",
    "    print(item)"
   ]
  },
  {
   "cell_type": "markdown",
   "metadata": {},
   "source": [
    "- Maneira 3:\n",
    "    - Utilizando o método específico para contagem de elementos em um dicionário, o *Counter*"
   ]
  },
  {
   "cell_type": "code",
   "execution_count": 71,
   "metadata": {},
   "outputs": [
    {
     "name": "stdout",
     "output_type": "stream",
     "text": [
      "('seja', 1)\n",
      "('bem', 3)\n",
      "('vindo', 1)\n",
      "('ao', 2)\n",
      "('curso', 1)\n",
      "('espero', 1)\n",
      "('que', 1)\n",
      "('esteja', 1)\n",
      "('e', 1)\n",
      "('aproveite', 1)\n",
      "('os', 1)\n",
      "('estudos', 1)\n",
      "('som', 1)\n",
      "('do', 1)\n",
      "('cantor', 1)\n",
      "('xpto', 1)\n"
     ]
    }
   ],
   "source": [
    "from collections import Counter\n",
    "\n",
    "aux = Counter()\n",
    "for palavra in texto.lower().replace('.','').split():\n",
    "    aux[palavra] +=1\n",
    "\n",
    "for item in aux.items():\n",
    "    print(item)"
   ]
  },
  {
   "cell_type": "code",
   "execution_count": 73,
   "metadata": {},
   "outputs": [
    {
     "name": "stdout",
     "output_type": "stream",
     "text": [
      "('seja', 1)\n",
      "('bem', 3)\n",
      "('vindo', 1)\n",
      "('ao', 2)\n",
      "('curso', 1)\n",
      "('espero', 1)\n",
      "('que', 1)\n",
      "('esteja', 1)\n",
      "('e', 1)\n",
      "('aproveite', 1)\n",
      "('os', 1)\n",
      "('estudos', 1)\n",
      "('som', 1)\n",
      "('do', 1)\n",
      "('cantor', 1)\n",
      "('xpto', 1)\n"
     ]
    }
   ],
   "source": [
    "# ou ainda:\n",
    "\n",
    "# podemos definir um dicionário de contagens diretamente a partir da lista de palavras, passando-a como parâmetro do método\n",
    "aux = Counter(texto.lower().replace('.','').split())\n",
    "\n",
    "for item in aux.items():\n",
    "    print(item)"
   ]
  }
 ],
 "metadata": {
  "kernelspec": {
   "display_name": "Python 3",
   "language": "python",
   "name": "python3"
  },
  "language_info": {
   "codemirror_mode": {
    "name": "ipython",
    "version": 3
   },
   "file_extension": ".py",
   "mimetype": "text/x-python",
   "name": "python",
   "nbconvert_exporter": "python",
   "pygments_lexer": "ipython3",
   "version": "3.12.0"
  }
 },
 "nbformat": 4,
 "nbformat_minor": 2
}
