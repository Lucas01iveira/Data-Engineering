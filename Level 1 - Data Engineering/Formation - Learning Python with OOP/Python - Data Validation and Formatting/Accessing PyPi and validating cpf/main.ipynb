{
 "cells": [
  {
   "cell_type": "markdown",
   "metadata": {},
   "source": [
    "### Testes em geral"
   ]
  },
  {
   "cell_type": "code",
   "execution_count": 3,
   "metadata": {},
   "outputs": [
    {
     "name": "stdout",
     "output_type": "stream",
     "text": [
      "11\n"
     ]
    }
   ],
   "source": [
    "cpf = 12345678910\n",
    "\n",
    "tamanho_cpf = len(str(cpf))\n",
    "print(tamanho_cpf)"
   ]
  },
  {
   "cell_type": "code",
   "execution_count": 8,
   "metadata": {},
   "outputs": [
    {
     "name": "stdout",
     "output_type": "stream",
     "text": [
      "teste\n"
     ]
    }
   ],
   "source": [
    "a = 'teste'\n",
    "print(a[:100])"
   ]
  },
  {
   "cell_type": "code",
   "execution_count": 19,
   "metadata": {},
   "outputs": [
    {
     "name": "stdout",
     "output_type": "stream",
     "text": [
      "499.318.238-44\n"
     ]
    }
   ],
   "source": [
    "cpf = str(49931823844)\n",
    "\n",
    "conta_fatia = 1\n",
    "for i in range(0,len(cpf),3):\n",
    "\n",
    "    if conta_fatia != 3 and conta_fatia != 4:\n",
    "        print(cpf[i:i+3], end='.')\n",
    "    elif conta_fatia != 4:\n",
    "        print(cpf[i:i+3], end='-')\n",
    "    else:\n",
    "        print(cpf[i:i+3])\n",
    "    \n",
    "    conta_fatia += 1"
   ]
  },
  {
   "cell_type": "markdown",
   "metadata": {},
   "source": [
    "### Import de bibliotecas no PyPI\n",
    "- O PyPI (Python Package Index) funciona como \"um repositório central\" para disponibilização de bibliotecas gerais com as mais variadas funcionalidades"
   ]
  },
  {
   "cell_type": "code",
   "execution_count": 22,
   "metadata": {},
   "outputs": [
    {
     "data": {
      "text/plain": [
       "True"
      ]
     },
     "execution_count": 22,
     "metadata": {},
     "output_type": "execute_result"
    }
   ],
   "source": [
    "from validate_docbr import CPF \n",
    "\n",
    "cpf = CPF()\n",
    "\n",
    "cpf.validate('49931823844')"
   ]
  },
  {
   "cell_type": "code",
   "execution_count": 26,
   "metadata": {},
   "outputs": [
    {
     "name": "stdout",
     "output_type": "stream",
     "text": [
      "cpf inválido\n"
     ]
    }
   ],
   "source": [
    "a = '12345678910'\n",
    "if cpf.validate(a):\n",
    "    print(cpf.mask(a))\n",
    "else:\n",
    "    print('cpf inválido')"
   ]
  },
  {
   "cell_type": "code",
   "execution_count": 1,
   "metadata": {},
   "outputs": [
    {
     "name": "stdout",
     "output_type": "stream",
     "text": [
      "teste\n"
     ]
    }
   ],
   "source": [
    "print('TESTE'.lower(\n",
    "\n",
    "))"
   ]
  },
  {
   "cell_type": "markdown",
   "metadata": {},
   "source": [
    "### Rascunhos"
   ]
  },
  {
   "cell_type": "code",
   "execution_count": 15,
   "metadata": {},
   "outputs": [],
   "source": [
    "from validate_docbr import CPF, CNPJ\n",
    "\n",
    "class CpfCnpj:\n",
    "    def __init__(self, numero_documento, tipo_documento):\n",
    "        self.tipo_documento = tipo_documento.lower()\n",
    "        numero_documento = str(numero_documento)\n",
    "        \n",
    "        if self.tipo_documento == 'cpf':\n",
    "            if self.cpf_eh_valido(numero_documento):\n",
    "                self.cpf = numero_documento\n",
    "            else: \n",
    "                raise ValueError('Cpf inválido! Favor verificar.')\n",
    "            \n",
    "        elif self.tipo_documento == 'cnpj':\n",
    "            if self.cnpj_eh_valido(numero_documento):\n",
    "                self.cnpj = numero_documento\n",
    "            else: \n",
    "                raise ValueError('Cnpj inválido! Favor verificar.')\n",
    "        \n",
    "        else:\n",
    "            raise ValueError('Documento inválido! Favor verificar.')\n",
    "\n",
    "    def cpf_eh_valido(self, valor):\n",
    "        if len(valor) == 11:\n",
    "            validador = CPF()\n",
    "            return validador.validate(valor)\n",
    "        else:\n",
    "            raise ValueError('Quantidade de dígitos inválida! Favor verificar')\n",
    "\n",
    "    def cnpj_eh_valido(self, numero):\n",
    "        numero_str = str(numero)\n",
    "        if len(numero_str) == 14:\n",
    "            validador = CNPJ()\n",
    "            return validador.validate(numero_str)\n",
    "        else:\n",
    "            raise ValueError('Quantidade de dígitos inválida! Favor verificar.')\n",
    "\n",
    "\n",
    "    def formata_cpf_cnpj(self):\n",
    "        if self.tipo_documento == 'cpf':\n",
    "            mascara = CPF()\n",
    "            return mascara.mask(self.cpf)\n",
    "    \n",
    "    def formata_cnpj(self):\n",
    "        if self.tipo_documento == 'cnpj':\n",
    "            mascara = CNPJ()\n",
    "            return mascara.mask(self.cnpj)\n",
    "    \n",
    "    def __str__(self):\n",
    "        if self.tipo_documento == 'cpf':\n",
    "            return 'CPF: {}'.format(self.cpf())\n",
    "        elif self.tipo_documento == 'cnpj':\n",
    "            return 'CNPJ: {}'.format(self.formata_cnpj())"
   ]
  },
  {
   "cell_type": "code",
   "execution_count": 17,
   "metadata": {},
   "outputs": [
    {
     "ename": "ValueError",
     "evalue": "Cpf inválido! Favor verificar.",
     "output_type": "error",
     "traceback": [
      "\u001b[1;31m---------------------------------------------------------------------------\u001b[0m",
      "\u001b[1;31mValueError\u001b[0m                                Traceback (most recent call last)",
      "Cell \u001b[1;32mIn[17], line 1\u001b[0m\n\u001b[1;32m----> 1\u001b[0m t \u001b[38;5;241m=\u001b[39m \u001b[43mCpfCnpj\u001b[49m\u001b[43m(\u001b[49m\u001b[38;5;124;43m'\u001b[39;49m\u001b[38;5;124;43m11133344404\u001b[39;49m\u001b[38;5;124;43m'\u001b[39;49m\u001b[43m,\u001b[49m\u001b[43m \u001b[49m\u001b[38;5;124;43m'\u001b[39;49m\u001b[38;5;124;43mcpf\u001b[39;49m\u001b[38;5;124;43m'\u001b[39;49m\u001b[43m)\u001b[49m\n\u001b[0;32m      2\u001b[0m \u001b[38;5;66;03m#t = CpfCnpj('00623904000173', 'cnpj')\u001b[39;00m\n\u001b[0;32m      3\u001b[0m \u001b[38;5;28mprint\u001b[39m(t)\n",
      "Cell \u001b[1;32mIn[15], line 12\u001b[0m, in \u001b[0;36mCpfCnpj.__init__\u001b[1;34m(self, numero_documento, tipo_documento)\u001b[0m\n\u001b[0;32m     10\u001b[0m         \u001b[38;5;28mself\u001b[39m\u001b[38;5;241m.\u001b[39mcpf \u001b[38;5;241m=\u001b[39m numero_documento\n\u001b[0;32m     11\u001b[0m     \u001b[38;5;28;01melse\u001b[39;00m: \n\u001b[1;32m---> 12\u001b[0m         \u001b[38;5;28;01mraise\u001b[39;00m \u001b[38;5;167;01mValueError\u001b[39;00m(\u001b[38;5;124m'\u001b[39m\u001b[38;5;124mCpf inválido! Favor verificar.\u001b[39m\u001b[38;5;124m'\u001b[39m)\n\u001b[0;32m     14\u001b[0m \u001b[38;5;28;01melif\u001b[39;00m \u001b[38;5;28mself\u001b[39m\u001b[38;5;241m.\u001b[39mtipo_documento \u001b[38;5;241m==\u001b[39m \u001b[38;5;124m'\u001b[39m\u001b[38;5;124mcnpj\u001b[39m\u001b[38;5;124m'\u001b[39m:\n\u001b[0;32m     15\u001b[0m     \u001b[38;5;28;01mif\u001b[39;00m \u001b[38;5;28mself\u001b[39m\u001b[38;5;241m.\u001b[39mcnpj_eh_valido(numero_documento):\n",
      "\u001b[1;31mValueError\u001b[0m: Cpf inválido! Favor verificar."
     ]
    }
   ],
   "source": [
    "t = CpfCnpj('11133344404', 'cpf')\n",
    "#t = CpfCnpj('00623904000173', 'cnpj')\n",
    "print(t)"
   ]
  },
  {
   "cell_type": "markdown",
   "metadata": {},
   "source": [
    "### Importante!\n",
    "- Uma boa prática ao lidar com classes e métodos é a prática do 'factory', que consiste em quebrar uma classe grande em diferentes classes de acordo com uma classificação pré-estabelecida. \n",
    "- No caso dessa análise em particular, por exemplo, redefiniríamos uma grande classe chamada \"documento\", a qual instanciaria novas classes (objetos) Cpf / Cnpj dependendo do tipo de requisição.\n",
    "\n",
    "### Maneira de exeimplificar o Factory Method\n",
    "- The Factory Method defines an interface for creating objects, but lets subclasses decide which classes to instantiate. Injection molding pressess demonsrate this pattern. Manufacturers of plastic toys process plastic molding powder, and inject the plastic into molds of the desired shapes. The different classes of toy will then be determined by on which mold you put de plastic powder.\n"
   ]
  },
  {
   "cell_type": "code",
   "execution_count": 1,
   "metadata": {},
   "outputs": [],
   "source": [
    "from validate_docbr import CPF, CNPJ\n",
    "class Documento:\n",
    "\n",
    "    @staticmethod\n",
    "    def cria(documento):\n",
    "        if len(documento) == 11:\n",
    "            return Cpf(documento)\n",
    "        elif len(documento) == 14:\n",
    "            return Cnpj(documento)\n",
    "        else:\n",
    "            raise ValueError('Quantidade de dígitos inválida! Favor verificar.')\n",
    "    \n",
    "class Cpf:\n",
    "    def __init__(self, documento):\n",
    "        if self.valida_cpf(documento):\n",
    "            self.cpf = documento\n",
    "        else:\n",
    "            raise ValueError('Cpf inválido! Favor verificar.')\n",
    "\n",
    "    def valida_cpf(self, documento):\n",
    "        validador = CPF()\n",
    "        return validador.validate(documento)\n",
    "    \n",
    "    def formata_cpf(self):\n",
    "        mascara = CPF()\n",
    "        return mascara.mask(self.cpf)\n",
    "    \n",
    "    def __str__(self):\n",
    "        return 'CPF: {}'.format(self.formata_cpf())\n",
    "\n",
    "class Cnpj:\n",
    "    def __init__(self, documento):\n",
    "        if self.valida_cnpj(documento):\n",
    "            self.cnpj = documento\n",
    "        else:\n",
    "            raise ValueError('Cnpj inválido! Favor verificar.')\n",
    "\n",
    "    def valida_cnpj(self, documento):\n",
    "        validador = CNPJ()\n",
    "        return validador.validate(documento)\n",
    "    \n",
    "    def formata_cnpj(self):\n",
    "        mascara = CNPJ()\n",
    "        return mascara.mask(self.cnpj)\n",
    "    \n",
    "    def __str__(self):\n",
    "        return 'CNPJ: {}'.format(self.formata_cnpj())"
   ]
  },
  {
   "cell_type": "code",
   "execution_count": 2,
   "metadata": {},
   "outputs": [
    {
     "name": "stdout",
     "output_type": "stream",
     "text": [
      "CPF: 499.318.238-44\n"
     ]
    }
   ],
   "source": [
    "\n",
    "t = Documento.cria('49931823844')\n",
    "print(t)"
   ]
  },
  {
   "cell_type": "markdown",
   "metadata": {},
   "source": [
    "%md\n",
    "### Revisitando a biblioteca de Regular Expressions"
   ]
  },
  {
   "cell_type": "code",
   "execution_count": 12,
   "metadata": {},
   "outputs": [
    {
     "name": "stdout",
     "output_type": "stream",
     "text": [
      "loliveira@rededor.com.br\n"
     ]
    }
   ],
   "source": [
    "import re \n",
    "\n",
    "\n",
    "pattern = '\\\\w{9,20}@\\\\w{5,10}.com.br'\n",
    "string = 'loliveira@rededor.com.br'\n",
    "\n",
    "print(re.search(pattern, string).group())"
   ]
  },
  {
   "cell_type": "code",
   "execution_count": 70,
   "metadata": {},
   "outputs": [
    {
     "name": "stdout",
     "output_type": "stream",
     "text": [
      "(11) 95854-0454\n"
     ]
    }
   ],
   "source": [
    "pattern = '((\\\\()?(\\\\+)?55(\\\\))?)?[ ]?\\\\((\\\\d){2}\\\\)[ ]?9[\\\\d]{4}-[\\\\d]{4}'\n",
    "numero = 'teste(11) 95854-0454 teste'\n",
    "\n",
    "print(re.search(pattern, numero).group())"
   ]
  },
  {
   "cell_type": "code",
   "execution_count": 73,
   "metadata": {},
   "outputs": [
    {
     "name": "stdout",
     "output_type": "stream",
     "text": [
      "None\n"
     ]
    }
   ],
   "source": [
    "cellphone_pattern = 'xx9NNNN-NNNN'\n",
    "phone_pattern = 'xxNNNN-NNNN'\n",
    "#generic_pattern = r'[0-9]{2}[9]?[0-9]{4}[0-9]{4}'\n",
    "generic_pattern = r'(\\d){3}?(\\d){2}(9)?(\\d){4}(\\d){4}'\n",
    "\n",
    "teste = 'testand 5511958540454 teste'\n",
    "print(re.match(generic_pattern,teste))\n",
    "\n",
    "# teste = 'teste 11958540454 teste'\n",
    "# print(re.findall(generic_pattern, teste))\n",
    "\n",
    "# texto = 'Meu número é 11958540454. O da minha antiga casa é 1136051746. Mas eu queria mudar meu celular para 31948540404'\n",
    "# print(re.findall(generic_pattern, texto))\n"
   ]
  },
  {
   "cell_type": "markdown",
   "metadata": {},
   "source": [
    "#### Obs\n",
    "- Para utilizar corretamente o método **re.findall( - , - )**, o padrão precisa ser definido com as atribuições de caracteres e conjuntos de caracteres por meio de colchetes. Se utilizarmos os grupamentos de caracteres com parênteses, \\d ou \\w, obtemos um resultado incorreto.\n",
    "- Com o método **re.search( - , - )**, tanto faz. Nesse caso, podemos utilizar os grupamentos (\\d\\w) mesmo pelo fato de serem mais diretos e práticos"
   ]
  },
  {
   "cell_type": "code",
   "execution_count": 76,
   "metadata": {},
   "outputs": [
    {
     "name": "stdout",
     "output_type": "stream",
     "text": [
      "ok\n"
     ]
    }
   ],
   "source": [
    "if re.search(r'f[a-z]*', 'which foot or hand fell fastest'):\n",
    "    print('ok')\n",
    "else:\n",
    "    print('não ok')"
   ]
  },
  {
   "cell_type": "code",
   "execution_count": 115,
   "metadata": {},
   "outputs": [],
   "source": [
    "import re \n",
    "\n",
    "class Telefone:\n",
    "    global pattern_phone\n",
    "    pattern_phone = r'([0-9]{2,3})?([0-9]{2})([0-9]{4,5})([0-9]{4})'\n",
    "\n",
    "    def __init__(self, telefone):\n",
    "        if self.valida_telefone(telefone):\n",
    "            self.numero = telefone\n",
    "        else:\n",
    "            raise ValueError('O número informado é inválido! Favor verificar.')\n",
    "    \n",
    "    def __str__(self):\n",
    "        return self.format_numero()\n",
    "\n",
    "    def valida_telefone(self, telefone):\n",
    "        \n",
    "        if re.search(pattern_phone, telefone):\n",
    "            return True\n",
    "        else:\n",
    "            return False\n",
    "\n",
    "    def format_numero(self):\n",
    "        busca = re.search(pattern_phone, self.numero)\n",
    "        # caso não tenha o código de país, insiro o do Brasil como padrão\n",
    "        if busca.group(1) is None: \n",
    "            return '+{} ({}) {}-{}'.format(\n",
    "                '55'\n",
    "                ,busca.group(2)\n",
    "                ,busca.group(3)\n",
    "                ,busca.group(4)\n",
    "            )\n",
    "\n",
    "        # caso tenha, trago o valor inserido:\n",
    "        else:\n",
    "            return '+{} ({}) {}-{}'.format(\n",
    "                busca.group(1)\n",
    "                ,busca.group(2)\n",
    "                ,busca.group(3)\n",
    "                ,busca.group(4)\n",
    "            )\n",
    "    "
   ]
  },
  {
   "cell_type": "code",
   "execution_count": 117,
   "metadata": {},
   "outputs": [
    {
     "name": "stdout",
     "output_type": "stream",
     "text": [
      "+(55) (11) 3605-1746\n"
     ]
    }
   ],
   "source": [
    "a = Telefone('1136051746')\n",
    "print(a)"
   ]
  },
  {
   "cell_type": "code",
   "execution_count": 112,
   "metadata": {},
   "outputs": [
    {
     "name": "stdout",
     "output_type": "stream",
     "text": [
      "None\n",
      "aaa\n"
     ]
    }
   ],
   "source": [
    "#pattern_phone = r'((\\d){3})?(\\d){2}(\\d){4,5}(\\d){4}'\n",
    "pattern_phone = r'([0-9]{3})?([0-9]{2})([0-9]{4,5})([0-9]{4})'\n",
    "texto = '11958540454'\n",
    "\n",
    "print(re.search(pattern_phone, texto).group(1))\n",
    "\n",
    "if re.search(pattern_phone, texto).group(1) is None:\n",
    "    print('aaa')\n",
    "else:\n",
    "    print('bbb')"
   ]
  }
 ],
 "metadata": {
  "kernelspec": {
   "display_name": "Python 3",
   "language": "python",
   "name": "python3"
  },
  "language_info": {
   "codemirror_mode": {
    "name": "ipython",
    "version": 3
   },
   "file_extension": ".py",
   "mimetype": "text/x-python",
   "name": "python",
   "nbconvert_exporter": "python",
   "pygments_lexer": "ipython3",
   "version": "3.12.0"
  }
 },
 "nbformat": 4,
 "nbformat_minor": 2
}
