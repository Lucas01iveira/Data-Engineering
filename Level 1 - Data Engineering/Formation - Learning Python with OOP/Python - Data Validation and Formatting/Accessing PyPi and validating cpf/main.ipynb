{
 "cells": [
  {
   "cell_type": "markdown",
   "metadata": {},
   "source": [
    "### Testes em geral"
   ]
  },
  {
   "cell_type": "code",
   "execution_count": 3,
   "metadata": {},
   "outputs": [
    {
     "name": "stdout",
     "output_type": "stream",
     "text": [
      "11\n"
     ]
    }
   ],
   "source": [
    "cpf = 12345678910\n",
    "\n",
    "tamanho_cpf = len(str(cpf))\n",
    "print(tamanho_cpf)"
   ]
  },
  {
   "cell_type": "code",
   "execution_count": 8,
   "metadata": {},
   "outputs": [
    {
     "name": "stdout",
     "output_type": "stream",
     "text": [
      "teste\n"
     ]
    }
   ],
   "source": [
    "a = 'teste'\n",
    "print(a[:100])"
   ]
  },
  {
   "cell_type": "code",
   "execution_count": 19,
   "metadata": {},
   "outputs": [
    {
     "name": "stdout",
     "output_type": "stream",
     "text": [
      "499.318.238-44\n"
     ]
    }
   ],
   "source": [
    "cpf = str(49931823844)\n",
    "\n",
    "conta_fatia = 1\n",
    "for i in range(0,len(cpf),3):\n",
    "\n",
    "    if conta_fatia != 3 and conta_fatia != 4:\n",
    "        print(cpf[i:i+3], end='.')\n",
    "    elif conta_fatia != 4:\n",
    "        print(cpf[i:i+3], end='-')\n",
    "    else:\n",
    "        print(cpf[i:i+3])\n",
    "    \n",
    "    conta_fatia += 1"
   ]
  },
  {
   "cell_type": "markdown",
   "metadata": {},
   "source": [
    "### Import de bibliotecas no PyPI\n",
    "- O PyPI (Python Package Index) funciona como \"um repositório central\" para disponibilização de bibliotecas gerais com as mais variadas funcionalidades"
   ]
  },
  {
   "cell_type": "code",
   "execution_count": 22,
   "metadata": {},
   "outputs": [
    {
     "data": {
      "text/plain": [
       "True"
      ]
     },
     "execution_count": 22,
     "metadata": {},
     "output_type": "execute_result"
    }
   ],
   "source": [
    "from validate_docbr import CPF \n",
    "\n",
    "cpf = CPF()\n",
    "\n",
    "cpf.validate('49931823844')"
   ]
  },
  {
   "cell_type": "code",
   "execution_count": 26,
   "metadata": {},
   "outputs": [
    {
     "name": "stdout",
     "output_type": "stream",
     "text": [
      "cpf inválido\n"
     ]
    }
   ],
   "source": [
    "a = '12345678910'\n",
    "if cpf.validate(a):\n",
    "    print(cpf.mask(a))\n",
    "else:\n",
    "    print('cpf inválido')"
   ]
  },
  {
   "cell_type": "code",
   "execution_count": 1,
   "metadata": {},
   "outputs": [
    {
     "name": "stdout",
     "output_type": "stream",
     "text": [
      "teste\n"
     ]
    }
   ],
   "source": [
    "print('TESTE'.lower(\n",
    "\n",
    "))"
   ]
  },
  {
   "cell_type": "markdown",
   "metadata": {},
   "source": [
    "### Rascunhos"
   ]
  },
  {
   "cell_type": "code",
   "execution_count": 15,
   "metadata": {},
   "outputs": [],
   "source": [
    "from validate_docbr import CPF, CNPJ\n",
    "\n",
    "class CpfCnpj:\n",
    "    def __init__(self, numero_documento, tipo_documento):\n",
    "        self.tipo_documento = tipo_documento.lower()\n",
    "        numero_documento = str(numero_documento)\n",
    "        \n",
    "        if self.tipo_documento == 'cpf':\n",
    "            if self.cpf_eh_valido(numero_documento):\n",
    "                self.cpf = numero_documento\n",
    "            else: \n",
    "                raise ValueError('Cpf inválido! Favor verificar.')\n",
    "            \n",
    "        elif self.tipo_documento == 'cnpj':\n",
    "            if self.cnpj_eh_valido(numero_documento):\n",
    "                self.cnpj = numero_documento\n",
    "            else: \n",
    "                raise ValueError('Cnpj inválido! Favor verificar.')\n",
    "        \n",
    "        else:\n",
    "            raise ValueError('Documento inválido! Favor verificar.')\n",
    "\n",
    "    def cpf_eh_valido(self, valor):\n",
    "        if len(valor) == 11:\n",
    "            validador = CPF()\n",
    "            return validador.validate(valor)\n",
    "        else:\n",
    "            raise ValueError('Quantidade de dígitos inválida! Favor verificar')\n",
    "\n",
    "    def cnpj_eh_valido(self, numero):\n",
    "        numero_str = str(numero)\n",
    "        if len(numero_str) == 14:\n",
    "            validador = CNPJ()\n",
    "            return validador.validate(numero_str)\n",
    "        else:\n",
    "            raise ValueError('Quantidade de dígitos inválida! Favor verificar.')\n",
    "\n",
    "\n",
    "    def formata_cpf_cnpj(self):\n",
    "        if self.tipo_documento == 'cpf':\n",
    "            mascara = CPF()\n",
    "            return mascara.mask(self.cpf)\n",
    "    \n",
    "    def formata_cnpj(self):\n",
    "        if self.tipo_documento == 'cnpj':\n",
    "            mascara = CNPJ()\n",
    "            return mascara.mask(self.cnpj)\n",
    "    \n",
    "    def __str__(self):\n",
    "        if self.tipo_documento == 'cpf':\n",
    "            return 'CPF: {}'.format(self.cpf())\n",
    "        elif self.tipo_documento == 'cnpj':\n",
    "            return 'CNPJ: {}'.format(self.formata_cnpj())"
   ]
  },
  {
   "cell_type": "code",
   "execution_count": 17,
   "metadata": {},
   "outputs": [
    {
     "ename": "ValueError",
     "evalue": "Cpf inválido! Favor verificar.",
     "output_type": "error",
     "traceback": [
      "\u001b[1;31m---------------------------------------------------------------------------\u001b[0m",
      "\u001b[1;31mValueError\u001b[0m                                Traceback (most recent call last)",
      "Cell \u001b[1;32mIn[17], line 1\u001b[0m\n\u001b[1;32m----> 1\u001b[0m t \u001b[38;5;241m=\u001b[39m \u001b[43mCpfCnpj\u001b[49m\u001b[43m(\u001b[49m\u001b[38;5;124;43m'\u001b[39;49m\u001b[38;5;124;43m11133344404\u001b[39;49m\u001b[38;5;124;43m'\u001b[39;49m\u001b[43m,\u001b[49m\u001b[43m \u001b[49m\u001b[38;5;124;43m'\u001b[39;49m\u001b[38;5;124;43mcpf\u001b[39;49m\u001b[38;5;124;43m'\u001b[39;49m\u001b[43m)\u001b[49m\n\u001b[0;32m      2\u001b[0m \u001b[38;5;66;03m#t = CpfCnpj('00623904000173', 'cnpj')\u001b[39;00m\n\u001b[0;32m      3\u001b[0m \u001b[38;5;28mprint\u001b[39m(t)\n",
      "Cell \u001b[1;32mIn[15], line 12\u001b[0m, in \u001b[0;36mCpfCnpj.__init__\u001b[1;34m(self, numero_documento, tipo_documento)\u001b[0m\n\u001b[0;32m     10\u001b[0m         \u001b[38;5;28mself\u001b[39m\u001b[38;5;241m.\u001b[39mcpf \u001b[38;5;241m=\u001b[39m numero_documento\n\u001b[0;32m     11\u001b[0m     \u001b[38;5;28;01melse\u001b[39;00m: \n\u001b[1;32m---> 12\u001b[0m         \u001b[38;5;28;01mraise\u001b[39;00m \u001b[38;5;167;01mValueError\u001b[39;00m(\u001b[38;5;124m'\u001b[39m\u001b[38;5;124mCpf inválido! Favor verificar.\u001b[39m\u001b[38;5;124m'\u001b[39m)\n\u001b[0;32m     14\u001b[0m \u001b[38;5;28;01melif\u001b[39;00m \u001b[38;5;28mself\u001b[39m\u001b[38;5;241m.\u001b[39mtipo_documento \u001b[38;5;241m==\u001b[39m \u001b[38;5;124m'\u001b[39m\u001b[38;5;124mcnpj\u001b[39m\u001b[38;5;124m'\u001b[39m:\n\u001b[0;32m     15\u001b[0m     \u001b[38;5;28;01mif\u001b[39;00m \u001b[38;5;28mself\u001b[39m\u001b[38;5;241m.\u001b[39mcnpj_eh_valido(numero_documento):\n",
      "\u001b[1;31mValueError\u001b[0m: Cpf inválido! Favor verificar."
     ]
    }
   ],
   "source": [
    "t = CpfCnpj('11133344404', 'cpf')\n",
    "#t = CpfCnpj('00623904000173', 'cnpj')\n",
    "print(t)"
   ]
  },
  {
   "cell_type": "markdown",
   "metadata": {},
   "source": [
    "### Importante!\n",
    "- Uma boa prática ao lidar com classes e métodos é a prática do 'factory', que consiste em quebrar uma classe grande em diferentes classes de acordo com uma classificação pré-estabelecida. \n",
    "- No caso dessa análise em particular, por exemplo, redefiniríamos uma grande classe chamada \"documento\", a qual instanciaria novas classes (objetos) Cpf / Cnpj dependendo do tipo de requisição."
   ]
  },
  {
   "cell_type": "code",
   "execution_count": 1,
   "metadata": {},
   "outputs": [],
   "source": [
    "from validate_docbr import CPF, CNPJ\n",
    "class Documento:\n",
    "\n",
    "    @staticmethod\n",
    "    def cria(documento):\n",
    "        if len(documento) == 11:\n",
    "            return Cpf(documento)\n",
    "        elif len(documento) == 14:\n",
    "            return Cnpj(documento)\n",
    "        else:\n",
    "            raise ValueError('Quantidade de dígitos inválida! Favor verificar.')\n",
    "    \n",
    "class Cpf:\n",
    "    def __init__(self, documento):\n",
    "        if self.valida_cpf(documento):\n",
    "            self.cpf = documento\n",
    "        else:\n",
    "            raise ValueError('Cpf inválido! Favor verificar.')\n",
    "\n",
    "    def valida_cpf(self, documento):\n",
    "        validador = CPF()\n",
    "        return validador.validate(documento)\n",
    "    \n",
    "    def formata_cpf(self):\n",
    "        mascara = CPF()\n",
    "        return mascara.mask(self.cpf)\n",
    "    \n",
    "    def __str__(self):\n",
    "        return 'CPF: {}'.format(self.formata_cpf())\n",
    "\n",
    "class Cnpj:\n",
    "    def __init__(self, documento):\n",
    "        if self.valida_cnpj(documento):\n",
    "            self.cnpj = documento\n",
    "        else:\n",
    "            raise ValueError('Cnpj inválido! Favor verificar.')\n",
    "\n",
    "    def valida_cnpj(self, documento):\n",
    "        validador = CNPJ()\n",
    "        return validador.validate(documento)\n",
    "    \n",
    "    def formata_cnpj(self):\n",
    "        mascara = CNPJ()\n",
    "        return mascara.mask(self.cnpj)\n",
    "    \n",
    "    def __str__(self):\n",
    "        return 'CNPJ: {}'.format(self.formata_cnpj())"
   ]
  },
  {
   "cell_type": "code",
   "execution_count": 2,
   "metadata": {},
   "outputs": [
    {
     "name": "stdout",
     "output_type": "stream",
     "text": [
      "CPF: 499.318.238-44\n"
     ]
    }
   ],
   "source": [
    "\n",
    "t = Documento.cria('49931823844')\n",
    "print(t)"
   ]
  }
 ],
 "metadata": {
  "kernelspec": {
   "display_name": "Python 3",
   "language": "python",
   "name": "python3"
  },
  "language_info": {
   "codemirror_mode": {
    "name": "ipython",
    "version": 3
   },
   "file_extension": ".py",
   "mimetype": "text/x-python",
   "name": "python",
   "nbconvert_exporter": "python",
   "pygments_lexer": "ipython3",
   "version": "3.12.0"
  }
 },
 "nbformat": 4,
 "nbformat_minor": 2
}
