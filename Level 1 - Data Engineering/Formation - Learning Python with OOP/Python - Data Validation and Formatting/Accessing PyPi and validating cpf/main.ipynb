{
 "cells": [
  {
   "cell_type": "markdown",
   "metadata": {},
   "source": [
    "### Testes em geral"
   ]
  },
  {
   "cell_type": "code",
   "execution_count": 3,
   "metadata": {},
   "outputs": [
    {
     "name": "stdout",
     "output_type": "stream",
     "text": [
      "11\n"
     ]
    }
   ],
   "source": [
    "cpf = 12345678910\n",
    "\n",
    "tamanho_cpf = len(str(cpf))\n",
    "print(tamanho_cpf)"
   ]
  },
  {
   "cell_type": "code",
   "execution_count": 8,
   "metadata": {},
   "outputs": [
    {
     "name": "stdout",
     "output_type": "stream",
     "text": [
      "teste\n"
     ]
    }
   ],
   "source": [
    "a = 'teste'\n",
    "print(a[:100])"
   ]
  },
  {
   "cell_type": "code",
   "execution_count": 19,
   "metadata": {},
   "outputs": [
    {
     "name": "stdout",
     "output_type": "stream",
     "text": [
      "499.318.238-44\n"
     ]
    }
   ],
   "source": [
    "cpf = str(49931823844)\n",
    "\n",
    "conta_fatia = 1\n",
    "for i in range(0,len(cpf),3):\n",
    "\n",
    "    if conta_fatia != 3 and conta_fatia != 4:\n",
    "        print(cpf[i:i+3], end='.')\n",
    "    elif conta_fatia != 4:\n",
    "        print(cpf[i:i+3], end='-')\n",
    "    else:\n",
    "        print(cpf[i:i+3])\n",
    "    \n",
    "    conta_fatia += 1"
   ]
  },
  {
   "cell_type": "markdown",
   "metadata": {},
   "source": [
    "### Import de bibliotecas no PyPI\n",
    "- O PyPI (Python Package Index) funciona como \"um repositório central\" para disponibilização de bibliotecas gerais com as mais variadas funcionalidades"
   ]
  },
  {
   "cell_type": "code",
   "execution_count": 22,
   "metadata": {},
   "outputs": [
    {
     "data": {
      "text/plain": [
       "True"
      ]
     },
     "execution_count": 22,
     "metadata": {},
     "output_type": "execute_result"
    }
   ],
   "source": [
    "from validate_docbr import CPF \n",
    "\n",
    "cpf = CPF()\n",
    "\n",
    "cpf.validate('49931823844')"
   ]
  },
  {
   "cell_type": "code",
   "execution_count": 26,
   "metadata": {},
   "outputs": [
    {
     "name": "stdout",
     "output_type": "stream",
     "text": [
      "cpf inválido\n"
     ]
    }
   ],
   "source": [
    "a = '12345678910'\n",
    "if cpf.validate(a):\n",
    "    print(cpf.mask(a))\n",
    "else:\n",
    "    print('cpf inválido')"
   ]
  }
 ],
 "metadata": {
  "kernelspec": {
   "display_name": "Python 3",
   "language": "python",
   "name": "python3"
  },
  "language_info": {
   "codemirror_mode": {
    "name": "ipython",
    "version": 3
   },
   "file_extension": ".py",
   "mimetype": "text/x-python",
   "name": "python",
   "nbconvert_exporter": "python",
   "pygments_lexer": "ipython3",
   "version": "3.12.0"
  }
 },
 "nbformat": 4,
 "nbformat_minor": 2
}
