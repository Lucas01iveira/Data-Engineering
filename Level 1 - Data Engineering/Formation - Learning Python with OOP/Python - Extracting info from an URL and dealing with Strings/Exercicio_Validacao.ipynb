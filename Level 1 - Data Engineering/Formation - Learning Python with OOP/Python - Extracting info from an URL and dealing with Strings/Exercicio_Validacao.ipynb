{
 "cells": [
  {
   "cell_type": "markdown",
   "metadata": {},
   "source": [
    "### Exercise 1\n",
    "\n",
    "- Create a function that must receive a cellphone number with DDD and treat it in order to return to the user same info but without special caracters (if there are)."
   ]
  },
  {
   "cell_type": "code",
   "execution_count": 40,
   "metadata": {},
   "outputs": [
    {
     "name": "stderr",
     "output_type": "stream",
     "text": [
      "<>:4: SyntaxWarning: invalid escape sequence '\\('\n",
      "<>:4: SyntaxWarning: invalid escape sequence '\\('\n",
      "C:\\Users\\LUCAS\\AppData\\Local\\Temp\\ipykernel_18840\\3823643825.py:4: SyntaxWarning: invalid escape sequence '\\('\n",
      "  pattern = re.compile('(\\()?[0-9]{2}(\\))?[ ]?[0-9]{5}[ -]?[0-9]{4}')\n"
     ]
    }
   ],
   "source": [
    "import re \n",
    "\n",
    "def fnc_validarCelularComDDD(numero):\n",
    "    pattern = re.compile('(\\()?[0-9]{2}(\\))?[ ]?[0-9]{5}[ -]?[0-9]{4}')\n",
    "    foi_verificado = pattern.match(numero.strip())\n",
    "\n",
    "    if foi_verificado:\n",
    "        numero_return = numero.replace('(','').replace(')','').replace(' ','').replace('-','')\n",
    "        return numero_return\n",
    "    else:\n",
    "        return None"
   ]
  },
  {
   "cell_type": "code",
   "execution_count": 44,
   "metadata": {},
   "outputs": [
    {
     "name": "stdout",
     "output_type": "stream",
     "text": [
      "11958540454\n",
      "None\n",
      "11958540454\n",
      "None\n",
      "11958540454\n"
     ]
    }
   ],
   "source": [
    "print(fnc_validarCelularComDDD(' 11 95854-0454'))\n",
    "print(fnc_validarCelularComDDD(' testeee'))\n",
    "print(fnc_validarCelularComDDD('(11)958540454'))\n",
    "print(fnc_validarCelularComDDD(' 4311 - 3412 '))\n",
    "print(fnc_validarCelularComDDD('1195854 0454'))"
   ]
  }
 ],
 "metadata": {
  "kernelspec": {
   "display_name": "Python 3",
   "language": "python",
   "name": "python3"
  },
  "language_info": {
   "codemirror_mode": {
    "name": "ipython",
    "version": 3
   },
   "file_extension": ".py",
   "mimetype": "text/x-python",
   "name": "python",
   "nbconvert_exporter": "python",
   "pygments_lexer": "ipython3",
   "version": "3.12.0"
  }
 },
 "nbformat": 4,
 "nbformat_minor": 2
}
