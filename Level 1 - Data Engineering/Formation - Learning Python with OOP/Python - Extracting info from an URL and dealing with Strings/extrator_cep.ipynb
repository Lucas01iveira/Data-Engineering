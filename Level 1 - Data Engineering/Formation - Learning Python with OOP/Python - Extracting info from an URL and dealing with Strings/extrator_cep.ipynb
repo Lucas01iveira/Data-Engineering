{
 "cells": [
  {
   "cell_type": "markdown",
   "metadata": {},
   "source": [
    "### Regular Expressions\n",
    "- Módulo do Python utilizado para detectar padrões em sequências de caracteres \n",
    "- Vamos começar testando suas funcionalidades tentando extrair o cep de uma variável endereço"
   ]
  },
  {
   "cell_type": "code",
   "execution_count": 15,
   "metadata": {},
   "outputs": [],
   "source": [
    "import re # Também usualmente citada como 'RegExp'\n",
    "\n",
    "endereco = 'Avenida Presidente Joao Goulart, 6, 06036-048, Umuarama / Torre Sauipe - Apto 137'"
   ]
  },
  {
   "cell_type": "markdown",
   "metadata": {},
   "source": [
    "- O método do módulo re responsável por gerar um determinado tipo de padrão a ser buscada em uma string é o método compile. No caso da busca pela informação de cep, temos um padrão específico de interesse: ddddd-ddd (ou seja, 5 dígitos númericos, um hífen opcional e, por fim, mais 3 dígitos numéricos)"
   ]
  },
  {
   "cell_type": "code",
   "execution_count": 14,
   "metadata": {},
   "outputs": [
    {
     "name": "stdout",
     "output_type": "stream",
     "text": [
      "O padrão fornecido não foi encontrado dentro da sequência indicada\n"
     ]
    }
   ],
   "source": [
    "pattern = re.compile('[1234567890][1234567890][1234567890][1234567890][1234567890][-]?[1234567890][1234567890][1234567890]') \n",
    "# essa é a sintaxe de definição do padrão de interesse, conforme descrito no bloco anterior (5 digitos numericos + hífen opcional + 3 dígitos numéricos)\n",
    "\n",
    "# uma vez definida essa variável, precisamos buscar o padrão na sequência de caracteres em estudo\n",
    "# fazemos essa busca a partir de um objeto 'match' definido da seguinte maneira:\n",
    "busca = pattern.search(endereco) \n",
    "\n",
    "if busca:\n",
    "    cep = busca.group() \n",
    "    # método responsável por retornar o conjunto de strings encontrado naquele padrão\n",
    "\n",
    "    print(cep)\n",
    "else:\n",
    "    print('O padrão fornecido não foi encontrado dentro da sequência indicada')\n"
   ]
  },
  {
   "cell_type": "markdown",
   "metadata": {},
   "source": [
    "- Apesar de extremamente útil da maneira que já foi implementado, o padrão do método compile está bastante repetitivo e até meio confuso. Existe uma maneira de definí-lo de uma forma mais compacta e direta, que é utilizando ***quantificadores*** e ***intervalos***\n",
    "\n",
    "    - Os ***quantificadores*** servem justamente para indicar quantas vezes um determinado conjunto de caracteres deve aparecer no padrão de busca. Eles também podem ser definidos de maneira limitadora (ou seja, ao invés de especificar **exatamente** a quantidade de vezes que o conjunto deve aparecer, podemos dizer **até quantas vezes** ele pode aparecer);\n",
    "\n",
    "    - Os ***intervalos***, por outro lado, servem para facilitar a indicação de caracteres dos conjuntos em análise.\n"
   ]
  },
  {
   "cell_type": "code",
   "execution_count": 16,
   "metadata": {},
   "outputs": [
    {
     "name": "stdout",
     "output_type": "stream",
     "text": [
      "06036-048\n"
     ]
    }
   ],
   "source": [
    "#pattern = re.compile('[0-9]{5}[-]?[0-9]{3}') \n",
    "#ou\n",
    "pattern = re.compile('[0-9]{5}[-]{0,1}[0-9]{3}')\n",
    "\n",
    "# em outras palavras, estamos dizendo o seguinte: o conjunto com caracteres no intervalo 0-9 deve aparecer exatamente 5 vezes; após isso, temos um caractere do tipo hífen que pode aparecer ou nenhuma (0) ou no máxima uma (1) vez e, por fim, temos novamente um conjunto de caracteres numéricos que deve aparecer exatamente 3 vezes\n",
    "\n",
    "busca = pattern.search(endereco) \n",
    "\n",
    "if busca:\n",
    "    cep = busca.group() \n",
    "\n",
    "    print(cep)\n",
    "else:\n",
    "    print('O padrão fornecido não foi encontrado dentro da sequência indicada')\n"
   ]
  }
 ],
 "metadata": {
  "kernelspec": {
   "display_name": "Python 3",
   "language": "python",
   "name": "python3"
  },
  "language_info": {
   "codemirror_mode": {
    "name": "ipython",
    "version": 3
   },
   "file_extension": ".py",
   "mimetype": "text/x-python",
   "name": "python",
   "nbconvert_exporter": "python",
   "pygments_lexer": "ipython3",
   "version": "3.12.0"
  }
 },
 "nbformat": 4,
 "nbformat_minor": 2
}
