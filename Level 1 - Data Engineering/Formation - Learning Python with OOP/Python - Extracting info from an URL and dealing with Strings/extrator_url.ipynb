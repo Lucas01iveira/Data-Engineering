{
 "cells": [
  {
   "cell_type": "markdown",
   "metadata": {},
   "source": [
    "## Manipulação e tratamento de strings com python"
   ]
  },
  {
   "cell_type": "code",
   "execution_count": 64,
   "metadata": {},
   "outputs": [
    {
     "name": "stdout",
     "output_type": "stream",
     "text": [
      "https://bytebank.com/cambio?moedaOrigem=real&moedaDestino=dolar&quantidade=100\n"
     ]
    },
    {
     "data": {
      "text/plain": [
       "'https://bytebank.com/cambio?moedaOrigem=real&moedaDestino=dolar&quantidade=100'"
      ]
     },
     "execution_count": 64,
     "metadata": {},
     "output_type": "execute_result"
    }
   ],
   "source": [
    "url = \"https://bytebank.com/cambio?moedaOrigem=real&moedaDestino=dolar&quantidade=100\"\n",
    "print(url)\n",
    "url.__str__()"
   ]
  },
  {
   "cell_type": "markdown",
   "metadata": {},
   "source": [
    "- Dentro da variável definida anteriormente, alguns comentários devem ser enfatizados:\n",
    "    - O primeiro trecho da url ( *https://bytebank.com/cambio* ) corresponde ao endereço de domínio / ambiente no qual a aplicação (nesse caso o site) está hospedado. \"Traduzindo\" esse endereço, o que estamos dizendo é: dentro do domínio *bytebank.com*, estou acessando a página / o aplicativo chamado *cambio*;\n",
    "    \n",
    "    - O trecho apresentado logo após a indicação da página\n",
    "     ( *?moedaOrigem=real&moedaDestino=dolar&quantidade=100* ), indica quais são os parâmetros que essa página / aplicativo deve receber. No caso, temos os parâmetros *moedaOrigem* (para o qual foi passado o valor 'real'), *moedaDestino* (para o qual foi passado o valor 'dolar') e *quantidade* (que recebeu o valor 100). Ou seja: estamos querendo converter R$ 100.00 em dólares."
   ]
  },
  {
   "cell_type": "code",
   "execution_count": 65,
   "metadata": {},
   "outputs": [
    {
     "name": "stdout",
     "output_type": "stream",
     "text": [
      "https://bytebank.com/cambio\n",
      "moedaOrigem=real&moedaDestino=dolar&quantidade=100\n"
     ]
    }
   ],
   "source": [
    "# separando os trechos de url (endereçamento de página // indicação de variáveis)\n",
    "\n",
    "def encontra_primeiro_indice(expressao, caractere):\n",
    "    for i in range(len(expressao)):\n",
    "        if expressao[i] == caractere:\n",
    "            return i\n",
    "\n",
    "page_adress = url[:encontra_primeiro_indice(url, '?')]\n",
    "page_variables = url[encontra_primeiro_indice(url, '?')+1:]\n",
    "\n",
    "print(page_adress)\n",
    "print(page_variables)"
   ]
  },
  {
   "cell_type": "code",
   "execution_count": 66,
   "metadata": {},
   "outputs": [
    {
     "ename": "SyntaxError",
     "evalue": "cannot assign to expression (2916165229.py, line 1)",
     "output_type": "error",
     "traceback": [
      "\u001b[1;36m  Cell \u001b[1;32mIn[66], line 1\u001b[1;36m\u001b[0m\n\u001b[1;33m    moedaOrigem=real&moedaDestino=dolar&quantidade=100\u001b[0m\n\u001b[1;37m                ^\u001b[0m\n\u001b[1;31mSyntaxError\u001b[0m\u001b[1;31m:\u001b[0m cannot assign to expression\n"
     ]
    }
   ],
   "source": [
    "moedaOrigem=real&moedaDestino=dolar&quantidade=100"
   ]
  },
  {
   "cell_type": "code",
   "execution_count": null,
   "metadata": {},
   "outputs": [
    {
     "name": "stdout",
     "output_type": "stream",
     "text": [
      "27\n",
      "27\n"
     ]
    }
   ],
   "source": [
    "print(url.find('?')) # método built-in dos objetos tipo string que poderia ter sido utilizado para encontrar o '?' mais facilmente\n",
    "print(encontra_primeiro_indice(url, '?'))"
   ]
  },
  {
   "cell_type": "code",
   "execution_count": null,
   "metadata": {},
   "outputs": [
    {
     "name": "stdout",
     "output_type": "stream",
     "text": [
      "real\n",
      "dolar\n",
      "100\n"
     ]
    }
   ],
   "source": [
    "# separando os parametros da url em variaveis específicas\n",
    "\n",
    "param_origem = 'moedaOrigem'\n",
    "param_destino = 'moedaDestino'\n",
    "param_quantidade = 'quantidade'\n",
    "\n",
    "moeda_origem = ''\n",
    "moeda_destino = ''\n",
    "quantidade = ''\n",
    "# qual é a moeda origem?\n",
    "# qual é a moeda destino?\n",
    "# qual é a quantidade de dinheiro que deve ser convertido?\n",
    "\n",
    "page_variables = url[encontra_primeiro_indice(url, '?')+1:]\n",
    "\n",
    "# busca pelo primeiro parametro da url\n",
    "indice_inicio_moeda_origem = page_variables.find(param_origem)\n",
    "moeda_origem = page_variables[indice_inicio_moeda_origem +len(param_origem) +1:page_variables.find('&') if page_variables.find('&') != -1 else 999]\n",
    "\n",
    "\n",
    "# busca pelo segundo ou posterior;\n",
    "page_variables = url[url.find(param_destino):]\n",
    "indice_inicio_moeda_destino = page_variables.find(param_destino)\n",
    "moeda_destino = page_variables[indice_inicio_moeda_destino +len(param_destino) +1:page_variables.find('&') if page_variables.find('&') != -1 else 999]\n",
    "\n",
    "\n",
    "# busca pelo terceiro ou posterior\n",
    "page_variables = url[url.find(param_quantidade):]\n",
    "indice_inicio_quantidade = page_variables.find(param_quantidade)\n",
    "quantidade = page_variables[indice_inicio_quantidade +len(param_quantidade) +1:page_variables.find('&') if page_variables.find('&') != -1 else 999]\n",
    "\n",
    "print(moeda_origem)\n",
    "print(moeda_destino)\n",
    "print(quantidade)"
   ]
  },
  {
   "cell_type": "code",
   "execution_count": null,
   "metadata": {},
   "outputs": [
    {
     "name": "stdout",
     "output_type": "stream",
     "text": [
      "dolar\n",
      "real\n",
      "100\n"
     ]
    }
   ],
   "source": [
    "# melhorando / automatizando a busca pelas variáveis\n",
    "params_busca = ['moedaDestino','moedaOrigem','quantidade']\n",
    "values = []\n",
    "\n",
    "\n",
    "for param in params_busca:\n",
    "    url_base = url[url.find(param)+1:]\n",
    "\n",
    "    initial_index = url_base.find(param)\n",
    "    last_index = url_base.find('&')\n",
    "\n",
    "    url_variable_value = url_base[initial_index+len(param)+1:last_index if last_index != -1 else 999] \n",
    "    # ou seja, se não tiver mais & até o final do string, pego até o final da sequência\n",
    "\n",
    "    values.append(url_variable_value)\n",
    "\n",
    "# já sei o quê? sei que o primeiro elemento appendado será a moedaDestino, o segundo será a moedaOrigem e o último será a quantidade\n",
    "moeda_destino = values[0]\n",
    "moeda_origem = values[1]\n",
    "quantidade = values[2]\n",
    "\n",
    "print(moeda_destino)\n",
    "print(moeda_origem)\n",
    "print(quantidade)"
   ]
  },
  {
   "cell_type": "code",
   "execution_count": null,
   "metadata": {},
   "outputs": [],
   "source": [
    "# definindo uma função responsável por fazer isso com base nos códigos anteriores\n",
    "def seleciona_parametro_na_url(url, param):\n",
    "    \n",
    "    page_variables = url[url.find('?'):]\n",
    "\n",
    "    url_base = page_variables[page_variables.find(param):]\n",
    "\n",
    "    initial_index = url_base.find(param)\n",
    "    last_index = url_base.find('&')\n",
    "\n",
    "    url_variable_value = url_base[initial_index+len(param)+1:last_index if last_index != -1 else 999] \n",
    "\n",
    "    return url_variable_value"
   ]
  }
 ],
 "metadata": {
  "kernelspec": {
   "display_name": "Python 3",
   "language": "python",
   "name": "python3"
  },
  "language_info": {
   "codemirror_mode": {
    "name": "ipython",
    "version": 3
   },
   "file_extension": ".py",
   "mimetype": "text/x-python",
   "name": "python",
   "nbconvert_exporter": "python",
   "pygments_lexer": "ipython3",
   "version": "3.12.0"
  }
 },
 "nbformat": 4,
 "nbformat_minor": 2
}
