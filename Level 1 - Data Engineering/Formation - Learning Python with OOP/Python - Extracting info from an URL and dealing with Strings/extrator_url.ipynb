{
 "cells": [
  {
   "cell_type": "markdown",
   "metadata": {},
   "source": [
    "### Manipulação e tratamento de strings com python"
   ]
  },
  {
   "cell_type": "code",
   "execution_count": 68,
   "metadata": {},
   "outputs": [
    {
     "name": "stdout",
     "output_type": "stream",
     "text": [
      "https://bytebank.com/cambio?moedaOrigem=real&moedaDestino=dolar&quantidade=100\n"
     ]
    },
    {
     "data": {
      "text/plain": [
       "'https://bytebank.com/cambio?moedaOrigem=real&moedaDestino=dolar&quantidade=100'"
      ]
     },
     "execution_count": 68,
     "metadata": {},
     "output_type": "execute_result"
    }
   ],
   "source": [
    "url = \"https://bytebank.com/cambio?moedaOrigem=real&moedaDestino=dolar&quantidade=100\"\n",
    "print(url)\n",
    "url.__str__()"
   ]
  },
  {
   "cell_type": "markdown",
   "metadata": {},
   "source": [
    "- Dentro da variável definida anteriormente, alguns comentários devem ser enfatizados:\n",
    "    - O primeiro trecho da url ( *https://bytebank.com/cambio* ) corresponde ao endereço de domínio / ambiente no qual a aplicação (nesse caso o site) está hospedado. \"Traduzindo\" esse endereço, o que estamos dizendo é: dentro do domínio *bytebank.com*, estou acessando a página / o aplicativo chamado *cambio*;\n",
    "    \n",
    "    - O trecho apresentado logo após a indicação da página\n",
    "     ( *?moedaOrigem=real&moedaDestino=dolar&quantidade=100* ), indica quais são os parâmetros que essa página / aplicativo deve receber. No caso, temos os parâmetros *moedaOrigem* (para o qual foi passado o valor 'real'), *moedaDestino* (para o qual foi passado o valor 'dolar') e *quantidade* (que recebeu o valor 100). Ou seja: estamos querendo converter R$ 100.00 em dólares."
   ]
  },
  {
   "cell_type": "code",
   "execution_count": 69,
   "metadata": {},
   "outputs": [
    {
     "name": "stdout",
     "output_type": "stream",
     "text": [
      "https://bytebank.com/cambio\n",
      "moedaOrigem=real&moedaDestino=dolar&quantidade=100\n"
     ]
    }
   ],
   "source": [
    "# separando os trechos de url (endereçamento de página // indicação de variáveis)\n",
    "\n",
    "def encontra_primeiro_indice(expressao, caractere):\n",
    "    for i in range(len(expressao)):\n",
    "        if expressao[i] == caractere:\n",
    "            return i\n",
    "\n",
    "page_adress = url[:encontra_primeiro_indice(url, '?')]\n",
    "page_variables = url[encontra_primeiro_indice(url, '?')+1:]\n",
    "\n",
    "print(page_adress)\n",
    "print(page_variables)"
   ]
  },
  {
   "cell_type": "code",
   "execution_count": 70,
   "metadata": {},
   "outputs": [
    {
     "name": "stdout",
     "output_type": "stream",
     "text": [
      "27\n",
      "27\n"
     ]
    }
   ],
   "source": [
    "print(url.find('?')) # método built-in dos objetos tipo string que poderia ter sido utilizado para encontrar o '?' mais facilmente\n",
    "print(encontra_primeiro_indice(url, '?'))"
   ]
  },
  {
   "cell_type": "code",
   "execution_count": 71,
   "metadata": {},
   "outputs": [
    {
     "name": "stdout",
     "output_type": "stream",
     "text": [
      "real\n",
      "dolar\n",
      "100\n"
     ]
    }
   ],
   "source": [
    "# separando os parametros da url em variaveis específicas\n",
    "\n",
    "param_origem = 'moedaOrigem'\n",
    "param_destino = 'moedaDestino'\n",
    "param_quantidade = 'quantidade'\n",
    "\n",
    "moeda_origem = ''\n",
    "moeda_destino = ''\n",
    "quantidade = ''\n",
    "# qual é a moeda origem?\n",
    "# qual é a moeda destino?\n",
    "# qual é a quantidade de dinheiro que deve ser convertido?\n",
    "\n",
    "page_variables = url[encontra_primeiro_indice(url, '?')+1:]\n",
    "\n",
    "# busca pelo primeiro parametro da url\n",
    "indice_inicio_moeda_origem = page_variables.find(param_origem)\n",
    "moeda_origem = page_variables[indice_inicio_moeda_origem +len(param_origem) +1:page_variables.find('&') if page_variables.find('&') != -1 else 999]\n",
    "\n",
    "\n",
    "# busca pelo segundo ou posterior;\n",
    "page_variables = url[url.find(param_destino):]\n",
    "indice_inicio_moeda_destino = page_variables.find(param_destino)\n",
    "moeda_destino = page_variables[indice_inicio_moeda_destino +len(param_destino) +1:page_variables.find('&') if page_variables.find('&') != -1 else 999]\n",
    "\n",
    "\n",
    "# busca pelo terceiro ou posterior\n",
    "page_variables = url[url.find(param_quantidade):]\n",
    "indice_inicio_quantidade = page_variables.find(param_quantidade)\n",
    "quantidade = page_variables[indice_inicio_quantidade +len(param_quantidade) +1:page_variables.find('&') if page_variables.find('&') != -1 else 999]\n",
    "\n",
    "print(moeda_origem)\n",
    "print(moeda_destino)\n",
    "print(quantidade)"
   ]
  },
  {
   "cell_type": "code",
   "execution_count": 72,
   "metadata": {},
   "outputs": [
    {
     "name": "stdout",
     "output_type": "stream",
     "text": [
      "dolar\n",
      "real\n",
      "100\n"
     ]
    }
   ],
   "source": [
    "# melhorando / automatizando a busca pelas variáveis\n",
    "params_busca = ['moedaDestino','moedaOrigem','quantidade']\n",
    "values = []\n",
    "\n",
    "\n",
    "for param in params_busca:\n",
    "    url_base = url[url.find(param)+1:]\n",
    "\n",
    "    initial_index = url_base.find(param)\n",
    "    last_index = url_base.find('&')\n",
    "\n",
    "    url_variable_value = url_base[initial_index+len(param)+1:last_index if last_index != -1 else 999] \n",
    "    # ou seja, se não tiver mais & até o final do string, pego até o final da sequência\n",
    "\n",
    "    values.append(url_variable_value)\n",
    "\n",
    "# já sei o quê? sei que o primeiro elemento appendado será a moedaDestino, o segundo será a moedaOrigem e o último será a quantidade\n",
    "moeda_destino = values[0]\n",
    "moeda_origem = values[1]\n",
    "quantidade = values[2]\n",
    "\n",
    "print(moeda_destino)\n",
    "print(moeda_origem)\n",
    "print(quantidade)"
   ]
  },
  {
   "cell_type": "code",
   "execution_count": 73,
   "metadata": {},
   "outputs": [],
   "source": [
    "# definindo uma função responsável por fazer isso com base nos códigos anteriores\n",
    "def seleciona_parametro_na_url(url, param):\n",
    "    \n",
    "    page_variables = url[url.find('?'):]\n",
    "\n",
    "    string_base = page_variables[page_variables.find(param):]\n",
    "\n",
    "    initial_index = 0 #url_base.find(param)\n",
    "    # uma vez temos certeza que o string_base começará pelo parâmetro que passarmos, independentemente de sua posição, temos certeza de que sempre poderemos começar pela posição 0 aqui.\n",
    "\n",
    "    last_index = string_base.find('&')\n",
    "\n",
    "    url_variable_value = string_base[initial_index+len(param)+1:last_index if last_index != -1 else 999] \n",
    "\n",
    "    return url_variable_value"
   ]
  },
  {
   "cell_type": "code",
   "execution_count": 75,
   "metadata": {},
   "outputs": [
    {
     "data": {
      "text/plain": [
       "'100'"
      ]
     },
     "execution_count": 75,
     "metadata": {},
     "output_type": "execute_result"
    }
   ],
   "source": [
    "seleciona_parametro_na_url(url, 'quantidade')"
   ]
  },
  {
   "cell_type": "markdown",
   "metadata": {},
   "source": [
    "### Validação de URL's"
   ]
  },
  {
   "cell_type": "code",
   "execution_count": 82,
   "metadata": {},
   "outputs": [
    {
     "name": "stdout",
     "output_type": "stream",
     "text": [
      "Url informada: '    '\n",
      "Url tratada: ''\n"
     ]
    },
    {
     "ename": "ValueError",
     "evalue": "A url informada à interface está vazia",
     "output_type": "error",
     "traceback": [
      "\u001b[1;31m---------------------------------------------------------------------------\u001b[0m",
      "\u001b[1;31mValueError\u001b[0m                                Traceback (most recent call last)",
      "\u001b[1;32mc:\\Users\\LUCAS\\Documents\\Data Engineering\\Data-Engineering\\Level 1 - Data Engineering\\Formation - Learning Python with OOP\\Python - Extracting info from an URL and dealing with Strings\\extrator_url.ipynb Cell 11\u001b[0m line \u001b[0;36m1\n\u001b[0;32m      <a href='vscode-notebook-cell:/c%3A/Users/LUCAS/Documents/Data%20Engineering/Data-Engineering/Level%201%20-%20Data%20Engineering/Formation%20-%20Learning%20Python%20with%20OOP/Python%20-%20Extracting%20info%20from%20an%20URL%20and%20dealing%20with%20Strings/extrator_url.ipynb#X24sZmlsZQ%3D%3D?line=7'>8</a>\u001b[0m \u001b[39mprint\u001b[39m(\u001b[39m'\u001b[39m\u001b[39mUrl tratada: \u001b[39m\u001b[39m\\'\u001b[39;00m\u001b[39m{}\u001b[39;00m\u001b[39m\\'\u001b[39;00m\u001b[39m'\u001b[39m\u001b[39m.\u001b[39mformat(url_tratada))\n\u001b[0;32m     <a href='vscode-notebook-cell:/c%3A/Users/LUCAS/Documents/Data%20Engineering/Data-Engineering/Level%201%20-%20Data%20Engineering/Formation%20-%20Learning%20Python%20with%20OOP/Python%20-%20Extracting%20info%20from%20an%20URL%20and%20dealing%20with%20Strings/extrator_url.ipynb#X24sZmlsZQ%3D%3D?line=9'>10</a>\u001b[0m \u001b[39mif\u001b[39;00m url_tratada \u001b[39m==\u001b[39m \u001b[39m'\u001b[39m\u001b[39m'\u001b[39m:\n\u001b[1;32m---> <a href='vscode-notebook-cell:/c%3A/Users/LUCAS/Documents/Data%20Engineering/Data-Engineering/Level%201%20-%20Data%20Engineering/Formation%20-%20Learning%20Python%20with%20OOP/Python%20-%20Extracting%20info%20from%20an%20URL%20and%20dealing%20with%20Strings/extrator_url.ipynb#X24sZmlsZQ%3D%3D?line=10'>11</a>\u001b[0m     \u001b[39mraise\u001b[39;00m \u001b[39mValueError\u001b[39;00m(\u001b[39m'\u001b[39m\u001b[39mA url informada à interface está vazia\u001b[39m\u001b[39m'\u001b[39m)\n",
      "\u001b[1;31mValueError\u001b[0m: A url informada à interface está vazia"
     ]
    }
   ],
   "source": [
    "#url = \"   url_teste__aaaa     \"\n",
    "url = '    '\n",
    "\n",
    "# Sanitização da URL\n",
    "url_tratada = url.replace(' ', '').strip()\n",
    "\n",
    "print('Url informada: \\'{}\\''.format(url))\n",
    "print('Url tratada: \\'{}\\''.format(url_tratada))\n",
    "\n",
    "if url_tratada == '':\n",
    "    raise ValueError('A url informada à interface está vazia')\n",
    "\n"
   ]
  }
 ],
 "metadata": {
  "kernelspec": {
   "display_name": "Python 3",
   "language": "python",
   "name": "python3"
  },
  "language_info": {
   "codemirror_mode": {
    "name": "ipython",
    "version": 3
   },
   "file_extension": ".py",
   "mimetype": "text/x-python",
   "name": "python",
   "nbconvert_exporter": "python",
   "pygments_lexer": "ipython3",
   "version": "3.12.0"
  }
 },
 "nbformat": 4,
 "nbformat_minor": 2
}
