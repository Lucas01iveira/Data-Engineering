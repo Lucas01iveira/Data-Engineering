{
 "cells": [
  {
   "cell_type": "markdown",
   "metadata": {},
   "source": [
    "## Manipulação e tratamento de strings com python"
   ]
  },
  {
   "cell_type": "code",
   "execution_count": 3,
   "metadata": {},
   "outputs": [
    {
     "name": "stdout",
     "output_type": "stream",
     "text": [
      "https://bytebank.com/cambio?moedaOrigem=real&moedaDestino=dolar&quantidade=100\n"
     ]
    },
    {
     "data": {
      "text/plain": [
       "'https://bytebank.com/cambio?moedaOrigem=real&moedaDestino=dolar&quantidade=100'"
      ]
     },
     "execution_count": 3,
     "metadata": {},
     "output_type": "execute_result"
    }
   ],
   "source": [
    "url = \"https://bytebank.com/cambio?moedaOrigem=real&moedaDestino=dolar&quantidade=100\"\n",
    "print(url)\n",
    "url.__str__()"
   ]
  },
  {
   "cell_type": "markdown",
   "metadata": {},
   "source": [
    "- Dentro da variável definida anteriormente, alguns comentários devem ser enfatizados:\n",
    "    - O primeiro trecho da url ( *https://bytebank.com/cambio* ) corresponde ao endereço de domínio / ambiente no qual a aplicação (nesse caso o site) está hospedado. \"Traduzindo\" esse endereço, o que estamos dizendo é: dentro do domínio *bytebank.com*, estou acessando a página / o aplicativo chamado *cambio*;\n",
    "    \n",
    "    - O trecho apresentado logo após a indicação da página ( *?moedaOrigem=real&moedaDestino=dolar&quantidade=100* ), indica quais são os parâmetros que essa página / aplicativo deve receber. No caso, temos os parâmetros *moedaOrigem* (para o qual foi passado o valor 'real'), *moedaDestino* (para o qual foi passado o valor 'dolar') e *quantidade* (que recebeu o valor 100). Ou seja: estamos querendo converter R$ 100.00 em dólares."
   ]
  }
 ],
 "metadata": {
  "kernelspec": {
   "display_name": "Python 3",
   "language": "python",
   "name": "python3"
  },
  "language_info": {
   "codemirror_mode": {
    "name": "ipython",
    "version": 3
   },
   "file_extension": ".py",
   "mimetype": "text/x-python",
   "name": "python",
   "nbconvert_exporter": "python",
   "pygments_lexer": "ipython3",
   "version": "3.12.0"
  }
 },
 "nbformat": 4,
 "nbformat_minor": 2
}
